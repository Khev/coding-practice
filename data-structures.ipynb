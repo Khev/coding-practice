{
 "cells": [
  {
   "cell_type": "markdown",
   "metadata": {},
   "source": [
    "# Introduction\n",
    "\n",
    "Implemeting data structures from Skienna\n",
    "\n",
    "\n",
    "## Linked lists"
   ]
  },
  {
   "cell_type": "code",
   "execution_count": 1,
   "metadata": {},
   "outputs": [
    {
     "name": "stdout",
     "output_type": "stream",
     "text": [
      "val = 0\n",
      "val = 1\n",
      "val = 2\n",
      "val = 3\n",
      "val = 4\n",
      "val = 5\n",
      "val = 6\n",
      "val = 0\n",
      "val = 1\n",
      "val = 2\n",
      "val = 3\n",
      "val = 4\n",
      "val = 5\n"
     ]
    }
   ],
   "source": [
    "class Node:\n",
    "    def __init__(self, val=None):\n",
    "        self.val = val\n",
    "        self.next = None\n",
    "        \n",
    "        \n",
    "class linkedList:\n",
    "    def __init__(self):\n",
    "        self.head = None\n",
    "        \n",
    "        \n",
    "    def insertAtEnd(self,node):\n",
    "        \"\"\" O(N) \"\"\"\n",
    "        \n",
    "        #Grab last node\n",
    "        temp = self.head\n",
    "        while temp.next is not None:\n",
    "            temp = temp.next\n",
    "            \n",
    "        #Attach\n",
    "        temp.next = node\n",
    "        \n",
    "    def insertAtStart(self,node):\n",
    "        temp = self.head\n",
    "        node.next = temp\n",
    "        self.head = node\n",
    "        \n",
    "        \n",
    "    def search(self,val):\n",
    "        temp = self.head\n",
    "        if temp.val == val:\n",
    "            return True\n",
    "        while temp is not None:\n",
    "            temp = temp.next\n",
    "            if temp.val == val:\n",
    "                return True\n",
    "        return False\n",
    "    \n",
    "    \n",
    "    def searchRecursive(self,val):        \n",
    "        temp = self.head\n",
    "        if temp is None:\n",
    "            return False\n",
    "        elif temp.val == val:\n",
    "            return True\n",
    "        else:\n",
    "            return self.searchRecursive(self,val)\n",
    "        \n",
    "        \n",
    "    def printNodes(self):\n",
    "        temp = self.head\n",
    "        while temp:\n",
    "            print('val = {}'.format(temp.val))\n",
    "            temp = temp.next\n",
    "            \n",
    "            \n",
    "    def addListOfVals(self,vals):\n",
    "        if self.head == None:\n",
    "            self.head =  Node(val = vals[0])\n",
    "            vals = vals[1:]\n",
    "        temp = self.head\n",
    "        for val in vals:\n",
    "            newNode = Node(val=val)\n",
    "            temp.next = newNode\n",
    "            temp = temp.next\n",
    "            \n",
    "            \n",
    "    def delete(self,val):\n",
    "        \n",
    "        #First find successor\n",
    "        temp = self.head\n",
    "        if temp.val == val:\n",
    "            self.head = temp.next\n",
    "            return \n",
    "            \n",
    "        while temp:\n",
    "            if temp.next.val == val:\n",
    "                break\n",
    "            temp = temp.next\n",
    "        \n",
    "        #Now temp is successor\n",
    "        restOfList = temp.next.next\n",
    "        temp.next = restOfList\n",
    "        \n",
    "        \n",
    "            \n",
    "vals = [i for i in range(1,6)]\n",
    "L = linkedList()\n",
    "L.addListOfVals(vals)\n",
    "L.insertAtEnd(Node(6))\n",
    "L.insertAtStart(Node(0))\n",
    "L.printNodes()\n",
    "L.delete(6)\n",
    "L.printNodes()"
   ]
  },
  {
   "cell_type": "code",
   "execution_count": 2,
   "metadata": {},
   "outputs": [
    {
     "name": "stdout",
     "output_type": "stream",
     "text": [
      "val = 0\n",
      "val = 1\n",
      "val = 2\n",
      "val = 3\n",
      "val = 4\n"
     ]
    }
   ],
   "source": [
    "vals = [i for i in range(5)]\n",
    "L = linkedList()\n",
    "L.addListOfVals(vals)\n",
    "L.printNodes()"
   ]
  },
  {
   "cell_type": "code",
   "execution_count": 38,
   "metadata": {},
   "outputs": [
    {
     "data": {
      "text/plain": [
       "3"
      ]
     },
     "execution_count": 38,
     "metadata": {},
     "output_type": "execute_result"
    }
   ],
   "source": [
    "#Stand alone function        \n",
    "def searchListRecursive(l,x):\n",
    "    if l is None:\n",
    "        return 'Not in list'\n",
    "    elif l.val == x:\n",
    "        return  l.val\n",
    "    else:\n",
    "        return searchListRecursive(l.next,x)    \n",
    "    \n",
    "searchListRecursive(L.head,3)"
   ]
  },
  {
   "cell_type": "code",
   "execution_count": 39,
   "metadata": {},
   "outputs": [
    {
     "name": "stdout",
     "output_type": "stream",
     "text": [
      "1\n",
      "3\n",
      "5\n",
      "8\n",
      "9\n",
      "11\n"
     ]
    }
   ],
   "source": [
    "#Merge sort a singly linked list\n",
    "\n",
    "def mergeLists(l1,l2):\n",
    "    \n",
    "    #Edge cases\n",
    "    if not l1:\n",
    "        return l2\n",
    "    if not l2:\n",
    "        return l1\n",
    "    \n",
    "    #Get head of sorted list\n",
    "    if l1.val < l2.val:\n",
    "        head_sorted = l1\n",
    "        l1 = l1.next\n",
    "    else:\n",
    "        head_sorted = l2\n",
    "        l2 = l2.next\n",
    "        \n",
    "    #Main while loop\n",
    "    temp = head_sorted\n",
    "    while l1 and l2:\n",
    "        if l1.val < l2.val:\n",
    "            temp.next = l1\n",
    "            l1 = l1.next\n",
    "            temp = temp.next\n",
    "        else:\n",
    "            temp.next = l2\n",
    "            l2 = l2.next\n",
    "            temp = temp.next\n",
    "            \n",
    "    #Catch bits at end\n",
    "    temp.next = l1 or l2  #i.e attach the non empty one\n",
    "    \n",
    "    return head_sorted\n",
    "\n",
    "\n",
    "def mergeSort(head):\n",
    "    \n",
    "    #Edge case\n",
    "    if head is None or head.next is None:\n",
    "        return head\n",
    "    \n",
    "    #Find midpoint\n",
    "    slow,fast = head, head.next\n",
    "    while fast and fast.next:\n",
    "        slow = slow.next\n",
    "        fast = fast.next.next\n",
    "        \n",
    "    #Now split the second half\n",
    "    head2 = slow.next\n",
    "    slow.next = None\n",
    "    \n",
    "    #Now merge these two lists\n",
    "    sortedL = mergeSort(head)\n",
    "    sortedR = mergeSort(head2)\n",
    "    return mergeLists(sortedL, sortedR)\n",
    "\n",
    "\n",
    "#Make list\n",
    "L1 = linkedList()\n",
    "vals = [5,11,8,3,1,9]\n",
    "L1.addListOfVals(vals)\n",
    "head = L1.head\n",
    "\n",
    "\n",
    "#Sort and look\n",
    "out = mergeSort(head)\n",
    "while out:\n",
    "    print(out.val)\n",
    "    out = out.next"
   ]
  },
  {
   "cell_type": "markdown",
   "metadata": {},
   "source": [
    "### Containers"
   ]
  },
  {
   "cell_type": "code",
   "execution_count": null,
   "metadata": {},
   "outputs": [],
   "source": [
    "class Stack:\n",
    "    \"\"\" \n",
    "    Only one pointer to top. LIFO\n",
    "    \"\"\"\n",
    "    \n",
    "    def __init__(self):\n",
    "        self.vals = []\n",
    "    \n",
    "    def pop(self,x):\n",
    "        self.vals.append(x)\n",
    "        \n",
    "    def push(self):\n",
    "        val = self.vals[-1]\n",
    "        self.vals = self.vals[:-1]\n",
    "        return val\n",
    "    \n",
    "    \n",
    "class Queue:\n",
    "    \"\"\"\n",
    "    Two pointers; one at top, one at end. FIFO.\n",
    "    \"\"\"\n",
    "    def __init__(self):\n",
    "        self.vals = []\n",
    "        \n",
    "    def enque(self,x):\n",
    "        self.vals.prepend(x)\n",
    "        \n",
    "    def deque(self):\n",
    "        return self.vals.pop(0)"
   ]
  },
  {
   "cell_type": "markdown",
   "metadata": {},
   "source": [
    "### Dictionaries"
   ]
  },
  {
   "cell_type": "code",
   "execution_count": 1,
   "metadata": {},
   "outputs": [
    {
     "data": {
      "text/plain": [
       "'30'"
      ]
     },
     "execution_count": 1,
     "metadata": {},
     "output_type": "execute_result"
    }
   ],
   "source": [
    "class DictArray:\n",
    "    \"\"\" Implement a dictionary with an unsorted array \"\"\"\n",
    "    \n",
    "    def __init__(self):\n",
    "        self.keys = []\n",
    "        self.vals = []\n",
    "        \n",
    "    def search(self,key):\n",
    "        \"\"\" O(N) \"\"\"\n",
    "        \n",
    "        index = self.keys.index(key)\n",
    "        return self.vals[index]    \n",
    "        \n",
    "    def insert(self,key,val):\n",
    "        \"\"\" O(1)\"\"\"\n",
    "        \n",
    "        self.keys.append(key)\n",
    "        self.vals.append(val)\n",
    "    \n",
    "    def delete(self,key):\n",
    "        \"\"\" O(1) \"\"\"\n",
    "        \n",
    "        #Find index of element to be deleted\n",
    "        index = self.keys.index(key)\n",
    "        self.keys.pop(index)\n",
    "        self.vals.pop(index)\n",
    "        \n",
    "    def max1(self):\n",
    "        \"\"\" O(N) \"\"\"\n",
    "        return max(self.keys)\n",
    "    \n",
    "    def min1(self):\n",
    "        \"\"\" O(N) \"\"\"\n",
    "        return min(self.keys)\n",
    "    \n",
    "    \n",
    "d = DictArray()\n",
    "d.insert('kevin','29')\n",
    "d.insert('tim','30')\n",
    "d.search('tim')"
   ]
  },
  {
   "cell_type": "code",
   "execution_count": 2,
   "metadata": {},
   "outputs": [
    {
     "data": {
      "text/plain": [
       "[28, 30, 'Not in dict']"
      ]
     },
     "execution_count": 2,
     "metadata": {},
     "output_type": "execute_result"
    }
   ],
   "source": [
    "import numpy as np\n",
    "\n",
    "\n",
    "class DictHash:\n",
    "    \"\"\" Haven't implemented collision \n",
    "        resolution yet\n",
    "    \"\"\"\n",
    "    \n",
    "    def __init__(self, size = 10**3):\n",
    "        self.size = size\n",
    "        self.keys = [np.inf for i in range(size)]\n",
    "        self.values = [np.inf for i in range(size)]\n",
    "        \n",
    "    \n",
    "    def insert(self,key,val):\n",
    "        \"\"\" O(1) \"\"\"\n",
    "        \n",
    "        #Find a hash        \n",
    "        index = self.customHash(key)\n",
    "        self.keys[index] = key\n",
    "        self.values[index] = val\n",
    "       \n",
    "    \n",
    "    def customHash(self,string):\n",
    "        \"\"\" H(S) = \\sum_{i}^}{|S|-(i+1)} char(s_i)\"\"\"\n",
    "        \n",
    "        S = hash(string)\n",
    "        return S % self.size\n",
    "    \n",
    "    \n",
    "    def search(self,key):\n",
    "        \"\"\" O(n /m) -- where m length of chain \"\"\"\n",
    "        index = self.customHash(key)\n",
    "        val = self.values[index]\n",
    "        if val == np.inf:\n",
    "            return 'Not in dict'\n",
    "        else:\n",
    "            return val\n",
    "    \n",
    "    \n",
    "d = DictHash()\n",
    "d.insert('kev', 28)\n",
    "d.insert('dave', 30)\n",
    "[d.search(i) for i in ['kev','dave','mike']]"
   ]
  },
  {
   "cell_type": "code",
   "execution_count": 7,
   "metadata": {},
   "outputs": [
    {
     "data": {
      "text/plain": [
       "<matplotlib.legend.Legend at 0x7fb21661b978>"
      ]
     },
     "execution_count": 7,
     "metadata": {},
     "output_type": "execute_result"
    },
    {
     "data": {
      "image/png": "[encoded data removed]",
      "text/plain": [
       "<Figure size 432x288 with 1 Axes>"
      ]
     },
     "metadata": {
      "needs_background": "light"
     },
     "output_type": "display_data"
    }
   ],
   "source": [
    "import time\n",
    "import matplotlib.pyplot as plt\n",
    "%matplotlib inline\n",
    "\n",
    "def profile(numVals):\n",
    "\n",
    "    keys,vals = list(range(numVals)), list(range(numVals))\n",
    "    d1 = DictArray()\n",
    "    d2 = DictHash(size=2*numVals)\n",
    "\n",
    "    #Fill up dictionary\n",
    "    for key,val in zip(keys,vals):\n",
    "        d1.insert(key,val)\n",
    "        d2.insert(key,val)\n",
    "\n",
    "    #Time searches\n",
    "    numTrials = 100\n",
    "    key = np.random.choice(keys)\n",
    "    times1 = []\n",
    "    for trial in range(numTrials):\n",
    "        key = np.random.choice(keys)\n",
    "        t1 = time.time()\n",
    "        d1.search(key)\n",
    "        t2 = time.time()\n",
    "        delta = (t2-t1)\n",
    "        times1.append(delta)\n",
    "    #print('mean time d1 {:.3f} mins'.format(np.mean(times1)))\n",
    "    \n",
    "    #Time searches\n",
    "    numTrials = 100\n",
    "    key = np.random.choice(keys)\n",
    "    times2 = []\n",
    "    for trial in range(numTrials):\n",
    "        key = np.random.choice(keys)\n",
    "        t1 = time.time()\n",
    "        d2.search(key)\n",
    "        t2 = time.time()\n",
    "        delta = (t2-t1) \n",
    "        times2.append(delta)\n",
    "    #print('mean time d2 {:.3f} mins'.format(np.mean(times2)))\n",
    "    \n",
    "    return np.mean(times1), np.mean(times2)\n",
    "\n",
    "T1s, T2s = [], []\n",
    "Ns = [10**2, 10**3, 10**4, 10**5, 10**6]\n",
    "for N  in Ns:\n",
    "    T1,T2 = profile(N)\n",
    "    T1s.append(T1)\n",
    "    T2s.append(T2)\n",
    "plt.plot(Ns, T1s, 'ko-')\n",
    "plt.plot(Ns, T2s, 'rx-')\n",
    "plt.legend(['Dict array', 'Dict hash'])"
   ]
  },
  {
   "cell_type": "markdown",
   "metadata": {},
   "source": [
    "O(N) for the array as expected"
   ]
  },
  {
   "cell_type": "code",
   "execution_count": null,
   "metadata": {},
   "outputs": [],
   "source": []
  },
  {
   "cell_type": "code",
   "execution_count": null,
   "metadata": {},
   "outputs": [],
   "source": []
  },
  {
   "cell_type": "code",
   "execution_count": null,
   "metadata": {},
   "outputs": [],
   "source": []
  },
  {
   "cell_type": "markdown",
   "metadata": {},
   "source": [
    "## Binary search tree"
   ]
  },
  {
   "cell_type": "code",
   "execution_count": 2,
   "metadata": {},
   "outputs": [
    {
     "name": "stdout",
     "output_type": "stream",
     "text": [
      "Not here\n"
     ]
    }
   ],
   "source": [
    "class Node:\n",
    "    def __init__(self,val=None):\n",
    "        self.val = val\n",
    "        self.left = None\n",
    "        self.right = None\n",
    "        \n",
    "\n",
    "def search(root,key):\n",
    "    \n",
    "    #Edge case\n",
    "    if root is None:\n",
    "        print('Not here')\n",
    "        return False\n",
    "    \n",
    "    if root.val == key:\n",
    "        return root\n",
    "\n",
    "    #Binary search \n",
    "    if key < root.val:\n",
    "        search(root.left, key)\n",
    "    else:\n",
    "        search(root.right, key)\n",
    "        \n",
    "        \n",
    "def insert(root,node):\n",
    "    if root is None:\n",
    "        root = node\n",
    "    else:\n",
    "        if node.val <= root.val:\n",
    "            if root.left is None:\n",
    "                root.left = node\n",
    "            else:\n",
    "                insert(root.left,node)\n",
    "        else:\n",
    "            if root.right is None:\n",
    "                root.right = node\n",
    "            else:\n",
    "                insert(root.right,node)\n",
    "                \n",
    "                \n",
    "def minimum(root):\n",
    "    while root.left is not None:\n",
    "        root = root.left\n",
    "    return root.val\n",
    "\n",
    "def maximum(root):\n",
    "    while root.right is not None:\n",
    "        root = root.right\n",
    "    return root.val\n",
    "                \n",
    "                \n",
    "def printInOrder(root):\n",
    "    if root is None:\n",
    "        pass\n",
    "    else:\n",
    "        print(root.val)\n",
    "        printInOrder(root.left)\n",
    "        printInOrder(root.right)\n",
    "                \n",
    "#Test\n",
    "root = Node(10)\n",
    "vals = [2,3,20]\n",
    "for val in vals:\n",
    "    insert(root,Node(val))\n",
    "#minimum(root), maximum(root)\n",
    "search(root,13)"
   ]
  },
  {
   "cell_type": "markdown",
   "metadata": {},
   "source": [
    "### Priority queue -- heap"
   ]
  },
  {
   "cell_type": "code",
   "execution_count": 6,
   "metadata": {},
   "outputs": [
    {
     "name": "stdout",
     "output_type": "stream",
     "text": [
      "adding to heap\n",
      "heap = [10]\n",
      "heap = [5, 10]\n",
      "heap = [5, 10, 7]\n",
      "heap = [5, 10, 7, 11]\n",
      "heap = [5, 10, 7, 11, 150]\n",
      "heap = [3, 10, 5, 11, 150, 7]\n",
      "\n",
      " \n",
      "removing from heap\n",
      "val = 3\n",
      "heap = [5, 10, 7, 11, 150] \n",
      "\n",
      "val = 5\n",
      "heap = [7, 10, 150, 11] \n",
      "\n",
      "val = 7\n",
      "heap = [10, 11, 150] \n",
      "\n",
      "val = 10\n",
      "heap = [11, 150] \n",
      "\n",
      "val = 11\n",
      "heap = [150] \n",
      "\n",
      "val = 150\n",
      "heap = [] \n",
      "\n"
     ]
    }
   ],
   "source": [
    "from heapq import heappop, heappush\n",
    "\n",
    "#add to heap\n",
    "print('adding to heap')\n",
    "heap = []\n",
    "for val in [10,5,7,11,150,3]:\n",
    "    heappush(heap,val)\n",
    "    print('heap = {}'.format(heap))\n",
    "    \n",
    "#pop from heap\n",
    "print('\\n \\nremoving from heap')\n",
    "while heap:\n",
    "    val = heappop(heap)\n",
    "    print('val = {}'.format(val))\n",
    "    print('heap = {} \\n'.format(heap))"
   ]
  },
  {
   "cell_type": "markdown",
   "metadata": {},
   "source": [
    "Can store tuples using heaps too, the ordering is by the first element"
   ]
  },
  {
   "cell_type": "code",
   "execution_count": 9,
   "metadata": {},
   "outputs": [
    {
     "name": "stdout",
     "output_type": "stream",
     "text": [
      "heap = [(10, 1)]\n",
      "heap = [(3, 5), (10, 1)]\n",
      "heap = [(3, 5), (10, 1), (8, 7)]\n",
      "heap = [(3, 5), (9, 3), (8, 7), (10, 1)]\n",
      "heap = [(3, 5), (9, 3), (8, 7), (10, 1), (100, 31)]\n"
     ]
    }
   ],
   "source": [
    "points = [(10,1),(3,5),(8,7),(9,3),(100,31)]\n",
    "heap = []\n",
    "for p in points:\n",
    "    heappush(heap,p)\n",
    "    print('heap = {}'.format(heap))"
   ]
  },
  {
   "cell_type": "markdown",
   "metadata": {},
   "source": [
    "So the minimum x, where data are (x,y), are something \n",
    "\n",
    "Can also return n smallest elements"
   ]
  },
  {
   "cell_type": "code",
   "execution_count": 13,
   "metadata": {},
   "outputs": [
    {
     "name": "stdout",
     "output_type": "stream",
     "text": [
      "adding to heap\n",
      "heap = [10]\n",
      "heap = [5, 10]\n",
      "heap = [5, 10, 7]\n",
      "heap = [5, 10, 7, 11]\n",
      "heap = [5, 10, 7, 11, 150]\n",
      "heap = [3, 10, 5, 11, 150, 7]\n"
     ]
    },
    {
     "data": {
      "text/plain": [
       "([3, 5, 7], [150, 11, 10])"
      ]
     },
     "execution_count": 13,
     "metadata": {},
     "output_type": "execute_result"
    }
   ],
   "source": [
    "from heapq import nsmallest, nlargest\n",
    "\n",
    "#add to heap\n",
    "print('adding to heap')\n",
    "heap = []\n",
    "for val in [10,5,7,11,150,3]:\n",
    "    heappush(heap,val)\n",
    "    print('heap = {}'.format(heap))\n",
    "    \n",
    "nsmallest(3,heap), nlargest(3,heap)  #note, doesn't pop from heap; heap same as before"
   ]
  },
  {
   "cell_type": "markdown",
   "metadata": {},
   "source": [
    "### Disjoint set data structure\n",
    "\n",
    "https://www.youtube.com/watch?v=ID00PMy0-vE"
   ]
  },
  {
   "cell_type": "code",
   "execution_count": null,
   "metadata": {},
   "outputs": [],
   "source": [
    "class DisjointSet:\n",
    "    def __init__()"
   ]
  },
  {
   "cell_type": "markdown",
   "metadata": {},
   "source": [
    "### Misc"
   ]
  },
  {
   "cell_type": "code",
   "execution_count": 3,
   "metadata": {},
   "outputs": [],
   "source": [
    "class sortedArray:\n",
    "    def __init__(self):\n",
    "        self.vals = []\n",
    "        \n",
    "    def add(self,x):\n",
    "        \n",
    "        #Find insertion point\n",
    "        ptr = 0\n",
    "        while self.vals[ptr] <= x:\n",
    "            ptr += 1\n",
    "            \n",
    "        #Now insert element\n",
    "        curr_val = x\n",
    "        while ptr <= len(self.vals) - 1:\n",
    "            next_val = self.vals[ptr]\n",
    "            self.vals[ptr] = curr_val\n",
    "            curr_val = next_val\n",
    "            ptr += 1\n",
    "            \n",
    "        #Terminating condition\n",
    "        self.vals"
   ]
  }
 ],
 "metadata": {
  "kernelspec": {
   "display_name": "Python 3",
   "language": "python",
   "name": "python3"
  },
  "language_info": {
   "codemirror_mode": {
    "name": "ipython",
    "version": 3
   },
   "file_extension": ".py",
   "mimetype": "text/x-python",
   "name": "python",
   "nbconvert_exporter": "python",
   "pygments_lexer": "ipython3",
   "version": "3.7.3"
  }
 },
 "nbformat": 4,
 "nbformat_minor": 2
}
