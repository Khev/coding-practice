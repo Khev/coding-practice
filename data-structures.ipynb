{
 "cells": [
  {
   "cell_type": "markdown",
   "metadata": {},
   "source": [
    "# Introduction\n",
    "\n",
    "Implemeting data structures from Skienna\n",
    "\n",
    "\n",
    "### Linked lists"
   ]
  },
  {
   "cell_type": "code",
   "execution_count": 2,
   "metadata": {},
   "outputs": [],
   "source": [
    "def searchListRecursive(l,x):\n",
    "    if l.val is None:\n",
    "        return None\n",
    "    elif l.val == x:\n",
    "        return  l\n",
    "    else:\n",
    "        return searchListRecursive(l.next,x)    "
   ]
  },
  {
   "cell_type": "markdown",
   "metadata": {},
   "source": [
    "### Containers"
   ]
  },
  {
   "cell_type": "code",
   "execution_count": null,
   "metadata": {},
   "outputs": [],
   "source": [
    "class Stack:\n",
    "    \"\"\" \n",
    "    Only one pointer to top. LIFO\n",
    "    \"\"\"\n",
    "    \n",
    "    def __init__(self):\n",
    "        self.vals = []\n",
    "    \n",
    "    def pop(self,x):\n",
    "        self.vals.append(x)\n",
    "        \n",
    "    def push(self):\n",
    "        val = self.vals[-1]\n",
    "        self.vals = self.vals[:-1]\n",
    "        return val\n",
    "    \n",
    "    \n",
    "class Queue:\n",
    "    \"\"\"\n",
    "    Two pointers; one at top, one at end. FIFO.\n",
    "    \"\"\"\n",
    "    def __init__(self):\n",
    "        self.vals = []\n",
    "        \n",
    "    def enque(self,x):\n",
    "        self.vals.prepend(x)\n",
    "        \n",
    "    def deque(self):\n",
    "        return self.vals.pop(0)"
   ]
  },
  {
   "cell_type": "markdown",
   "metadata": {},
   "source": [
    "### Dictionaries"
   ]
  },
  {
   "cell_type": "code",
   "execution_count": 19,
   "metadata": {},
   "outputs": [
    {
     "data": {
      "text/plain": [
       "'30'"
      ]
     },
     "execution_count": 19,
     "metadata": {},
     "output_type": "execute_result"
    }
   ],
   "source": [
    "class DictArray:\n",
    "    \"\"\" \n",
    "    Implement a dictionary with an unsorted array    \n",
    "    \"\"\"\n",
    "    \n",
    "    def __init__(self):\n",
    "        self.keys = []\n",
    "        self.vals = []\n",
    "        \n",
    "    def search(self,key):\n",
    "        \"\"\" O(N) \"\"\"\n",
    "        \n",
    "        index = self.keys.index(key)\n",
    "        return self.vals[index]    \n",
    "        \n",
    "    def insert(self,key,val):\n",
    "        \"\"\" O(1)\"\"\"\n",
    "        \n",
    "        self.keys.append(key)\n",
    "        self.vals.append(val)\n",
    "    \n",
    "    def delete(self,key):\n",
    "        \"\"\" O(1) \"\"\"\n",
    "        \n",
    "        #Find index of element to be deleted\n",
    "        index = self.keys.index(key)\n",
    "        self.keys.pop(index)\n",
    "        self.vals.pop(index)\n",
    "        \n",
    "    def max1(self):\n",
    "        \"\"\" O(N) \"\"\"\n",
    "        return max(self.keys)\n",
    "    \n",
    "    def min1(self):\n",
    "        \"\"\" O(N)  \"\"\"\n",
    "        return min(self.keys)\n",
    "    \n",
    "    \n",
    "d = DictList()\n",
    "d.insert('kevin','29')\n",
    "d.insert('tim','30')\n",
    "d.search('tim')"
   ]
  },
  {
   "cell_type": "code",
   "execution_count": null,
   "metadata": {},
   "outputs": [],
   "source": [
    "class sortedArray:\n",
    "    def __init__(self):\n",
    "        self.vals = []\n",
    "        \n",
    "    def add(self,x):\n",
    "        \n",
    "        #Find insertion point\n",
    "        ptr = 0\n",
    "        while self.vals[ptr] <= x:\n",
    "            ptr += 1\n",
    "            \n",
    "        #Now insert element\n",
    "        curr_val = x\n",
    "        while ptr <= len(self.vals) - 1:\n",
    "            next_val = self.vals[ptr]\n",
    "            self.vals[ptr] = curr_val\n",
    "            curr_val = next_val\n",
    "            ptr += 1\n",
    "            \n",
    "        #Terminating condition\n",
    "        self.vals"
   ]
  }
 ],
 "metadata": {
  "kernelspec": {
   "display_name": "Python 3",
   "language": "python",
   "name": "python3"
  },
  "language_info": {
   "codemirror_mode": {
    "name": "ipython",
    "version": 3
   },
   "file_extension": ".py",
   "mimetype": "text/x-python",
   "name": "python",
   "nbconvert_exporter": "python",
   "pygments_lexer": "ipython3",
   "version": "3.7.3"
  }
 },
 "nbformat": 4,
 "nbformat_minor": 2
}
