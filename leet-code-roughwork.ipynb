{
 "cells": [
  {
   "cell_type": "markdown",
   "metadata": {},
   "source": [
    "# General"
   ]
  },
  {
   "cell_type": "code",
   "execution_count": 25,
   "metadata": {},
   "outputs": [
    {
     "name": "stdout",
     "output_type": "stream",
     "text": [
      "0 4 9\n",
      "0 4 8\n",
      "5 6 8\n",
      "7 7 8\n"
     ]
    },
    {
     "data": {
      "text/plain": [
       "1"
      ]
     },
     "execution_count": 25,
     "metadata": {},
     "output_type": "execute_result"
    }
   ],
   "source": [
    "def findPivot(L,low,high):    \n",
    "    \"\"\"Binary search to find min value\n",
    "    \n",
    "    1. Check if mid in min value: if l[mid-1] > l[mid], then yes\n",
    "    2. Check if mid+1 is min vaue:\n",
    "    3. Divide and conquer\n",
    "    \n",
    "    \n",
    "    EDGE CASES:\n",
    "    \n",
    "    \n",
    "    \"\"\"\n",
    "    \n",
    "    #Condition for pivot\n",
    "    if high < low:\n",
    "        return L[0]\n",
    "    \n",
    "    \n",
    "    #Edge case\n",
    "    if len(L) == 1:\n",
    "        return L[0]\n",
    "    \n",
    "    if len(L) == 2:\n",
    "        if L[0] < L[1]:\n",
    "            return L[0]\n",
    "        else:\n",
    "            return L[1]\n",
    "    \n",
    "    while low <= high:\n",
    "        mid = (high + low) // 2\n",
    "        print(low,mid,high)\n",
    "\n",
    "        #Check if mid is minimum\n",
    "        if L[mid-1] > L[mid]:\n",
    "            return L[mid]\n",
    "\n",
    "        #Check if mid+1 is minimum\n",
    "        if L[mid] > L[mid+1]:\n",
    "            return L[mid +1]\n",
    "\n",
    "        #Do binary search:\n",
    "        #Check if pivot in R := (mid,high):\n",
    "        if L[mid] > L[high]:\n",
    "            low = mid+1\n",
    "            \n",
    "        #Have to add in an edge case\n",
    "        #If there are duplicates, gets stuck here\n",
    "        elif L[mid] == L[high]:\n",
    "            high -= 1\n",
    "        else:\n",
    "            high = mid-1\n",
    "    return L[mid]\n",
    "    \n",
    "    \n",
    "\n",
    "def test():\n",
    "    l = [2,4,5,6,8,0,1]\n",
    "    low,high = 0,len(l)-1\n",
    "    if findPivot(l,low,high) == 0:\n",
    "        return 'Pass'\n",
    "    else:\n",
    "        return 'Fail'\n",
    "    \n",
    "    l = [1,1]\n",
    "    low,high = 0,len(l)-1\n",
    "    if findPivot(l,low,high) == 1:\n",
    "        return 'Pass'\n",
    "    else:\n",
    "        return 'Fail'\n",
    "\n",
    "    l = [1,3,5]\n",
    "    low,high = 0,len(l)-1\n",
    "    if findPivot(l,low,high) == 3:\n",
    "        return 'Pass'\n",
    "    else:\n",
    "        return 'Fail'\n",
    "    \n",
    "    \n",
    "l = [1,3,5]\n",
    "#l = [2,4,5,6,8,0,1]\n",
    "#l = [1,1]\n",
    "l = [1]\n",
    "l = [3,3,3,3,3,3,3,3,1,3]\n",
    "findPivot(l,0,len(l)-1)"
   ]
  },
  {
   "cell_type": "code",
   "execution_count": 68,
   "metadata": {},
   "outputs": [
    {
     "name": "stdout",
     "output_type": "stream",
     "text": [
      "False\n",
      "False\n"
     ]
    }
   ],
   "source": [
    "def binarySearch(L,x):\n",
    "        \n",
    "    #Edge cases\n",
    "    if len(L) == 0:\n",
    "        return -1\n",
    "    if len(L) == 1:\n",
    "        if L[0] == x:\n",
    "            return True\n",
    "        else:\n",
    "            return False\n",
    "        \n",
    "    #Main\n",
    "    low,high = 0, len(L)-1\n",
    "    while low < high - 1:\n",
    "        mid = (low + high) // 2\n",
    "        if L[mid] == x:\n",
    "            return True\n",
    "        else:\n",
    "            if L[mid] < x:\n",
    "                low = mid+1\n",
    "            else:\n",
    "                high = mid-1\n",
    "    return False\n",
    "\n",
    "def test(Ls):\n",
    "    x = 1\n",
    "    for L in Ls:\n",
    "        print(binarySearch(L,x))\n",
    "        \n",
    "Ls = [[1,1],[1,2,3]]\n",
    "test(Ls)"
   ]
  },
  {
   "cell_type": "markdown",
   "metadata": {},
   "source": [
    "# Binary search trees"
   ]
  },
  {
   "cell_type": "code",
   "execution_count": 233,
   "metadata": {},
   "outputs": [
    {
     "name": "stdout",
     "output_type": "stream",
     "text": [
      "\n",
      "          9\n",
      "\n",
      "                    5\n",
      "\n",
      "0\n",
      "\n",
      "          -3\n",
      "\n",
      "                    -10\n"
     ]
    }
   ],
   "source": [
    "COUNT = [10]  \n",
    "def print2DUtil(root, space) : \n",
    "  \n",
    "    # Base case  \n",
    "    if (root == None) : \n",
    "        return\n",
    "  \n",
    "    # Increase distance between levels  \n",
    "    space += COUNT[0] \n",
    "  \n",
    "    # Process right child first  \n",
    "    print2DUtil(root.right, space)  \n",
    "  \n",
    "    # Print current node after space  \n",
    "    # count  \n",
    "    print()  \n",
    "    for i in range(COUNT[0], space): \n",
    "        print(end = \" \")  \n",
    "    print(root.val)  \n",
    "  \n",
    "    # Process left child  \n",
    "    print2DUtil(root.left, space)  \n",
    "  \n",
    "# Wrapper over print2DUtil()  \n",
    "def print2D(root) : \n",
    "      \n",
    "    # space=[0] \n",
    "    # Pass initial space count as 0  \n",
    "    print2DUtil(root, 0)  \n",
    "\n",
    "\n",
    "class TreeNode:\n",
    "    def __init__(self, x=None):\n",
    "        self.val = x\n",
    "        self.left = None\n",
    "        self.right = None\n",
    "        \n",
    "    \n",
    "def insert(root,node):\n",
    "    if root is None:\n",
    "        root = node\n",
    "    else:\n",
    "        if node.val <= root.val:\n",
    "            if root.left is None:\n",
    "                root.left = node\n",
    "            else:\n",
    "                insert(root.left,node)\n",
    "        else:\n",
    "            if root.right is None:\n",
    "                root.right = node\n",
    "            else:\n",
    "                insert(root.right,node)\n",
    "                \n",
    "def makeBinaryTree(L):\n",
    "    root = TreeNode(L[0])\n",
    "    for val in L[1:]:\n",
    "        insert(root,TreeNode(val))\n",
    "    return root\n",
    "\n",
    "\n",
    "def insertLevelOrder(L):\n",
    "    \"\"\" Fill left to right \"\"\"\n",
    "    \n",
    "    root = TreeNode(L[0])\n",
    "    root = helper(L,0,root)\n",
    "    return root\n",
    "    \n",
    "def helper(L,i,root):\n",
    "    n = len(L)\n",
    "    if i < n:\n",
    "        if L[i] == None:\n",
    "            root = None\n",
    "        else:\n",
    "            root = TreeNode(L[i])\n",
    "            root.left = helper(L,2*i+1,root.left)\n",
    "            root.right = helper(L,2*i+2,root.right)\n",
    "    return root\n",
    "\n",
    "def printInOrder(root):\n",
    "    if root is None:\n",
    "        pass\n",
    "    else:\n",
    "        print(root.val)\n",
    "        printInOrder(root.left)\n",
    "        printInOrder(root.right)\n",
    "\n",
    "        \n",
    "def medians(L):\n",
    "    if len(L) > 1:\n",
    "        median_index = len(L) // 2\n",
    "        median = L[median_index]\n",
    "        print(median)\n",
    "        medians(L[:median_index])\n",
    "        medians(L[median_index+1:])\n",
    "    elif len(L) == 1:\n",
    "        print(L[0])\n",
    "    else:\n",
    "        return\n",
    "    \n",
    "    \n",
    "def insertList(root,L):\n",
    "    if len(L) > 1:\n",
    "        median_index = len(L) // 2\n",
    "        median = L[median_index]\n",
    "        node = TreeNode(median)\n",
    "        insert(root,node)\n",
    "        insertList(root, L[:median_index])\n",
    "        insertList(root, L[median_index+1:])\n",
    "    elif len(L) == 1:\n",
    "        node = TreeNode(L[0])\n",
    "        insert(root,node)\n",
    "    else:\n",
    "        return \n",
    "    \n",
    "    \n",
    "def sortedListToBST(L):\n",
    "    median_index = len(L) // 2\n",
    "    median = L[median_index]\n",
    "    root = TreeNode(median)\n",
    "    insertList(root,L[:median_index])\n",
    "    insertList(root,L[median_index+1:])\n",
    "    return root\n",
    "\n",
    "L = [-10,-3,0,5,9]\n",
    "root = sortedListToBST(L)\n",
    "print2D(root)"
   ]
  },
  {
   "cell_type": "markdown",
   "metadata": {},
   "source": [
    "#### Convert sorted array to binary search tree"
   ]
  },
  {
   "cell_type": "code",
   "execution_count": 141,
   "metadata": {},
   "outputs": [
    {
     "name": "stdout",
     "output_type": "stream",
     "text": [
      "\n",
      "          9\n",
      "\n",
      "                    5\n",
      "\n",
      "0\n",
      "\n",
      "          -3\n",
      "\n",
      "                    -10\n"
     ]
    }
   ],
   "source": [
    "def sortedArrayToBST(L):\n",
    "    \"\"\"\n",
    "    \n",
    "    PLAN:\n",
    "    1. Can do via recursion\n",
    "    2. First insert median, then recurse\n",
    "    \n",
    "    \"\"\"\n",
    "    \n",
    "    #Terminating conditions\n",
    "    if len(L) == 0:\n",
    "        return None\n",
    "    if len(L) == 1:\n",
    "        return TreeNode(L[0])\n",
    "    \n",
    "    #Insert\n",
    "    median_index = len(L) // 2\n",
    "    median = L[median_index]\n",
    "    root = TreeNode(median)\n",
    "    \n",
    "    #Recurse\n",
    "    root.right = sortedArrayToBST(L[median_index+1:])\n",
    "    root.left = sortedArrayToBST(L[:median_index])\n",
    "    \n",
    "    return root\n",
    "\n",
    "L = [-10,-3,0,5,9]\n",
    "root = sortedArrayToBST(L)\n",
    "print2D(root)"
   ]
  },
  {
   "cell_type": "markdown",
   "metadata": {},
   "source": [
    "#### Convert sorted linked list to binary search tree"
   ]
  },
  {
   "cell_type": "code",
   "execution_count": 137,
   "metadata": {},
   "outputs": [
    {
     "name": "stdout",
     "output_type": "stream",
     "text": [
      "-10\n",
      "-3\n",
      "0\n",
      "5\n",
      "9\n"
     ]
    },
    {
     "data": {
      "text/plain": [
       "0"
      ]
     },
     "execution_count": 137,
     "metadata": {},
     "output_type": "execute_result"
    }
   ],
   "source": [
    "class listNode:\n",
    "    def __init__(self,x):\n",
    "        self.val = x\n",
    "        self.next = None\n",
    "        \n",
    "def insertToList(root,x):\n",
    "    temp = root\n",
    "    while temp.next:\n",
    "        temp = temp.next\n",
    "    temp.next = listNode(x)\n",
    "    \n",
    "def printList(root):\n",
    "    temp = root\n",
    "    while temp:\n",
    "        print(temp.val)\n",
    "        temp = temp.next\n",
    "        \n",
    "def makeList(L):\n",
    "    rootList = listNode(L[0])\n",
    "    for x in L[1:]:\n",
    "        insertToList(rootList,x)\n",
    "    return rootList\n",
    "\n",
    "def lengthList(root):\n",
    "    temp = root\n",
    "    length = 0\n",
    "    while temp:\n",
    "        temp = temp.next\n",
    "        length += 1\n",
    "    return length\n",
    "\n",
    "def findMedianNode(head):\n",
    "    \"\"\" Use two pointers,\n",
    "        one moving slowly,\n",
    "        the other fast\n",
    "        \n",
    "    \"\"\"\n",
    "    \n",
    "    fast = head\n",
    "    \n",
    "    #Start slow to left of head\n",
    "    #That way get get the 'left' median convention\n",
    "    leftHead = listNode(0)\n",
    "    leftHead.next = head\n",
    "    slow = leftHead\n",
    "    \n",
    "    while fast and fast.next:\n",
    "        slow = slow.next\n",
    "        fast = fast.next.next\n",
    "    return slow.next  #slow.next is now median\n",
    "        \n",
    "#Prepare list\n",
    "L = [-10,-3,0,5,9]\n",
    "head = makeList(L)\n",
    "printList(head)\n",
    "findMedianNode(head).val"
   ]
  },
  {
   "cell_type": "code",
   "execution_count": 159,
   "metadata": {},
   "outputs": [
    {
     "name": "stdout",
     "output_type": "stream",
     "text": [
      "\n",
      "          9\n",
      "\n",
      "                    5\n",
      "\n",
      "0\n",
      "\n",
      "          -3\n",
      "\n",
      "                    -10\n"
     ]
    }
   ],
   "source": [
    "def insertList(head):\n",
    "    \n",
    "    if head is None:\n",
    "        return None\n",
    "    if head.next is None:\n",
    "        return TreeNode(head.val)\n",
    "    \n",
    "    #Find median node\n",
    "    fast = head\n",
    "    \n",
    "    #Start slow to left of head\n",
    "    #That way get get the 'left' median convention\n",
    "    leftHead = listNode(0)\n",
    "    leftHead.next = head\n",
    "    slow = leftHead\n",
    "    while fast and fast.next:\n",
    "        slow = slow.next\n",
    "        fast = fast.next.next\n",
    "        \n",
    "    #slow.next is now median\n",
    "    #insert\n",
    "    root = TreeNode(slow.next.val)\n",
    "\n",
    "    #Recurse\n",
    "    root.right = insertList(slow.next.next)\n",
    "    \n",
    "    #Need to terminate\n",
    "    slow.next = None\n",
    "    root.left = insertList(head)\n",
    "    \n",
    "    return root\n",
    "\n",
    "root = insertList(head)\n",
    "print2D(root)"
   ]
  },
  {
   "cell_type": "markdown",
   "metadata": {},
   "source": [
    "#### Find mode"
   ]
  },
  {
   "cell_type": "code",
   "execution_count": 3,
   "metadata": {},
   "outputs": [
    {
     "data": {
      "text/plain": [
       "9"
      ]
     },
     "execution_count": 3,
     "metadata": {},
     "output_type": "execute_result"
    }
   ],
   "source": [
    "from collections import defaultdict\n",
    "\n",
    "def fill(root,cache):\n",
    "    if root:\n",
    "        val = root.val\n",
    "        cache[val] += 1\n",
    "        fill(root.left,cache)\n",
    "        fill(root.right,cache)   \n",
    "        \n",
    "def findMode(root):\n",
    "    cache = defaultdict(int)\n",
    "    fill(root,cache)\n",
    "    return max(cache)\n",
    "\n",
    "findMode(root)"
   ]
  },
  {
   "cell_type": "markdown",
   "metadata": {},
   "source": [
    "#### Find width of binary tree"
   ]
  },
  {
   "cell_type": "code",
   "execution_count": 305,
   "metadata": {},
   "outputs": [
    {
     "name": "stdout",
     "output_type": "stream",
     "text": [
      "\n",
      "          -3\n",
      "\n",
      "                    9\n",
      "\n",
      "3\n",
      "\n",
      "                    5\n",
      "\n",
      "          -10\n",
      "\n",
      "                    2\n"
     ]
    },
    {
     "data": {
      "text/plain": [
       "3"
      ]
     },
     "execution_count": 305,
     "metadata": {},
     "output_type": "execute_result"
    }
   ],
   "source": [
    "def maxWidthBinaryTree(root):    \n",
    "    \n",
    "    \"\"\"\n",
    "    PLAN:\n",
    "    1. Find nodes at given level using BFS\n",
    "    2. Index nodes at given level: if node has index i, then node.left = 2*i, node.right = 2*i+1\n",
    "    3. Then at each level, width = max(index) - min(index) -- node min(index) not necessarily 0\n",
    "    4. Then keep track of max width seen as I strobe over levels\n",
    "    \"\"\"\n",
    "    \n",
    "    queue = [(root,0,0)]   #(node,depth,pos)\n",
    "    visited = set([])\n",
    "    maxWidth = currDepth = left = 0\n",
    "    while queue:\n",
    "        (node,depth,pos) = queue.pop(0)\n",
    "        if node:\n",
    "            queue.append((node.left, depth+1, pos*2))\n",
    "            queue.append((node.right, depth+1, pos*2+1))\n",
    "\n",
    "            #Once I'm finished with a given level\n",
    "            #I need to update\n",
    "            if currDepth != depth:\n",
    "                currDepth = depth\n",
    "                left = pos  #we will encoutner the leftmost node first\n",
    "            maxWidth = max(pos-left+1,maxWidth)\n",
    "    return maxWidth\n",
    "\n",
    "L = [3,-10,-3,2,5,9]\n",
    "root = levelOrder(L)\n",
    "print2D(root)\n",
    "maxWidthBinaryTree(root)"
   ]
  },
  {
   "cell_type": "markdown",
   "metadata": {},
   "source": [
    "#### Validate binary search tree"
   ]
  },
  {
   "cell_type": "code",
   "execution_count": 161,
   "metadata": {},
   "outputs": [
    {
     "name": "stdout",
     "output_type": "stream",
     "text": [
      "\n",
      "                    9\n",
      "\n",
      "          5\n",
      "\n",
      "3\n",
      "\n",
      "                              2\n",
      "\n",
      "                    -3\n",
      "\n",
      "          -10\n"
     ]
    },
    {
     "data": {
      "text/plain": [
       "True"
      ]
     },
     "execution_count": 161,
     "metadata": {},
     "output_type": "execute_result"
    }
   ],
   "source": [
    "def isValidBST(root):\n",
    "    \"\"\"\n",
    "    \n",
    "    IDEAS:\n",
    "    1. Brute force: check every\n",
    "    \n",
    "    2. Recursive?\n",
    "    \n",
    "    isValidBST(root) = isValidBST(root.left) and isValidBST(root.right) and currentLevelValid\n",
    "    \n",
    "    PLAN:\n",
    "    \n",
    "    \"\"\"\n",
    "    \n",
    "    if root is None:\n",
    "        return True\n",
    "    else:\n",
    "        if root.left is None and root.right is None:\n",
    "            return True\n",
    "        \n",
    "        #Root only has right leaf\n",
    "        elif root.left is None:\n",
    "            currentLevelValid = root.val <= root.right.val    \n",
    "            return isValidBST(root.right) and currentLevelValid\n",
    "        \n",
    "        #Root has only left leaf\n",
    "        elif root.right is None:\n",
    "            currentLevelValid = root.left.val <= root.val\n",
    "            return isValidBST(root.left) and currentLevelValid\n",
    "        \n",
    "        #Root has both leaves\n",
    "        else:\n",
    "            currentLevelValid = root.left.val <= root.val and root.val <= root.right.val\n",
    "            return isValidBST(root.left) and isValidBST(root.right) and currentLevelValid\n",
    "    \n",
    "root = Node(3)\n",
    "L = [3,-10,-3,2,5,9]\n",
    "root = makeTree(L)\n",
    "print2D(root)\n",
    "isValidBST(root)"
   ]
  },
  {
   "cell_type": "markdown",
   "metadata": {},
   "source": [
    "#### Minimum depth"
   ]
  },
  {
   "cell_type": "code",
   "execution_count": 237,
   "metadata": {},
   "outputs": [
    {
     "name": "stdout",
     "output_type": "stream",
     "text": [
      "\n",
      "                    5\n",
      "\n",
      "          3\n",
      "\n",
      "1\n",
      "\n",
      "          2\n",
      "\n",
      "                    4\n"
     ]
    },
    {
     "data": {
      "text/plain": [
       "3"
      ]
     },
     "execution_count": 237,
     "metadata": {},
     "output_type": "execute_result"
    }
   ],
   "source": [
    "def helper1(root):\n",
    "    if root is None:\n",
    "        return float('inf')\n",
    "    elif root.left is None and root.right is None:\n",
    "        return 1\n",
    "    return 1 + min(helper1(root.left), helper1(root.right))\n",
    "\n",
    "def minDepth(root):\n",
    "    \"\"\"\n",
    "    :type root: TreeNode\n",
    "    :rtype: int\n",
    "    \"\"\"\n",
    "    if root is None:\n",
    "        return 0\n",
    "    return helper1(root)  \n",
    "\n",
    "L = [3,9,20,None,None,15,17]\n",
    "#L = [1,2]\n",
    "L = [1,2,3,4,None,None,5]\n",
    "root = insertLevelOrder(L)\n",
    "print2D(root)\n",
    "minDepth(root)"
   ]
  },
  {
   "cell_type": "markdown",
   "metadata": {},
   "source": [
    "### Level order insertion"
   ]
  },
  {
   "cell_type": "code",
   "execution_count": 306,
   "metadata": {},
   "outputs": [
    {
     "name": "stdout",
     "output_type": "stream",
     "text": [
      "\n",
      "                    7\n",
      "\n",
      "          20\n",
      "\n",
      "                    15\n",
      "\n",
      "3\n",
      "\n",
      "                    None\n",
      "\n",
      "          9\n",
      "\n",
      "                    None\n"
     ]
    }
   ],
   "source": [
    "L = [3,9,20,None,None,15,7]\n",
    "root = insertLevelOrder(L)\n",
    "print2D(root)"
   ]
  },
  {
   "cell_type": "code",
   "execution_count": 307,
   "metadata": {},
   "outputs": [
    {
     "name": "stdout",
     "output_type": "stream",
     "text": [
      "\n",
      "                    7\n",
      "\n",
      "          20\n",
      "\n",
      "                    15\n",
      "\n",
      "3\n",
      "\n",
      "                    None\n",
      "\n",
      "          9\n",
      "\n",
      "                    None\n"
     ]
    },
    {
     "data": {
      "text/plain": [
       "[[3], [9, 20], [None, None, 15, 7]]"
      ]
     },
     "execution_count": 307,
     "metadata": {},
     "output_type": "execute_result"
    }
   ],
   "source": [
    "def levelOrder(root):\n",
    "    \"\"\" Can do this via BFS \"\"\"\n",
    "    \n",
    "    #Edge cases\n",
    "    if root is None:\n",
    "        return []\n",
    "    \n",
    "    #Normal case\n",
    "    queue = [(root,0)] #(node,level)\n",
    "    currentLevel = 0\n",
    "    results = []\n",
    "    valsAtThisLevel = []\n",
    "    while queue:\n",
    "        \n",
    "        #Add neighbours\n",
    "        #print([(x[0].val,x[1]) for x in queue])\n",
    "        node,level = queue.pop(0)\n",
    "        if node:\n",
    "            valsAtThisLevel.append(node.val)\n",
    "            if node.left:\n",
    "                queue.append((node.left,level+1))\n",
    "            if node.right:\n",
    "                queue.append((node.right,level+1))\n",
    "\n",
    "            #Update level\n",
    "            if currentLevel != level:\n",
    "                valsAtThisLevel = valsAtThisLevel[:-1]\n",
    "                currentLevel = level\n",
    "                results.append(valsAtThisLevel)\n",
    "                valsAtThisLevel = [node.val]\n",
    "    results.append(valsAtThisLevel)\n",
    "    return results\n",
    "    #return [x for x in reversed(results)]\n",
    "\n",
    "\n",
    "L = [3,9,20,None,None,15,7]\n",
    "#L = [1]\n",
    "root = insertLevelOrder(L)\n",
    "print2D(root)\n",
    "results = levelOrder(root)\n",
    "results"
   ]
  },
  {
   "cell_type": "code",
   "execution_count": 270,
   "metadata": {},
   "outputs": [],
   "source": [
    "def averageOfLevels(root):\n",
    "    \"\"\" Can do this via BFS \"\"\"\n",
    "    \n",
    "    #Edge cases\n",
    "    if root is None:\n",
    "        return []\n",
    "    \n",
    "    #Normal case\n",
    "    queue = [(root,0)] #(node,level)\n",
    "    currentLevel = 0\n",
    "    results = []\n",
    "    valsAtThisLevel = []\n",
    "    while queue:\n",
    "        \n",
    "        #Add neighbours\n",
    "        #print([(x[0].val,x[1]) for x in queue])\n",
    "        node,level = queue.pop(0)\n",
    "        if node:\n",
    "            valsAtThisLevel.append(node.val)\n",
    "            if node.left:\n",
    "                queue.append((node.left,level+1))\n",
    "            if node.right:\n",
    "                queue.append((node.right,level+1))\n",
    "\n",
    "            #Update level\n",
    "            if currentLevel != level:\n",
    "                valsAtThisLevel = valsAtThisLevel[:-1]\n",
    "                currentLevel = level\n",
    "                results.append(valsAtThisLevel)\n",
    "                valsAtThisLevel = [node.val]\n",
    "    results.append(valsAtThisLevel)\n",
    "    return [np.mean(x) for x in results]"
   ]
  },
  {
   "cell_type": "markdown",
   "metadata": {},
   "source": [
    "### Flatten binary tree to linked list"
   ]
  },
  {
   "cell_type": "code",
   "execution_count": 342,
   "metadata": {},
   "outputs": [
    {
     "name": "stdout",
     "output_type": "stream",
     "text": [
      "\n",
      "          5\n",
      "\n",
      "                    6\n",
      "\n",
      "1\n",
      "\n",
      "                    4\n",
      "\n",
      "          2\n",
      "\n",
      "                    3\n"
     ]
    }
   ],
   "source": [
    "L = [1,2,5,3,4,6]\n",
    "root = insertLevelOrder(L)\n",
    "print2D(root)"
   ]
  },
  {
   "cell_type": "code",
   "execution_count": 343,
   "metadata": {},
   "outputs": [
    {
     "name": "stdout",
     "output_type": "stream",
     "text": [
      "\n",
      "                                                  6\n",
      "\n",
      "                                        5\n",
      "\n",
      "                              4\n",
      "\n",
      "                    3\n",
      "\n",
      "          2\n",
      "\n",
      "1\n"
     ]
    }
   ],
   "source": [
    "def flatten(root):\n",
    "    \"\"\"\n",
    "    \n",
    "    PLAN:\n",
    "    1. Recursive approach. Flatten left tree, L, and right tree, R\n",
    "    2. Then root.right = L, with R stitched on at the end of L\n",
    "    \"\"\"\n",
    "    \n",
    "    \n",
    "    #Terminal\n",
    "    if root is None:\n",
    "        return\n",
    "    \n",
    "    #Nonterminal\n",
    "    if root:\n",
    "        flatten(root.left)\n",
    "        flatten(root.right)\n",
    "        \n",
    "        #If there is a left sub-tree\n",
    "        #Then attach the right sub-tree to it\n",
    "        #For that I need the tail\n",
    "        if root.left:\n",
    "            tailOfL = root.left\n",
    "            while tailOfL.right:\n",
    "                tailOfL = tailOfL.right\n",
    "        \n",
    "            #Then attach to right subtree\n",
    "            tailOfL.right = root.right\n",
    "\n",
    "            #Then reset the tree\n",
    "            root.right = root.left\n",
    "            root.left = None\n",
    "        \n",
    "    return root\n",
    "\n",
    "\n",
    "root = flatten(root)\n",
    "print2D(root)"
   ]
  },
  {
   "cell_type": "markdown",
   "metadata": {},
   "source": [
    "### Collect values\n",
    "\n",
    "Not sure how to do this one recursively..."
   ]
  },
  {
   "cell_type": "code",
   "execution_count": 349,
   "metadata": {},
   "outputs": [
    {
     "name": "stdout",
     "output_type": "stream",
     "text": [
      "\n",
      "          5\n",
      "\n",
      "                    6\n",
      "\n",
      "1\n",
      "\n",
      "                    4\n",
      "\n",
      "          2\n",
      "\n",
      "                    3\n"
     ]
    },
    {
     "data": {
      "text/plain": [
       "[1, 2, 3, 4, 5, 6]"
      ]
     },
     "execution_count": 349,
     "metadata": {},
     "output_type": "execute_result"
    }
   ],
   "source": [
    "L = [1,2,5,3,4,6]\n",
    "root = insertLevelOrder(L)\n",
    "print2D(root)\n",
    "\n",
    "def collectPreOrder(root):\n",
    "    \"\"\" DFS. Can control the order of reversal by adding \n",
    "        The left or right nodes first.\n",
    "    \"\"\"\n",
    "    \n",
    "    vals = []\n",
    "    queue = [root]\n",
    "    while queue:\n",
    "        node = queue.pop(-1)\n",
    "        vals.append(node.val)\n",
    "        if node:\n",
    "            if node.right:\n",
    "                queue.append(node.right)\n",
    "            if node.left:\n",
    "                queue.append(node.left)\n",
    "    return vals\n",
    "\n",
    "vals = collectPreOrder(root)\n",
    "vals"
   ]
  },
  {
   "cell_type": "markdown",
   "metadata": {},
   "source": [
    "### Reverse linked list"
   ]
  },
  {
   "cell_type": "code",
   "execution_count": 68,
   "metadata": {},
   "outputs": [
    {
     "name": "stdout",
     "output_type": "stream",
     "text": [
      "1\n",
      "2\n",
      "3\n",
      "4\n",
      "5\n",
      "6\n",
      "7\n",
      "8\n",
      "9\n"
     ]
    }
   ],
   "source": [
    "class Node:\n",
    "    def __init__(self,val=None):\n",
    "        self.val = val\n",
    "        self.next = None\n",
    "        \n",
    "def printLL(head):\n",
    "    dummy = head\n",
    "    while dummy:\n",
    "        print(dummy.val)\n",
    "        dummy = dummy.next\n",
    "        \n",
    "\n",
    "def reverse(head):\n",
    "    \"\"\" \n",
    "    PLAN:\n",
    "    1. Define current and next\n",
    "    2. Set next.next = curr\n",
    "    3. Iterate over one place\n",
    "    \"\"\"\n",
    "    \n",
    "    dummy = head\n",
    "    \n",
    "    prev, curr, nxt = dummy, dummy.next, dummy.next.next\n",
    "    #print('prev,curr,next = {},{},{}'.format(prev.val,curr.val,nxt.val))\n",
    "    prev.next = None\n",
    "    while nxt:\n",
    "        curr.next = prev #reverse link\n",
    "        prev = curr\n",
    "        curr = nxt\n",
    "        nxt = nxt.next\n",
    "        try:\n",
    "            pass\n",
    "            #print('prev,curr,next = {},{},{}'.format(prev.val,curr.val,nxt.val))\n",
    "        except: ValueError\n",
    "    curr.next = prev\n",
    "    return curr\n",
    "\n",
    "#Fill up\n",
    "head = Node(9)\n",
    "vals = [1,2,3,4,5,6,7,8][::-1]\n",
    "dummy = head\n",
    "for val in vals:\n",
    "    dummy.next = Node(val)\n",
    "    dummy = dummy.next\n",
    "\n",
    "#reverse\n",
    "head = reverse(head)\n",
    "\n",
    "#print\n",
    "printLL(head)"
   ]
  },
  {
   "cell_type": "markdown",
   "metadata": {},
   "source": [
    "### Remove n'th node from end of linked list"
   ]
  },
  {
   "cell_type": "code",
   "execution_count": 85,
   "metadata": {},
   "outputs": [
    {
     "ename": "AttributeError",
     "evalue": "'NoneType' object has no attribute 'val'",
     "output_type": "error",
     "traceback": [
      "\u001b[0;31m---------------------------------------------------------------------------\u001b[0m",
      "\u001b[0;31mAttributeError\u001b[0m                            Traceback (most recent call last)",
      "\u001b[0;32m<ipython-input-85-3cd6a10fe9c7>\u001b[0m in \u001b[0;36m<module>\u001b[0;34m\u001b[0m\n\u001b[1;32m     27\u001b[0m     \u001b[0mfast\u001b[0m \u001b[0;34m=\u001b[0m \u001b[0mfast\u001b[0m\u001b[0;34m.\u001b[0m\u001b[0mnext\u001b[0m\u001b[0;34m\u001b[0m\u001b[0;34m\u001b[0m\u001b[0m\n\u001b[1;32m     28\u001b[0m     \u001b[0mslow\u001b[0m \u001b[0;34m=\u001b[0m \u001b[0mslow\u001b[0m\u001b[0;34m.\u001b[0m\u001b[0mnext\u001b[0m\u001b[0;34m\u001b[0m\u001b[0;34m\u001b[0m\u001b[0m\n\u001b[0;32m---> 29\u001b[0;31m \u001b[0mprint\u001b[0m\u001b[0;34m(\u001b[0m\u001b[0;34m'slow,fast = {}'\u001b[0m\u001b[0;34m.\u001b[0m\u001b[0mformat\u001b[0m\u001b[0;34m(\u001b[0m\u001b[0mslow\u001b[0m\u001b[0;34m.\u001b[0m\u001b[0mval\u001b[0m\u001b[0;34m,\u001b[0m\u001b[0mfast\u001b[0m\u001b[0;34m.\u001b[0m\u001b[0mval\u001b[0m\u001b[0;34m)\u001b[0m\u001b[0;34m)\u001b[0m\u001b[0;34m\u001b[0m\u001b[0;34m\u001b[0m\u001b[0m\n\u001b[0m\u001b[1;32m     30\u001b[0m \u001b[0;34m\u001b[0m\u001b[0m\n\u001b[1;32m     31\u001b[0m \u001b[0;31m#edge case: slow = prev\u001b[0m\u001b[0;34m\u001b[0m\u001b[0;34m\u001b[0m\u001b[0;34m\u001b[0m\u001b[0m\n",
      "\u001b[0;31mAttributeError\u001b[0m: 'NoneType' object has no attribute 'val'"
     ]
    }
   ],
   "source": [
    "import numpy as np\n",
    "head = Node(1)\n",
    "vals = [2]\n",
    "dummy = head\n",
    "for val in vals:\n",
    "    dummy.next = Node(val)\n",
    "    dummy = dummy.next\n",
    "head\n",
    "\n",
    "n = 2\n",
    "slow, fast = head, head\n",
    "\n",
    "prev = Node(0)\n",
    "prev.next = head\n",
    "slow,fast = prev,prev\n",
    "\n",
    "#move fast to position n\n",
    "ctr = 0\n",
    "while ctr <= n:\n",
    "    fast = fast.next\n",
    "    ctr += 1\n",
    "    \n",
    "#move fast and slow until fast gets to end\n",
    "#then slow is at L - n - 1 -- before val\n",
    "#we want to delete\n",
    "while fast:\n",
    "    fast = fast.next\n",
    "    slow = slow.next\n",
    "print('slow,fast = {}'.format(slow.val,fast.val))\n",
    "\n",
    "#edge case: slow = prev\n",
    "if slow == prev:\n",
    "    \n",
    "\n",
    "#then delta\n",
    "if slow.next.next:\n",
    "    slow.next = slow.next.next\n",
    "else:\n",
    "    slow.next = None"
   ]
  },
  {
   "cell_type": "markdown",
   "metadata": {},
   "source": [
    "### Delete duplicats from sorted linked list"
   ]
  },
  {
   "cell_type": "code",
   "execution_count": 117,
   "metadata": {},
   "outputs": [
    {
     "name": "stdout",
     "output_type": "stream",
     "text": [
      "True\n",
      "True\n",
      "True\n",
      "True\n",
      "True\n"
     ]
    }
   ],
   "source": [
    "import numpy as np\n",
    "\n",
    "def printLL(head):\n",
    "    dummy = head\n",
    "    while dummy:\n",
    "        print(dummy.val)\n",
    "        dummy = dummy.next\n",
    "\n",
    "\n",
    "def makeLL(vals):\n",
    "    \n",
    "    #edge case\n",
    "    if not vals:\n",
    "        return Node(None)\n",
    "        \n",
    "    head = Node(vals[0])\n",
    "    dummy = head\n",
    "    for val in vals[1:]:\n",
    "        dummy.next = Node(val)\n",
    "        dummy = dummy.next\n",
    "    return head\n",
    "\n",
    "def identical(head1,head2):\n",
    "    while head1:\n",
    "        if head1.val != head2.val:\n",
    "            return False\n",
    "        head1 = head1.next\n",
    "        head2 = head2.next\n",
    "    if head2 is not None:\n",
    "        return False\n",
    "    return True\n",
    "\n",
    "\n",
    "def deleteDuplicates(head):\n",
    "    \n",
    "    \"\"\"\n",
    "    PLAN:\n",
    "    1. Keep two pointers, p1 goes through the list\n",
    "    2. Then other, p2, starts from p1 and moves until no more duplicates\n",
    "    3. Then p1.next = p2\n",
    "    \"\"\"\n",
    "    \n",
    "    p1,p2 = head,head\n",
    "    while p1 and p1.next:\n",
    "        p2 = p1\n",
    "        while p2 and p2.val == p1.val:\n",
    "            p2 = p2.next\n",
    "        p1.next = p2\n",
    "        p1 = p1.next\n",
    "    return head\n",
    "\n",
    "\n",
    "\n",
    "def test():\n",
    "    l1 = makeLL([1,2,2,3,3,4,5])\n",
    "    ans1 = makeLL([1,2,3,4,5])\n",
    "    out = deleteDuplicates(l1)\n",
    "    print(identical(l1,out))\n",
    "    \n",
    "    l1 = makeLL([1,2])\n",
    "    ans1 = makeLL([1,2])\n",
    "    out = deleteDuplicates(l1)\n",
    "    print(identical(l1,out))\n",
    "    \n",
    "    \n",
    "    l1 = makeLL([1])\n",
    "    ans1 = makeLL([1])\n",
    "    out = deleteDuplicates(l1)\n",
    "    print(identical(l1,out))\n",
    "    \n",
    "    l1 = makeLL([])\n",
    "    ans1 = makeLL([])\n",
    "    out = deleteDuplicates(l1)\n",
    "    print(identical(l1,out))\n",
    "    \n",
    "    l1 = makeLL([1,1,1,1,1,1])\n",
    "    ans1 = makeLL([1])\n",
    "    out = deleteDuplicates(l1)\n",
    "    print(identical(l1,out))\n",
    "    \n",
    "test()"
   ]
  },
  {
   "cell_type": "code",
   "execution_count": 296,
   "metadata": {},
   "outputs": [
    {
     "name": "stdout",
     "output_type": "stream",
     "text": [
      "True\n",
      "True\n",
      "True\n",
      "True\n",
      "True\n",
      "True\n"
     ]
    }
   ],
   "source": [
    "def find_start(ptr):\n",
    "    \"\"\" assumes ptr is BEFORE\n",
    "        part of the duplicate block\n",
    "    \"\"\"\n",
    "    \n",
    "    curr, nxt = ptr, ptr.next\n",
    "    while nxt:\n",
    "        \n",
    "        #edge case [curr,nxt]\n",
    "        if nxt.next is None:\n",
    "            return None\n",
    "        \n",
    "        #non edge case [curr,nxt,x1,x2,..]\n",
    "        if nxt.val == nxt.next.val:\n",
    "            return curr\n",
    "        curr = nxt\n",
    "        nxt = nxt.next\n",
    "    return None\n",
    "\n",
    "\n",
    "def find_end(start_of_block):\n",
    "    \"\"\" \n",
    "    There are two cases:\n",
    "    \n",
    "    (i) [2,2,2,3,4,5]\n",
    "    (ii) [2,2,2,3,3,4,5]\n",
    "    \n",
    "    The first is handled by dummy.val == dummy.next.val   (end = 3)\n",
    "    The second is by dummy.next.val == dummy.next.next.val (end = 4)\n",
    "    \n",
    "    Edge cases?\n",
    "    \n",
    "    [2,2,3]\n",
    "    \n",
    "    \n",
    "    \"\"\"\n",
    "    \n",
    "    dummy = start_of_block\n",
    "    while dummy.val == dummy.next.val or dummy.next.val == dummy.next.next.val:\n",
    "        \n",
    "        #edde cases, say [2,3] or [2,2]\n",
    "        if dummy.next.next is None:\n",
    "            if dummy.val == dummy.next.val:\n",
    "                return None\n",
    "            else:\n",
    "                return dummy.next\n",
    "            \n",
    "        dummy = dummy.next\n",
    "        \n",
    "    #dummy is now on the last legal element\n",
    "    #which is the last duplicate\n",
    "    #so return the one after that\n",
    "    return dummy.next\n",
    "\n",
    "\n",
    "def deleteDuplicates1(head):\n",
    "    \n",
    "    \"\"\"\n",
    "    \n",
    "    Same as above, except we want to remove\n",
    "    ALL of the elements which have duplicates\n",
    "    (along with the duplicates themselves)\n",
    "    \n",
    "    PLAN:\n",
    "    1. Need to find start and end of duplicate block\n",
    "    2. Where by start I mean node BEFORE block, and end I mean the one AFTER\n",
    "    \n",
    "    \"\"\"\n",
    "    \n",
    "    prev = Node(0)\n",
    "    prev.next = head\n",
    "    ptr = prev\n",
    "    \n",
    "    #edge case: [] [1]\n",
    "    if head is None or head.next is None:\n",
    "        return head\n",
    "    \n",
    "\n",
    "    #edge case when start with block: [2,2,3,4,5]\n",
    "    if head.val == head.next.val:\n",
    "        start = prev\n",
    "        end = find_end(start.next)\n",
    "        head = end\n",
    "        ptr = start\n",
    "        \n",
    "        if end is None:  #covers [1,1]\n",
    "            return Node(None)\n",
    "    \n",
    "    while ptr:\n",
    "\n",
    "        start = find_start(ptr)\n",
    "        if start == None:\n",
    "            break\n",
    "            \n",
    "        end = find_end(start.next)\n",
    "        start.next = end\n",
    "        ptr = start\n",
    "    return head\n",
    "\n",
    "        \n",
    "\n",
    "def test():\n",
    "    \n",
    "    x = makeLL([1,2,2,3,3,4,5])\n",
    "    ans = makeLL([1,4,5])\n",
    "    out = deleteDuplicates1(x)\n",
    "    print(identical(ans,out))\n",
    "    \n",
    "    x = makeLL([2,2,3,3,4,5])\n",
    "    ans = makeLL([4,5])\n",
    "    out = deleteDuplicates1(x)\n",
    "    print(identical(ans,out))\n",
    "    \n",
    "    x = makeLL([1,2])\n",
    "    ans = makeLL([1,2])\n",
    "    out = deleteDuplicates1(x)\n",
    "    print(identical(ans,out))\n",
    "    \n",
    "    \n",
    "    x = makeLL([1])\n",
    "    ans = makeLL([1])\n",
    "    out = deleteDuplicates1(x)\n",
    "    print(identical(ans,out))\n",
    "    \n",
    "    x = makeLL([])\n",
    "    ans = makeLL([])\n",
    "    out = deleteDuplicates1(x)\n",
    "    print(identical(ans,out))\n",
    "    \n",
    "    x = makeLL([1,1,1,1])\n",
    "    ans = makeLL([])\n",
    "    out = deleteDuplicates1(x)\n",
    "    print(identical(ans,out))\n",
    "    \n",
    "    \n",
    "test()"
   ]
  },
  {
   "cell_type": "markdown",
   "metadata": {},
   "source": [
    "### Palindromic string partitionings\n",
    "\n",
    "Am I really sure how the yield works?"
   ]
  },
  {
   "cell_type": "code",
   "execution_count": 8,
   "metadata": {},
   "outputs": [
    {
     "data": {
      "text/plain": [
       "[['a', 'a', 'b'], ['aa', 'b']]"
      ]
     },
     "execution_count": 8,
     "metadata": {},
     "output_type": "execute_result"
    }
   ],
   "source": [
    "def partitions(s):\n",
    "    if len(s) == 0:\n",
    "        yield []\n",
    "    else:\n",
    "        for i in range(1,len(s)+1):\n",
    "            start,end = s[:i], s[i:]\n",
    "            for p in partitions(end):\n",
    "                if isPalindrome(start):\n",
    "                    yield [start] + p\n",
    "                \n",
    "\n",
    "def isPalindrome(s):\n",
    "    return s == s[::-1]\n",
    "\n",
    "s = 'aab'\n",
    "list(partitions(s))"
   ]
  },
  {
   "cell_type": "code",
   "execution_count": 19,
   "metadata": {},
   "outputs": [],
   "source": [
    "def partitions(s,path):\n",
    "    if len(s) == 0:\n",
    "        return []\n",
    "    else:\n",
    "        for i in range(1,len(s)+1):\n",
    "            start,end = s[:i], s[i:]\n",
    "            for p in partitions(end, [start] + p):\n",
    "                return"
   ]
  },
  {
   "cell_type": "code",
   "execution_count": 11,
   "metadata": {},
   "outputs": [
    {
     "data": {
      "text/plain": [
       "[1, 2, 3, 4, 5]"
      ]
     },
     "execution_count": 11,
     "metadata": {},
     "output_type": "execute_result"
    }
   ],
   "source": [
    "l = [1,2,3]\n",
    "l.extend([4,5])\n",
    "l"
   ]
  },
  {
   "cell_type": "code",
   "execution_count": 17,
   "metadata": {},
   "outputs": [
    {
     "name": "stdout",
     "output_type": "stream",
     "text": [
      "[]\n",
      "[3]\n",
      "[2, 3]\n"
     ]
    },
    {
     "data": {
      "text/plain": [
       "6"
      ]
     },
     "execution_count": 17,
     "metadata": {},
     "output_type": "execute_result"
    }
   ],
   "source": [
    "def f(n,path):\n",
    "    if n == 0:\n",
    "        return 1\n",
    "    else:\n",
    "        return n*f(n-1,[n] + path)\n",
    "    \n",
    "f(3,[])"
   ]
  },
  {
   "cell_type": "markdown",
   "metadata": {},
   "source": [
    "### DFS"
   ]
  },
  {
   "cell_type": "code",
   "execution_count": 88,
   "metadata": {},
   "outputs": [
    {
     "name": "stdout",
     "output_type": "stream",
     "text": [
      "Start = A\n",
      "Start = B\n",
      "Start = C\n",
      "Start = D\n",
      "Start = E\n"
     ]
    },
    {
     "data": {
      "text/plain": [
       "''"
      ]
     },
     "execution_count": 88,
     "metadata": {},
     "output_type": "execute_result"
    }
   ],
   "source": [
    "def DFS(g, start, goal, explored, path):\n",
    "    \n",
    "    \"\"\" Returns path from v to goal in g as a string (Hack) \"\"\"\n",
    "    \n",
    "    explored.add(start)\n",
    "    print('Start = {}'.format(start))\n",
    "    if start == goal:\n",
    "        return path + [start]\n",
    "    else:\n",
    "        neighbours = set(g[start]) - explored\n",
    "        for n in neighbours:\n",
    "            new_start, new_path = n, path + [n]\n",
    "            #print('node, goal, path = {}, {}, {}'.format(n,goal,path))\n",
    "            p = DFS(g,new_start,goal,explored,path + [start])\n",
    "            #print('node, goal, path = {}, {}, {}'.format(n,goal,path))\n",
    "            #if p:\n",
    "            #    return p\n",
    "        return ''\n",
    "            \n",
    "\n",
    "\n",
    "g = {'A': ['B', 'C'],\n",
    "    'B': ['H'],\n",
    "    'C': ['D'],\n",
    "    'D': ['E'],\n",
    "    'E': []}\n",
    "\n",
    "\n",
    "p = DFS(g,'A','B',set([]),[])\n",
    "p"
   ]
  },
  {
   "cell_type": "code",
   "execution_count": 94,
   "metadata": {},
   "outputs": [
    {
     "data": {
      "text/plain": [
       "['A', 'B', 'H']"
      ]
     },
     "execution_count": 94,
     "metadata": {},
     "output_type": "execute_result"
    }
   ],
   "source": [
    "def DFS(g, start, goal, explored, path):\n",
    "    \n",
    "    \"\"\" Returns path from v to goal in g as a string (Hack) \"\"\"\n",
    "    \n",
    "    explored.add(start)\n",
    "    neighbours = set(g[start]) - explored\n",
    "    \n",
    "    if start == goal:\n",
    "        return path + [start]\n",
    "    \n",
    "    elif len(neighbours) == 0:\n",
    "        return ''\n",
    "    \n",
    "    else:\n",
    "        for n in neighbours:\n",
    "            new_start, new_path = n, path + [n]\n",
    "            p = DFS(g,new_start,goal,explored,path + [start])\n",
    "            \n",
    "            #Everything after here is at bottom of recursion tree\n",
    "            #So p will either be \"\" or a non-empty list\n",
    "            if p != '':  # '' means dead end\n",
    "                return p\n",
    "\n",
    "\n",
    "g = {'A': ['B', 'C'],\n",
    "    'B': ['H'],\n",
    "    'C': ['D'],\n",
    "    'D': ['E'],\n",
    "    'E': [],\n",
    "    'H': []}\n",
    "\n",
    "\n",
    "p = DFS(g,'A','H',set([]),[])\n",
    "p"
   ]
  },
  {
   "cell_type": "markdown",
   "metadata": {},
   "source": [
    "### Binary search"
   ]
  },
  {
   "cell_type": "code",
   "execution_count": 8,
   "metadata": {},
   "outputs": [
    {
     "data": {
      "text/plain": [
       "1"
      ]
     },
     "execution_count": 8,
     "metadata": {},
     "output_type": "execute_result"
    }
   ],
   "source": [
    "def binary_search(L,target):\n",
    "    left, right = 0, len(L)-1\n",
    "    while left <= right:\n",
    "        mid = (right + left) // 2 \n",
    "        if L[mid] == target:\n",
    "            return mid\n",
    "        elif L[mid] < target:\n",
    "            left = mid + 1\n",
    "        else:\n",
    "            right = mid - 1\n",
    "        #print('L,R = {},{}'.format(left,right))\n",
    "    return -1\n",
    "\n",
    "L = [1,2,3,4,9,20]\n",
    "target = 2\n",
    "binary_search(L,target)"
   ]
  },
  {
   "cell_type": "code",
   "execution_count": 38,
   "metadata": {},
   "outputs": [
    {
     "name": "stdout",
     "output_type": "stream",
     "text": [
      "left, right, mid = 0, 2, 1\n",
      "left, right, mid = 2, 2, 1\n"
     ]
    },
    {
     "data": {
      "text/plain": [
       "(2, 3)"
      ]
     },
     "execution_count": 38,
     "metadata": {},
     "output_type": "execute_result"
    }
   ],
   "source": [
    "def find_peak(L):\n",
    "    left, right = 0, len(L) - 1\n",
    "\n",
    "    while left < right:\n",
    "        mid = (right + left) // 2\n",
    "        print('left, right, mid = {}, {}, {}'.format(left,right,mid))\n",
    "        \n",
    "        #Seach right interval if L[mid+1] > L\n",
    "        if L[mid] > L[mid+1]: right = mid   #not mid - 1, because it is th epeak\n",
    "        else: left = mid + 1\n",
    "            \n",
    "    print('left, right, mid = {}, {}, {}'.format(left,right,mid))            \n",
    "    return left, L[left]\n",
    "\n",
    "L = [1,2,1,3,5,6,4]\n",
    "L = [1]\n",
    "L = []\n",
    "L = [1,2,3]\n",
    "find_peak(L)"
   ]
  },
  {
   "cell_type": "code",
   "execution_count": 72,
   "metadata": {},
   "outputs": [
    {
     "name": "stdout",
     "output_type": "stream",
     "text": [
      "start,rest,test1 = a,cat,True\n",
      "start,rest,test1 = c,at,False\n",
      "start,rest,test1 = a,t,True\n"
     ]
    },
    {
     "data": {
      "text/plain": [
       "False"
      ]
     },
     "execution_count": 72,
     "metadata": {},
     "output_type": "execute_result"
    }
   ],
   "source": [
    "def solve(s,wordDict):      \n",
    "    if len(s) == 1:\n",
    "        if s in wordDict:\n",
    "            return True\n",
    "        else:\n",
    "            return False\n",
    "    else:\n",
    "        for i in range(1,len(s)):\n",
    "            start, rest = s[:i], s[i:]  # s[0], s[1:end] and s[:end] and s[end:]\n",
    "            test1 = start in wordDict\n",
    "            test2 = solve(rest,wordDict)\n",
    "            return test1 and test2\n",
    "        \n",
    "s = 'acat'\n",
    "wordDict = ['a','cat']\n",
    "solve(s,wordDict)"
   ]
  },
  {
   "cell_type": "code",
   "execution_count": 68,
   "metadata": {},
   "outputs": [
    {
     "name": "stdout",
     "output_type": "stream",
     "text": [
      "start,rest = a,cat\n",
      "start,rest = ac,at\n",
      "start,rest = aca,t\n"
     ]
    }
   ],
   "source": [
    "s = 'acat'\n",
    "for i in range(1,len(s)):\n",
    "    print('start,rest = {},{}'.format(s[:i],s[i:]))"
   ]
  },
  {
   "cell_type": "code",
   "execution_count": 5,
   "metadata": {},
   "outputs": [
    {
     "data": {
      "text/plain": [
       "'nivek'"
      ]
     },
     "execution_count": 5,
     "metadata": {},
     "output_type": "execute_result"
    }
   ],
   "source": [
    "def reverse(s):\n",
    "    \"\"\"\n",
    "    \"\"\"\n",
    "    if len(s) == 1:\n",
    "        return s[0]\n",
    "    else:\n",
    "        last, rest = s[-1], s[:-1]\n",
    "        return last + reverse(rest)\n",
    "    \n",
    "s = 'kevin'\n",
    "reverse(s)"
   ]
  },
  {
   "cell_type": "code",
   "execution_count": 11,
   "metadata": {},
   "outputs": [
    {
     "data": {
      "text/plain": [
       "['abc', 'bac', 'bca', 'acb', 'cab', 'cba']"
      ]
     },
     "execution_count": 11,
     "metadata": {},
     "output_type": "execute_result"
    }
   ],
   "source": [
    "def perms(s):\n",
    "    \"\"\"\n",
    "    IDEAS:\n",
    "    \n",
    "    1. s = 'abc', perms = ['abc','acb','bac','cab','bca','cba']\n",
    "       which is a at every index in perm(bc)\n",
    "    \n",
    "    \"\"\"\n",
    "    \n",
    "    if len(s) == 1:\n",
    "        yield s\n",
    "    else:\n",
    "        first, rest = s[0], s[1:]\n",
    "        for perm in perms(rest):\n",
    "            for i in range(len(perm)+1):\n",
    "                new_perm = perm[:i] + first + perm[i:]\n",
    "                yield new_perm\n",
    "                \n",
    "s = 'abc'\n",
    "list(perms(s))"
   ]
  },
  {
   "cell_type": "code",
   "execution_count": 14,
   "metadata": {},
   "outputs": [
    {
     "data": {
      "text/plain": [
       "['100110', '101110', '100111', '101111']"
      ]
     },
     "execution_count": 14,
     "metadata": {},
     "output_type": "execute_result"
    }
   ],
   "source": [
    "def perms(s):\n",
    "    if len(s) == 1:\n",
    "        if s[0] == '?':\n",
    "            for num in ['0','1']:\n",
    "                yield num\n",
    "        else:\n",
    "            yield s[0]\n",
    "    else:\n",
    "        first, rest = s[0], s[1:]\n",
    "        for perm in perms(rest):\n",
    "            if first == '?':\n",
    "                for num in ['0','1']:\n",
    "                    yield num + perm\n",
    "            else:\n",
    "                yield first + perm\n",
    "\n",
    "\n",
    "s = '10?11?'\n",
    "#s = '?1?'\n",
    "list(perms(s))"
   ]
  },
  {
   "cell_type": "code",
   "execution_count": 21,
   "metadata": {},
   "outputs": [
    {
     "data": {
      "text/plain": [
       "[['a', 'b', 'b'], ['a', 'bb']]"
      ]
     },
     "execution_count": 21,
     "metadata": {},
     "output_type": "execute_result"
    }
   ],
   "source": [
    "def isPalindrome(s):\n",
    "    return s == s[::-1]\n",
    "\n",
    "def partitions(s):\n",
    "    \"\"\"\n",
    "    'ab'\n",
    "    \"\"\"\n",
    "    if len(s) == 0:\n",
    "        yield 1\n",
    "    if len(s) == 1:\n",
    "        yield [s]\n",
    "    else:\n",
    "        for i in range(1,len(s)+1):\n",
    "            start, rest = s[:i], s[i:]\n",
    "            if isPalindrome(start):\n",
    "                for part in partitions(rest):\n",
    "                    if part == 1:\n",
    "                        yield [start]\n",
    "                    else:\n",
    "                        yield [start] + part\n",
    "                \n",
    "s = 'abb'\n",
    "list(partitions(s))"
   ]
  },
  {
   "cell_type": "code",
   "execution_count": 26,
   "metadata": {},
   "outputs": [
    {
     "data": {
      "text/plain": [
       "True"
      ]
     },
     "execution_count": 26,
     "metadata": {},
     "output_type": "execute_result"
    }
   ],
   "source": [
    "def isPalindrome(s):\n",
    "    if len(s) == 1:\n",
    "        return True\n",
    "    else:\n",
    "        first, middle, last = s[0], s[1:-1], s[-1]\n",
    "        return first == last and isPalindrome(middle)\n",
    "\n",
    "s = 'cabac'\n",
    "isPalindrome(s)"
   ]
  },
  {
   "cell_type": "code",
   "execution_count": 27,
   "metadata": {},
   "outputs": [
    {
     "ename": "IndexError",
     "evalue": "string index out of range",
     "output_type": "error",
     "traceback": [
      "\u001b[0;31m---------------------------------------------------------------------------\u001b[0m",
      "\u001b[0;31mIndexError\u001b[0m                                Traceback (most recent call last)",
      "\u001b[0;32m<ipython-input-27-002e597b0e5e>\u001b[0m in \u001b[0;36m<module>\u001b[0;34m\u001b[0m\n\u001b[1;32m      9\u001b[0m \u001b[0ms\u001b[0m \u001b[0;34m=\u001b[0m \u001b[0;34m'this is a test'\u001b[0m\u001b[0;34m\u001b[0m\u001b[0;34m\u001b[0m\u001b[0m\n\u001b[1;32m     10\u001b[0m \u001b[0mp\u001b[0m \u001b[0;34m=\u001b[0m \u001b[0;34m'is'\u001b[0m\u001b[0;34m\u001b[0m\u001b[0;34m\u001b[0m\u001b[0m\n\u001b[0;32m---> 11\u001b[0;31m \u001b[0msub\u001b[0m\u001b[0;34m(\u001b[0m\u001b[0ms\u001b[0m\u001b[0;34m,\u001b[0m\u001b[0mp\u001b[0m\u001b[0;34m)\u001b[0m\u001b[0;34m\u001b[0m\u001b[0;34m\u001b[0m\u001b[0m\n\u001b[0m",
      "\u001b[0;32m<ipython-input-27-002e597b0e5e>\u001b[0m in \u001b[0;36msub\u001b[0;34m(s, p)\u001b[0m\n\u001b[1;32m      4\u001b[0m     \u001b[0;32mfor\u001b[0m \u001b[0mi\u001b[0m \u001b[0;32min\u001b[0m \u001b[0mrange\u001b[0m\u001b[0;34m(\u001b[0m\u001b[0mlen\u001b[0m\u001b[0;34m(\u001b[0m\u001b[0ms\u001b[0m\u001b[0;34m)\u001b[0m\u001b[0;34m)\u001b[0m\u001b[0;34m:\u001b[0m\u001b[0;34m\u001b[0m\u001b[0;34m\u001b[0m\u001b[0m\n\u001b[1;32m      5\u001b[0m         \u001b[0;32mif\u001b[0m \u001b[0ms\u001b[0m\u001b[0;34m[\u001b[0m\u001b[0mi\u001b[0m\u001b[0;34m]\u001b[0m \u001b[0;34m==\u001b[0m \u001b[0mp\u001b[0m\u001b[0;34m[\u001b[0m\u001b[0;36m0\u001b[0m\u001b[0;34m]\u001b[0m\u001b[0;34m:\u001b[0m\u001b[0;34m\u001b[0m\u001b[0;34m\u001b[0m\u001b[0m\n\u001b[0;32m----> 6\u001b[0;31m             \u001b[0;32mreturn\u001b[0m \u001b[0msub\u001b[0m\u001b[0;34m(\u001b[0m\u001b[0ms\u001b[0m\u001b[0;34m[\u001b[0m\u001b[0mi\u001b[0m\u001b[0;34m+\u001b[0m\u001b[0;36m1\u001b[0m\u001b[0;34m]\u001b[0m\u001b[0;34m,\u001b[0m\u001b[0mp\u001b[0m\u001b[0;34m[\u001b[0m\u001b[0;36m1\u001b[0m\u001b[0;34m:\u001b[0m\u001b[0;34m]\u001b[0m\u001b[0;34m)\u001b[0m\u001b[0;34m\u001b[0m\u001b[0;34m\u001b[0m\u001b[0m\n\u001b[0m\u001b[1;32m      7\u001b[0m     \u001b[0;32mreturn\u001b[0m \u001b[0;32mFalse\u001b[0m\u001b[0;34m\u001b[0m\u001b[0;34m\u001b[0m\u001b[0m\n\u001b[1;32m      8\u001b[0m \u001b[0;34m\u001b[0m\u001b[0m\n",
      "\u001b[0;32m<ipython-input-27-002e597b0e5e>\u001b[0m in \u001b[0;36msub\u001b[0;34m(s, p)\u001b[0m\n\u001b[1;32m      4\u001b[0m     \u001b[0;32mfor\u001b[0m \u001b[0mi\u001b[0m \u001b[0;32min\u001b[0m \u001b[0mrange\u001b[0m\u001b[0;34m(\u001b[0m\u001b[0mlen\u001b[0m\u001b[0;34m(\u001b[0m\u001b[0ms\u001b[0m\u001b[0;34m)\u001b[0m\u001b[0;34m)\u001b[0m\u001b[0;34m:\u001b[0m\u001b[0;34m\u001b[0m\u001b[0;34m\u001b[0m\u001b[0m\n\u001b[1;32m      5\u001b[0m         \u001b[0;32mif\u001b[0m \u001b[0ms\u001b[0m\u001b[0;34m[\u001b[0m\u001b[0mi\u001b[0m\u001b[0;34m]\u001b[0m \u001b[0;34m==\u001b[0m \u001b[0mp\u001b[0m\u001b[0;34m[\u001b[0m\u001b[0;36m0\u001b[0m\u001b[0;34m]\u001b[0m\u001b[0;34m:\u001b[0m\u001b[0;34m\u001b[0m\u001b[0;34m\u001b[0m\u001b[0m\n\u001b[0;32m----> 6\u001b[0;31m             \u001b[0;32mreturn\u001b[0m \u001b[0msub\u001b[0m\u001b[0;34m(\u001b[0m\u001b[0ms\u001b[0m\u001b[0;34m[\u001b[0m\u001b[0mi\u001b[0m\u001b[0;34m+\u001b[0m\u001b[0;36m1\u001b[0m\u001b[0;34m]\u001b[0m\u001b[0;34m,\u001b[0m\u001b[0mp\u001b[0m\u001b[0;34m[\u001b[0m\u001b[0;36m1\u001b[0m\u001b[0;34m:\u001b[0m\u001b[0;34m]\u001b[0m\u001b[0;34m)\u001b[0m\u001b[0;34m\u001b[0m\u001b[0;34m\u001b[0m\u001b[0m\n\u001b[0m\u001b[1;32m      7\u001b[0m     \u001b[0;32mreturn\u001b[0m \u001b[0;32mFalse\u001b[0m\u001b[0;34m\u001b[0m\u001b[0;34m\u001b[0m\u001b[0m\n\u001b[1;32m      8\u001b[0m \u001b[0;34m\u001b[0m\u001b[0m\n",
      "\u001b[0;31mIndexError\u001b[0m: string index out of range"
     ]
    }
   ],
   "source": [
    "def sub(s,p):\n",
    "    if len(p) == 0:\n",
    "        return True\n",
    "    else:\n",
    "    for i in range(len(s)):\n",
    "        if s[i] == p[0]:\n",
    "            return sub(s[i+1],p[1:])\n",
    "    return False\n",
    "\n",
    "s = 'this is a test'\n",
    "p = 'is'\n",
    "sub(s,p)"
   ]
  },
  {
   "cell_type": "code",
   "execution_count": null,
   "metadata": {},
   "outputs": [],
   "source": []
  }
 ],
 "metadata": {
  "kernelspec": {
   "display_name": "Python 3",
   "language": "python",
   "name": "python3"
  },
  "language_info": {
   "codemirror_mode": {
    "name": "ipython",
    "version": 3
   },
   "file_extension": ".py",
   "mimetype": "text/x-python",
   "name": "python",
   "nbconvert_exporter": "python",
   "pygments_lexer": "ipython3",
   "version": "3.7.1"
  }
 },
 "nbformat": 4,
 "nbformat_minor": 2
}
