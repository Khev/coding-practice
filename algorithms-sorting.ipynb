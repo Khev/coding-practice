{
 "cells": [
  {
   "cell_type": "markdown",
   "metadata": {},
   "source": [
    "# Introduction\n",
    "\n",
    "Standard sorting algorithms\n",
    "\n",
    "\n",
    "#### Selection sort   $O(n^2)$"
   ]
  },
  {
   "cell_type": "code",
   "execution_count": 5,
   "metadata": {},
   "outputs": [],
   "source": [
    "def selectionSort(L):\n",
    "    \n",
    "    for i in range(len(L)):\n",
    "        \n",
    "        #Find index of minimum in unsorted array (0 onwards)\n",
    "        index_min = i\n",
    "        for j in range(i+1,len(L)):\n",
    "            if L[j] < L[index_min]:\n",
    "                index_min = j\n",
    "                \n",
    "        #Swap\n",
    "        L[i], L[index_min] = L[index_min], L[i]\n",
    "        \n",
    "L = [10,5,1,7,3,11]\n",
    "selectionSort(L)"
   ]
  },
  {
   "cell_type": "markdown",
   "metadata": {},
   "source": [
    "#### Insertion sort    $O(n^2)$"
   ]
  },
  {
   "cell_type": "code",
   "execution_count": 10,
   "metadata": {},
   "outputs": [
    {
     "data": {
      "text/plain": [
       "[1, 3, 5, 7, 10, 11]"
      ]
     },
     "execution_count": 10,
     "metadata": {},
     "output_type": "execute_result"
    }
   ],
   "source": [
    "def insertionSort(L):\n",
    "    \n",
    "    for i in range(1,len(L)):\n",
    "        \n",
    "        #Insert L[i] into array (0, ..., i-1)\n",
    "        key = L[i]\n",
    "        j = i-1\n",
    "        for j in range(i-1,-1,-1):\n",
    "            if L[j] > L[j+1]:\n",
    "                L[j], L[j+1] = L[j+1], L[j]\n",
    "            else:\n",
    "                break\n",
    "        \n",
    "L = [10,5,1,7,3,11]\n",
    "insertionSort(L)\n",
    "L"
   ]
  },
  {
   "cell_type": "markdown",
   "metadata": {},
   "source": [
    "#### Heapsort\n",
    "\n",
    "Like selection sort, but uses a heap --> find minimum in log(n) time\n",
    "\n",
    "See https://www.geeksforgeeks.org/heap-sort/\n",
    "\n",
    "Complexity: O(n log n)\n",
    "\n",
    "You can build your heap in O(n). Then you pop elements off, one at a time, each taking O(log n) time."
   ]
  },
  {
   "cell_type": "code",
   "execution_count": 15,
   "metadata": {},
   "outputs": [],
   "source": [
    "def heapify(L,n,i):\n",
    "    \"\"\"\n",
    "    Heapify a list L of length n with node at root i\n",
    "    \"\"\"\n",
    "  \n",
    "    #Find largest among root, left child and right child\n",
    "    largest = i\n",
    "    l = 2*i + 1\n",
    "    r = 2*i + 2\n",
    "    \n",
    "    #Check left and make sure it exists\n",
    "    if l < n and L[l] > L[largest]:\n",
    "        largest = l\n",
    "    \n",
    "    #Check right\n",
    "    if r < n and L[r] > L[largest]:\n",
    "        largest = r\n",
    "        \n",
    "    #Check if there's a swap needed \n",
    "    if largest != i:\n",
    "        L[largest], L[i] = L[i], L[largest]  #do the swap\n",
    "        heapify(L,n,largest)                 #recurse -- after swapping, you might have disturbed the tree\n",
    "        \n",
    "        \n",
    "def heapSort(L):\n",
    "    \n",
    "    #make a heap: start at bottom and heapify\n",
    "    n = len(L)\n",
    "    for i in range(n-1,-1,-1):\n",
    "        heapify(L,n,i)\n",
    "    \n",
    "    #do selection sort\n",
    "    for i in range(n-1,0,-1):\n",
    "        \n",
    "        #swap max and 'last' -- last being at index i\n",
    "        L[i], L[0] = L[0], L[i]\n",
    "        \n",
    "        #heapify everything on [0,i-1], which the swap made not a heap \n",
    "        heapify(L,i,0)\n",
    "        \n",
    "L = [5,3,8,1,2]\n",
    "heapSort(L)"
   ]
  },
  {
   "cell_type": "markdown",
   "metadata": {},
   "source": [
    "#### Merge sort\n",
    "\n",
    "Time: O(n log n)\n",
    "Space: O(N)\n",
    "\n",
    "Good for sorting linked lists"
   ]
  },
  {
   "cell_type": "code",
   "execution_count": 5,
   "metadata": {},
   "outputs": [
    {
     "data": {
      "text/plain": [
       "[1, 3, 5, 9, 11]"
      ]
     },
     "execution_count": 5,
     "metadata": {},
     "output_type": "execute_result"
    }
   ],
   "source": [
    "def merge(x1,x2):\n",
    "    \"\"\"\n",
    "    Problem with this method: python does things under the hood when I'm pop(0).\n",
    "    Also, the append has to free up space\n",
    "    \"\"\"\n",
    "    \n",
    "    out = []\n",
    "    \n",
    "    #Peel off until one is empty\n",
    "    while x1 and x2:\n",
    "        if x1[0] < x2[0]:\n",
    "            out.append(x1.pop(0))\n",
    "        else:\n",
    "            out.append(x2.pop(0))\n",
    "    \n",
    "    #Then attach the non-empty one\n",
    "    if x1:\n",
    "        out += x1\n",
    "    if x2:\n",
    "        out += x2\n",
    "        \n",
    "    return out\n",
    "\n",
    "\n",
    "\n",
    "def merge(x1,x2):\n",
    "    \"\"\"\n",
    "    This case is easy\n",
    "    \"\"\"\n",
    "    \n",
    "    merged = [0 for i in range(len(x1)+len(x2))]\n",
    "    \n",
    "    i = 0 #position in x1\n",
    "    j = 0 #position in x2\n",
    "    k = 0 #position in mergemd\n",
    "    \n",
    "    #Scan x1 and x2 until you get to end of one of them\n",
    "    while i < len(x1) and j < len(x2):\n",
    "        if x1[i] <= x2[j]:\n",
    "            merged[k] = x1[i]\n",
    "            i += 1\n",
    "            k += 1\n",
    "        else:\n",
    "            merged[k] = x2[j]\n",
    "            j += 1\n",
    "            k += 1\n",
    "            \n",
    "    print('i, j = {}, {}'.format(i,j))\n",
    "    \n",
    "    #Then scan non empty one\n",
    "    if i < len(x1):\n",
    "        merged[k] = x1[i]\n",
    "        i += 1\n",
    "        k += 1\n",
    "        \n",
    "    if j < len(x2):\n",
    "        merged[k] = x2[j]\n",
    "        j += 1\n",
    "        k += 1\n",
    "        \n",
    "    return merged\n",
    "\n",
    "\n",
    "def mergeSort(x):\n",
    "    if len(x) == 1:\n",
    "        return x\n",
    "    else:\n",
    "        mid = len(x) // 2\n",
    "        L, R = x[:mid], x[mid:]\n",
    "        return merge(mergeSort(L), mergeSort(R))\n",
    "\n",
    "x = [5,1,11,9,3]\n",
    "x = mergeSort(x)\n",
    "x"
   ]
  },
  {
   "cell_type": "markdown",
   "metadata": {},
   "source": [
    "For linked lists, (tested in the data-structures files)"
   ]
  },
  {
   "cell_type": "code",
   "execution_count": 64,
   "metadata": {},
   "outputs": [],
   "source": [
    "def mergeLists(l1,l2):\n",
    "    \n",
    "    #Edge cases\n",
    "    if not l1:\n",
    "        return l2\n",
    "    if not l2:\n",
    "        return l1\n",
    "    \n",
    "    #Get head of sorted list\n",
    "    if l1.val < l2.val:\n",
    "        head_sorted = l1\n",
    "        l1 = l1.next\n",
    "    else:\n",
    "        head_sorted = l2\n",
    "        l2 = l2.next\n",
    "        \n",
    "    #Main while loop\n",
    "    temp = head_sorted\n",
    "    while l1 and l2:\n",
    "        if l1.val < l2.val:\n",
    "            temp.next = l1\n",
    "            l1 = l1.next\n",
    "            temp = temp.next\n",
    "        else:\n",
    "            temp.next = l2\n",
    "            l2 = l2.next\n",
    "            temp = temp.next\n",
    "            \n",
    "    #Catch bits at end\n",
    "    temp.next = l1 or l2  #i.e attach the non empty one\n",
    "    \n",
    "    return head_sorted\n",
    "\n",
    "\n",
    "def mergeSort(head):\n",
    "    \n",
    "    #Edge case\n",
    "    if head is None or head.next is None:\n",
    "        return head\n",
    "    \n",
    "    #Find midpoint\n",
    "    slow,fast = head, head.next\n",
    "    while fast and fast.next:\n",
    "        slow = slow.next\n",
    "        fast = fast.next.next\n",
    "        \n",
    "    #Now split the second half\n",
    "    head2 = slow.next\n",
    "    slow.next = None\n",
    "    \n",
    "    #Now merge these two lists\n",
    "    sortedL = mergeSort(head)\n",
    "    sortedR = mergeSort(head2)\n",
    "    return mergeLists(sortedL, sortedR)"
   ]
  },
  {
   "cell_type": "markdown",
   "metadata": {},
   "source": [
    "#### Quicksort\n",
    "\n",
    "Complexity: O(n^2) worst case, but faster in practice --> O(n log n)"
   ]
  },
  {
   "cell_type": "code",
   "execution_count": 58,
   "metadata": {},
   "outputs": [
    {
     "data": {
      "text/plain": [
       "[1, 3, 6, 7, 9, 11]"
      ]
     },
     "execution_count": 58,
     "metadata": {},
     "output_type": "execute_result"
    }
   ],
   "source": [
    "def partition(x,l,h):\n",
    "    \"\"\"\n",
    "    Does two things:\n",
    "    \n",
    "    1. Finds the index of the pivot, p, in the SORTED array\n",
    "    2. Partitions x such that everything to left of p is smaller than p (but not necessarily sorted)\n",
    "       and everything to the right of p is larger than p. The benefit of this is that now you can \n",
    "       use divide and conquer.\n",
    "    \"\"\"\n",
    "    \n",
    "    index_pivot = h  #index of pivot\n",
    "    x_pivot = x[index_pivot]\n",
    "    \n",
    "    low = l-1  #index of last element in left partiton\n",
    "    for i in range(l,h):\n",
    "        if x[i] < x_pivot:\n",
    "            low += 1\n",
    "            x[i], x[low] = x[low], x[i]\n",
    "            \n",
    "    #swap pivot\n",
    "    x[index_pivot], x[low+1] = x[low+1], x[index_pivot]\n",
    "    return low + 1  #position of pivot\n",
    "\n",
    "\n",
    "def quickSort(x,l,h):\n",
    "    \n",
    "    if l <= h:\n",
    "        p = partition(x,l,h)\n",
    "        quickSort(x,l,p-1)\n",
    "        quickSort(x,p+1,h)\n",
    "    \n",
    "x = [7,9,1,11,3,6]\n",
    "l, h = 0, len(x)-1\n",
    "quickSort(x,0,h)\n",
    "x"
   ]
  }
 ],
 "metadata": {
  "kernelspec": {
   "display_name": "Python 3",
   "language": "python",
   "name": "python3"
  },
  "language_info": {
   "codemirror_mode": {
    "name": "ipython",
    "version": 3
   },
   "file_extension": ".py",
   "mimetype": "text/x-python",
   "name": "python",
   "nbconvert_exporter": "python",
   "pygments_lexer": "ipython3",
   "version": "3.7.1"
  }
 },
 "nbformat": 4,
 "nbformat_minor": 2
}
