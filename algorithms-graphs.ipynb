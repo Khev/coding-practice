{
 "cells": [
  {
   "cell_type": "markdown",
   "metadata": {},
   "source": [
    "# Introduction\n",
    "\n",
    "Basic graph algotims\n",
    "\n",
    "### BFS"
   ]
  },
  {
   "cell_type": "code",
   "execution_count": 1,
   "metadata": {},
   "outputs": [
    {
     "name": "stdout",
     "output_type": "stream",
     "text": [
      "[1]\n",
      "[2, 3, 6]\n",
      "[3, 6]\n",
      "[6, 4, 5, 6]\n",
      "[4, 5, 6]\n",
      "[5, 6]\n"
     ]
    },
    {
     "data": {
      "text/plain": [
       "True"
      ]
     },
     "execution_count": 1,
     "metadata": {},
     "output_type": "execute_result"
    }
   ],
   "source": [
    "import numpy as np\n",
    "import networkx as nx\n",
    "\n",
    "def BFS(G,start,end):\n",
    "    \n",
    "    queue = [start]\n",
    "    visited = set([])\n",
    "    while queue:\n",
    "        print(queue)\n",
    "        node = queue.pop(0)   #take from top\n",
    "        if node == end:\n",
    "            return True\n",
    "        if node not in visited: \n",
    "            visited.add(node)\n",
    "            new_neighbours = set(dict(G[node]).keys()) - visited\n",
    "            for n in new_neighbours:\n",
    "                queue.append(n)\n",
    "    return False\n",
    "\n",
    "G = nx.Graph()\n",
    "edges = [(1,2),(1,3),(3,4),(3,5),(3,6),(1,6)]\n",
    "G.add_edges_from(edges)\n",
    "nx.draw(G)\n",
    "\n",
    "BFS(G,1,5)"
   ]
  },
  {
   "cell_type": "code",
   "execution_count": 2,
   "metadata": {},
   "outputs": [
    {
     "data": {
      "text/plain": [
       "[1, 3, 5]"
      ]
     },
     "execution_count": 2,
     "metadata": {},
     "output_type": "execute_result"
    }
   ],
   "source": [
    "def shortestPathBFS(G,start,end):\n",
    "    \n",
    "    queue = [(start,[start])]  #[ (node,[node1,node2,...]) ]\n",
    "    visited = set([])\n",
    "    while queue:\n",
    "        (node,path) = queue.pop(0)   #take from top\n",
    "        if node == end:\n",
    "            return path\n",
    "        if node not in visited: \n",
    "            visited.add(node)\n",
    "            new_neighbours = set(dict(G[node]).keys()) - visited\n",
    "            for n in new_neighbours:\n",
    "                queue.append((n,path+[n]))\n",
    "    return False\n",
    "\n",
    "#Make graph\n",
    "G = nx.Graph()\n",
    "edges = [(1,2),(1,3),(3,4),(3,5),(3,6),(1,6)]\n",
    "G.add_edges_from(edges)\n",
    "\n",
    "path = shortestPathBFS(G,1,5)\n",
    "path"
   ]
  },
  {
   "cell_type": "markdown",
   "metadata": {},
   "source": [
    "### Find all cc's"
   ]
  },
  {
   "cell_type": "code",
   "execution_count": 3,
   "metadata": {},
   "outputs": [
    {
     "data": {
      "text/plain": [
       "[[0, 1, 2, 3, 4, 5, 6, 7, 8, 9, 10, 11, 12, 13, 14, 15, 16, 18, 19], [17]]"
      ]
     },
     "execution_count": 3,
     "metadata": {},
     "output_type": "execute_result"
    }
   ],
   "source": [
    "import networkx as nx\n",
    "\n",
    "def find_cc(G,start):\n",
    "    queue = [start]\n",
    "    visited = set([])\n",
    "    while queue:\n",
    "        node = queue.pop(0)\n",
    "        if node not in visited:\n",
    "            visited.add(node)\n",
    "            neighbours = set(list(G[node].keys()))\n",
    "            new_neighbours = neighbours - visited\n",
    "            for n in new_neighbours:\n",
    "                queue.append(n)\n",
    "    return visited\n",
    "\n",
    "\n",
    "def find_all_ccs(G):\n",
    "    all_nodes = set(list(G.nodes()))\n",
    "    ccs = []\n",
    "    while all_nodes:\n",
    "        start = all_nodes.pop()\n",
    "        visited = find_cc(G,start)\n",
    "        ccs.append(list(visited))\n",
    "        all_nodes = all_nodes - visited\n",
    "    return ccs\n",
    "        \n",
    "\n",
    "N,p = 20, 0.1\n",
    "G = nx.erdos_renyi_graph(N,p)\n",
    "ccs = find_all_ccs(G)\n",
    "ccs"
   ]
  },
  {
   "cell_type": "markdown",
   "metadata": {},
   "source": [
    "### DFS -- recursive"
   ]
  },
  {
   "cell_type": "code",
   "execution_count": 8,
   "metadata": {},
   "outputs": [
    {
     "data": {
      "text/plain": [
       "True"
      ]
     },
     "execution_count": 8,
     "metadata": {},
     "output_type": "execute_result"
    }
   ],
   "source": [
    "def dfs(G, start, goal, visited):\n",
    "    if start == goal:\n",
    "        return True\n",
    "    else:\n",
    "        new_visited = visited + [start]\n",
    "        neighbours = list(G[start])\n",
    "        for n in neighbours:\n",
    "            if n not in new_visited:\n",
    "                return dfs(G, n, goal, new_visited)\n",
    "    return False\n",
    "\n",
    "\n",
    "N,p = 20, 0.4\n",
    "G = nx.erdos_renyi_graph(N,p)\n",
    "dfs(G,5,10,[])"
   ]
  },
  {
   "cell_type": "markdown",
   "metadata": {},
   "source": [
    "### Topological sort\n",
    "\n",
    "\n",
    "In a directed acylic graph, every directed edge, (u,v), u comes before v in the ordering. This ordering is not unique. \n",
    "\n",
    "See https://stackoverflow.com/questions/47192626/deceptively-simple-implementation-of-topological-sorting-in-python\n",
    "\n",
    "Below work for starting at one end"
   ]
  },
  {
   "cell_type": "code",
   "execution_count": 6,
   "metadata": {},
   "outputs": [
    {
     "data": {
      "text/plain": [
       "[5, 2, 3, 1, 0]"
      ]
     },
     "execution_count": 6,
     "metadata": {},
     "output_type": "execute_result"
    }
   ],
   "source": [
    "def dfs(G,start):\n",
    "    \n",
    "    result = [start]\n",
    "    visited = set([])\n",
    "    \n",
    "    def helper(G,start):\n",
    "        for n in set(G[start]) - visited:\n",
    "            visited.add(n)\n",
    "            result.append(n)\n",
    "            helper(G,n)\n",
    "            \n",
    "    helper(G,5)\n",
    "    return result\n",
    "\n",
    "\n",
    "def topological_sort(G,start):\n",
    "    \n",
    "    result = []\n",
    "    visited = set([])\n",
    "    \n",
    "    def helper(G,start):\n",
    "        for n in set(G[start]) - visited:\n",
    "            visited.add(n)\n",
    "            helper(G,n)\n",
    "        result.insert(0,start)\n",
    "        \n",
    "    helper(G,5)\n",
    "    return result\n",
    "                            \n",
    "\n",
    "G = nx.DiGraph() \n",
    "G.add_edge(5, 2); \n",
    "G.add_edge(5, 0); \n",
    "G.add_edge(4, 0); \n",
    "G.add_edge(4, 1); \n",
    "G.add_edge(2, 3); \n",
    "G.add_edge(3, 1);\n",
    "\n",
    "topological_sort(G,5)"
   ]
  },
  {
   "cell_type": "code",
   "execution_count": 7,
   "metadata": {},
   "outputs": [
    {
     "name": "stdout",
     "output_type": "stream",
     "text": [
      "node = 5\n",
      "node = 2\n",
      "node = 0\n",
      "node = 4\n",
      "node = 1\n",
      "node = 3\n"
     ]
    },
    {
     "data": {
      "text/plain": [
       "[4, 5, 2, 3, 1, 0]"
      ]
     },
     "execution_count": 7,
     "metadata": {},
     "output_type": "execute_result"
    }
   ],
   "source": [
    "def topological_sort(G):\n",
    "    \n",
    "    #visited list\n",
    "    visited = set()\n",
    "    stack = []\n",
    "    \n",
    "    def helper(G,node):\n",
    "        for n in set(G[node]) - visited:\n",
    "            visited.add(n)\n",
    "            helper(G,n)\n",
    "        stack.insert(0,node)\n",
    "        \n",
    "    for node in G.nodes():\n",
    "        print('node = {}'.format(node))\n",
    "        if node not in visited:\n",
    "            helper(G,node)\n",
    "    \n",
    "    return stack\n",
    "\n",
    "G = nx.DiGraph() \n",
    "G.add_edge(5, 2); \n",
    "G.add_edge(5, 0); \n",
    "G.add_edge(4, 0); \n",
    "G.add_edge(4, 1); \n",
    "G.add_edge(2, 3); \n",
    "G.add_edge(3, 1);\n",
    "topological_sort(G)"
   ]
  },
  {
   "cell_type": "markdown",
   "metadata": {},
   "source": [
    "## Detect cycle in directed graph\n",
    "\n",
    "Q -- same for undirected? For undirected, there is a union-find algorithm which is faster\n",
    "\n",
    "#### Recursive"
   ]
  },
  {
   "cell_type": "code",
   "execution_count": 21,
   "metadata": {},
   "outputs": [
    {
     "data": {
      "text/plain": [
       "False"
      ]
     },
     "execution_count": 21,
     "metadata": {},
     "output_type": "execute_result"
    }
   ],
   "source": [
    "def isCycle(G):\n",
    "    recStack = {n:False for n in G.keys()}\n",
    "    visited = set()\n",
    "    \n",
    "    def helper(G,node,visited,recStack):\n",
    "        visited.add(node)\n",
    "        recStack[node] = True\n",
    "        for n in G[node]:\n",
    "            if n not in visited:\n",
    "                if helper(G,n,visited,recStack): return True\n",
    "            elif n in recStack:\n",
    "                return True\n",
    "            \n",
    "        recStack[node] = False\n",
    "        return False\n",
    "                \n",
    "    #main\n",
    "    for node in G.keys():\n",
    "        if node not in visited:\n",
    "            if helper(G,node,visited,recStack):\n",
    "                return True\n",
    "            \n",
    "    return False\n",
    "    \n",
    "G = {'a':['b'],'b':['c'],'c':['d'],'d':[]}\n",
    "isCycle(G)"
   ]
  },
  {
   "cell_type": "markdown",
   "metadata": {},
   "source": [
    "#### Iterative"
   ]
  },
  {
   "cell_type": "code",
   "execution_count": 24,
   "metadata": {},
   "outputs": [
    {
     "data": {
      "text/plain": [
       "True"
      ]
     },
     "execution_count": 24,
     "metadata": {},
     "output_type": "execute_result"
    }
   ],
   "source": [
    "def isCycle(G):\n",
    "    visited = set()\n",
    "    \n",
    "    def helper(G,node):\n",
    "        stack = [(node,[node])]\n",
    "        while stack:\n",
    "            node, path = stack.pop(-1)\n",
    "            visited.add(node)\n",
    "            for n in G[node]:\n",
    "                if n in path:\n",
    "                    return True\n",
    "                if n not in visited:\n",
    "                    stack.append((n,path+[n]))\n",
    "        return False\n",
    "    \n",
    "    for node in G.keys():\n",
    "        if node not in visited:\n",
    "            if helper(G,node):\n",
    "                return True\n",
    "    return False\n",
    "\n",
    "G = {'a':['b'],'b':['c'],'c':['a'],'d':[]}\n",
    "isCycle(G)"
   ]
  },
  {
   "cell_type": "markdown",
   "metadata": {},
   "source": [
    "### Find articulation points\n",
    "\n",
    "This one is complicated, see below resources\n",
    "\n",
    "https://www.geeksforgeeks.org/articulation-points-or-cut-vertices-in-a-graph/\n",
    "\n",
    "https://www.youtube.com/watch?v=2kREIkF9UAs"
   ]
  },
  {
   "cell_type": "code",
   "execution_count": 42,
   "metadata": {},
   "outputs": [
    {
     "name": "stdout",
     "output_type": "stream",
     "text": [
      "2\n"
     ]
    }
   ],
   "source": [
    "def findAP(G):\n",
    "    \n",
    "    #Parameters\n",
    "    time = 0\n",
    "    ap = {node:False for node in G.nodes()}\n",
    "    low = {node:0 for node in G.nodes()}\n",
    "    disc = {node:0 for node in G.nodes()}\n",
    "    visited = {node:0 for node in G.nodes()}\n",
    "    parent = {node:None for node in G.nodes() } \n",
    "    \n",
    "\n",
    "    def helper(u, visited, ap, parent, low, disc, time):\n",
    "\n",
    "        #update\n",
    "        disc[u] = time\n",
    "        low[u] = time\n",
    "        visited[u] = True\n",
    "        children = 0\n",
    "        time += 1\n",
    "        \n",
    "        #iterate over neighbours\n",
    "        for v in G[u]:\n",
    "        \n",
    "            #if not visited\n",
    "            if visited[v] == False:\n",
    "                parent[v] = u\n",
    "                children += 1\n",
    "                helper(v, visited, ap, parent, low, disc, time)\n",
    "                \n",
    "                #Check if subtree rooted with v has a connection\n",
    "                #to one of the ancestors of u\n",
    "                low[u] = min(low[u], low[v])\n",
    "                \n",
    "                #Condition 1 for being AP:\n",
    "                if parent[u] == None and children > 2:\n",
    "                    ap[u] = True\n",
    "                \n",
    "                #Condition 2 for being AP:\n",
    "                if parent[u] != None and disc[u] <= low[v]:\n",
    "                    ap[u] = True\n",
    "                \n",
    "            #update the low vals\n",
    "            elif v != parent[u]:\n",
    "                low[u] = min(low[u], disc[v])\n",
    "                \n",
    "    #print('time = {}'.format(time))\n",
    "    for node in G.nodes():\n",
    "        if visited[node] == False:\n",
    "            helper(node, visited, ap, parent, low, disc, time)\n",
    "            \n",
    "    for index,val in ap.items():\n",
    "        if val == True: print(index)\n",
    "            \n",
    "            \n",
    "import networkx as nx\n",
    "%matplotlib inline\n",
    "G = nx.Graph()\n",
    "G.add_nodes_from([1,2,3])\n",
    "G.add_edges_from([[1,2],[2,3]])\n",
    "\n",
    "findAP(G)"
   ]
  },
  {
   "cell_type": "code",
   "execution_count": null,
   "metadata": {},
   "outputs": [],
   "source": []
  }
 ],
 "metadata": {
  "kernelspec": {
   "display_name": "Python 3",
   "language": "python",
   "name": "python3"
  },
  "language_info": {
   "codemirror_mode": {
    "name": "ipython",
    "version": 3
   },
   "file_extension": ".py",
   "mimetype": "text/x-python",
   "name": "python",
   "nbconvert_exporter": "python",
   "pygments_lexer": "ipython3",
   "version": "3.7.3"
  }
 },
 "nbformat": 4,
 "nbformat_minor": 2
}
