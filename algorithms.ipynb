{
 "cells": [
  {
   "cell_type": "markdown",
   "metadata": {},
   "source": [
    "# Introduction\n",
    "\n",
    "Implemeting data structures from Skienna\n",
    "\n",
    "## Sorting\n",
    "\n",
    "\n",
    "#### Heapsort\n",
    "\n",
    "See https://www.geeksforgeeks.org/heap-sort/\n",
    "\n",
    "Complexity: O(n log n)\n",
    "\n",
    "You can build your heap in O(n). Then you pop elements off, one at a time, each taking O(log n) time."
   ]
  },
  {
   "cell_type": "code",
   "execution_count": 10,
   "metadata": {},
   "outputs": [
    {
     "data": {
      "text/plain": [
       "[1, 2, 3, 5, 8]"
      ]
     },
     "execution_count": 10,
     "metadata": {},
     "output_type": "execute_result"
    }
   ],
   "source": [
    "def heapify(L,n,i):\n",
    "    \n",
    "    largest = i\n",
    "    l = 2*i + 1\n",
    "    r = 2*i + 2\n",
    "    \n",
    "    #check if left exist and is larger\n",
    "    if l < n and L[l] > L[i]:\n",
    "        largest = l\n",
    "        \n",
    "    #check if right exists and is larger\n",
    "    if r < n and L[r] > L[largest]:\n",
    "        largest = r\n",
    "        \n",
    "    #swap\n",
    "    if i != largest:\n",
    "        L[i], L[largest] = L[largest], L[i]\n",
    "        heapify(L,n,largest)  #only recurse if there is a swap\n",
    "        \n",
    "        \n",
    "def heapSort(L):\n",
    "    \n",
    "    #make a max heap\n",
    "    n = len(L)\n",
    "    for i in range(n,-1,-1):\n",
    "        heapify(L,n,i)\n",
    "\n",
    "    #do the swapping\n",
    "    for i in range(n-1,0,-1):\n",
    "        L[0], L[i] = L[i], L[0]  #largest now at end\n",
    "        heapify(L,i,0)           #don't touch the sorted part\n",
    "        \n",
    "        \n",
    "L = [5,3,8,1,2]\n",
    "heapSort(L)\n",
    "L"
   ]
  },
  {
   "cell_type": "markdown",
   "metadata": {},
   "source": [
    "#### Merge sort\n",
    "\n",
    "Time: O(n log n)\n",
    "Space: O(N)\n",
    "\n",
    "Good for sorting linked lists"
   ]
  },
  {
   "cell_type": "code",
   "execution_count": 39,
   "metadata": {},
   "outputs": [
    {
     "data": {
      "text/plain": [
       "[1, 3, 5, 9, 11]"
      ]
     },
     "execution_count": 39,
     "metadata": {},
     "output_type": "execute_result"
    }
   ],
   "source": [
    "def merge(x1,x2):\n",
    "    \"\"\"\n",
    "    merges two sorted lists\n",
    "    \"\"\"\n",
    "    \n",
    "    out = []\n",
    "    \n",
    "    #Peel off until one is empty\n",
    "    while x1 and x2:\n",
    "        if x1[0] < x2[0]:\n",
    "            out.append(x1.pop(0))\n",
    "        else:\n",
    "            out.append(x2.pop(0))\n",
    "    \n",
    "    #Then attach the non-empty one\n",
    "    if x1:\n",
    "        out += x1\n",
    "    if x2:\n",
    "        out += x2\n",
    "        \n",
    "    return out\n",
    "\n",
    "\n",
    "def mergeSort(x):\n",
    "    if len(x) == 1:\n",
    "        return x\n",
    "    else:\n",
    "        mid = len(x) // 2\n",
    "        L, R = x[:mid], x[mid:]\n",
    "        return merge(mergeSort(L), mergeSort(R))\n",
    "\n",
    "x = [5,1,11,9,3]\n",
    "x = mergeSort(x)\n",
    "x"
   ]
  },
  {
   "cell_type": "markdown",
   "metadata": {},
   "source": [
    "For linked lists, (tested in the data-structures files)"
   ]
  },
  {
   "cell_type": "code",
   "execution_count": 64,
   "metadata": {},
   "outputs": [],
   "source": [
    "def mergeLists(l1,l2):\n",
    "    \n",
    "    #Edge cases\n",
    "    if not l1:\n",
    "        return l2\n",
    "    if not l2:\n",
    "        return l1\n",
    "    \n",
    "    #Get head of sorted list\n",
    "    if l1.val < l2.val:\n",
    "        head_sorted = l1\n",
    "        l1 = l1.next\n",
    "    else:\n",
    "        head_sorted = l2\n",
    "        l2 = l2.next\n",
    "        \n",
    "    #Main while loop\n",
    "    temp = head_sorted\n",
    "    while l1 and l2:\n",
    "        if l1.val < l2.val:\n",
    "            temp.next = l1\n",
    "            l1 = l1.next\n",
    "            temp = temp.next\n",
    "        else:\n",
    "            temp.next = l2\n",
    "            l2 = l2.next\n",
    "            temp = temp.next\n",
    "            \n",
    "    #Catch bits at end\n",
    "    temp.next = l1 or l2  #i.e attach the non empty one\n",
    "    \n",
    "    return head_sorted\n",
    "\n",
    "\n",
    "def mergeSort(head):\n",
    "    \n",
    "    #Edge case\n",
    "    if head is None or head.next is None:\n",
    "        return head\n",
    "    \n",
    "    #Find midpoint\n",
    "    slow,fast = head, head.next\n",
    "    while fast and fast.next:\n",
    "        slow = slow.next\n",
    "        fast = fast.next.next\n",
    "        \n",
    "    #Now split the second half\n",
    "    head2 = slow.next\n",
    "    slow.next = None\n",
    "    \n",
    "    #Now merge these two lists\n",
    "    sortedL = mergeSort(head)\n",
    "    sortedR = mergeSort(head2)\n",
    "    return mergeLists(sortedL, sortedR)"
   ]
  },
  {
   "cell_type": "markdown",
   "metadata": {},
   "source": [
    "#### Quicksort\n",
    "\n",
    "Complexity: O(n^2) worst case, but faster in practice"
   ]
  },
  {
   "cell_type": "code",
   "execution_count": 58,
   "metadata": {},
   "outputs": [
    {
     "data": {
      "text/plain": [
       "[1, 3, 6, 7, 9, 11]"
      ]
     },
     "execution_count": 58,
     "metadata": {},
     "output_type": "execute_result"
    }
   ],
   "source": [
    "def partition(x,l,h):\n",
    "    \"\"\"\n",
    "    Does two things:\n",
    "    \n",
    "    1. Finds the index of the pivot, p, in the sorted array\n",
    "    2. Partitions x such that everything to left of p is smaller than p (but not necessarily sorted)\n",
    "       and everything to the right of p is larger than p. The benefit of this is that now you can \n",
    "       use divide and conquer.\n",
    "    \"\"\"\n",
    "    \n",
    "    index_pivot = h  #index of pivot\n",
    "    x_pivot = x[index_pivot]\n",
    "    \n",
    "    low = l-1  #index of last element in left partiton\n",
    "    for i in range(l,h):\n",
    "        if x[i] < x_pivot:\n",
    "            low += 1\n",
    "            x[i], x[low] = x[low], x[i]\n",
    "            \n",
    "    #swap pivot\n",
    "    x[index_pivot], x[low+1] = x[low+1], x[index_pivot]\n",
    "    return low + 1  #position of pivot\n",
    "\n",
    "\n",
    "def quickSort(x,l,h):\n",
    "    \n",
    "    if l <= h:\n",
    "        p = partition(x,l,h)\n",
    "        quickSort(x,l,p-1)\n",
    "        quickSort(x,p+1,h)\n",
    "    \n",
    "x = [7,9,1,11,3,6]\n",
    "l, h = 0, len(x)-1\n",
    "quickSort(x,0,h)\n",
    "x"
   ]
  },
  {
   "cell_type": "markdown",
   "metadata": {},
   "source": [
    "## Graph\n",
    "\n",
    "### BFS"
   ]
  },
  {
   "cell_type": "code",
   "execution_count": 36,
   "metadata": {},
   "outputs": [
    {
     "name": "stdout",
     "output_type": "stream",
     "text": [
      "[1]\n",
      "[2, 3, 6]\n",
      "[3, 6]\n",
      "[6, 4, 5, 6]\n",
      "[4, 5, 6]\n",
      "[5, 6]\n"
     ]
    },
    {
     "data": {
      "text/plain": [
       "True"
      ]
     },
     "execution_count": 36,
     "metadata": {},
     "output_type": "execute_result"
    },
    {
     "data": {
      "image/png": "[encoded data removed]",
      "text/plain": [
       "<Figure size 432x288 with 1 Axes>"
      ]
     },
     "metadata": {},
     "output_type": "display_data"
    }
   ],
   "source": [
    "import numpy as np\n",
    "import networkx as nx\n",
    "\n",
    "def BFS(G,start,end):\n",
    "    \n",
    "    queue = [start]\n",
    "    visited = set([])\n",
    "    while queue:\n",
    "        print(queue)\n",
    "        node = queue.pop(0)   #take from top\n",
    "        if node == end:\n",
    "            return True\n",
    "        if node not in visited: \n",
    "            visited.add(node)\n",
    "            new_neighbours = set(dict(G[node]).keys()) - visited\n",
    "            for n in new_neighbours:\n",
    "                queue.append(n)\n",
    "    return False\n",
    "\n",
    "G = nx.Graph()\n",
    "edges = [(1,2),(1,3),(3,4),(3,5),(3,6),(1,6)]\n",
    "G.add_edges_from(edges)\n",
    "nx.draw(G)\n",
    "\n",
    "BFS(G,1,5)"
   ]
  },
  {
   "cell_type": "code",
   "execution_count": 44,
   "metadata": {},
   "outputs": [
    {
     "data": {
      "text/plain": [
       "[1, 3, 5]"
      ]
     },
     "execution_count": 44,
     "metadata": {},
     "output_type": "execute_result"
    }
   ],
   "source": [
    "def shortestPathBFS(G,start,end):\n",
    "    \n",
    "    queue = [(start,[start])]  #[ (node,[node1,node2,...]) ]\n",
    "    visited = set([])\n",
    "    while queue:\n",
    "        (node,path) = queue.pop(0)   #take from top\n",
    "        if node == end:\n",
    "            return path\n",
    "        if node not in visited: \n",
    "            visited.add(node)\n",
    "            new_neighbours = set(dict(G[node]).keys()) - visited\n",
    "            for n in new_neighbours:\n",
    "                queue.append((n,path+[n]))\n",
    "    return False\n",
    "\n",
    "#Make graph\n",
    "G = nx.Graph()\n",
    "edges = [(1,2),(1,3),(3,4),(3,5),(3,6),(1,6)]\n",
    "G.add_edges_from(edges)\n",
    "\n",
    "path = shortestPathBFS(G,1,5)\n",
    "path"
   ]
  },
  {
   "cell_type": "code",
   "execution_count": 2,
   "metadata": {},
   "outputs": [
    {
     "data": {
      "text/plain": [
       "[[0, 1, 2, 3, 6, 7, 8, 9, 11, 13, 14, 15, 16, 17, 18, 19],\n",
       " [10],\n",
       " [5],\n",
       " [12],\n",
       " [4]]"
      ]
     },
     "execution_count": 2,
     "metadata": {},
     "output_type": "execute_result"
    }
   ],
   "source": [
    "import networkx as nx\n",
    "%matplotlib inline\n",
    "\n",
    "def find_cc(G,start):\n",
    "    queue = [start]\n",
    "    visited = set([])\n",
    "    while queue:\n",
    "        node = queue.pop(0)\n",
    "        if node not in visited:\n",
    "            visited.add(node)\n",
    "            neighbours = set(list(G[node].keys()))\n",
    "            new_neighbours = neighbours - visited\n",
    "            for n in new_neighbours:\n",
    "                queue.append(n)\n",
    "    return visited\n",
    "\n",
    "\n",
    "def find_all_ccs(G):\n",
    "    all_nodes = set(list(G.nodes()))\n",
    "    ccs = []\n",
    "    while all_nodes:\n",
    "        start = all_nodes.pop()\n",
    "        visited = find_cc(G,start)\n",
    "        ccs.append(list(visited))\n",
    "        all_nodes = all_nodes - visited\n",
    "    return ccs\n",
    "        \n",
    "\n",
    "N,p = 20, 0.1\n",
    "G = nx.erdos_renyi_graph(N,p)\n",
    "ccs = find_all_ccs(G)\n",
    "ccs"
   ]
  },
  {
   "cell_type": "code",
   "execution_count": null,
   "metadata": {},
   "outputs": [],
   "source": []
  }
 ],
 "metadata": {
  "kernelspec": {
   "display_name": "Python 3",
   "language": "python",
   "name": "python3"
  },
  "language_info": {
   "codemirror_mode": {
    "name": "ipython",
    "version": 3
   },
   "file_extension": ".py",
   "mimetype": "text/x-python",
   "name": "python",
   "nbconvert_exporter": "python",
   "pygments_lexer": "ipython3",
   "version": "3.7.3"
  }
 },
 "nbformat": 4,
 "nbformat_minor": 2
}
