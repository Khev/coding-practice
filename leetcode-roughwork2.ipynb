{
 "cells": [
  {
   "cell_type": "markdown",
   "metadata": {},
   "source": [
    "# Introduction\n",
    "\n",
    "Problems from leetcode\n",
    "\n",
    "### Autocomplete"
   ]
  },
  {
   "cell_type": "code",
   "execution_count": 60,
   "metadata": {},
   "outputs": [
    {
     "data": {
      "text/plain": [
       "[(2, 'i love leetcode'), (2, 'ironman'), (3, 'island'), (5, 'i love you')]"
      ]
     },
     "execution_count": 60,
     "metadata": {},
     "output_type": "execute_result"
    }
   ],
   "source": [
    "from heapq import heappop, heappush\n",
    "from collections import defaultdict\n",
    "\n",
    "class AutocompleteSystem:\n",
    "\n",
    "    def __init__(self, sentences, times):\n",
    "        self.cache = defaultdict(int)\n",
    "        for s,t in zip(sentences, times):\n",
    "            self.cache[s] = t\n",
    "            self.past_prefix = ''\n",
    "\n",
    "    def inp(self, c):\n",
    "        \"\"\"\n",
    "        \n",
    "        BRUTE FORCE:\n",
    "        - select top k from list that match c\n",
    "        \n",
    "        Search: Time: O(n*logk), Space: O(k)\n",
    "        Insert: Time: O(1)\n",
    "        \n",
    "        Ex: s = 'i love'\n",
    "        \n",
    "        BETTER:\n",
    "        - use an ordered dict?\n",
    "        - that way I can stop after the first three hits?\n",
    "        - (but are ordered dicts just a hash?)\n",
    "        \n",
    "        - searching ordered dict --> O(n)  \n",
    "        - inserting to dict -->  O(log n)\n",
    "        \n",
    "        \n",
    "        TO DO / CONSIDER:\n",
    "        - equal frequency sentences\n",
    "        - no matches \n",
    "        \n",
    "        \"\"\"\n",
    "                \n",
    "        #Do the autocompletion\n",
    "        if c != '#':\n",
    "        \n",
    "            prefix = self.past_prefix + c\n",
    "            self.past_prefix = prefix\n",
    "\n",
    "            #Return top 3 candidates that match the prompt\n",
    "            l = len(prefix)\n",
    "            heap = []\n",
    "            for sentence, time in self.cache.items():\n",
    "                if sentence[:l] == prefix:\n",
    "                    if len(heap) < 3:\n",
    "                        heappush(heap,(time,sentence))\n",
    "                    else:\n",
    "                        #keep equal matches\n",
    "                        if time == heap[0][0]:\n",
    "                            heappush(heap,(time,sentence))\n",
    "                        elif time > heap[0][0]: \n",
    "                            heappop(heap)\n",
    "                            heappush(heap,(time,sentence))\n",
    "            return heap\n",
    "\n",
    "        #Add new sentence to cache\n",
    "        else:\n",
    "            new_sentence = self.past_prefix\n",
    "            self.cache[new_sentence] += 1\n",
    "            self.past_prefix = ''\n",
    "            return []\n",
    "\n",
    "#Set up\n",
    "sentences = ['i love you', 'island','ironman','i love leetcode']\n",
    "times = [5,3,2,2]\n",
    "obj = AutocompleteSystem(sentences, times)\n",
    "\n",
    "#Start the prompt\n",
    "obj.inp('i')\n",
    "#obj.inp(' ')\n",
    "#obj.inp('a')\n",
    "#obj.inp('#')"
   ]
  },
  {
   "cell_type": "code",
   "execution_count": 59,
   "metadata": {},
   "outputs": [
    {
     "data": {
      "text/plain": [
       "[(2, 'i love leetcode'), (2, 'ironman'), (3, 'island'), (5, 'i love you')]"
      ]
     },
     "execution_count": 59,
     "metadata": {},
     "output_type": "execute_result"
    }
   ],
   "source": [
    "heap = [(2, 'i love leetcode'), (2, 'ironman'), (3, 'island'), (5, 'i love you')]\n",
    "heap"
   ]
  },
  {
   "cell_type": "code",
   "execution_count": 38,
   "metadata": {},
   "outputs": [
    {
     "data": {
      "text/plain": [
       "['i a', 'i love leetcode', 'i love you', 'ironman', 'island']"
      ]
     },
     "execution_count": 38,
     "metadata": {},
     "output_type": "execute_result"
    }
   ],
   "source": [
    "temp = obj.cache\n",
    "sorted(temp.keys())"
   ]
  },
  {
   "cell_type": "code",
   "execution_count": 40,
   "metadata": {},
   "outputs": [
    {
     "ename": "NameError",
     "evalue": "name 'tmep' is not defined",
     "output_type": "error",
     "traceback": [
      "\u001b[0;31m---------------------------------------------------------------------------\u001b[0m",
      "\u001b[0;31mNameError\u001b[0m                                 Traceback (most recent call last)",
      "\u001b[0;32m<ipython-input-40-7ee1f45b19fc>\u001b[0m in \u001b[0;36m<module>\u001b[0;34m\u001b[0m\n\u001b[1;32m      1\u001b[0m \u001b[0mtemp\u001b[0m\u001b[0;34m[\u001b[0m\u001b[0;34m'i a'\u001b[0m\u001b[0;34m]\u001b[0m \u001b[0;34m+=\u001b[0m \u001b[0;36m7\u001b[0m\u001b[0;34m\u001b[0m\u001b[0;34m\u001b[0m\u001b[0m\n\u001b[0;32m----> 2\u001b[0;31m \u001b[0mtmep\u001b[0m\u001b[0;34m\u001b[0m\u001b[0;34m\u001b[0m\u001b[0m\n\u001b[0m",
      "\u001b[0;31mNameError\u001b[0m: name 'tmep' is not defined"
     ]
    }
   ],
   "source": [
    "temp['i a'] += 7"
   ]
  },
  {
   "cell_type": "code",
   "execution_count": 61,
   "metadata": {},
   "outputs": [
    {
     "name": "stdout",
     "output_type": "stream",
     "text": [
      "k,v = i love you,5\n",
      "k,v = island,3\n",
      "k,v = ironman,2\n",
      "k,v = i love leetcode,2\n",
      "k,v = i a,8\n"
     ]
    }
   ],
   "source": [
    "for k,v in temp.items():\n",
    "    print('k,v = {},{}'.format(k,v))"
   ]
  },
  {
   "cell_type": "markdown",
   "metadata": {},
   "source": [
    "### Alien dictionary"
   ]
  },
  {
   "cell_type": "code",
   "execution_count": 42,
   "metadata": {},
   "outputs": [
    {
     "ename": "AttributeError",
     "evalue": "'str' object has no attribute 'pop'",
     "output_type": "error",
     "traceback": [
      "\u001b[0;31m---------------------------------------------------------------------------\u001b[0m",
      "\u001b[0;31mAttributeError\u001b[0m                            Traceback (most recent call last)",
      "\u001b[0;32m<ipython-input-42-15c7d6ca5084>\u001b[0m in \u001b[0;36m<module>\u001b[0;34m\u001b[0m\n\u001b[1;32m    127\u001b[0m \u001b[0msol\u001b[0m \u001b[0;34m=\u001b[0m \u001b[0mSolution\u001b[0m\u001b[0;34m(\u001b[0m\u001b[0;34m)\u001b[0m\u001b[0;34m\u001b[0m\u001b[0;34m\u001b[0m\u001b[0m\n\u001b[1;32m    128\u001b[0m \u001b[0mG\u001b[0m \u001b[0;34m=\u001b[0m \u001b[0msol\u001b[0m\u001b[0;34m.\u001b[0m\u001b[0mfirstPass\u001b[0m\u001b[0;34m(\u001b[0m\u001b[0mwords\u001b[0m\u001b[0;34m)\u001b[0m\u001b[0;34m\u001b[0m\u001b[0;34m\u001b[0m\u001b[0m\n\u001b[0;32m--> 129\u001b[0;31m \u001b[0mG\u001b[0m \u001b[0;34m=\u001b[0m \u001b[0msol\u001b[0m\u001b[0;34m.\u001b[0m\u001b[0msecondPass\u001b[0m\u001b[0;34m(\u001b[0m\u001b[0mwords\u001b[0m\u001b[0;34m,\u001b[0m\u001b[0mG\u001b[0m\u001b[0;34m)\u001b[0m\u001b[0;34m\u001b[0m\u001b[0;34m\u001b[0m\u001b[0m\n\u001b[0m\u001b[1;32m    130\u001b[0m \u001b[0mG\u001b[0m\u001b[0;34m\u001b[0m\u001b[0;34m\u001b[0m\u001b[0m\n",
      "\u001b[0;32m<ipython-input-42-15c7d6ca5084>\u001b[0m in \u001b[0;36msecondPass\u001b[0;34m(self, words, G)\u001b[0m\n\u001b[1;32m     79\u001b[0m         \u001b[0;32mfor\u001b[0m \u001b[0mwordGroup\u001b[0m \u001b[0;32min\u001b[0m \u001b[0mtempWords\u001b[0m\u001b[0;34m:\u001b[0m\u001b[0;34m\u001b[0m\u001b[0;34m\u001b[0m\u001b[0m\n\u001b[1;32m     80\u001b[0m             \u001b[0;32mif\u001b[0m \u001b[0mlen\u001b[0m\u001b[0;34m(\u001b[0m\u001b[0mwordGroup\u001b[0m\u001b[0;34m)\u001b[0m \u001b[0;34m>\u001b[0m \u001b[0;36m1\u001b[0m\u001b[0;34m:\u001b[0m\u001b[0;34m\u001b[0m\u001b[0;34m\u001b[0m\u001b[0m\n\u001b[0;32m---> 81\u001b[0;31m                 \u001b[0mself\u001b[0m\u001b[0;34m.\u001b[0m\u001b[0mupdateGraph\u001b[0m\u001b[0;34m(\u001b[0m\u001b[0mwordGroup\u001b[0m\u001b[0;34m,\u001b[0m\u001b[0mG\u001b[0m\u001b[0;34m)\u001b[0m\u001b[0;34m\u001b[0m\u001b[0;34m\u001b[0m\u001b[0m\n\u001b[0m\u001b[1;32m     82\u001b[0m         \u001b[0;32mreturn\u001b[0m \u001b[0mG\u001b[0m\u001b[0;34m\u001b[0m\u001b[0;34m\u001b[0m\u001b[0m\n\u001b[1;32m     83\u001b[0m \u001b[0;34m\u001b[0m\u001b[0m\n",
      "\u001b[0;32m<ipython-input-42-15c7d6ca5084>\u001b[0m in \u001b[0;36mupdateGraph\u001b[0;34m(self, wordGroup, G)\u001b[0m\n\u001b[1;32m     98\u001b[0m         \"\"\"\n\u001b[1;32m     99\u001b[0m \u001b[0;34m\u001b[0m\u001b[0m\n\u001b[0;32m--> 100\u001b[0;31m         \u001b[0mletters\u001b[0m \u001b[0;34m=\u001b[0m \u001b[0;34m[\u001b[0m\u001b[0mword\u001b[0m\u001b[0;34m.\u001b[0m\u001b[0mpop\u001b[0m\u001b[0;34m(\u001b[0m\u001b[0;36m0\u001b[0m\u001b[0;34m)\u001b[0m \u001b[0;32mfor\u001b[0m \u001b[0mword\u001b[0m \u001b[0;32min\u001b[0m \u001b[0mwordGroup\u001b[0m\u001b[0;34m]\u001b[0m\u001b[0;34m\u001b[0m\u001b[0;34m\u001b[0m\u001b[0m\n\u001b[0m\u001b[1;32m    101\u001b[0m         \u001b[0mletters\u001b[0m \u001b[0;34m=\u001b[0m \u001b[0mlist\u001b[0m\u001b[0;34m(\u001b[0m\u001b[0mset\u001b[0m\u001b[0;34m(\u001b[0m\u001b[0mletters\u001b[0m\u001b[0;34m)\u001b[0m\u001b[0;34m)\u001b[0m  \u001b[0;31m#get rid of duplicates\u001b[0m\u001b[0;34m\u001b[0m\u001b[0;34m\u001b[0m\u001b[0m\n\u001b[1;32m    102\u001b[0m \u001b[0;34m\u001b[0m\u001b[0m\n",
      "\u001b[0;32m<ipython-input-42-15c7d6ca5084>\u001b[0m in \u001b[0;36m<listcomp>\u001b[0;34m(.0)\u001b[0m\n\u001b[1;32m     98\u001b[0m         \"\"\"\n\u001b[1;32m     99\u001b[0m \u001b[0;34m\u001b[0m\u001b[0m\n\u001b[0;32m--> 100\u001b[0;31m         \u001b[0mletters\u001b[0m \u001b[0;34m=\u001b[0m \u001b[0;34m[\u001b[0m\u001b[0mword\u001b[0m\u001b[0;34m.\u001b[0m\u001b[0mpop\u001b[0m\u001b[0;34m(\u001b[0m\u001b[0;36m0\u001b[0m\u001b[0;34m)\u001b[0m \u001b[0;32mfor\u001b[0m \u001b[0mword\u001b[0m \u001b[0;32min\u001b[0m \u001b[0mwordGroup\u001b[0m\u001b[0;34m]\u001b[0m\u001b[0;34m\u001b[0m\u001b[0;34m\u001b[0m\u001b[0m\n\u001b[0m\u001b[1;32m    101\u001b[0m         \u001b[0mletters\u001b[0m \u001b[0;34m=\u001b[0m \u001b[0mlist\u001b[0m\u001b[0;34m(\u001b[0m\u001b[0mset\u001b[0m\u001b[0;34m(\u001b[0m\u001b[0mletters\u001b[0m\u001b[0;34m)\u001b[0m\u001b[0;34m)\u001b[0m  \u001b[0;31m#get rid of duplicates\u001b[0m\u001b[0;34m\u001b[0m\u001b[0;34m\u001b[0m\u001b[0m\n\u001b[1;32m    102\u001b[0m \u001b[0;34m\u001b[0m\u001b[0m\n",
      "\u001b[0;31mAttributeError\u001b[0m: 'str' object has no attribute 'pop'"
     ]
    }
   ],
   "source": [
    "from collections import defaultdict\n",
    "\n",
    "class Solution(object):\n",
    "    def alienOrder(self, words):\n",
    "        \"\"\"\n",
    "        :type words: List[str]\n",
    "        :rtype: str\n",
    "        \n",
    "        Ideas:\n",
    "        - build directed graph, to top. sort\n",
    "        - how to build graph?\n",
    "        - node for every letter\n",
    "        - can put edges between first letters of word\n",
    "        - and also edges between n'th letters in words, if\n",
    "          they share the first n-1 letters\n",
    "          \n",
    "         Plan:\n",
    "         - sweep through wordList and look at first letter\n",
    "         - at node if not in graph\n",
    "         - add edge if \n",
    "         \n",
    "         Pass1:\n",
    "             w: [e, r]\n",
    "             e: [r]\n",
    "             r: \n",
    "        \n",
    "        Pass2:\n",
    "            - iterate over all word that have same first letter\n",
    "            \n",
    "             w: [e, r]\n",
    "             e: [r]\n",
    "             r: [t]\n",
    "             t: [f]\n",
    "        \n",
    "        Then do top. sort\n",
    "            \n",
    "        \"\"\"\n",
    "        \n",
    "        G = self.buildGraph(words)\n",
    "        print('G = {}'.format(G))\n",
    "        return self.topSort(G)\n",
    "    \n",
    "        \n",
    "    def buildGraph(self,words):\n",
    "        G = self.firstPass(words)\n",
    "        G = self.secondPass(words,G)\n",
    "        return G\n",
    "\n",
    "    def firstPass(self,words):\n",
    "        G = {}\n",
    "        for word in words:\n",
    "            letter = word[0]\n",
    "            if letter not in G:\n",
    "                \n",
    "                #add as edge to all previous\n",
    "                for key in G:\n",
    "                    G[key].add(letter)\n",
    "                \n",
    "                #add to graph\n",
    "                G[letter] = set()\n",
    "                    \n",
    "        return G\n",
    "        \n",
    "    def secondPass(self,words,G):\n",
    "        \"\"\"\n",
    "\n",
    "        Plan:\n",
    "        - first all words with same first letter\n",
    "        - move through letter by letter\n",
    "        - if differnt, add to graph\n",
    "        - if \n",
    "\n",
    "        Ex: ['wrt','wrf','wxg']\n",
    "               i\n",
    "\n",
    "        \"\"\"\n",
    "\n",
    "        tempWords = self.groupWordsByFirstLetter(words)\n",
    "        for wordGroup in tempWords:\n",
    "            if len(wordGroup) > 1:\n",
    "                self.updateGraph(wordGroup,G)\n",
    "        return G\n",
    "\n",
    "    def groupWordsByFirstLetter(self,words):\n",
    "        \"\"\"\n",
    "        [\"wrt\",\"wrf\",\"er\",\"ett\",\"rftt\"]\n",
    "\n",
    "        --> [['wrt','wrf'], ['er','ett'], ['rftt']]\n",
    "        \"\"\"\n",
    "        groups = defaultdict(list)\n",
    "        for word in words:\n",
    "            groups[word[0]].append(word)\n",
    "        return [val for val in groups.values()]\n",
    "\n",
    "    def updateGraph(self,wordGroup,G):\n",
    "        \"\"\"\n",
    "        wordGroup = ['wrt','wrt','wxg']\n",
    "        \"\"\"\n",
    "\n",
    "        letters = [word.pop(0) for word in wordGroup]\n",
    "        letters = list(set(letters))  #get rid of duplicates\n",
    "\n",
    "        #consider all ordered pairs\n",
    "        for i in range(len(letters)):\n",
    "            for j in range(len(letters)):\n",
    "                G[i].add(j)\n",
    "        return G\n",
    "\n",
    "    def topSort(self,G):\n",
    "        stack = []\n",
    "        visited = set()\n",
    "\n",
    "        def helper(G,node):\n",
    "            for n in G[node]:\n",
    "                if n not in visited:\n",
    "                    helper(G,n)\n",
    "            stack.insert(0,node)\n",
    "\n",
    "        for n in list(G.keys()):\n",
    "            if n not in visited:\n",
    "                helper(G,n)\n",
    "\n",
    "        return stack\n",
    "                    \n",
    "\n",
    "words = [\"wrt\",\"wrf\",\"er\",\"ett\",\"rftt\"]\n",
    "sol = Solution()\n",
    "G = sol.firstPass(words)\n",
    "G = sol.secondPass(words,G)\n",
    "G"
   ]
  },
  {
   "cell_type": "code",
   "execution_count": 65,
   "metadata": {},
   "outputs": [
    {
     "data": {
      "text/plain": [
       "{'w': {'e', 'r', 'w'}, 'e': {'r'}, 'r': set(), 0: {0}}"
      ]
     },
     "execution_count": 65,
     "metadata": {},
     "output_type": "execute_result"
    }
   ],
   "source": [
    "tempWords = sol.groupWordsByFirstLetter(words)\n",
    "wordGroup = tempWords[0]\n",
    "\n",
    "\n",
    "wordGroup1 = [[c for c in word] for word in wordGroup]\n",
    "letters = [word.pop(0) for word in wordGroup1]\n",
    "letters = list(set(letters))  #get rid of duplicates\n",
    "\n",
    "#consider all ordered pairs\n",
    "for i in range(len(letters)):\n",
    "    for j in range(len(letters)):\n",
    "        l1, l2 = letters[i], letters[j]\n",
    "        if i not in G:\n",
    "            G[l1] = set()\n",
    "        G[l1].add(l2)\n",
    "G"
   ]
  },
  {
   "cell_type": "code",
   "execution_count": 66,
   "metadata": {},
   "outputs": [
    {
     "data": {
      "text/plain": [
       "[['r', 't'], ['r', 'f']]"
      ]
     },
     "execution_count": 66,
     "metadata": {},
     "output_type": "execute_result"
    }
   ],
   "source": [
    "wordGroup1"
   ]
  },
  {
   "cell_type": "code",
   "execution_count": 60,
   "metadata": {},
   "outputs": [
    {
     "data": {
      "text/plain": [
       "[['w', 'r', 't'], ['w', 'r', 'f']]"
      ]
     },
     "execution_count": 60,
     "metadata": {},
     "output_type": "execute_result"
    }
   ],
   "source": [
    "wordGroup\n",
    "wordGroup1 = [[c for c in word] for word in wordGroup]\n",
    "wordGroup1"
   ]
  },
  {
   "cell_type": "code",
   "execution_count": 45,
   "metadata": {},
   "outputs": [
    {
     "ename": "AttributeError",
     "evalue": "'str' object has no attribute 'pop'",
     "output_type": "error",
     "traceback": [
      "\u001b[0;31m---------------------------------------------------------------------------\u001b[0m",
      "\u001b[0;31mAttributeError\u001b[0m                            Traceback (most recent call last)",
      "\u001b[0;32m<ipython-input-45-d9f432cd985b>\u001b[0m in \u001b[0;36m<module>\u001b[0;34m\u001b[0m\n\u001b[0;32m----> 1\u001b[0;31m \u001b[0msol\u001b[0m\u001b[0;34m.\u001b[0m\u001b[0mupdateGraph\u001b[0m\u001b[0;34m(\u001b[0m\u001b[0mtempWords\u001b[0m\u001b[0;34m[\u001b[0m\u001b[0;36m0\u001b[0m\u001b[0;34m]\u001b[0m\u001b[0;34m,\u001b[0m\u001b[0mG\u001b[0m\u001b[0;34m)\u001b[0m\u001b[0;34m\u001b[0m\u001b[0;34m\u001b[0m\u001b[0m\n\u001b[0m",
      "\u001b[0;32m<ipython-input-42-15c7d6ca5084>\u001b[0m in \u001b[0;36mupdateGraph\u001b[0;34m(self, wordGroup, G)\u001b[0m\n\u001b[1;32m     98\u001b[0m         \"\"\"\n\u001b[1;32m     99\u001b[0m \u001b[0;34m\u001b[0m\u001b[0m\n\u001b[0;32m--> 100\u001b[0;31m         \u001b[0mletters\u001b[0m \u001b[0;34m=\u001b[0m \u001b[0;34m[\u001b[0m\u001b[0mword\u001b[0m\u001b[0;34m.\u001b[0m\u001b[0mpop\u001b[0m\u001b[0;34m(\u001b[0m\u001b[0;36m0\u001b[0m\u001b[0;34m)\u001b[0m \u001b[0;32mfor\u001b[0m \u001b[0mword\u001b[0m \u001b[0;32min\u001b[0m \u001b[0mwordGroup\u001b[0m\u001b[0;34m]\u001b[0m\u001b[0;34m\u001b[0m\u001b[0;34m\u001b[0m\u001b[0m\n\u001b[0m\u001b[1;32m    101\u001b[0m         \u001b[0mletters\u001b[0m \u001b[0;34m=\u001b[0m \u001b[0mlist\u001b[0m\u001b[0;34m(\u001b[0m\u001b[0mset\u001b[0m\u001b[0;34m(\u001b[0m\u001b[0mletters\u001b[0m\u001b[0;34m)\u001b[0m\u001b[0;34m)\u001b[0m  \u001b[0;31m#get rid of duplicates\u001b[0m\u001b[0;34m\u001b[0m\u001b[0;34m\u001b[0m\u001b[0m\n\u001b[1;32m    102\u001b[0m \u001b[0;34m\u001b[0m\u001b[0m\n",
      "\u001b[0;32m<ipython-input-42-15c7d6ca5084>\u001b[0m in \u001b[0;36m<listcomp>\u001b[0;34m(.0)\u001b[0m\n\u001b[1;32m     98\u001b[0m         \"\"\"\n\u001b[1;32m     99\u001b[0m \u001b[0;34m\u001b[0m\u001b[0m\n\u001b[0;32m--> 100\u001b[0;31m         \u001b[0mletters\u001b[0m \u001b[0;34m=\u001b[0m \u001b[0;34m[\u001b[0m\u001b[0mword\u001b[0m\u001b[0;34m.\u001b[0m\u001b[0mpop\u001b[0m\u001b[0;34m(\u001b[0m\u001b[0;36m0\u001b[0m\u001b[0;34m)\u001b[0m \u001b[0;32mfor\u001b[0m \u001b[0mword\u001b[0m \u001b[0;32min\u001b[0m \u001b[0mwordGroup\u001b[0m\u001b[0;34m]\u001b[0m\u001b[0;34m\u001b[0m\u001b[0;34m\u001b[0m\u001b[0m\n\u001b[0m\u001b[1;32m    101\u001b[0m         \u001b[0mletters\u001b[0m \u001b[0;34m=\u001b[0m \u001b[0mlist\u001b[0m\u001b[0;34m(\u001b[0m\u001b[0mset\u001b[0m\u001b[0;34m(\u001b[0m\u001b[0mletters\u001b[0m\u001b[0;34m)\u001b[0m\u001b[0;34m)\u001b[0m  \u001b[0;31m#get rid of duplicates\u001b[0m\u001b[0;34m\u001b[0m\u001b[0;34m\u001b[0m\u001b[0m\n\u001b[1;32m    102\u001b[0m \u001b[0;34m\u001b[0m\u001b[0m\n",
      "\u001b[0;31mAttributeError\u001b[0m: 'str' object has no attribute 'pop'"
     ]
    }
   ],
   "source": [
    "sol.updateGraph(tempWords[0],G)"
   ]
  },
  {
   "cell_type": "code",
   "execution_count": 90,
   "metadata": {},
   "outputs": [
    {
     "data": {
      "text/plain": [
       "['a', 'b', 'c', 'd']"
      ]
     },
     "execution_count": 90,
     "metadata": {},
     "output_type": "execute_result"
    }
   ],
   "source": [
    "G = {'a':['b'], 'b':['c'], 'c':['d'],'d':[]}\n",
    "topological_sort(G)"
   ]
  },
  {
   "cell_type": "code",
   "execution_count": 91,
   "metadata": {},
   "outputs": [
    {
     "name": "stdout",
     "output_type": "stream",
     "text": [
      "path = ['a']\n",
      "path = ['a', 'b']\n",
      "path = ['a', 'b', 'c']\n",
      "path = ['a', 'b', 'c', 'd']\n"
     ]
    },
    {
     "data": {
      "text/plain": [
       "False"
      ]
     },
     "execution_count": 91,
     "metadata": {},
     "output_type": "execute_result"
    }
   ],
   "source": [
    "def detect_cycle(G,start):\n",
    "    visited = set()\n",
    "    stack = [(start,[start])]\n",
    "    while stack:\n",
    "        node, path = stack.pop(-1)\n",
    "        visited.add(node)\n",
    "        print('path = {}'.format(path))\n",
    "        for n in G[node]:\n",
    "            if n in path:\n",
    "                return True\n",
    "            if n not in visited:                \n",
    "                stack.append((n,path+[n]))\n",
    "    return False\n",
    "\n",
    "G = {'a':['b'], 'b':['c'], 'c':['d'],'d':[]}\n",
    "detect_cycle(G,'a')"
   ]
  },
  {
   "cell_type": "markdown",
   "metadata": {},
   "source": [
    "### Decode ways a given signal can be encoded"
   ]
  },
  {
   "cell_type": "code",
   "execution_count": 146,
   "metadata": {},
   "outputs": [
    {
     "data": {
      "text/plain": [
       "[['a', 'b', 'c'], ['a', 'bc'], ['ab', 'c'], ['abc']]"
      ]
     },
     "execution_count": 146,
     "metadata": {},
     "output_type": "execute_result"
    }
   ],
   "source": [
    "from functools import lru_cache\n",
    "\n",
    "#@lru_cache(maxsize=None)\n",
    "def f(s):\n",
    "    \"\"\"\n",
    "    \n",
    "    BRUTE FORCE:\n",
    "    - enumerate all 'permutations'\n",
    "    - count allowable ones\n",
    "    \n",
    "    Time: O(n!), Space: O(1)\n",
    "    \n",
    "    BETTER:\n",
    "    - recursion with caching\n",
    "    \n",
    "    Time: O(n), Space: O(n)\n",
    "    \n",
    "    \"\"\"\n",
    "            \n",
    "    if len(s) == 0:\n",
    "        yield 'flag'       \n",
    "    if len(s) == 1:\n",
    "        yield [s]\n",
    "    else:\n",
    "        for i in range(1,len(s)+1):  # s = 'abc'. first: 'a, bc', last: '', 'abc'\n",
    "            left, right = s[:i], s[i:]\n",
    "            for p in f(right):\n",
    "                if p != 'flag':\n",
    "                    yield [left] + p\n",
    "                else:\n",
    "                    yield [left]  \n",
    "                    \n",
    "s = 'abc'\n",
    "list(f(s))"
   ]
  },
  {
   "cell_type": "code",
   "execution_count": 190,
   "metadata": {},
   "outputs": [
    {
     "name": "stdout",
     "output_type": "stream",
     "text": [
      "i, s[i-1:i+1] = 1,1\n"
     ]
    },
    {
     "data": {
      "text/plain": [
       "[1, 1]"
      ]
     },
     "execution_count": 190,
     "metadata": {},
     "output_type": "execute_result"
    }
   ],
   "source": [
    "def dp(s):\n",
    "    \"\"\"\n",
    "    \n",
    "    Simpler case: pretend there is map for all two digits numbers: 1->A, ... 99->Z!\n",
    "    \n",
    "    P[i] = number of ways s_1, ... s_{i} can be sorted\n",
    "        \n",
    "    Boundary conditions\n",
    "    P[0] = 0\n",
    "    P[1] = 1\n",
    "    P[2] = 2\n",
    "    P[3] = ?\n",
    "    \n",
    "    Ex: s = '1215'\n",
    "    \n",
    "    P[1] = [1]\n",
    "    P[2] = [[1,2],[12]]\n",
    "    \n",
    "    P[3] = [[1,2,1],[12,1]]\n",
    "    P[4] = [[1,2,1,5],[12,1,5], |||, [1,2,15], [12,15] ]  \n",
    "    \n",
    "    - third number can only pair with neighbour?\n",
    "    \n",
    "    if 0 < s[i] <= 0:\n",
    "        P[i] = P[i-1]\n",
    "    if 0 < s[i-1:i+1] <= 26:\n",
    "        P[i] = P[i-2] + 1 ?\n",
    "        \n",
    "    \"\"\"\n",
    "    \n",
    "    #edge case\n",
    "    if s[0] == '0':a\n",
    "        return 0\n",
    "    if len(s) == 0:\n",
    "        return 0\n",
    "    \n",
    "    #BCs\n",
    "    P = [0]*(len(s)+1)\n",
    "    P[0] = 1 \n",
    "    \n",
    "    for i in range(1,len(s)+1):\n",
    "        j = i-1\n",
    "        \n",
    "        #single digits\n",
    "        if 0 < int(s[j]) <= 9:\n",
    "            P[i] = P[i-1]\n",
    "        \n",
    "        #double digits\n",
    "        #print('i, s[i-1:i+1] = {},{}'.format(i, s[j-1:j+1]))\n",
    "        if s[j-1:j+1] and 10 <= int(s[j-1:j+1]) <= 26:\n",
    "            P[i] += P[i-2]\n",
    "            \n",
    "    return P\n",
    "\n",
    "s = '1'\n",
    "dp(s)"
   ]
  },
  {
   "cell_type": "markdown",
   "metadata": {},
   "source": [
    "### The skyline problem\n",
    "\n",
    "Not yet finished."
   ]
  },
  {
   "cell_type": "code",
   "execution_count": null,
   "metadata": {},
   "outputs": [],
   "source": [
    "from heapq import heappush\n",
    "\n",
    "def f(buildings):\n",
    "    \n",
    "    curr_building = 0\n",
    "    events = make_events(building)\n",
    "    heap = []\n",
    "    \n",
    "    for (x,H,i) in events[1]:\n",
    "        \n",
    "        #if building in heap, then have to jump --> KP\n",
    "        if (H,i) in heap:\n",
    "            heap.del((H,i))\n",
    "            (H_new, new_building) = heap[0]\n",
    "            sols.append[(x,H_new)]\n",
    "            curr_building\n",
    "        \n",
    "        #if building not in heap, then add to heap\n",
    "        \n",
    "        #and check if new jump\n",
    "    \n",
    "def make_events(buildings)"
   ]
  },
  {
   "cell_type": "markdown",
   "metadata": {},
   "source": [
    "### Subsequences with m odd number"
   ]
  },
  {
   "cell_type": "code",
   "execution_count": 24,
   "metadata": {},
   "outputs": [
    {
     "name": "stdout",
     "output_type": "stream",
     "text": [
      "l0, l, r0, r, tmep = 0, 2, 4, 5, 6\n",
      "l0, l, r0, r, tmep = 2, 4, 6, 7, 6\n"
     ]
    },
    {
     "data": {
      "text/plain": [
       "12"
      ]
     },
     "execution_count": 24,
     "metadata": {},
     "output_type": "execute_result"
    }
   ],
   "source": [
    "def f(arr,m):\n",
    "    \"\"\"\n",
    "    \n",
    "    Ex: \n",
    "    arr = [2,5,6,9], m = 2\n",
    "    sol = [2,5,6,9], [5,6,9]\n",
    "    \n",
    "    \n",
    "    IDEAS:\n",
    "    - use two pointer solution\n",
    "    - move r until num odd = m, record as r0\n",
    "    - move r until arr[r+1] = odd,\n",
    "    - record l0\n",
    "    - move l until num odd < m \n",
    "    - now count all subarrays with starts in [l0,l] and ends in [r0,r]\n",
    "    - repeat\n",
    "    \n",
    "    Ex:    0 1 2 3 4 5 6\n",
    "    arr = [2,2,5,6,9,2,11], m = 2\n",
    "               l0\n",
    "                   l\n",
    "                       r0\n",
    "                        r  \n",
    "                 \n",
    "        sols = 0\n",
    "        num_odd = 2\n",
    "    \n",
    "    \"\"\"\n",
    "    \n",
    "    n = len(arr)\n",
    "    l, l0 = 0, 0\n",
    "    r, r0 = 0, 0\n",
    "    num_odd, count = 0, 0\n",
    "    while r < n:\n",
    "        \n",
    "        #move right until num of odd > m\n",
    "        while num_odd < m and r < n:\n",
    "            if arr[r] % 2 != 0:\n",
    "                num_odd += 1\n",
    "            r += 1\n",
    "        \n",
    "        #record r0, and move r until NEXT element is odd\n",
    "        r0 = r-1\n",
    "        while r + 1 < n and arr[r+1] % 2 == 0:\n",
    "            r += 1\n",
    "        \n",
    "        #record l0\n",
    "        l0 = l\n",
    "        \n",
    "        #move l until num odd < m\n",
    "        while num_odd >= m and l < r:\n",
    "            l += 1\n",
    "            if arr[l] % 2 != 0:\n",
    "                num_odd -= 1\n",
    "                \n",
    "        #now record count\n",
    "        temp = (l-l0+1)*(r-r0+1)\n",
    "        count += temp\n",
    "        print('l0, l, r0, r, tmep = {}, {}, {}, {}, {}'.format(l0,l,r0,r,temp))\n",
    "        \n",
    "    return count\n",
    "\n",
    "m = 2\n",
    "#arr = [2,5,6,9]\n",
    "arr = [2, 2, 5, 6, 9, 2, 11]\n",
    "f(arr,m)"
   ]
  },
  {
   "cell_type": "markdown",
   "metadata": {},
   "source": [
    "### Microsoft: card game\n",
    "\n",
    "https://leetcode.com/discuss/interview-question/482921/Microsoft-or-Phone-or-Design-Card-Game"
   ]
  },
  {
   "cell_type": "code",
   "execution_count": 28,
   "metadata": {},
   "outputs": [
    {
     "data": {
      "text/plain": [
       "['10S',\n",
       " 'AD',\n",
       " 'JS',\n",
       " '5H',\n",
       " '7H',\n",
       " '3H',\n",
       " 'JD',\n",
       " '2D',\n",
       " '10H',\n",
       " '10D',\n",
       " '3D',\n",
       " 'QS',\n",
       " 'KC',\n",
       " 'AH',\n",
       " '6H',\n",
       " '6S',\n",
       " 'QH',\n",
       " '2H',\n",
       " 'JC',\n",
       " '9C',\n",
       " '4C',\n",
       " '9D',\n",
       " 'QD',\n",
       " 'KD',\n",
       " '3S',\n",
       " '4S',\n",
       " 'KS',\n",
       " '6D',\n",
       " 'JH',\n",
       " 'KH',\n",
       " '7C',\n",
       " '8H',\n",
       " '8S',\n",
       " '5C',\n",
       " '2C',\n",
       " '5D',\n",
       " '3C',\n",
       " 'QC',\n",
       " '10C',\n",
       " '9S',\n",
       " '2S',\n",
       " 'AC',\n",
       " 'AS',\n",
       " '5S',\n",
       " '9H',\n",
       " '7D',\n",
       " '4D',\n",
       " '8D',\n",
       " '6C',\n",
       " '4H',\n",
       " '8C',\n",
       " '7S']"
      ]
     },
     "execution_count": 28,
     "metadata": {},
     "output_type": "execute_result"
    }
   ],
   "source": [
    "from random import shuffle\n",
    "\n",
    "class Deck:\n",
    "    def __init__(self):\n",
    "        self.deck  = self._make_deck()\n",
    "        \n",
    "    def _make_deck(self):\n",
    "        \"\"\"\n",
    "        Suits: Hearts, Diamond, Spades clubs\n",
    "        \n",
    "        7H -- seven of hearts\n",
    "        \n",
    "        A,2,3,...10,J,Q,K\n",
    "        \n",
    "        \"\"\"\n",
    "        \n",
    "        nums = ['A'] + [str(i) for i in range(2,11)] + ['J','Q','K']\n",
    "        suits = ['H','D','S','C']\n",
    "        cards = [ n + s for n in nums for s in suits ]\n",
    "        return cards\n",
    "    \n",
    "    def shuffle(self):\n",
    "        shuffle(self.deck)\n",
    "        return self.deck\n",
    "    \n",
    "    \n",
    "deck = Deck()"
   ]
  },
  {
   "cell_type": "markdown",
   "metadata": {},
   "source": [
    "### Microsoft: Pop Balloons\n",
    "\n",
    "https://leetcode.com/discuss/interview-question/462752/Microsoft-or-Phone-or-Pop-Matrix-Balloons\n",
    "\n",
    "1. Pop balloons doing DFS\n",
    "2. Do gravity -- ?\n",
    "\n",
    "\n",
    "Ex:  3 2 3\n",
    "     0 3 1\n",
    "     0 2 2\n",
    "     1 1 1\n",
    "     3 3 2\n",
    "     0 1 0\n",
    "     \n",
    " BRUTE FORCE:\n",
    " - find zero (start from left hand corner, that way dont have to worry about zeros)\n",
    " - move to top vertically; while board[i-1][j] != 0 and i-1 >= 0\n",
    " \n",
    " Time: O(n^2) to search for zeros + bubble up time = O(n^2)?\n",
    " \n",
    " BETTER:\n",
    " - "
   ]
  },
  {
   "cell_type": "markdown",
   "metadata": {},
   "source": [
    "### Microsoft: Stacking boxes\n",
    "\n",
    "https://leetcode.com/discuss/interview-question/386397/Microsoft-or-Phone-Screen-or-Stacking-Boxes"
   ]
  },
  {
   "cell_type": "code",
   "execution_count": null,
   "metadata": {},
   "outputs": [],
   "source": [
    "def f(arr):\n",
    "    \"\"\"\n",
    "    \n",
    "    sol =  [[2,3],[5,4],[6,4],[6,7]]\n",
    "              i  \n",
    "    \n",
    "    IDEAS:\n",
    "    - overlapping intervals?\n",
    "    - sort by width, then iterate and 'squash'\n",
    "    - do i have to worry about order?\n",
    "    - iterate over i\n",
    "    - move j until x conditon not met (and check y condition)\n",
    "\n",
    "    Time: O(n log n), Space: O(1)\n",
    "    \n",
    "\n",
    "    \"\"\""
   ]
  },
  {
   "cell_type": "markdown",
   "metadata": {},
   "source": [
    "### Leetcode: lowest common ancestor in binary tree"
   ]
  },
  {
   "cell_type": "code",
   "execution_count": 1,
   "metadata": {},
   "outputs": [
    {
     "ename": "NameError",
     "evalue": "name 'BST' is not defined",
     "output_type": "error",
     "traceback": [
      "\u001b[0;31m---------------------------------------------------------------------------\u001b[0m",
      "\u001b[0;31mNameError\u001b[0m                                 Traceback (most recent call last)",
      "\u001b[0;32m<ipython-input-1-993c6e7c92ce>\u001b[0m in \u001b[0;36m<module>\u001b[0;34m\u001b[0m\n\u001b[1;32m     32\u001b[0m     \u001b[0;32mreturn\u001b[0m \u001b[0msol\u001b[0m\u001b[0;34m.\u001b[0m\u001b[0mval\u001b[0m\u001b[0;34m\u001b[0m\u001b[0;34m\u001b[0m\u001b[0m\n\u001b[1;32m     33\u001b[0m \u001b[0;34m\u001b[0m\u001b[0m\n\u001b[0;32m---> 34\u001b[0;31m \u001b[0mtree\u001b[0m \u001b[0;34m=\u001b[0m \u001b[0mBST\u001b[0m\u001b[0;34m(\u001b[0m\u001b[0;32mNone\u001b[0m\u001b[0;34m)\u001b[0m\u001b[0;34m\u001b[0m\u001b[0;34m\u001b[0m\u001b[0m\n\u001b[0m\u001b[1;32m     35\u001b[0m \u001b[0mtree\u001b[0m\u001b[0;34m.\u001b[0m\u001b[0minsertVals\u001b[0m\u001b[0;34m(\u001b[0m\u001b[0;34m[\u001b[0m\u001b[0;36m3\u001b[0m\u001b[0;34m,\u001b[0m\u001b[0;36m5\u001b[0m\u001b[0;34m,\u001b[0m\u001b[0;36m1\u001b[0m\u001b[0;34m,\u001b[0m\u001b[0;36m6\u001b[0m\u001b[0;34m,\u001b[0m\u001b[0;36m2\u001b[0m\u001b[0;34m,\u001b[0m\u001b[0;36m0\u001b[0m\u001b[0;34m,\u001b[0m\u001b[0;36m8\u001b[0m\u001b[0;34m,\u001b[0m\u001b[0;36m7\u001b[0m\u001b[0;34m,\u001b[0m\u001b[0;36m4\u001b[0m\u001b[0;34m]\u001b[0m\u001b[0;34m)\u001b[0m\u001b[0;34m\u001b[0m\u001b[0;34m\u001b[0m\u001b[0m\n\u001b[1;32m     36\u001b[0m \u001b[0mroot\u001b[0m \u001b[0;34m=\u001b[0m \u001b[0mtree\u001b[0m\u001b[0;34m.\u001b[0m\u001b[0mroot\u001b[0m\u001b[0;34m\u001b[0m\u001b[0;34m\u001b[0m\u001b[0m\n",
      "\u001b[0;31mNameError\u001b[0m: name 'BST' is not defined"
     ]
    }
   ],
   "source": [
    "def LCA(root,p,q):\n",
    "    \"\"\"\n",
    "    \n",
    "    Ideas:\n",
    "    - BFS for both p and q, then compare paths?\n",
    "    - is path unique? yes\n",
    "    \"\"\"\n",
    "    \n",
    "    queue = [(root,[root])]\n",
    "    path_p, path_q = [], []\n",
    "    while queue and (not path_p or not path_q):\n",
    "        node,path = queue.pop(0)\n",
    "        \n",
    "        #check paths\n",
    "        if node.val == p:\n",
    "            path_p = path + [node]\n",
    "        if node.val == q:\n",
    "            path_q = path + [node]\n",
    "        \n",
    "        #add neighbours\n",
    "        if node.left:\n",
    "            queue.append((node.left,path+[node.left]))\n",
    "        if node.right:\n",
    "            queue.append((node.right,path+[node.right]))\n",
    "\n",
    "    #compare paths\n",
    "    print('path_p = {}'.format([x.val for x in path_p]))\n",
    "    print('path_q = {}'.format(path_q))\n",
    "    while path_p[0].val == path_q[0].val:\n",
    "        sol = path_p.pop(0)\n",
    "        path_q.pop(0)\n",
    "    return sol.val\n",
    "        \n",
    "tree = BST(None)   #from data-structures file\n",
    "tree.insertVals([3,5,1,6,2,0,8,7,4])\n",
    "root = tree.root\n",
    "LCA(root,4,8)"
   ]
  },
  {
   "cell_type": "markdown",
   "metadata": {},
   "source": [
    "### Num coins\n",
    "\n",
    "You are given coins of different denominations and a total amount of money amount. Write a function to compute the fewest number of coins that you need to make up that amount. If that amount of money cannot be made up by any combination of the coins, return -1\n",
    "\n",
    "\n",
    "Input: coins = [1, 2, 5], amount = 11\n",
    "Output: 3 \n",
    "Explanation: 11 = 5 + 5 + 1\n",
    "\n",
    "Input: coins = [2], amount = 3\n",
    "Output: -1\n",
    "\n",
    "322. Coin Change"
   ]
  },
  {
   "cell_type": "code",
   "execution_count": 54,
   "metadata": {},
   "outputs": [
    {
     "data": {
      "text/plain": [
       "[0, -1, 1, -1, 2, -1, 3, -1, 4, -1, 5]"
      ]
     },
     "execution_count": 54,
     "metadata": {},
     "output_type": "execute_result"
    }
   ],
   "source": [
    "coins = [2]\n",
    "amount = 10\n",
    "\n",
    "D = [0]*(amount+1)\n",
    "for i in range(1,len(D)):\n",
    "    temp = [D[i-j] for j in coins if (i-j)>=0 and D[i-j] != -1]\n",
    "    if temp:\n",
    "        D[i] = 1 + min(temp)\n",
    "    else:\n",
    "        D[i] = -1\n",
    "D"
   ]
  },
  {
   "cell_type": "markdown",
   "metadata": {},
   "source": [
    "### Find median of two sorted arrays -- not yet finished"
   ]
  },
  {
   "cell_type": "code",
   "execution_count": 61,
   "metadata": {},
   "outputs": [
    {
     "data": {
      "text/plain": [
       "[1, 3, 4, 10, 11, 12, 13]"
      ]
     },
     "execution_count": 61,
     "metadata": {},
     "output_type": "execute_result"
    }
   ],
   "source": [
    "import numpy as np\n",
    "\n",
    "x = [1,10,11,12]\n",
    "y = [3,4,13]\n",
    "\n",
    "sorted(x+y)"
   ]
  },
  {
   "cell_type": "code",
   "execution_count": null,
   "metadata": {},
   "outputs": [],
   "source": [
    "def median(x,y):\n",
    "    \"\"\"\n",
    "    \n",
    "    Define i as x_i, s.t x_{i+1} in right half of joined array\n",
    "           j as y_j, s.t. y_{j+1} in right half of joined array\n",
    "    \n",
    "    Two conditions:\n",
    "    \n",
    "    (i) i + j  = (m+n) // 2 \n",
    "    (ii) if x_i > y_j\n",
    "            y_{j} <= x_i <= y_{j+1}\n",
    "         else:\n",
    "            x_{i} <= y_j <= x_{i+1}\n",
    "            \n",
    "    So can eliminate j, and do a binary search?\n",
    "           \n",
    "    \"\"\"\n",
    "\n",
    "    "
   ]
  },
  {
   "cell_type": "code",
   "execution_count": 95,
   "metadata": {},
   "outputs": [
    {
     "name": "stdout",
     "output_type": "stream",
     "text": [
      "true sol = 11\n",
      "i,j,r,l = 2, 2, 0, 5\n",
      "i,j,r,l = 4, 0, 3, 5\n",
      "i,j,r,l = 5, -1, 5, 5\n",
      "guess sol = 16\n"
     ]
    }
   ],
   "source": [
    "def binarySearch(arr,target):\n",
    "    l,r = 0, len(arr)-1\n",
    "    while l <= r:\n",
    "        mid = (r+l) // 2\n",
    "        if arr[mid] < target:\n",
    "            l = mid + 1\n",
    "        elif arr[mid] > target:\n",
    "            r = mid - 1\n",
    "        else:\n",
    "            return mid\n",
    "    return False\n",
    "\n",
    "\n",
    "def medianSortedArrays(x,y):\n",
    "    n,m = len(x), len(y)\n",
    "    l, r = 0, len(x) - 1\n",
    "    while l <= r:\n",
    "        i = (r+l) // 2\n",
    "        j = ((m+n-1) // 2) - i\n",
    "        \n",
    "        print('i,j,r,l = {}, {}, {}, {}'.format(i,j,l,r))\n",
    "        \n",
    "        #first make sure j is legal\n",
    "        if j > m-1:\n",
    "            l = i + 1\n",
    "        elif j < 0:\n",
    "            r = i - 1\n",
    "            \n",
    "        #then do check\n",
    "        elif j+1 > m-1 or x[i] > y[j+1]:\n",
    "            l = i+1\n",
    "        elif x[i] < y[j]:\n",
    "            r = i-1\n",
    "        elif y[j] <= x[i] <= y[j+1]:\n",
    "            return x[i]\n",
    "\n",
    "    return x[l]\n",
    "\n",
    "x = [1,10,11,12,15,16]\n",
    "y = [3,4,13]\n",
    "\n",
    "\n",
    "print('true sol = {}'.format(f(x,y)))\n",
    "print('guess sol = {}'.format(medianSortedArrays(x,y)))"
   ]
  },
  {
   "cell_type": "markdown",
   "metadata": {},
   "source": [
    "### Transformation exists\n",
    "\n",
    "(x,y) --> (x, y+x) or (x+y, y)\n",
    "\n",
    "Can you get from (sx,sy) to (tx,ty)   where x,y, in Z^2?\n",
    "\n",
    "Sol"
   ]
  },
  {
   "cell_type": "code",
   "execution_count": 11,
   "metadata": {},
   "outputs": [],
   "source": [
    "def f(sx,sy,tx,ty):\n",
    "    \"\"\"\n",
    "    \n",
    "    Idea: \n",
    "    - start at (tx,ty)\n",
    "    - if there is a path to (tx,ty), then path to (tx-ty, ty) AND path to (tx,tx-ty)\n",
    "    - so, only need to explore (tx-ty,ty) OR (tx,ty-tx)\n",
    "    - recursing, we see we only need to explore a verical jump to tx == sx\n",
    "      or a horizontal jump to the line x = sy\n",
    "    - in other words, need to check if ty is a multiple of (tx-sx)? and tx is a multiple of (ty-sy)?\n",
    "    \n",
    "    \"\"\"\n",
    "    \n",
    "    #edge case\n",
    "    if sx > tx or sy > ty:\n",
    "        return False\n",
    "\n",
    "    #Get as close to sx and sy as possible\n",
    "    #Idea: clean this up using remainder\n",
    "    while tx > sx and ty > sy:\n",
    "        if tx > ty:\n",
    "            k = (tx-sx) // ty\n",
    "            tx -= k*ty\n",
    "        else:\n",
    "            k = (ty-sy) // tx\n",
    "            ty -= k*tx\n",
    "\n",
    "        #If not a multiple, then no solution\n",
    "        if k < 1:\n",
    "            return False\n",
    "\n",
    "    print('sx,sy = {},{}'.format(sx,sy))\n",
    "    print('tx,ty = {}, {}'.format(tx,ty))\n",
    "    print('x,y = {},{}'.format(tx,ty))\n",
    "\n",
    "    #Now check if hit the target\n",
    "    #Could hit it exactly, up y be a multiple of it\n",
    "    if (tx-sx) % ty == 0 and (ty-sy) % tx == 0:\n",
    "        return True\n",
    "    return False"
   ]
  },
  {
   "cell_type": "markdown",
   "metadata": {},
   "source": [
    "### Same as above,\n",
    "\n",
    "But neet to count number of paths. Then do DP and count\n",
    "\n",
    "Time: O(n^2)\n",
    "Space: O(n^2)\n",
    "\n",
    "n = max(tx-sx,ty-sy)\n",
    "\n",
    "Do bottom up, have to scan over entire plane\n",
    "Do top down, only need to scan 'patched' plane -- better"
   ]
  },
  {
   "cell_type": "code",
   "execution_count": 10,
   "metadata": {},
   "outputs": [
    {
     "data": {
      "text/plain": [
       "1"
      ]
     },
     "execution_count": 10,
     "metadata": {},
     "output_type": "execute_result"
    }
   ],
   "source": [
    "(sx,sy) = (1,1)\n",
    "(tx,ty) = (16,3)\n",
    "\n",
    "#Set up\n",
    "M = {}\n",
    "M[(sx,sy)] = 1\n",
    "\n",
    "#Iterate\n",
    "for i in range(sx,tx+1):\n",
    "    for j in range(sy, ty+1):\n",
    "        temp1 = M[(i,j-i)] if (i,j-i) in M else 0\n",
    "        temp2 = M[(i-j,j)] if (i-j,j) in M else 0\n",
    "        if temp1 > 0 or temp2 > 0:\n",
    "            M[(i,j)] = temp1 + temp2\n",
    "            \n",
    "\n",
    "M[(tx,ty)] if (tx,ty) in M else 0 "
   ]
  },
  {
   "cell_type": "code",
   "execution_count": 33,
   "metadata": {},
   "outputs": [
    {
     "data": {
      "text/plain": [
       "[4, 5, 0, 2, 3, 1]"
      ]
     },
     "execution_count": 33,
     "metadata": {},
     "output_type": "execute_result"
    }
   ],
   "source": [
    "import networkx as nx\n",
    "\n",
    "def dfs(G):\n",
    "    \n",
    "    visited = set()\n",
    "    stack = []\n",
    "    \n",
    "    def helper(G,node):\n",
    "        for n in G[node]:\n",
    "            if n not in visited:\n",
    "                visited.add(n)\n",
    "                helper(G,n)\n",
    "        stack.insert(0,node)\n",
    "\n",
    "    \n",
    "    for n in G.nodes():\n",
    "        if n not in visited:\n",
    "            helper(G,n)\n",
    "            \n",
    "    return stack\n",
    "\n",
    "G = nx.DiGraph() \n",
    "G.add_edge(5, 2); \n",
    "G.add_edge(5, 0); \n",
    "G.add_edge(4, 0); \n",
    "G.add_edge(4, 1); \n",
    "G.add_edge(2, 3); \n",
    "G.add_edge(3, 1);\n",
    "dfs(G)"
   ]
  },
  {
   "cell_type": "code",
   "execution_count": null,
   "metadata": {},
   "outputs": [],
   "source": []
  }
 ],
 "metadata": {
  "kernelspec": {
   "display_name": "Python 3",
   "language": "python",
   "name": "python3"
  },
  "language_info": {
   "codemirror_mode": {
    "name": "ipython",
    "version": 3
   },
   "file_extension": ".py",
   "mimetype": "text/x-python",
   "name": "python",
   "nbconvert_exporter": "python",
   "pygments_lexer": "ipython3",
   "version": "3.7.1"
  }
 },
 "nbformat": 4,
 "nbformat_minor": 2
}
