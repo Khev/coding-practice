{
 "cells": [
  {
   "cell_type": "markdown",
   "metadata": {},
   "source": [
    "# Introduction\n",
    "\n",
    "Problems from leetcode\n",
    "\n",
    "### Autocomplete"
   ]
  },
  {
   "cell_type": "code",
   "execution_count": 60,
   "metadata": {},
   "outputs": [
    {
     "data": {
      "text/plain": [
       "[(2, 'i love leetcode'), (2, 'ironman'), (3, 'island'), (5, 'i love you')]"
      ]
     },
     "execution_count": 60,
     "metadata": {},
     "output_type": "execute_result"
    }
   ],
   "source": [
    "from heapq import heappop, heappush\n",
    "from collections import defaultdict\n",
    "\n",
    "class AutocompleteSystem:\n",
    "\n",
    "    def __init__(self, sentences, times):\n",
    "        self.cache = defaultdict(int)\n",
    "        for s,t in zip(sentences, times):\n",
    "            self.cache[s] = t\n",
    "            self.past_prefix = ''\n",
    "\n",
    "    def inp(self, c):\n",
    "        \"\"\"\n",
    "        \n",
    "        BRUTE FORCE:\n",
    "        - select top k from list that match c\n",
    "        \n",
    "        Search: Time: O(n*logk), Space: O(k)\n",
    "        Insert: Time: O(1)\n",
    "        \n",
    "        Ex: s = 'i love'\n",
    "        \n",
    "        BETTER:\n",
    "        - use an ordered dict?\n",
    "        - that way I can stop after the first three hits?\n",
    "        - (but are ordered dicts just a hash?)\n",
    "        \n",
    "        - searching ordered dict --> O(n)  \n",
    "        - inserting to dict -->  O(log n)\n",
    "        \n",
    "        \n",
    "        TO DO / CONSIDER:\n",
    "        - equal frequency sentences\n",
    "        - no matches \n",
    "        \n",
    "        \"\"\"\n",
    "                \n",
    "        #Do the autocompletion\n",
    "        if c != '#':\n",
    "        \n",
    "            prefix = self.past_prefix + c\n",
    "            self.past_prefix = prefix\n",
    "\n",
    "            #Return top 3 candidates that match the prompt\n",
    "            l = len(prefix)\n",
    "            heap = []\n",
    "            for sentence, time in self.cache.items():\n",
    "                if sentence[:l] == prefix:\n",
    "                    if len(heap) < 3:\n",
    "                        heappush(heap,(time,sentence))\n",
    "                    else:\n",
    "                        #keep equal matches\n",
    "                        if time == heap[0][0]:\n",
    "                            heappush(heap,(time,sentence))\n",
    "                        elif time > heap[0][0]: \n",
    "                            heappop(heap)\n",
    "                            heappush(heap,(time,sentence))\n",
    "            return heap\n",
    "\n",
    "        #Add new sentence to cache\n",
    "        else:\n",
    "            new_sentence = self.past_prefix\n",
    "            self.cache[new_sentence] += 1\n",
    "            self.past_prefix = ''\n",
    "            return []\n",
    "\n",
    "#Set up\n",
    "sentences = ['i love you', 'island','ironman','i love leetcode']\n",
    "times = [5,3,2,2]\n",
    "obj = AutocompleteSystem(sentences, times)\n",
    "\n",
    "#Start the prompt\n",
    "obj.inp('i')\n",
    "#obj.inp(' ')\n",
    "#obj.inp('a')\n",
    "#obj.inp('#')"
   ]
  },
  {
   "cell_type": "markdown",
   "metadata": {},
   "source": [
    "### Alien dictionary"
   ]
  },
  {
   "cell_type": "code",
   "execution_count": 37,
   "metadata": {},
   "outputs": [
    {
     "data": {
      "text/plain": [
       "'zyx'"
      ]
     },
     "execution_count": 37,
     "metadata": {},
     "output_type": "execute_result"
    }
   ],
   "source": [
    "from collections import defaultdict\n",
    "\n",
    "class Solution(object):\n",
    "    def alienOrder(self, words):\n",
    "        \"\"\"\n",
    "        :type words: List[str]\n",
    "        :rtype: str\n",
    "        \n",
    "        Ideas:\n",
    "        - build directed graph, to top. sort\n",
    "        - how to build graph?\n",
    "        - consider every (ordered pair of words)\n",
    "        - find first uncommon letter, l1, l2\n",
    "        - put edge l1 -> l2\n",
    "            \n",
    "        \"\"\"\n",
    "        \n",
    "        isDAG, G = self.buildGraph(words)\n",
    "        return self.topSort(G) if isDAG and len(G) > 0 else ''\n",
    "    \n",
    "        \n",
    "    def buildGraph(self,words):\n",
    "        \"\"\"\n",
    "        \n",
    "        Ideas:\n",
    "        - consider each ordered pair of words\n",
    "        - find first index of first letter they do not have in common\n",
    "        - add letter1 and letter2 to G\n",
    "        - add edge from letter1 -> letter2\n",
    "        \n",
    "        \"\"\"\n",
    "        \n",
    "        isDAG, G = True, {}\n",
    "        \n",
    "        #edge case\n",
    "        if len(words) == 1:\n",
    "            letters = [l for l in words[0]]\n",
    "            G = self.addNodesToGraph(G,letters)\n",
    "            return isDAG,G\n",
    "        \n",
    "        #nonedge\n",
    "        for i in range(len(words)):\n",
    "            for j in range(i+1,len(words)):\n",
    "                word1, word2 = words[i], words[j]\n",
    "                k, G = self.findIndexFirstUncommonLetter(word1,word2,G)\n",
    "                if k != -1:                                #condition for words not being the same\n",
    "                    letter1, letter2 = word1[k], word2[k]\n",
    "                    print('edge to add = {} -> {}'.format(letter1,letter2))\n",
    "                    isDAG, G = self.addEdgeToGraph(G,letter1,letter2)\n",
    "                    print('isDAG = {}'.format(isDAG))\n",
    "                    if not isDAG: return isDAG,G\n",
    "        return isDAG,G\n",
    "    \n",
    "\n",
    "    def addNodesToGraph(self,G,letters):\n",
    "        for letter in letters:\n",
    "            if letter not in G:\n",
    "                G[letter] = set()\n",
    "        return G\n",
    "    \n",
    "    def addEdgeToGraph(self,G,letter1,letter2):\n",
    "        \"\"\"\n",
    "        Need to check for cycle here too\n",
    "        (require the word graph to be acyclic)\n",
    "        \n",
    "        Add letter1 -> letter2\n",
    "        But check if \n",
    "        \n",
    "        \"\"\"\n",
    "        \n",
    "        isDAG = True\n",
    "        if letter1 in G[letter2]:\n",
    "            isDAG = False\n",
    "        G[letter1].add(letter2)  #represented as sets so I don't have to worry about duplicates\n",
    "        return isDAG,G\n",
    "    \n",
    "    \n",
    "    def findIndexFirstUncommonLetter(self,word1,word2,G):\n",
    "        \"\"\"\n",
    "        \n",
    "        word1 = 'wrt'\n",
    "        word2 = 'wrx' --> k = 2\n",
    "        \n",
    "        word1 = 'wrt'\n",
    "        word2 = 'ert' --> k = 0\n",
    "        \n",
    "        word1 = 'wr'\n",
    "        word2 = 'wrx' --> k = -1\n",
    "        \n",
    "        Q: can I assume all same length? No!\n",
    "        \n",
    "        \"\"\"\n",
    "\n",
    "        k = 0\n",
    "        flag = False\n",
    "        word1, word2 = [l1 for l1 in word1], [l2 for l2 in word2]  #make queues here\n",
    "        while word1 and word2:\n",
    "            l1, l2 = word1.pop(0), word2.pop(0)\n",
    "            G = self.addNodesToGraph(G,[l1,l2])\n",
    "            if l1 != l2:\n",
    "                flag = True\n",
    "                break\n",
    "            k += 1\n",
    "                        \n",
    "        #now add remaining letters to graph\n",
    "        #if word1 is not same length as word2\n",
    "        remainingLetters = word1 + word2\n",
    "        G = self.addNodesToGraph(G,remainingLetters)\n",
    "        \n",
    "        #If break flag went off, then k was a 'normal' value\n",
    "        if flag:\n",
    "            return k, G\n",
    "        \n",
    "        #Otherwise\n",
    "        #terminal cases: (i) 'abc', 'abc'  --> k = -1\n",
    "        #                (ii) 'abc', 'ab' --> k = -1\n",
    "        else:\n",
    "            k = -1\n",
    "            return k,G\n",
    "    \n",
    "\n",
    "    def topSort(self,G):\n",
    "        stack = []\n",
    "        visited = set()\n",
    "\n",
    "        def helper(G,node):\n",
    "            visited.add(node)\n",
    "            for n in G[node]:\n",
    "                if n not in visited:\n",
    "                    helper(G,n)\n",
    "            stack.insert(0,node)\n",
    "\n",
    "        for n in list(G.keys()):\n",
    "            if n not in visited:\n",
    "                helper(G,n)\n",
    "\n",
    "        return \"\".join(stack)\n",
    "                    \n",
    "\n",
    "words = [\"xyz\"]\n",
    "sol = Solution()\n",
    "#G = sol.buildGraph(words)\n",
    "#G\n",
    "sol.alienOrder(words)"
   ]
  },
  {
   "cell_type": "markdown",
   "metadata": {},
   "source": [
    "### Decode ways a given signal can be encoded"
   ]
  },
  {
   "cell_type": "code",
   "execution_count": 146,
   "metadata": {},
   "outputs": [
    {
     "data": {
      "text/plain": [
       "[['a', 'b', 'c'], ['a', 'bc'], ['ab', 'c'], ['abc']]"
      ]
     },
     "execution_count": 146,
     "metadata": {},
     "output_type": "execute_result"
    }
   ],
   "source": [
    "from functools import lru_cache\n",
    "\n",
    "#@lru_cache(maxsize=None)\n",
    "def f(s):\n",
    "    \"\"\"\n",
    "    \n",
    "    BRUTE FORCE:\n",
    "    - enumerate all 'permutations'\n",
    "    - count allowable ones\n",
    "    \n",
    "    Time: O(n!), Space: O(1)\n",
    "    \n",
    "    BETTER:\n",
    "    - recursion with caching\n",
    "    \n",
    "    Time: O(n), Space: O(n)\n",
    "    \n",
    "    \"\"\"\n",
    "            \n",
    "    if len(s) == 0:\n",
    "        yield 'flag'       \n",
    "    if len(s) == 1:\n",
    "        yield [s]\n",
    "    else:\n",
    "        for i in range(1,len(s)+1):  # s = 'abc'. first: 'a, bc', last: '', 'abc'\n",
    "            left, right = s[:i], s[i:]\n",
    "            for p in f(right):\n",
    "                if p != 'flag':\n",
    "                    yield [left] + p\n",
    "                else:\n",
    "                    yield [left]  \n",
    "                    \n",
    "s = 'abc'\n",
    "list(f(s))"
   ]
  },
  {
   "cell_type": "code",
   "execution_count": 190,
   "metadata": {},
   "outputs": [
    {
     "name": "stdout",
     "output_type": "stream",
     "text": [
      "i, s[i-1:i+1] = 1,1\n"
     ]
    },
    {
     "data": {
      "text/plain": [
       "[1, 1]"
      ]
     },
     "execution_count": 190,
     "metadata": {},
     "output_type": "execute_result"
    }
   ],
   "source": [
    "def dp(s):\n",
    "    \"\"\"\n",
    "    \n",
    "    Simpler case: pretend there is map for all two digits numbers: 1->A, ... 99->Z!\n",
    "    \n",
    "    P[i] = number of ways s_1, ... s_{i} can be sorted\n",
    "        \n",
    "    Boundary conditions\n",
    "    P[0] = 0\n",
    "    P[1] = 1\n",
    "    P[2] = 2\n",
    "    P[3] = ?\n",
    "    \n",
    "    Ex: s = '1215'\n",
    "    \n",
    "    P[1] = [1]\n",
    "    P[2] = [[1,2],[12]]\n",
    "    \n",
    "    P[3] = [[1,2,1],[12,1]]\n",
    "    P[4] = [[1,2,1,5],[12,1,5], |||, [1,2,15], [12,15] ]  \n",
    "    \n",
    "    - third number can only pair with neighbour?\n",
    "    \n",
    "    if 0 < s[i] <= 0:\n",
    "        P[i] = P[i-1]\n",
    "    if 0 < s[i-1:i+1] <= 26:\n",
    "        P[i] = P[i-2] + 1 ?\n",
    "        \n",
    "    \"\"\"\n",
    "    \n",
    "    #edge case\n",
    "    if s[0] == '0':a\n",
    "        return 0\n",
    "    if len(s) == 0:\n",
    "        return 0\n",
    "    \n",
    "    #BCs\n",
    "    P = [0]*(len(s)+1)\n",
    "    P[0] = 1 \n",
    "    \n",
    "    for i in range(1,len(s)+1):\n",
    "        j = i-1\n",
    "        \n",
    "        #single digits\n",
    "        if 0 < int(s[j]) <= 9:\n",
    "            P[i] = P[i-1]\n",
    "        \n",
    "        #double digits\n",
    "        #print('i, s[i-1:i+1] = {},{}'.format(i, s[j-1:j+1]))\n",
    "        if s[j-1:j+1] and 10 <= int(s[j-1:j+1]) <= 26:\n",
    "            P[i] += P[i-2]\n",
    "            \n",
    "    return P\n",
    "\n",
    "s = '1'\n",
    "dp(s)"
   ]
  },
  {
   "cell_type": "markdown",
   "metadata": {},
   "source": [
    "### The skyline problem\n",
    "\n",
    "Not yet finished."
   ]
  },
  {
   "cell_type": "code",
   "execution_count": null,
   "metadata": {},
   "outputs": [],
   "source": [
    "from heapq import heappush\n",
    "\n",
    "def f(buildings):\n",
    "    \n",
    "    curr_building = 0\n",
    "    events = make_events(building)\n",
    "    heap = []\n",
    "    \n",
    "    for (x,H,i) in events[1]:\n",
    "        \n",
    "        #if building in heap, then have to jump --> KP\n",
    "        if (H,i) in heap:\n",
    "            heap.del((H,i))\n",
    "            (H_new, new_building) = heap[0]\n",
    "            sols.append[(x,H_new)]\n",
    "            curr_building\n",
    "        \n",
    "        #if building not in heap, then add to heap\n",
    "        \n",
    "        #and check if new jump\n",
    "    \n",
    "def make_events(buildings)"
   ]
  },
  {
   "cell_type": "markdown",
   "metadata": {},
   "source": [
    "### Subsequences with m odd number"
   ]
  },
  {
   "cell_type": "code",
   "execution_count": 24,
   "metadata": {},
   "outputs": [
    {
     "name": "stdout",
     "output_type": "stream",
     "text": [
      "l0, l, r0, r, tmep = 0, 2, 4, 5, 6\n",
      "l0, l, r0, r, tmep = 2, 4, 6, 7, 6\n"
     ]
    },
    {
     "data": {
      "text/plain": [
       "12"
      ]
     },
     "execution_count": 24,
     "metadata": {},
     "output_type": "execute_result"
    }
   ],
   "source": [
    "def f(arr,m):\n",
    "    \"\"\"\n",
    "    \n",
    "    Ex: \n",
    "    arr = [2,5,6,9], m = 2\n",
    "    sol = [2,5,6,9], [5,6,9]\n",
    "    \n",
    "    \n",
    "    IDEAS:\n",
    "    - use two pointer solution\n",
    "    - move r until num odd = m, record as r0\n",
    "    - move r until arr[r+1] = odd,\n",
    "    - record l0\n",
    "    - move l until num odd < m \n",
    "    - now count all subarrays with starts in [l0,l] and ends in [r0,r]\n",
    "    - repeat\n",
    "    \n",
    "    Ex:    0 1 2 3 4 5 6\n",
    "    arr = [2,2,5,6,9,2,11], m = 2\n",
    "               l0\n",
    "                   l\n",
    "                       r0\n",
    "                        r  \n",
    "                 \n",
    "        sols = 0\n",
    "        num_odd = 2\n",
    "    \n",
    "    \"\"\"\n",
    "    \n",
    "    n = len(arr)\n",
    "    l, l0 = 0, 0\n",
    "    r, r0 = 0, 0\n",
    "    num_odd, count = 0, 0\n",
    "    while r < n:\n",
    "        \n",
    "        #move right until num of odd > m\n",
    "        while num_odd < m and r < n:\n",
    "            if arr[r] % 2 != 0:\n",
    "                num_odd += 1\n",
    "            r += 1\n",
    "        \n",
    "        #record r0, and move r until NEXT element is odd\n",
    "        r0 = r-1\n",
    "        while r + 1 < n and arr[r+1] % 2 == 0:\n",
    "            r += 1\n",
    "        \n",
    "        #record l0\n",
    "        l0 = l\n",
    "        \n",
    "        #move l until num odd < m\n",
    "        while num_odd >= m and l < r:\n",
    "            l += 1\n",
    "            if arr[l] % 2 != 0:\n",
    "                num_odd -= 1\n",
    "                \n",
    "        #now record count\n",
    "        temp = (l-l0+1)*(r-r0+1)\n",
    "        count += temp\n",
    "        print('l0, l, r0, r, tmep = {}, {}, {}, {}, {}'.format(l0,l,r0,r,temp))\n",
    "        \n",
    "    return count\n",
    "\n",
    "m = 2\n",
    "#arr = [2,5,6,9]\n",
    "arr = [2, 2, 5, 6, 9, 2, 11]\n",
    "f(arr,m)"
   ]
  },
  {
   "cell_type": "markdown",
   "metadata": {},
   "source": [
    "### Microsoft: card game\n",
    "\n",
    "https://leetcode.com/discuss/interview-question/482921/Microsoft-or-Phone-or-Design-Card-Game"
   ]
  },
  {
   "cell_type": "code",
   "execution_count": 28,
   "metadata": {},
   "outputs": [
    {
     "data": {
      "text/plain": [
       "['10S',\n",
       " 'AD',\n",
       " 'JS',\n",
       " '5H',\n",
       " '7H',\n",
       " '3H',\n",
       " 'JD',\n",
       " '2D',\n",
       " '10H',\n",
       " '10D',\n",
       " '3D',\n",
       " 'QS',\n",
       " 'KC',\n",
       " 'AH',\n",
       " '6H',\n",
       " '6S',\n",
       " 'QH',\n",
       " '2H',\n",
       " 'JC',\n",
       " '9C',\n",
       " '4C',\n",
       " '9D',\n",
       " 'QD',\n",
       " 'KD',\n",
       " '3S',\n",
       " '4S',\n",
       " 'KS',\n",
       " '6D',\n",
       " 'JH',\n",
       " 'KH',\n",
       " '7C',\n",
       " '8H',\n",
       " '8S',\n",
       " '5C',\n",
       " '2C',\n",
       " '5D',\n",
       " '3C',\n",
       " 'QC',\n",
       " '10C',\n",
       " '9S',\n",
       " '2S',\n",
       " 'AC',\n",
       " 'AS',\n",
       " '5S',\n",
       " '9H',\n",
       " '7D',\n",
       " '4D',\n",
       " '8D',\n",
       " '6C',\n",
       " '4H',\n",
       " '8C',\n",
       " '7S']"
      ]
     },
     "execution_count": 28,
     "metadata": {},
     "output_type": "execute_result"
    }
   ],
   "source": [
    "from random import shuffle\n",
    "\n",
    "class Deck:\n",
    "    def __init__(self):\n",
    "        self.deck  = self._make_deck()\n",
    "        \n",
    "    def _make_deck(self):\n",
    "        \"\"\"\n",
    "        Suits: Hearts, Diamond, Spades clubs\n",
    "        \n",
    "        7H -- seven of hearts\n",
    "        \n",
    "        A,2,3,...10,J,Q,K\n",
    "        \n",
    "        \"\"\"\n",
    "        \n",
    "        nums = ['A'] + [str(i) for i in range(2,11)] + ['J','Q','K']\n",
    "        suits = ['H','D','S','C']\n",
    "        cards = [ n + s for n in nums for s in suits ]\n",
    "        return cards\n",
    "    \n",
    "    def shuffle(self):\n",
    "        shuffle(self.deck)\n",
    "        return self.deck\n",
    "    \n",
    "    \n",
    "deck = Deck()"
   ]
  },
  {
   "cell_type": "markdown",
   "metadata": {},
   "source": [
    "### Microsoft: Pop Balloons\n",
    "\n",
    "https://leetcode.com/discuss/interview-question/462752/Microsoft-or-Phone-or-Pop-Matrix-Balloons\n",
    "\n",
    "1. Pop balloons doing DFS\n",
    "2. Do gravity -- ?\n",
    "\n",
    "\n",
    "Ex:  3 2 3\n",
    "     0 3 1\n",
    "     0 2 2\n",
    "     1 1 1\n",
    "     3 3 2\n",
    "     0 1 0\n",
    "     \n",
    " BRUTE FORCE:\n",
    " - find zero (start from left hand corner, that way dont have to worry about zeros)\n",
    " - move to top vertically; while board[i-1][j] != 0 and i-1 >= 0\n",
    " \n",
    " Time: O(n^2) to search for zeros + bubble up time = O(n^2)?\n",
    " \n",
    " BETTER:\n",
    " - "
   ]
  },
  {
   "cell_type": "markdown",
   "metadata": {},
   "source": [
    "### Microsoft: Stacking boxes\n",
    "\n",
    "https://leetcode.com/discuss/interview-question/386397/Microsoft-or-Phone-Screen-or-Stacking-Boxes"
   ]
  },
  {
   "cell_type": "code",
   "execution_count": null,
   "metadata": {},
   "outputs": [],
   "source": [
    "def f(arr):\n",
    "    \"\"\"\n",
    "    \n",
    "    sol =  [[2,3],[5,4],[6,4],[6,7]]\n",
    "              i  \n",
    "    \n",
    "    IDEAS:\n",
    "    - overlapping intervals?\n",
    "    - sort by width, then iterate and 'squash'\n",
    "    - do i have to worry about order?\n",
    "    - iterate over i\n",
    "    - move j until x conditon not met (and check y condition)\n",
    "\n",
    "    Time: O(n log n), Space: O(1)\n",
    "    \n",
    "\n",
    "    \"\"\""
   ]
  },
  {
   "cell_type": "markdown",
   "metadata": {},
   "source": [
    "### Leetcode: lowest common ancestor in binary tree"
   ]
  },
  {
   "cell_type": "code",
   "execution_count": 1,
   "metadata": {},
   "outputs": [
    {
     "ename": "NameError",
     "evalue": "name 'BST' is not defined",
     "output_type": "error",
     "traceback": [
      "\u001b[0;31m---------------------------------------------------------------------------\u001b[0m",
      "\u001b[0;31mNameError\u001b[0m                                 Traceback (most recent call last)",
      "\u001b[0;32m<ipython-input-1-993c6e7c92ce>\u001b[0m in \u001b[0;36m<module>\u001b[0;34m\u001b[0m\n\u001b[1;32m     32\u001b[0m     \u001b[0;32mreturn\u001b[0m \u001b[0msol\u001b[0m\u001b[0;34m.\u001b[0m\u001b[0mval\u001b[0m\u001b[0;34m\u001b[0m\u001b[0;34m\u001b[0m\u001b[0m\n\u001b[1;32m     33\u001b[0m \u001b[0;34m\u001b[0m\u001b[0m\n\u001b[0;32m---> 34\u001b[0;31m \u001b[0mtree\u001b[0m \u001b[0;34m=\u001b[0m \u001b[0mBST\u001b[0m\u001b[0;34m(\u001b[0m\u001b[0;32mNone\u001b[0m\u001b[0;34m)\u001b[0m\u001b[0;34m\u001b[0m\u001b[0;34m\u001b[0m\u001b[0m\n\u001b[0m\u001b[1;32m     35\u001b[0m \u001b[0mtree\u001b[0m\u001b[0;34m.\u001b[0m\u001b[0minsertVals\u001b[0m\u001b[0;34m(\u001b[0m\u001b[0;34m[\u001b[0m\u001b[0;36m3\u001b[0m\u001b[0;34m,\u001b[0m\u001b[0;36m5\u001b[0m\u001b[0;34m,\u001b[0m\u001b[0;36m1\u001b[0m\u001b[0;34m,\u001b[0m\u001b[0;36m6\u001b[0m\u001b[0;34m,\u001b[0m\u001b[0;36m2\u001b[0m\u001b[0;34m,\u001b[0m\u001b[0;36m0\u001b[0m\u001b[0;34m,\u001b[0m\u001b[0;36m8\u001b[0m\u001b[0;34m,\u001b[0m\u001b[0;36m7\u001b[0m\u001b[0;34m,\u001b[0m\u001b[0;36m4\u001b[0m\u001b[0;34m]\u001b[0m\u001b[0;34m)\u001b[0m\u001b[0;34m\u001b[0m\u001b[0;34m\u001b[0m\u001b[0m\n\u001b[1;32m     36\u001b[0m \u001b[0mroot\u001b[0m \u001b[0;34m=\u001b[0m \u001b[0mtree\u001b[0m\u001b[0;34m.\u001b[0m\u001b[0mroot\u001b[0m\u001b[0;34m\u001b[0m\u001b[0;34m\u001b[0m\u001b[0m\n",
      "\u001b[0;31mNameError\u001b[0m: name 'BST' is not defined"
     ]
    }
   ],
   "source": [
    "def LCA(root,p,q):\n",
    "    \"\"\"\n",
    "    \n",
    "    Ideas:\n",
    "    - BFS for both p and q, then compare paths?\n",
    "    - is path unique? yes\n",
    "    \"\"\"\n",
    "    \n",
    "    queue = [(root,[root])]\n",
    "    path_p, path_q = [], []\n",
    "    while queue and (not path_p or not path_q):\n",
    "        node,path = queue.pop(0)\n",
    "        \n",
    "        #check paths\n",
    "        if node.val == p:\n",
    "            path_p = path + [node]\n",
    "        if node.val == q:\n",
    "            path_q = path + [node]\n",
    "        \n",
    "        #add neighbours\n",
    "        if node.left:\n",
    "            queue.append((node.left,path+[node.left]))\n",
    "        if node.right:\n",
    "            queue.append((node.right,path+[node.right]))\n",
    "\n",
    "    #compare paths\n",
    "    print('path_p = {}'.format([x.val for x in path_p]))\n",
    "    print('path_q = {}'.format(path_q))\n",
    "    while path_p[0].val == path_q[0].val:\n",
    "        sol = path_p.pop(0)\n",
    "        path_q.pop(0)\n",
    "    return sol.val\n",
    "        \n",
    "tree = BST(None)   #from data-structures file\n",
    "tree.insertVals([3,5,1,6,2,0,8,7,4])\n",
    "root = tree.root\n",
    "LCA(root,4,8)"
   ]
  },
  {
   "cell_type": "markdown",
   "metadata": {},
   "source": [
    "### Num coins\n",
    "\n",
    "You are given coins of different denominations and a total amount of money amount. Write a function to compute the fewest number of coins that you need to make up that amount. If that amount of money cannot be made up by any combination of the coins, return -1\n",
    "\n",
    "\n",
    "Input: coins = [1, 2, 5], amount = 11\n",
    "Output: 3 \n",
    "Explanation: 11 = 5 + 5 + 1\n",
    "\n",
    "Input: coins = [2], amount = 3\n",
    "Output: -1\n",
    "\n",
    "322. Coin Change"
   ]
  },
  {
   "cell_type": "code",
   "execution_count": 54,
   "metadata": {},
   "outputs": [
    {
     "data": {
      "text/plain": [
       "[0, -1, 1, -1, 2, -1, 3, -1, 4, -1, 5]"
      ]
     },
     "execution_count": 54,
     "metadata": {},
     "output_type": "execute_result"
    }
   ],
   "source": [
    "coins = [2]\n",
    "amount = 10\n",
    "\n",
    "D = [0]*(amount+1)\n",
    "for i in range(1,len(D)):\n",
    "    temp = [D[i-j] for j in coins if (i-j)>=0 and D[i-j] != -1]\n",
    "    if temp:\n",
    "        D[i] = 1 + min(temp)\n",
    "    else:\n",
    "        D[i] = -1\n",
    "D"
   ]
  },
  {
   "cell_type": "markdown",
   "metadata": {},
   "source": [
    "### Find median of two sorted arrays -- not yet finished"
   ]
  },
  {
   "cell_type": "code",
   "execution_count": 61,
   "metadata": {},
   "outputs": [
    {
     "data": {
      "text/plain": [
       "[1, 3, 4, 10, 11, 12, 13]"
      ]
     },
     "execution_count": 61,
     "metadata": {},
     "output_type": "execute_result"
    }
   ],
   "source": [
    "import numpy as np\n",
    "\n",
    "x = [1,10,11,12]\n",
    "y = [3,4,13]\n",
    "\n",
    "sorted(x+y)"
   ]
  },
  {
   "cell_type": "code",
   "execution_count": null,
   "metadata": {},
   "outputs": [],
   "source": [
    "def median(x,y):\n",
    "    \"\"\"\n",
    "    \n",
    "    Define i as x_i, s.t x_{i+1} in right half of joined array\n",
    "           j as y_j, s.t. y_{j+1} in right half of joined array\n",
    "    \n",
    "    Two conditions:\n",
    "    \n",
    "    (i) i + j  = (m+n) // 2 \n",
    "    (ii) if x_i > y_j\n",
    "            y_{j} <= x_i <= y_{j+1}\n",
    "         else:\n",
    "            x_{i} <= y_j <= x_{i+1}\n",
    "            \n",
    "    So can eliminate j, and do a binary search?\n",
    "           \n",
    "    \"\"\"\n",
    "\n",
    "    "
   ]
  },
  {
   "cell_type": "code",
   "execution_count": 95,
   "metadata": {},
   "outputs": [
    {
     "name": "stdout",
     "output_type": "stream",
     "text": [
      "true sol = 11\n",
      "i,j,r,l = 2, 2, 0, 5\n",
      "i,j,r,l = 4, 0, 3, 5\n",
      "i,j,r,l = 5, -1, 5, 5\n",
      "guess sol = 16\n"
     ]
    }
   ],
   "source": [
    "def binarySearch(arr,target):\n",
    "    l,r = 0, len(arr)-1\n",
    "    while l <= r:\n",
    "        mid = (r+l) // 2\n",
    "        if arr[mid] < target:\n",
    "            l = mid + 1\n",
    "        elif arr[mid] > target:\n",
    "            r = mid - 1\n",
    "        else:\n",
    "            return mid\n",
    "    return False\n",
    "\n",
    "\n",
    "def medianSortedArrays(x,y):\n",
    "    n,m = len(x), len(y)\n",
    "    l, r = 0, len(x) - 1\n",
    "    while l <= r:\n",
    "        i = (r+l) // 2\n",
    "        j = ((m+n-1) // 2) - i\n",
    "        \n",
    "        print('i,j,r,l = {}, {}, {}, {}'.format(i,j,l,r))\n",
    "        \n",
    "        #first make sure j is legal\n",
    "        if j > m-1:\n",
    "            l = i + 1\n",
    "        elif j < 0:\n",
    "            r = i - 1\n",
    "            \n",
    "        #then do check\n",
    "        elif j+1 > m-1 or x[i] > y[j+1]:\n",
    "            l = i+1\n",
    "        elif x[i] < y[j]:\n",
    "            r = i-1\n",
    "        elif y[j] <= x[i] <= y[j+1]:\n",
    "            return x[i]\n",
    "\n",
    "    return x[l]\n",
    "\n",
    "x = [1,10,11,12,15,16]\n",
    "y = [3,4,13]\n",
    "\n",
    "\n",
    "print('true sol = {}'.format(f(x,y)))\n",
    "print('guess sol = {}'.format(medianSortedArrays(x,y)))"
   ]
  },
  {
   "cell_type": "markdown",
   "metadata": {},
   "source": [
    "### Transformation exists\n",
    "\n",
    "(x,y) --> (x, y+x) or (x+y, y)\n",
    "\n",
    "Can you get from (sx,sy) to (tx,ty)   where x,y, in Z^2?\n",
    "\n",
    "Sol"
   ]
  },
  {
   "cell_type": "code",
   "execution_count": 11,
   "metadata": {},
   "outputs": [],
   "source": [
    "def f(sx,sy,tx,ty):\n",
    "    \"\"\"\n",
    "    \n",
    "    Idea: \n",
    "    - start at (tx,ty)\n",
    "    - if there is a path to (tx,ty), then path to (tx-ty, ty) AND path to (tx,tx-ty)\n",
    "    - so, only need to explore (tx-ty,ty) OR (tx,ty-tx)\n",
    "    - recursing, we see we only need to explore a verical jump to tx == sx\n",
    "      or a horizontal jump to the line x = sy\n",
    "    - in other words, need to check if ty is a multiple of (tx-sx)? and tx is a multiple of (ty-sy)?\n",
    "    \n",
    "    \"\"\"\n",
    "    \n",
    "    #edge case\n",
    "    if sx > tx or sy > ty:\n",
    "        return False\n",
    "\n",
    "    #Get as close to sx and sy as possible\n",
    "    #Idea: clean this up using remainder\n",
    "    while tx > sx and ty > sy:\n",
    "        if tx > ty:\n",
    "            k = (tx-sx) // ty\n",
    "            tx -= k*ty\n",
    "        else:\n",
    "            k = (ty-sy) // tx\n",
    "            ty -= k*tx\n",
    "\n",
    "        #If not a multiple, then no solution\n",
    "        if k < 1:\n",
    "            return False\n",
    "\n",
    "    print('sx,sy = {},{}'.format(sx,sy))\n",
    "    print('tx,ty = {}, {}'.format(tx,ty))\n",
    "    print('x,y = {},{}'.format(tx,ty))\n",
    "\n",
    "    #Now check if hit the target\n",
    "    #Could hit it exactly, up y be a multiple of it\n",
    "    if (tx-sx) % ty == 0 and (ty-sy) % tx == 0:\n",
    "        return True\n",
    "    return False"
   ]
  },
  {
   "cell_type": "markdown",
   "metadata": {},
   "source": [
    "### Same as above,\n",
    "\n",
    "But neet to count number of paths. Then do DP and count\n",
    "\n",
    "Time: O(n^2)\n",
    "Space: O(n^2)\n",
    "\n",
    "n = max(tx-sx,ty-sy)\n",
    "\n",
    "Do bottom up, have to scan over entire plane\n",
    "Do top down, only need to scan 'patched' plane -- better"
   ]
  },
  {
   "cell_type": "code",
   "execution_count": 10,
   "metadata": {},
   "outputs": [
    {
     "data": {
      "text/plain": [
       "1"
      ]
     },
     "execution_count": 10,
     "metadata": {},
     "output_type": "execute_result"
    }
   ],
   "source": [
    "(sx,sy) = (1,1)\n",
    "(tx,ty) = (16,3)\n",
    "\n",
    "#Set up\n",
    "M = {}\n",
    "M[(sx,sy)] = 1\n",
    "\n",
    "#Iterate\n",
    "for i in range(sx,tx+1):\n",
    "    for j in range(sy, ty+1):\n",
    "        temp1 = M[(i,j-i)] if (i,j-i) in M else 0\n",
    "        temp2 = M[(i-j,j)] if (i-j,j) in M else 0\n",
    "        if temp1 > 0 or temp2 > 0:\n",
    "            M[(i,j)] = temp1 + temp2\n",
    "            \n",
    "\n",
    "M[(tx,ty)] if (tx,ty) in M else 0 "
   ]
  },
  {
   "cell_type": "code",
   "execution_count": 33,
   "metadata": {},
   "outputs": [
    {
     "data": {
      "text/plain": [
       "[4, 5, 0, 2, 3, 1]"
      ]
     },
     "execution_count": 33,
     "metadata": {},
     "output_type": "execute_result"
    }
   ],
   "source": [
    "import networkx as nx\n",
    "\n",
    "def dfs(G):\n",
    "    \n",
    "    visited = set()\n",
    "    stack = []\n",
    "    \n",
    "    def helper(G,node):\n",
    "        for n in G[node]:\n",
    "            if n not in visited:\n",
    "                visited.add(n)\n",
    "                helper(G,n)\n",
    "        stack.insert(0,node)\n",
    "\n",
    "    \n",
    "    for n in G.nodes():\n",
    "        if n not in visited:\n",
    "            helper(G,n)\n",
    "            \n",
    "    return stack\n",
    "\n",
    "G = nx.DiGraph() \n",
    "G.add_edge(5, 2); \n",
    "G.add_edge(5, 0); \n",
    "G.add_edge(4, 0); \n",
    "G.add_edge(4, 1); \n",
    "G.add_edge(2, 3); \n",
    "G.add_edge(3, 1);\n",
    "dfs(G)"
   ]
  },
  {
   "cell_type": "markdown",
   "metadata": {},
   "source": [
    "### Merge intervals\n",
    "\n",
    "Not finished"
   ]
  },
  {
   "cell_type": "code",
   "execution_count": 60,
   "metadata": {},
   "outputs": [
    {
     "name": "stdout",
     "output_type": "stream",
     "text": [
      "i = 0: l, n, r = None, [1, 2], [4, 8]\n"
     ]
    },
    {
     "data": {
      "text/plain": [
       "[[1, 2], [4, 8], [3, 5], [6, 7], [8, 10], [12, 16]]"
      ]
     },
     "execution_count": 60,
     "metadata": {},
     "output_type": "execute_result"
    }
   ],
   "source": [
    "class Solution(object):\n",
    "    def insert(self, intervals, newInterval):\n",
    "        \"\"\"\n",
    "        :type intervals: List[List[int]]\n",
    "        :type newInterval: List[int]\n",
    "        :rtype: List[List[int]]\n",
    "        \n",
    "        Ideas:\n",
    "        - check if overlap\n",
    "        - merge, check for merge cascase\n",
    "        \n",
    "        find overlap\n",
    "        - scan through list until found a merge\n",
    "        - then do merge\n",
    "        - then check for merge cascade\n",
    "        \n",
    "        - find position in list (check if newIx > I[i].x for first time)\n",
    "        - then check if is it overlaps with left neighbour\n",
    "        - if yes, merge.\n",
    "        - this could trigger a merge right cascade\n",
    "        - while I[i] overlaps with I[i+1]\n",
    "        - merge \n",
    "        \n",
    "        - if there's no overlaps, just insert\n",
    "        - So need an overLap check, and a merge\n",
    "        - Need to do the merge in place...\n",
    "        \n",
    "        newI = [4,5]\n",
    "        I = [[1,3], [6,9]]\n",
    "                   i\n",
    "                   \n",
    "        Plan:\n",
    "        - find position to insert\n",
    "        - insert\n",
    "        - while overlap(left) or overlap(right)\n",
    "        - merge\n",
    "                \n",
    "        \"\"\"\n",
    "        \n",
    " \n",
    "        i, intervals = self.insertToList(intervals, newInterval)\n",
    "            \n",
    "            \n",
    "        #Now, while there is overlap, merge left, then merge right\n",
    "        left = intervals[i-1] if i-1 >= 0 else None\n",
    "        new = intervals[i]\n",
    "        right = intervals[i+1] if i+1 < len(intervals) else None\n",
    "        \n",
    "        print('i = {}: l, n, r = {}, {}, {}'.format(i,left,new,right))\n",
    "        \n",
    "        while self.overlap(left,new) or self.overlap(new,right):\n",
    "            \n",
    "            #Do merge\n",
    "            if self.overlap(left,new):\n",
    "                mergedInterval = self.merge(left,new)\n",
    "                intervals[i-1] = mergedInterval\n",
    "                del intervals[i]  #must be cleaner way to do this\n",
    "            else:\n",
    "                mergedInterval = self.merge(new,right)\n",
    "                print('i, mergedInterval, intervals = {}, {}, {}'.format(i,mergedInterval,intervals))\n",
    "                intervals[i] = mergedInterval\n",
    "                del intervals[i+1]\n",
    "                \n",
    "            #Update\n",
    "            left = intervals[i-1] if i-1 >= 0 else None\n",
    "            new = intervals[i]\n",
    "            right = intervals[i+1] if i+1 < len(intervals) else None\n",
    "                \n",
    "        return intervals\n",
    "    \n",
    "    \n",
    "    def insertToList(self,intervals, newInterval):\n",
    "        \"\"\" Inserts into the merged list\n",
    "            and respects order. i is position of \n",
    "        \"\"\"\n",
    "        for i in range(len(intervals)):\n",
    "            if newInterval[0] > intervals[i][0]:\n",
    "                break\n",
    "        intervals = intervals[:i+1] + [newInterval] + intervals[i+1:]\n",
    "        return i, intervals\n",
    "        \n",
    "    \n",
    "        \n",
    "    def overlap(self,i1,i2):\n",
    "        \"\"\"\n",
    "        \n",
    "        Assume i1 starts before i2.\n",
    "        Then there is an overlap if i2 begins\n",
    "        beefore i1 ends\n",
    "\n",
    "        \"\"\"\n",
    "        \n",
    "        if i1 is None or i2 is None:\n",
    "            return False\n",
    "\n",
    "        i1,i2 = sorted([i1,i2])  #i1 starts before i2\n",
    "        start1, end1 = i1\n",
    "        start2, end2 = i2\n",
    "        return start2 <= end1\n",
    "    \n",
    "    \n",
    "    def merge(self,i1,i2):\n",
    "        \"\"\"\n",
    "        \n",
    "        i1 = [start1,end1]\n",
    "        i2 = [start2,end2]\n",
    "        \n",
    "        i_new = [min(s1,s2), max(e1,e2)]\n",
    "        \n",
    "        \"\"\"\n",
    "        \n",
    "        start1, end1 = i1\n",
    "        start2, end2 = i2\n",
    "        return [min(start1,start2), max(end1,end2)]\n",
    "        \n",
    "sol = Solution()\n",
    "intervals = [[1,2],[3,5],[6,7],[8,10],[12,16]]\n",
    "newInterval = [4,8]\n",
    "sol.insert(intervals,newInterval)"
   ]
  },
  {
   "cell_type": "markdown",
   "metadata": {},
   "source": [
    "### Smallest palindrome"
   ]
  },
  {
   "cell_type": "code",
   "execution_count": 5,
   "metadata": {},
   "outputs": [
    {
     "data": {
      "text/plain": [
       "'abb'"
      ]
     },
     "execution_count": 5,
     "metadata": {},
     "output_type": "execute_result"
    }
   ],
   "source": [
    "def isPalindrome(s):\n",
    "    return s == s[::-1]\n",
    "\n",
    "s = \"aabba\"\n",
    "\n",
    "sol = s[::-1] + s\n",
    "\n",
    "while s[0] == s[-1]:\n",
    "    s = s[1:-1]\n",
    "s"
   ]
  },
  {
   "cell_type": "code",
   "execution_count": 3,
   "metadata": {},
   "outputs": [
    {
     "data": {
      "text/plain": [
       "True"
      ]
     },
     "execution_count": 3,
     "metadata": {},
     "output_type": "execute_result"
    }
   ],
   "source": [
    "\n",
    "\n",
    "isPalindrome(sol)"
   ]
  },
  {
   "cell_type": "code",
   "execution_count": null,
   "metadata": {},
   "outputs": [],
   "source": []
  }
 ],
 "metadata": {
  "kernelspec": {
   "display_name": "Python 3",
   "language": "python",
   "name": "python3"
  },
  "language_info": {
   "codemirror_mode": {
    "name": "ipython",
    "version": 3
   },
   "file_extension": ".py",
   "mimetype": "text/x-python",
   "name": "python",
   "nbconvert_exporter": "python",
   "pygments_lexer": "ipython3",
   "version": "3.7.1"
  }
 },
 "nbformat": 4,
 "nbformat_minor": 2
}
