{
 "cells": [
  {
   "cell_type": "markdown",
   "metadata": {},
   "source": [
    "# Introduction\n",
    "\n",
    "Problems from leetcode\n",
    "\n",
    "### Autocomplete"
   ]
  },
  {
   "cell_type": "code",
   "execution_count": 60,
   "metadata": {},
   "outputs": [
    {
     "data": {
      "text/plain": [
       "[(2, 'i love leetcode'), (2, 'ironman'), (3, 'island'), (5, 'i love you')]"
      ]
     },
     "execution_count": 60,
     "metadata": {},
     "output_type": "execute_result"
    }
   ],
   "source": [
    "from heapq import heappop, heappush\n",
    "from collections import defaultdict\n",
    "\n",
    "class AutocompleteSystem:\n",
    "\n",
    "    def __init__(self, sentences, times):\n",
    "        self.cache = defaultdict(int)\n",
    "        for s,t in zip(sentences, times):\n",
    "            self.cache[s] = t\n",
    "            self.past_prefix = ''\n",
    "\n",
    "    def inp(self, c):\n",
    "        \"\"\"\n",
    "        \n",
    "        BRUTE FORCE:\n",
    "        - select top k from list that match c\n",
    "        \n",
    "        Search: Time: O(n*logk), Space: O(k)\n",
    "        Insert: Time: O(1)\n",
    "        \n",
    "        Ex: s = 'i love'\n",
    "        \n",
    "        BETTER:\n",
    "        - use an ordered dict?\n",
    "        - that way I can stop after the first three hits?\n",
    "        - (but are ordered dicts just a hash?)\n",
    "        \n",
    "        - searching ordered dict --> O(n)  \n",
    "        - inserting to dict -->  O(log n)\n",
    "        \n",
    "        \n",
    "        TO DO / CONSIDER:\n",
    "        - equal frequency sentences\n",
    "        - no matches \n",
    "        \n",
    "        \"\"\"\n",
    "                \n",
    "        #Do the autocompletion\n",
    "        if c != '#':\n",
    "        \n",
    "            prefix = self.past_prefix + c\n",
    "            self.past_prefix = prefix\n",
    "\n",
    "            #Return top 3 candidates that match the prompt\n",
    "            l = len(prefix)\n",
    "            heap = []\n",
    "            for sentence, time in self.cache.items():\n",
    "                if sentence[:l] == prefix:\n",
    "                    if len(heap) < 3:\n",
    "                        heappush(heap,(time,sentence))\n",
    "                    else:\n",
    "                        #keep equal matches\n",
    "                        if time == heap[0][0]:\n",
    "                            heappush(heap,(time,sentence))\n",
    "                        elif time > heap[0][0]: \n",
    "                            heappop(heap)\n",
    "                            heappush(heap,(time,sentence))\n",
    "            return heap\n",
    "\n",
    "        #Add new sentence to cache\n",
    "        else:\n",
    "            new_sentence = self.past_prefix\n",
    "            self.cache[new_sentence] += 1\n",
    "            self.past_prefix = ''\n",
    "            return []\n",
    "\n",
    "#Set up\n",
    "sentences = ['i love you', 'island','ironman','i love leetcode']\n",
    "times = [5,3,2,2]\n",
    "obj = AutocompleteSystem(sentences, times)\n",
    "\n",
    "#Start the prompt\n",
    "obj.inp('i')\n",
    "#obj.inp(' ')\n",
    "#obj.inp('a')\n",
    "#obj.inp('#')"
   ]
  },
  {
   "cell_type": "code",
   "execution_count": 59,
   "metadata": {},
   "outputs": [
    {
     "data": {
      "text/plain": [
       "[(2, 'i love leetcode'), (2, 'ironman'), (3, 'island'), (5, 'i love you')]"
      ]
     },
     "execution_count": 59,
     "metadata": {},
     "output_type": "execute_result"
    }
   ],
   "source": [
    "heap = [(2, 'i love leetcode'), (2, 'ironman'), (3, 'island'), (5, 'i love you')]\n",
    "heap"
   ]
  },
  {
   "cell_type": "code",
   "execution_count": 38,
   "metadata": {},
   "outputs": [
    {
     "data": {
      "text/plain": [
       "['i a', 'i love leetcode', 'i love you', 'ironman', 'island']"
      ]
     },
     "execution_count": 38,
     "metadata": {},
     "output_type": "execute_result"
    }
   ],
   "source": [
    "temp = obj.cache\n",
    "sorted(temp.keys())"
   ]
  },
  {
   "cell_type": "code",
   "execution_count": 40,
   "metadata": {},
   "outputs": [
    {
     "ename": "NameError",
     "evalue": "name 'tmep' is not defined",
     "output_type": "error",
     "traceback": [
      "\u001b[0;31m---------------------------------------------------------------------------\u001b[0m",
      "\u001b[0;31mNameError\u001b[0m                                 Traceback (most recent call last)",
      "\u001b[0;32m<ipython-input-40-7ee1f45b19fc>\u001b[0m in \u001b[0;36m<module>\u001b[0;34m\u001b[0m\n\u001b[1;32m      1\u001b[0m \u001b[0mtemp\u001b[0m\u001b[0;34m[\u001b[0m\u001b[0;34m'i a'\u001b[0m\u001b[0;34m]\u001b[0m \u001b[0;34m+=\u001b[0m \u001b[0;36m7\u001b[0m\u001b[0;34m\u001b[0m\u001b[0;34m\u001b[0m\u001b[0m\n\u001b[0;32m----> 2\u001b[0;31m \u001b[0mtmep\u001b[0m\u001b[0;34m\u001b[0m\u001b[0;34m\u001b[0m\u001b[0m\n\u001b[0m",
      "\u001b[0;31mNameError\u001b[0m: name 'tmep' is not defined"
     ]
    }
   ],
   "source": [
    "temp['i a'] += 7"
   ]
  },
  {
   "cell_type": "code",
   "execution_count": 61,
   "metadata": {},
   "outputs": [
    {
     "name": "stdout",
     "output_type": "stream",
     "text": [
      "k,v = i love you,5\n",
      "k,v = island,3\n",
      "k,v = ironman,2\n",
      "k,v = i love leetcode,2\n",
      "k,v = i a,8\n"
     ]
    }
   ],
   "source": [
    "for k,v in temp.items():\n",
    "    print('k,v = {},{}'.format(k,v))"
   ]
  },
  {
   "cell_type": "markdown",
   "metadata": {},
   "source": [
    "### Alien dictionary"
   ]
  },
  {
   "cell_type": "code",
   "execution_count": 80,
   "metadata": {},
   "outputs": [
    {
     "data": {
      "text/plain": [
       "['x', 'z']"
      ]
     },
     "execution_count": 80,
     "metadata": {},
     "output_type": "execute_result"
    }
   ],
   "source": [
    "from collections import defaultdict\n",
    "\n",
    "def f(s):\n",
    "    \"\"\"\n",
    "    \n",
    "    Ex:\n",
    "    \n",
    "    s = [\"wrt\",\"wrf\",\"er\", \"ett\", \"rftt\"]\n",
    "    out = wertf\n",
    "    \n",
    "    IDEAS:\n",
    "    - topological sort?\n",
    "    - draw graph\n",
    "    - then do topological sort\n",
    "    - if there is no topological sort, then return ''\n",
    "    \n",
    "    Time: O(V + E) = O(n + m), where n = len(s), m = max len(s_i)\n",
    "    Space: O(n + m)\n",
    "        \n",
    "    But expect Time to be smaller in practice    \n",
    "    \n",
    "    \"\"\"\n",
    "    \n",
    "    G = make_graph(s)\n",
    "    result = topological_sort(G)\n",
    "    return result if result else ''\n",
    "\n",
    "def make_graph(s):\n",
    "    G = defaultdict(list)\n",
    "    for word in s:\n",
    "        if len(word) == 1:\n",
    "            G[word[0]] = []\n",
    "        else:\n",
    "            for i in range(len(word)-1):\n",
    "                curr,nxt = word[i], word[i+1]\n",
    "                if nxt not in G[curr]:\n",
    "                    G[curr].append(nxt)\n",
    "    return G\n",
    "\n",
    "def topological_sort(G):\n",
    "    \n",
    "    result = []\n",
    "    visited = set()\n",
    "    \n",
    "    def helper(G,node):\n",
    "        visited.add(node)\n",
    "        for n in G[node]:\n",
    "            if n not in visited:\n",
    "                helper(G,n)\n",
    "        result.insert(0,node)  #put parent nodes at front\n",
    "        \n",
    "    for node in G.keys():\n",
    "        if node not in visited:\n",
    "            helper(G,node)\n",
    "    return result\n",
    "\n",
    "\n",
    "s = [\"wrt\",\"wrf\",\"er\", \"ett\", \"rftt\"]\n",
    "s = ['z','x','z']\n",
    "G = make_graph(s)\n",
    "topological_sort(G)"
   ]
  },
  {
   "cell_type": "code",
   "execution_count": 90,
   "metadata": {},
   "outputs": [
    {
     "data": {
      "text/plain": [
       "['a', 'b', 'c', 'd']"
      ]
     },
     "execution_count": 90,
     "metadata": {},
     "output_type": "execute_result"
    }
   ],
   "source": [
    "G = {'a':['b'], 'b':['c'], 'c':['d'],'d':[]}\n",
    "topological_sort(G)"
   ]
  },
  {
   "cell_type": "code",
   "execution_count": 91,
   "metadata": {},
   "outputs": [
    {
     "name": "stdout",
     "output_type": "stream",
     "text": [
      "path = ['a']\n",
      "path = ['a', 'b']\n",
      "path = ['a', 'b', 'c']\n",
      "path = ['a', 'b', 'c', 'd']\n"
     ]
    },
    {
     "data": {
      "text/plain": [
       "False"
      ]
     },
     "execution_count": 91,
     "metadata": {},
     "output_type": "execute_result"
    }
   ],
   "source": [
    "def detect_cycle(G,start):\n",
    "    visited = set()\n",
    "    stack = [(start,[start])]\n",
    "    while stack:\n",
    "        node, path = stack.pop(-1)\n",
    "        visited.add(node)\n",
    "        print('path = {}'.format(path))\n",
    "        for n in G[node]:\n",
    "            if n in path:\n",
    "                return True\n",
    "            if n not in visited:                \n",
    "                stack.append((n,path+[n]))\n",
    "    return False\n",
    "\n",
    "G = {'a':['b'], 'b':['c'], 'c':['d'],'d':[]}\n",
    "detect_cycle(G,'a')"
   ]
  },
  {
   "cell_type": "markdown",
   "metadata": {},
   "source": [
    "### Decode ways a given signal can be encoded"
   ]
  },
  {
   "cell_type": "code",
   "execution_count": 146,
   "metadata": {},
   "outputs": [
    {
     "data": {
      "text/plain": [
       "[['a', 'b', 'c'], ['a', 'bc'], ['ab', 'c'], ['abc']]"
      ]
     },
     "execution_count": 146,
     "metadata": {},
     "output_type": "execute_result"
    }
   ],
   "source": [
    "from functools import lru_cache\n",
    "\n",
    "#@lru_cache(maxsize=None)\n",
    "def f(s):\n",
    "    \"\"\"\n",
    "    \n",
    "    BRUTE FORCE:\n",
    "    - enumerate all 'permutations'\n",
    "    - count allowable ones\n",
    "    \n",
    "    Time: O(n!), Space: O(1)\n",
    "    \n",
    "    BETTER:\n",
    "    - recursion with caching\n",
    "    \n",
    "    Time: O(n), Space: O(n)\n",
    "    \n",
    "    \"\"\"\n",
    "            \n",
    "    if len(s) == 0:\n",
    "        yield 'flag'       \n",
    "    if len(s) == 1:\n",
    "        yield [s]\n",
    "    else:\n",
    "        for i in range(1,len(s)+1):  # s = 'abc'. first: 'a, bc', last: '', 'abc'\n",
    "            left, right = s[:i], s[i:]\n",
    "            for p in f(right):\n",
    "                if p != 'flag':\n",
    "                    yield [left] + p\n",
    "                else:\n",
    "                    yield [left]  \n",
    "                    \n",
    "s = 'abc'\n",
    "list(f(s))"
   ]
  },
  {
   "cell_type": "code",
   "execution_count": 190,
   "metadata": {},
   "outputs": [
    {
     "name": "stdout",
     "output_type": "stream",
     "text": [
      "i, s[i-1:i+1] = 1,1\n"
     ]
    },
    {
     "data": {
      "text/plain": [
       "[1, 1]"
      ]
     },
     "execution_count": 190,
     "metadata": {},
     "output_type": "execute_result"
    }
   ],
   "source": [
    "def dp(s):\n",
    "    \"\"\"\n",
    "    \n",
    "    Simpler case: pretend there is map for all two digits numbers: 1->A, ... 99->Z!\n",
    "    \n",
    "    P[i] = number of ways s_1, ... s_{i} can be sorted\n",
    "        \n",
    "    Boundary conditions\n",
    "    P[0] = 0\n",
    "    P[1] = 1\n",
    "    P[2] = 2\n",
    "    P[3] = ?\n",
    "    \n",
    "    Ex: s = '1215'\n",
    "    \n",
    "    P[1] = [1]\n",
    "    P[2] = [[1,2],[12]]\n",
    "    \n",
    "    P[3] = [[1,2,1],[12,1]]\n",
    "    P[4] = [[1,2,1,5],[12,1,5], |||, [1,2,15], [12,15] ]  \n",
    "    \n",
    "    - third number can only pair with neighbour?\n",
    "    \n",
    "    if 0 < s[i] <= 0:\n",
    "        P[i] = P[i-1]\n",
    "    if 0 < s[i-1:i+1] <= 26:\n",
    "        P[i] = P[i-2] + 1 ?\n",
    "        \n",
    "    \"\"\"\n",
    "    \n",
    "    #edge case\n",
    "    if s[0] == '0':a\n",
    "        return 0\n",
    "    if len(s) == 0:\n",
    "        return 0\n",
    "    \n",
    "    #BCs\n",
    "    P = [0]*(len(s)+1)\n",
    "    P[0] = 1 \n",
    "    \n",
    "    for i in range(1,len(s)+1):\n",
    "        j = i-1\n",
    "        \n",
    "        #single digits\n",
    "        if 0 < int(s[j]) <= 9:\n",
    "            P[i] = P[i-1]\n",
    "        \n",
    "        #double digits\n",
    "        #print('i, s[i-1:i+1] = {},{}'.format(i, s[j-1:j+1]))\n",
    "        if s[j-1:j+1] and 10 <= int(s[j-1:j+1]) <= 26:\n",
    "            P[i] += P[i-2]\n",
    "            \n",
    "    return P\n",
    "\n",
    "s = '1'\n",
    "dp(s)"
   ]
  },
  {
   "cell_type": "markdown",
   "metadata": {},
   "source": [
    "### The skyline problem\n",
    "\n",
    "Not yet finished."
   ]
  },
  {
   "cell_type": "code",
   "execution_count": null,
   "metadata": {},
   "outputs": [],
   "source": [
    "from heapq import heappush\n",
    "\n",
    "def f(buildings):\n",
    "    \n",
    "    curr_building = 0\n",
    "    events = make_events(building)\n",
    "    heap = []\n",
    "    \n",
    "    for (x,H,i) in events[1]:\n",
    "        \n",
    "        #if building in heap, then have to jump --> KP\n",
    "        if (H,i) in heap:\n",
    "            heap.del((H,i))\n",
    "            (H_new, new_building) = heap[0]\n",
    "            sols.append[(x,H_new)]\n",
    "            curr_building\n",
    "        \n",
    "        #if building not in heap, then add to heap\n",
    "        \n",
    "        #and check if new jump\n",
    "    \n",
    "def make_events(buildings)"
   ]
  },
  {
   "cell_type": "markdown",
   "metadata": {},
   "source": [
    "### Subsequences with m odd number"
   ]
  },
  {
   "cell_type": "code",
   "execution_count": 24,
   "metadata": {},
   "outputs": [
    {
     "name": "stdout",
     "output_type": "stream",
     "text": [
      "l0, l, r0, r, tmep = 0, 2, 4, 5, 6\n",
      "l0, l, r0, r, tmep = 2, 4, 6, 7, 6\n"
     ]
    },
    {
     "data": {
      "text/plain": [
       "12"
      ]
     },
     "execution_count": 24,
     "metadata": {},
     "output_type": "execute_result"
    }
   ],
   "source": [
    "def f(arr,m):\n",
    "    \"\"\"\n",
    "    \n",
    "    Ex: \n",
    "    arr = [2,5,6,9], m = 2\n",
    "    sol = [2,5,6,9], [5,6,9]\n",
    "    \n",
    "    \n",
    "    IDEAS:\n",
    "    - use two pointer solution\n",
    "    - move r until num odd = m, record as r0\n",
    "    - move r until arr[r+1] = odd,\n",
    "    - record l0\n",
    "    - move l until num odd < m \n",
    "    - now count all subarrays with starts in [l0,l] and ends in [r0,r]\n",
    "    - repeat\n",
    "    \n",
    "    Ex:    0 1 2 3 4 5 6\n",
    "    arr = [2,2,5,6,9,2,11], m = 2\n",
    "               l0\n",
    "                   l\n",
    "                       r0\n",
    "                        r  \n",
    "                 \n",
    "        sols = 0\n",
    "        num_odd = 2\n",
    "    \n",
    "    \"\"\"\n",
    "    \n",
    "    n = len(arr)\n",
    "    l, l0 = 0, 0\n",
    "    r, r0 = 0, 0\n",
    "    num_odd, count = 0, 0\n",
    "    while r < n:\n",
    "        \n",
    "        #move right until num of odd > m\n",
    "        while num_odd < m and r < n:\n",
    "            if arr[r] % 2 != 0:\n",
    "                num_odd += 1\n",
    "            r += 1\n",
    "        \n",
    "        #record r0, and move r until NEXT element is odd\n",
    "        r0 = r-1\n",
    "        while r + 1 < n and arr[r+1] % 2 == 0:\n",
    "            r += 1\n",
    "        \n",
    "        #record l0\n",
    "        l0 = l\n",
    "        \n",
    "        #move l until num odd < m\n",
    "        while num_odd >= m and l < r:\n",
    "            l += 1\n",
    "            if arr[l] % 2 != 0:\n",
    "                num_odd -= 1\n",
    "                \n",
    "        #now record count\n",
    "        temp = (l-l0+1)*(r-r0+1)\n",
    "        count += temp\n",
    "        print('l0, l, r0, r, tmep = {}, {}, {}, {}, {}'.format(l0,l,r0,r,temp))\n",
    "        \n",
    "    return count\n",
    "\n",
    "m = 2\n",
    "#arr = [2,5,6,9]\n",
    "arr = [2, 2, 5, 6, 9, 2, 11]\n",
    "f(arr,m)"
   ]
  },
  {
   "cell_type": "markdown",
   "metadata": {},
   "source": [
    "### Microsoft: card game\n",
    "\n",
    "https://leetcode.com/discuss/interview-question/482921/Microsoft-or-Phone-or-Design-Card-Game"
   ]
  },
  {
   "cell_type": "code",
   "execution_count": 28,
   "metadata": {},
   "outputs": [
    {
     "data": {
      "text/plain": [
       "['10S',\n",
       " 'AD',\n",
       " 'JS',\n",
       " '5H',\n",
       " '7H',\n",
       " '3H',\n",
       " 'JD',\n",
       " '2D',\n",
       " '10H',\n",
       " '10D',\n",
       " '3D',\n",
       " 'QS',\n",
       " 'KC',\n",
       " 'AH',\n",
       " '6H',\n",
       " '6S',\n",
       " 'QH',\n",
       " '2H',\n",
       " 'JC',\n",
       " '9C',\n",
       " '4C',\n",
       " '9D',\n",
       " 'QD',\n",
       " 'KD',\n",
       " '3S',\n",
       " '4S',\n",
       " 'KS',\n",
       " '6D',\n",
       " 'JH',\n",
       " 'KH',\n",
       " '7C',\n",
       " '8H',\n",
       " '8S',\n",
       " '5C',\n",
       " '2C',\n",
       " '5D',\n",
       " '3C',\n",
       " 'QC',\n",
       " '10C',\n",
       " '9S',\n",
       " '2S',\n",
       " 'AC',\n",
       " 'AS',\n",
       " '5S',\n",
       " '9H',\n",
       " '7D',\n",
       " '4D',\n",
       " '8D',\n",
       " '6C',\n",
       " '4H',\n",
       " '8C',\n",
       " '7S']"
      ]
     },
     "execution_count": 28,
     "metadata": {},
     "output_type": "execute_result"
    }
   ],
   "source": [
    "from random import shuffle\n",
    "\n",
    "class Deck:\n",
    "    def __init__(self):\n",
    "        self.deck  = self._make_deck()\n",
    "        \n",
    "    def _make_deck(self):\n",
    "        \"\"\"\n",
    "        Suits: Hearts, Diamond, Spades clubs\n",
    "        \n",
    "        7H -- seven of hearts\n",
    "        \n",
    "        A,2,3,...10,J,Q,K\n",
    "        \n",
    "        \"\"\"\n",
    "        \n",
    "        nums = ['A'] + [str(i) for i in range(2,11)] + ['J','Q','K']\n",
    "        suits = ['H','D','S','C']\n",
    "        cards = [ n + s for n in nums for s in suits ]\n",
    "        return cards\n",
    "    \n",
    "    def shuffle(self):\n",
    "        shuffle(self.deck)\n",
    "        return self.deck\n",
    "    \n",
    "    \n",
    "deck = Deck()"
   ]
  },
  {
   "cell_type": "markdown",
   "metadata": {},
   "source": [
    "### Microsoft: Pop Balloons\n",
    "\n",
    "https://leetcode.com/discuss/interview-question/462752/Microsoft-or-Phone-or-Pop-Matrix-Balloons\n",
    "\n",
    "1. Pop balloons doing DFS\n",
    "2. Do gravity -- ?\n",
    "\n",
    "\n",
    "Ex:  3 2 3\n",
    "     0 3 1\n",
    "     0 2 2\n",
    "     1 1 1\n",
    "     3 3 2\n",
    "     0 1 0\n",
    "     \n",
    " BRUTE FORCE:\n",
    " - find zero (start from left hand corner, that way dont have to worry about zeros)\n",
    " - move to top vertically; while board[i-1][j] != 0 and i-1 >= 0\n",
    " \n",
    " Time: O(n^2) to search for zeros + bubble up time = O(n^2)?\n",
    " \n",
    " BETTER:\n",
    " - "
   ]
  },
  {
   "cell_type": "markdown",
   "metadata": {},
   "source": [
    "### Microsoft: Stacking boxes\n",
    "\n",
    "https://leetcode.com/discuss/interview-question/386397/Microsoft-or-Phone-Screen-or-Stacking-Boxes"
   ]
  },
  {
   "cell_type": "code",
   "execution_count": null,
   "metadata": {},
   "outputs": [],
   "source": [
    "def f(arr):\n",
    "    \"\"\"\n",
    "    \n",
    "    sol =  [[2,3],[5,4],[6,4],[6,7]]\n",
    "              i  \n",
    "    \n",
    "    IDEAS:\n",
    "    - overlapping intervals?\n",
    "    - sort by width, then iterate and 'squash'\n",
    "    - do i have to worry about order?\n",
    "    - iterate over i\n",
    "    - move j until x conditon not met (and check y condition)\n",
    "\n",
    "    Time: O(n log n), Space: O(1)\n",
    "    \n",
    "\n",
    "    \"\"\""
   ]
  },
  {
   "cell_type": "markdown",
   "metadata": {},
   "source": [
    "### Leetcode: lowest common ancestor in binary tree"
   ]
  },
  {
   "cell_type": "code",
   "execution_count": 1,
   "metadata": {},
   "outputs": [
    {
     "ename": "NameError",
     "evalue": "name 'BST' is not defined",
     "output_type": "error",
     "traceback": [
      "\u001b[0;31m---------------------------------------------------------------------------\u001b[0m",
      "\u001b[0;31mNameError\u001b[0m                                 Traceback (most recent call last)",
      "\u001b[0;32m<ipython-input-1-993c6e7c92ce>\u001b[0m in \u001b[0;36m<module>\u001b[0;34m\u001b[0m\n\u001b[1;32m     32\u001b[0m     \u001b[0;32mreturn\u001b[0m \u001b[0msol\u001b[0m\u001b[0;34m.\u001b[0m\u001b[0mval\u001b[0m\u001b[0;34m\u001b[0m\u001b[0;34m\u001b[0m\u001b[0m\n\u001b[1;32m     33\u001b[0m \u001b[0;34m\u001b[0m\u001b[0m\n\u001b[0;32m---> 34\u001b[0;31m \u001b[0mtree\u001b[0m \u001b[0;34m=\u001b[0m \u001b[0mBST\u001b[0m\u001b[0;34m(\u001b[0m\u001b[0;32mNone\u001b[0m\u001b[0;34m)\u001b[0m\u001b[0;34m\u001b[0m\u001b[0;34m\u001b[0m\u001b[0m\n\u001b[0m\u001b[1;32m     35\u001b[0m \u001b[0mtree\u001b[0m\u001b[0;34m.\u001b[0m\u001b[0minsertVals\u001b[0m\u001b[0;34m(\u001b[0m\u001b[0;34m[\u001b[0m\u001b[0;36m3\u001b[0m\u001b[0;34m,\u001b[0m\u001b[0;36m5\u001b[0m\u001b[0;34m,\u001b[0m\u001b[0;36m1\u001b[0m\u001b[0;34m,\u001b[0m\u001b[0;36m6\u001b[0m\u001b[0;34m,\u001b[0m\u001b[0;36m2\u001b[0m\u001b[0;34m,\u001b[0m\u001b[0;36m0\u001b[0m\u001b[0;34m,\u001b[0m\u001b[0;36m8\u001b[0m\u001b[0;34m,\u001b[0m\u001b[0;36m7\u001b[0m\u001b[0;34m,\u001b[0m\u001b[0;36m4\u001b[0m\u001b[0;34m]\u001b[0m\u001b[0;34m)\u001b[0m\u001b[0;34m\u001b[0m\u001b[0;34m\u001b[0m\u001b[0m\n\u001b[1;32m     36\u001b[0m \u001b[0mroot\u001b[0m \u001b[0;34m=\u001b[0m \u001b[0mtree\u001b[0m\u001b[0;34m.\u001b[0m\u001b[0mroot\u001b[0m\u001b[0;34m\u001b[0m\u001b[0;34m\u001b[0m\u001b[0m\n",
      "\u001b[0;31mNameError\u001b[0m: name 'BST' is not defined"
     ]
    }
   ],
   "source": [
    "def LCA(root,p,q):\n",
    "    \"\"\"\n",
    "    \n",
    "    Ideas:\n",
    "    - BFS for both p and q, then compare paths?\n",
    "    - is path unique? yes\n",
    "    \"\"\"\n",
    "    \n",
    "    queue = [(root,[root])]\n",
    "    path_p, path_q = [], []\n",
    "    while queue and (not path_p or not path_q):\n",
    "        node,path = queue.pop(0)\n",
    "        \n",
    "        #check paths\n",
    "        if node.val == p:\n",
    "            path_p = path + [node]\n",
    "        if node.val == q:\n",
    "            path_q = path + [node]\n",
    "        \n",
    "        #add neighbours\n",
    "        if node.left:\n",
    "            queue.append((node.left,path+[node.left]))\n",
    "        if node.right:\n",
    "            queue.append((node.right,path+[node.right]))\n",
    "\n",
    "    #compare paths\n",
    "    print('path_p = {}'.format([x.val for x in path_p]))\n",
    "    print('path_q = {}'.format(path_q))\n",
    "    while path_p[0].val == path_q[0].val:\n",
    "        sol = path_p.pop(0)\n",
    "        path_q.pop(0)\n",
    "    return sol.val\n",
    "        \n",
    "tree = BST(None)   #from data-structures file\n",
    "tree.insertVals([3,5,1,6,2,0,8,7,4])\n",
    "root = tree.root\n",
    "LCA(root,4,8)"
   ]
  },
  {
   "cell_type": "code",
   "execution_count": null,
   "metadata": {},
   "outputs": [],
   "source": []
  }
 ],
 "metadata": {
  "kernelspec": {
   "display_name": "Python 3",
   "language": "python",
   "name": "python3"
  },
  "language_info": {
   "codemirror_mode": {
    "name": "ipython",
    "version": 3
   },
   "file_extension": ".py",
   "mimetype": "text/x-python",
   "name": "python",
   "nbconvert_exporter": "python",
   "pygments_lexer": "ipython3",
   "version": "3.7.3"
  }
 },
 "nbformat": 4,
 "nbformat_minor": 2
}
