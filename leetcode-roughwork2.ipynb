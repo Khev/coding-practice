{
 "cells": [
  {
   "cell_type": "markdown",
   "metadata": {},
   "source": [
    "# Introduction\n",
    "\n",
    "Problems from leetcode\n",
    "\n",
    "### Autocomplete"
   ]
  },
  {
   "cell_type": "code",
   "execution_count": 60,
   "metadata": {},
   "outputs": [
    {
     "data": {
      "text/plain": [
       "[(2, 'i love leetcode'), (2, 'ironman'), (3, 'island'), (5, 'i love you')]"
      ]
     },
     "execution_count": 60,
     "metadata": {},
     "output_type": "execute_result"
    }
   ],
   "source": [
    "from heapq import heappop, heappush\n",
    "from collections import defaultdict\n",
    "\n",
    "class AutocompleteSystem:\n",
    "\n",
    "    def __init__(self, sentences, times):\n",
    "        self.cache = defaultdict(int)\n",
    "        for s,t in zip(sentences, times):\n",
    "            self.cache[s] = t\n",
    "            self.past_prefix = ''\n",
    "\n",
    "    def inp(self, c):\n",
    "        \"\"\"\n",
    "        \n",
    "        BRUTE FORCE:\n",
    "        - select top k from list that match c\n",
    "        \n",
    "        Search: Time: O(n*logk), Space: O(k)\n",
    "        Insert: Time: O(1)\n",
    "        \n",
    "        Ex: s = 'i love'\n",
    "        \n",
    "        BETTER:\n",
    "        - use an ordered dict?\n",
    "        - that way I can stop after the first three hits?\n",
    "        - (but are ordered dicts just a hash?)\n",
    "        \n",
    "        - searching ordered dict --> O(n)  \n",
    "        - inserting to dict -->  O(log n)\n",
    "        \n",
    "        \n",
    "        TO DO / CONSIDER:\n",
    "        - equal frequency sentences\n",
    "        - no matches \n",
    "        \n",
    "        \"\"\"\n",
    "                \n",
    "        #Do the autocompletion\n",
    "        if c != '#':\n",
    "        \n",
    "            prefix = self.past_prefix + c\n",
    "            self.past_prefix = prefix\n",
    "\n",
    "            #Return top 3 candidates that match the prompt\n",
    "            l = len(prefix)\n",
    "            heap = []\n",
    "            for sentence, time in self.cache.items():\n",
    "                if sentence[:l] == prefix:\n",
    "                    if len(heap) < 3:\n",
    "                        heappush(heap,(time,sentence))\n",
    "                    else:\n",
    "                        #keep equal matches\n",
    "                        if time == heap[0][0]:\n",
    "                            heappush(heap,(time,sentence))\n",
    "                        elif time > heap[0][0]: \n",
    "                            heappop(heap)\n",
    "                            heappush(heap,(time,sentence))\n",
    "            return heap\n",
    "\n",
    "        #Add new sentence to cache\n",
    "        else:\n",
    "            new_sentence = self.past_prefix\n",
    "            self.cache[new_sentence] += 1\n",
    "            self.past_prefix = ''\n",
    "            return []\n",
    "\n",
    "#Set up\n",
    "sentences = ['i love you', 'island','ironman','i love leetcode']\n",
    "times = [5,3,2,2]\n",
    "obj = AutocompleteSystem(sentences, times)\n",
    "\n",
    "#Start the prompt\n",
    "obj.inp('i')\n",
    "#obj.inp(' ')\n",
    "#obj.inp('a')\n",
    "#obj.inp('#')"
   ]
  },
  {
   "cell_type": "code",
   "execution_count": 59,
   "metadata": {},
   "outputs": [
    {
     "data": {
      "text/plain": [
       "[(2, 'i love leetcode'), (2, 'ironman'), (3, 'island'), (5, 'i love you')]"
      ]
     },
     "execution_count": 59,
     "metadata": {},
     "output_type": "execute_result"
    }
   ],
   "source": [
    "heap = [(2, 'i love leetcode'), (2, 'ironman'), (3, 'island'), (5, 'i love you')]\n",
    "heap"
   ]
  },
  {
   "cell_type": "code",
   "execution_count": 38,
   "metadata": {},
   "outputs": [
    {
     "data": {
      "text/plain": [
       "['i a', 'i love leetcode', 'i love you', 'ironman', 'island']"
      ]
     },
     "execution_count": 38,
     "metadata": {},
     "output_type": "execute_result"
    }
   ],
   "source": [
    "temp = obj.cache\n",
    "sorted(temp.keys())"
   ]
  },
  {
   "cell_type": "code",
   "execution_count": 40,
   "metadata": {},
   "outputs": [
    {
     "ename": "NameError",
     "evalue": "name 'tmep' is not defined",
     "output_type": "error",
     "traceback": [
      "\u001b[0;31m---------------------------------------------------------------------------\u001b[0m",
      "\u001b[0;31mNameError\u001b[0m                                 Traceback (most recent call last)",
      "\u001b[0;32m<ipython-input-40-7ee1f45b19fc>\u001b[0m in \u001b[0;36m<module>\u001b[0;34m\u001b[0m\n\u001b[1;32m      1\u001b[0m \u001b[0mtemp\u001b[0m\u001b[0;34m[\u001b[0m\u001b[0;34m'i a'\u001b[0m\u001b[0;34m]\u001b[0m \u001b[0;34m+=\u001b[0m \u001b[0;36m7\u001b[0m\u001b[0;34m\u001b[0m\u001b[0;34m\u001b[0m\u001b[0m\n\u001b[0;32m----> 2\u001b[0;31m \u001b[0mtmep\u001b[0m\u001b[0;34m\u001b[0m\u001b[0;34m\u001b[0m\u001b[0m\n\u001b[0m",
      "\u001b[0;31mNameError\u001b[0m: name 'tmep' is not defined"
     ]
    }
   ],
   "source": [
    "temp['i a'] += 7"
   ]
  },
  {
   "cell_type": "code",
   "execution_count": 61,
   "metadata": {},
   "outputs": [
    {
     "name": "stdout",
     "output_type": "stream",
     "text": [
      "k,v = i love you,5\n",
      "k,v = island,3\n",
      "k,v = ironman,2\n",
      "k,v = i love leetcode,2\n",
      "k,v = i a,8\n"
     ]
    }
   ],
   "source": [
    "for k,v in temp.items():\n",
    "    print('k,v = {},{}'.format(k,v))"
   ]
  },
  {
   "cell_type": "markdown",
   "metadata": {},
   "source": [
    "### Alien dictionary"
   ]
  },
  {
   "cell_type": "code",
   "execution_count": 80,
   "metadata": {},
   "outputs": [
    {
     "data": {
      "text/plain": [
       "['x', 'z']"
      ]
     },
     "execution_count": 80,
     "metadata": {},
     "output_type": "execute_result"
    }
   ],
   "source": [
    "from collections import defaultdict\n",
    "\n",
    "def f(s):\n",
    "    \"\"\"\n",
    "    \n",
    "    Ex:\n",
    "    \n",
    "    s = [\"wrt\",\"wrf\",\"er\", \"ett\", \"rftt\"]\n",
    "    out = wertf\n",
    "    \n",
    "    IDEAS:\n",
    "    - topological sort?\n",
    "    - draw graph\n",
    "    - then do topological sort\n",
    "    - if there is no topological sort, then return ''\n",
    "    \n",
    "    Time: O(V + E) = O(n + m), where n = len(s), m = max len(s_i)\n",
    "    Space: O(n + m)\n",
    "        \n",
    "    But expect Time to be smaller in practice    \n",
    "    \n",
    "    \"\"\"\n",
    "    \n",
    "    G = make_graph(s)\n",
    "    result = topological_sort(G)\n",
    "    return result if result else ''\n",
    "\n",
    "def make_graph(s):\n",
    "    G = defaultdict(list)\n",
    "    for word in s:\n",
    "        if len(word) == 1:\n",
    "            G[word[0]] = []\n",
    "        else:\n",
    "            for i in range(len(word)-1):\n",
    "                curr,nxt = word[i], word[i+1]\n",
    "                if nxt not in G[curr]:\n",
    "                    G[curr].append(nxt)\n",
    "    return G\n",
    "\n",
    "def topological_sort(G):\n",
    "    \n",
    "    result = []\n",
    "    visited = set()\n",
    "    \n",
    "    def helper(G,node):\n",
    "        visited.add(node)\n",
    "        for n in G[node]:\n",
    "            if n not in visited:\n",
    "                helper(G,n)\n",
    "        result.insert(0,node)  #put parent nodes at front\n",
    "        \n",
    "    for node in G.keys():\n",
    "        if node not in visited:\n",
    "            helper(G,node)\n",
    "    return result\n",
    "\n",
    "\n",
    "s = [\"wrt\",\"wrf\",\"er\", \"ett\", \"rftt\"]\n",
    "s = ['z','x','z']\n",
    "G = make_graph(s)\n",
    "topological_sort(G)"
   ]
  },
  {
   "cell_type": "code",
   "execution_count": 90,
   "metadata": {},
   "outputs": [
    {
     "data": {
      "text/plain": [
       "['a', 'b', 'c', 'd']"
      ]
     },
     "execution_count": 90,
     "metadata": {},
     "output_type": "execute_result"
    }
   ],
   "source": [
    "G = {'a':['b'], 'b':['c'], 'c':['d'],'d':[]}\n",
    "topological_sort(G)"
   ]
  },
  {
   "cell_type": "code",
   "execution_count": 91,
   "metadata": {},
   "outputs": [
    {
     "name": "stdout",
     "output_type": "stream",
     "text": [
      "path = ['a']\n",
      "path = ['a', 'b']\n",
      "path = ['a', 'b', 'c']\n",
      "path = ['a', 'b', 'c', 'd']\n"
     ]
    },
    {
     "data": {
      "text/plain": [
       "False"
      ]
     },
     "execution_count": 91,
     "metadata": {},
     "output_type": "execute_result"
    }
   ],
   "source": [
    "def detect_cycle(G,start):\n",
    "    visited = set()\n",
    "    stack = [(start,[start])]\n",
    "    while stack:\n",
    "        node, path = stack.pop(-1)\n",
    "        visited.add(node)\n",
    "        print('path = {}'.format(path))\n",
    "        for n in G[node]:\n",
    "            if n in path:\n",
    "                return True\n",
    "            if n not in visited:                \n",
    "                stack.append((n,path+[n]))\n",
    "    return False\n",
    "\n",
    "G = {'a':['b'], 'b':['c'], 'c':['d'],'d':[]}\n",
    "detect_cycle(G,'a')"
   ]
  },
  {
   "cell_type": "code",
   "execution_count": null,
   "metadata": {},
   "outputs": [],
   "source": []
  }
 ],
 "metadata": {
  "kernelspec": {
   "display_name": "Python 3",
   "language": "python",
   "name": "python3"
  },
  "language_info": {
   "codemirror_mode": {
    "name": "ipython",
    "version": 3
   },
   "file_extension": ".py",
   "mimetype": "text/x-python",
   "name": "python",
   "nbconvert_exporter": "python",
   "pygments_lexer": "ipython3",
   "version": "3.7.3"
  }
 },
 "nbformat": 4,
 "nbformat_minor": 2
}
