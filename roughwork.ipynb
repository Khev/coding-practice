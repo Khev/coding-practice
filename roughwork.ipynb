{
 "cells": [
  {
   "cell_type": "code",
   "execution_count": 5,
   "metadata": {},
   "outputs": [
    {
     "data": {
      "text/plain": [
       "'siht'"
      ]
     },
     "execution_count": 5,
     "metadata": {},
     "output_type": "execute_result"
    }
   ],
   "source": [
    "def reverse(s):\n",
    "    \"\"\"    \n",
    "    \"\"\"\n",
    "    \n",
    "    if len(s) == 1:\n",
    "        return s\n",
    "    else:\n",
    "        return s[-1] + reverse(s[:-1])\n",
    "    \n",
    "s = 'this'\n",
    "reverse(s)"
   ]
  },
  {
   "cell_type": "code",
   "execution_count": 9,
   "metadata": {},
   "outputs": [
    {
     "data": {
      "text/plain": [
       "['abc', 'bac', 'bca', 'acb', 'cab', 'cba']"
      ]
     },
     "execution_count": 9,
     "metadata": {},
     "output_type": "execute_result"
    }
   ],
   "source": [
    "def perm(s):\n",
    "    \"\"\"\n",
    "    \n",
    "    s = 'abc'\n",
    "    sol = 'abc', 'acb', 'bac', 'cab', 'bca', 'cba'\n",
    "    \n",
    "    interleave a into the all the perms of 'bc'\n",
    "    \n",
    "    \"\"\"\n",
    "    \n",
    "    if len(s) == 1:\n",
    "        yield s[0]\n",
    "    else:\n",
    "        first, rest = s[0], s[1:]\n",
    "        for p in perm(rest):\n",
    "            for i in range(len(p) + 1):\n",
    "                yield p[:i] + first + p[i:]\n",
    "                \n",
    "s = 'abc'\n",
    "list(perm(s))"
   ]
  },
  {
   "cell_type": "code",
   "execution_count": 17,
   "metadata": {},
   "outputs": [
    {
     "data": {
      "text/plain": [
       "['0100', '1100', '0101', '1101']"
      ]
     },
     "execution_count": 17,
     "metadata": {},
     "output_type": "execute_result"
    }
   ],
   "source": [
    "def wildcard(s):    \n",
    "    if len(s) == 1:\n",
    "        if s[0] == '?':\n",
    "            for i in ['0','1']:\n",
    "                yield i\n",
    "        else:\n",
    "            yield s[0]\n",
    "    else:\n",
    "        first, rest = s[0], s[1:]\n",
    "        for p in wildcard(rest):\n",
    "            if first == '?':\n",
    "                for i in ['0','1']:\n",
    "                    yield i + p\n",
    "            else:\n",
    "                yield first + p\n",
    "        \n",
    "s = '?10?'\n",
    "list(wildcard(s))"
   ]
  },
  {
   "cell_type": "code",
   "execution_count": 36,
   "metadata": {},
   "outputs": [
    {
     "data": {
      "text/plain": [
       "[['a', 'b', 'c'], ['a', 'bc'], ['ab', 'c'], ['abc']]"
      ]
     },
     "execution_count": 36,
     "metadata": {},
     "output_type": "execute_result"
    }
   ],
   "source": [
    "def partitions(s):\n",
    "    \"\"\"\n",
    "    \n",
    "    \n",
    "    Ex:\n",
    "    s = 'abc'\n",
    "    sol = [a,b,c], [a,bc], [ab,c], [abc]\n",
    "    \n",
    "    s = 'bc'\n",
    "    sol = [b,c], [bc]\n",
    "    \n",
    "    PLAN:\n",
    "    - s[:i]\n",
    "    \n",
    "    \"\"\"\n",
    "    \n",
    "    if len(s) == 0:\n",
    "        yield float('inf')\n",
    "    if len(s) == 1:\n",
    "        yield [s]\n",
    "    else:\n",
    "        for i in range(1,len(s)+1):\n",
    "            left, right = s[:i], s[i:]   #left, right = 's1', s2--sn, '' \n",
    "            for p in partitions(right):  #p = ['a','b']\n",
    "                if p != float('inf'):\n",
    "                    yield [left] + p\n",
    "                else:\n",
    "                    yield [left]\n",
    "                \n",
    "\n",
    "s = 'abc'\n",
    "list(partitions(s))"
   ]
  },
  {
   "cell_type": "code",
   "execution_count": 41,
   "metadata": {},
   "outputs": [
    {
     "data": {
      "text/plain": [
       "True"
      ]
     },
     "execution_count": 41,
     "metadata": {},
     "output_type": "execute_result"
    }
   ],
   "source": [
    "def isPalindrome(s):\n",
    "    if len(s) == 1:\n",
    "        return True\n",
    "    else:\n",
    "        first, middle, last = s[0], s[1:-1], s[-1]\n",
    "        return first == last and isPalindrome(middle)\n",
    "    \n",
    "s = 'aabaa'\n",
    "isPalindrome(s)"
   ]
  },
  {
   "cell_type": "code",
   "execution_count": 42,
   "metadata": {},
   "outputs": [
    {
     "data": {
      "text/plain": [
       "True"
      ]
     },
     "execution_count": 42,
     "metadata": {},
     "output_type": "execute_result"
    }
   ],
   "source": [
    "def isSubstring(s,p):\n",
    "    \"\"\"\n",
    "    \n",
    "    s = 'this is kevin'\n",
    "    p = 'his'\n",
    "    \n",
    "    \"\"\"\n",
    "    \n",
    "    if len(p) == 0:\n",
    "        return True\n",
    "    else:\n",
    "        if s[0] == p[0]:\n",
    "            return isSubstring(s[1:],p[1:])\n",
    "        else:\n",
    "            return isSubstring(s[1:],p)\n",
    "        \n",
    "s = 'this is kevin'\n",
    "p = 'his'\n",
    "\n",
    "isSubstring(s,p)"
   ]
  },
  {
   "cell_type": "code",
   "execution_count": 52,
   "metadata": {},
   "outputs": [
    {
     "data": {
      "text/plain": [
       "'abc'"
      ]
     },
     "execution_count": 52,
     "metadata": {},
     "output_type": "execute_result"
    }
   ],
   "source": [
    "def clean(s):\n",
    "    \"\"\"\n",
    "    \n",
    "    Ex:\n",
    "    \n",
    "    s = 'aabcc'\n",
    "    sol = 'abc'\n",
    "    \n",
    "    TwO POINTER METHOD:\n",
    "    \n",
    "    \n",
    "    \"\"\"\n",
    "    \n",
    "    if len(s) == 1:\n",
    "        return s\n",
    "    else:\n",
    "        for i in range(len(s)-1):\n",
    "            first, nxt, rest = s[i], s[i+1], s[i+1:]\n",
    "            if first == nxt:\n",
    "                return clean(rest)\n",
    "            else:\n",
    "                return first + clean(rest)\n",
    "        \n",
    "s = 'aabcc'\n",
    "clean(s)"
   ]
  },
  {
   "cell_type": "code",
   "execution_count": 56,
   "metadata": {},
   "outputs": [
    {
     "data": {
      "text/plain": [
       "[['c', 'c', 'c'],\n",
       " ['c', 'c', 'b'],\n",
       " ['c', 'c', 'a'],\n",
       " ['c', 'b', 'c'],\n",
       " ['c', 'b', 'b'],\n",
       " ['c', 'b', 'a'],\n",
       " ['c', 'a', 'c'],\n",
       " ['c', 'a', 'b'],\n",
       " ['c', 'a', 'a'],\n",
       " ['b', 'c', 'c'],\n",
       " ['b', 'c', 'b'],\n",
       " ['b', 'c', 'a'],\n",
       " ['b', 'b', 'c'],\n",
       " ['b', 'b', 'b'],\n",
       " ['b', 'b', 'a'],\n",
       " ['b', 'a', 'c'],\n",
       " ['b', 'a', 'b'],\n",
       " ['b', 'a', 'a'],\n",
       " ['a', 'c', 'c'],\n",
       " ['a', 'c', 'b'],\n",
       " ['a', 'c', 'a'],\n",
       " ['a', 'b', 'c'],\n",
       " ['a', 'b', 'b'],\n",
       " ['a', 'b', 'a'],\n",
       " ['a', 'a', 'c'],\n",
       " ['a', 'a', 'b'],\n",
       " ['a', 'a', 'a']]"
      ]
     },
     "execution_count": 56,
     "metadata": {},
     "output_type": "execute_result"
    }
   ],
   "source": [
    "def comb(s):\n",
    "    \"\"\"\n",
    "    \n",
    "    Ex:\n",
    "    s = 'ab'\n",
    "    sol = ['aa','ab','ba','bb']\n",
    "    \n",
    "    \n",
    "    PLAN: dfs\n",
    "    - start at each node / char in s\n",
    "    - neighbours are all char\n",
    "    - terminate at path length 3\n",
    "    \n",
    "    \"\"\"\n",
    "    \n",
    "    letters = [i for i in s]\n",
    "    \n",
    "    #Set up stack\n",
    "    stack = [(node,1,[node]) for node in letters]\n",
    "        \n",
    "    #Do DFS\n",
    "    paths = []\n",
    "    while stack:\n",
    "        node, length, path = stack.pop(-1)\n",
    "        if length >= 3:\n",
    "            paths.append(path)\n",
    "        else:\n",
    "            for n in letters:\n",
    "                stack.append((n, length + 1, path + [n]))\n",
    "    return paths\n",
    "\n",
    "s = 'abc'\n",
    "comb(s)"
   ]
  },
  {
   "cell_type": "code",
   "execution_count": 61,
   "metadata": {},
   "outputs": [
    {
     "data": {
      "text/plain": [
       "['A', 'B', 'C']"
      ]
     },
     "execution_count": 61,
     "metadata": {},
     "output_type": "execute_result"
    }
   ],
   "source": [
    "def dfs(g,start,goal,explored,path):\n",
    "    \n",
    "    #start\n",
    "    explored.add(start)\n",
    "    neighbours = set(g[start]) - explored\n",
    "    \n",
    "    #if goal, then end\n",
    "    if start == goal:\n",
    "        return path \n",
    "    \n",
    "    #if end of line\n",
    "    if len(neighbours) == 0:\n",
    "        return []\n",
    "    \n",
    "    #recurse\n",
    "    else:\n",
    "        for n in neighbours:\n",
    "            new_path = path + [n]\n",
    "            p = dfs(g,n,goal,explored,new_path)\n",
    "            if p:\n",
    "                return p\n",
    "        \n",
    "        \n",
    "g = {'A': ['B','D'],\n",
    "    'B': ['C'],\n",
    "     'C': [],\n",
    "    'D': ['E'],\n",
    "     'E': ['F'],\n",
    "    'F': []}\n",
    "\n",
    "dfs(g,'A','C',set([]),['A'])"
   ]
  },
  {
   "cell_type": "code",
   "execution_count": 94,
   "metadata": {},
   "outputs": [
    {
     "data": {
      "text/plain": [
       "3"
      ]
     },
     "execution_count": 94,
     "metadata": {},
     "output_type": "execute_result"
    }
   ],
   "source": [
    "from functools import lru_cache\n",
    "\n",
    "#@lru_cache(maxsize=None)\n",
    "def f(s1,s2):\n",
    "    \"\"\"\n",
    "    \n",
    "    Question: How many operations does it take to turn s1 into s2\n",
    "    \n",
    "    Using only three operations:\n",
    "    (i)  insert\n",
    "    (ii) remove\n",
    "    (iii) replace\n",
    "    \n",
    "    s1 = 'cat'\n",
    "    s2 = 'cat'\n",
    "    \n",
    "    PLAN:\n",
    "    - assume same length?\n",
    "    -  check letters\n",
    "    \n",
    "    - Letters same if s1[1] == s2[1]:\n",
    "        return f(s[1:], s2[1:])\n",
    "        \n",
    "    - Letters \n",
    "    \n",
    "    \"\"\"\n",
    "    \n",
    "    if len(s1) == 0:\n",
    "        return len(s2)\n",
    "    elif len(s2) == 0:\n",
    "        return len(s1)\n",
    "    else:\n",
    "        if s1[0] == s2[0]:\n",
    "            return f(s1[1:],s2[1:])\n",
    "        else:\n",
    "            replace = f(s1[1:],s2[1:])\n",
    "            remove =  f(s1[1:],s2)\n",
    "            insert =  f(s1,s2[1:])\n",
    "            return 1 + min(replace,remove,insert)\n",
    "        \n",
    "        \n",
    "s1 = 'cat and dogs'\n",
    "s2 = 'cuts and dugs'\n",
    "f(s1,s2)"
   ]
  },
  {
   "cell_type": "code",
   "execution_count": 90,
   "metadata": {},
   "outputs": [
    {
     "data": {
      "text/plain": [
       "354224848179261915075"
      ]
     },
     "execution_count": 90,
     "metadata": {},
     "output_type": "execute_result"
    }
   ],
   "source": [
    "from functools import lru_cache\n",
    "\n",
    "@lru_cache(maxsize=None)\n",
    "def fib(n):\n",
    "    if n < 2:\n",
    "        return n\n",
    "    return fib(n-1) + fib(n-2)"
   ]
  },
  {
   "cell_type": "code",
   "execution_count": 21,
   "metadata": {},
   "outputs": [
    {
     "data": {
      "text/plain": [
       "[4, 3, 2, 1, 5]"
      ]
     },
     "execution_count": 21,
     "metadata": {},
     "output_type": "execute_result"
    }
   ],
   "source": [
    "def reverse(arr,start,end):\n",
    "    \"\"\"\n",
    "    \n",
    "    Ex: [1,2,3,4,5,6,7,8,9,10]\n",
    "             s\n",
    "                     e\n",
    "                 m\n",
    "    \n",
    "    \"\"\"\n",
    "    \n",
    "    mid = (end - start) // 2\n",
    "    for i in range(mid+1):\n",
    "        arr[start + i], arr[end-i] = arr[end-i], arr[start + i]\n",
    "    return arr\n",
    "\n",
    "\n",
    "arr = [1,2,3,4,5]\n",
    "start, end = 0, len(arr) - 1\n",
    "reverse(arr,start,end-1)"
   ]
  },
  {
   "cell_type": "code",
   "execution_count": 9,
   "metadata": {},
   "outputs": [
    {
     "data": {
      "text/plain": [
       "2"
      ]
     },
     "execution_count": 9,
     "metadata": {},
     "output_type": "execute_result"
    }
   ],
   "source": [
    "(end + start) // 2"
   ]
  },
  {
   "cell_type": "markdown",
   "metadata": {},
   "source": [
    "### Lorenzo uber"
   ]
  },
  {
   "cell_type": "code",
   "execution_count": null,
   "metadata": {},
   "outputs": [],
   "source": [
    "def f(numbers,k):\n",
    "    \"\"\"\n",
    "    \n",
    "    Number of distinct subarrays with at most k odd elements\n",
    "    \n",
    "    Ex: arr = [1,2,3,4], k = 1\n",
    "                   i\n",
    "    sol = 8\n",
    "    \n",
    "    [1],[2],[3],[4], [1,2], [2,3], [2,3,4], [3,4]\n",
    "    \n",
    "    BRUTE FORCE:\n",
    "    - double for loop, check number of elements that are odd\n",
    "    - could do early stopping criterion\n",
    "    \n",
    "    Time: O(n^3)\n",
    "    \n",
    "    BETTER:\n",
    "    - keep cache?\n",
    "    - let S_i = number of subsequences with at most k element using nums[:i+1]\n",
    "    - if nums[i]\n",
    "    \n",
    "    \n",
    "    \"\"\""
   ]
  },
  {
   "cell_type": "code",
   "execution_count": 10,
   "metadata": {},
   "outputs": [
    {
     "data": {
      "text/plain": [
       "8"
      ]
     },
     "execution_count": 10,
     "metadata": {},
     "output_type": "execute_result"
    }
   ],
   "source": [
    "def odd_count(arr,k):\n",
    "    ar = [0 for i in range(len(arr))]\n",
    "    for i in range(len(arr)):\n",
    "        if arr[i]%2==0:\n",
    "            ar[i]=0\n",
    "        else:\n",
    "            ar[i]=1\n",
    "    count=0\n",
    "    #ans=[]\n",
    "    for i in range(len(ar)):\n",
    "        s=0\n",
    "        for j in range(i,len(ar)):\n",
    "            s+=ar[j]\n",
    "            if s<=k and arr[i:j+1]:\n",
    "                count+=1\n",
    "                #ans.append(arr[i:j+1])\n",
    "    return count\n",
    "\n",
    "a = [1,2,3,4]\n",
    "n = len(a)\n",
    "m = 1\n",
    "odd_count(a,m)"
   ]
  },
  {
   "cell_type": "code",
   "execution_count": 12,
   "metadata": {},
   "outputs": [
    {
     "data": {
      "text/plain": [
       "(2, 4)"
      ]
     },
     "execution_count": 12,
     "metadata": {},
     "output_type": "execute_result"
    }
   ],
   "source": [
    "from collections import defaultdict\n",
    "\n",
    "def f(friends_from, friends_to, friend_weight):\n",
    "    \"\"\"\n",
    "    \n",
    "    BRUTE FORCE:\n",
    "    - iterate over all nodes pairs\n",
    "    - count their edges\n",
    "    - return max\n",
    "    \n",
    "    BETTER:\n",
    "    - \n",
    "    \n",
    "    dict = {[i,j]: # edges}\n",
    "         = {[1,2]: 0}\n",
    "         \n",
    "    - iterate over edge_list\n",
    "    - add (i,j) to dict if not there already. sort to avoid duplicates\n",
    "    - keep track of max\n",
    "    \n",
    "    \"\"\"\n",
    "    \n",
    "    cache = defaultdict(int)\n",
    "    pair_max = (0,0)\n",
    "    temp_max = 0\n",
    "    for i,j,weight in zip(friends_from, friends_to, friend_weight):\n",
    "        \n",
    "        #avoid duplicates\n",
    "        if i > j:\n",
    "            i,j = j,i\n",
    "        \n",
    "        #record\n",
    "        key = (i,j)\n",
    "        cache[key] += 1\n",
    "        \n",
    "        #track max\n",
    "        if cache[key] > temp_max:\n",
    "            pair_max = key\n",
    "            temp_max = cache[key]\n",
    "            \n",
    "        #if equal, take one with higher product\n",
    "        elif cache[key] == temp_max:\n",
    "                if pair_max[0]*pair_max[1] < key[0]*key[1]:\n",
    "                    pair_max = key\n",
    "                    \n",
    "    return pair_max[0]*\n",
    "\n",
    "friends_from = [1,1,2,2]\n",
    "friends_to = [3,3,4,4]\n",
    "weights = [1,2,1,2]\n",
    "\n",
    "f(friends_from, friends_to, weights)"
   ]
  },
  {
   "cell_type": "markdown",
   "metadata": {},
   "source": [
    "### Linked lists"
   ]
  },
  {
   "cell_type": "code",
   "execution_count": 20,
   "metadata": {},
   "outputs": [
    {
     "name": "stdout",
     "output_type": "stream",
     "text": [
      "val = 1\n",
      "val = 2\n",
      "val = 4\n",
      "val = 5\n"
     ]
    }
   ],
   "source": [
    "class Node:\n",
    "    def __init__(self,val=None):\n",
    "        self.val = val\n",
    "        self.next = None\n",
    "        \n",
    "class linkedList:\n",
    "    def __init__(self,val=None):\n",
    "        self.head = None\n",
    "        \n",
    "    def insertAtEnd(self,node):\n",
    "        temp = self.head\n",
    "        while temp.next:\n",
    "            temp = temp.next\n",
    "        temp.next = Node\n",
    "        \n",
    "    def insertAtStart(self,node):\n",
    "        temp = self.head\n",
    "        node.next = temp\n",
    "        self.head = node\n",
    "        \n",
    "    def search(self,val):\n",
    "        temp = self.head\n",
    "        while temp:\n",
    "            if temp.val == val:\n",
    "                return True\n",
    "            temp = temp.next\n",
    "        return False\n",
    "    \n",
    "    def searchRecursive(self,val):\n",
    "        return self.searchRecursiveHelper(self.head,val)\n",
    "    \n",
    "    def searchRecursiveHelper(self,temp,val):\n",
    "        if temp is None:\n",
    "            return False\n",
    "        elif temp.val == val:\n",
    "            return True\n",
    "        else:\n",
    "            return self.searchRecursiveHelper(temp.next,val)\n",
    "        \n",
    "    def printNodes(self):\n",
    "        temp = self.head\n",
    "        while temp:\n",
    "            print('val = {}'.format(temp.val))\n",
    "            temp = temp.next\n",
    "            \n",
    "    def addNodesFromList(self,L):\n",
    "        for l in L[::-1]:\n",
    "            node = Node(val=l)\n",
    "            self.insertAtStart(node)\n",
    "            \n",
    "    def delete(self,val):\n",
    "        \"\"\"\n",
    "        \n",
    "        - first find successor\n",
    "        - then repalce\n",
    "        \n",
    "        \"\"\"\n",
    "        \n",
    "        #find successor\n",
    "        temp = self.head\n",
    "        while temp:\n",
    "            if temp.next.val == val:\n",
    "                break\n",
    "            temp = temp.next\n",
    "                \n",
    "        if not temp:\n",
    "            return 'val not in list'\n",
    "        \n",
    "        temp.next = temp.next.next\n",
    "        \n",
    "        \n",
    "    def reverse():\n",
    "        \n",
    "        \n",
    "            \n",
    "L = linkedList()\n",
    "L.addNodesFromList([1,2,3,4,5])\n",
    "L.delete(3)\n",
    "L.printNodes()"
   ]
  },
  {
   "cell_type": "code",
   "execution_count": 52,
   "metadata": {},
   "outputs": [
    {
     "name": "stdout",
     "output_type": "stream",
     "text": [
      "odd, even = 5, 6\n",
      "1\n",
      "3\n",
      "5\n",
      "7\n",
      "2\n",
      "4\n",
      "6\n"
     ]
    }
   ],
   "source": [
    "def interweave(head):\n",
    "    \n",
    "    head_odd, head_even = head, head.next\n",
    "    \n",
    "    odd, even = head_odd, head_even\n",
    "    while odd.next.next and even.next.next:\n",
    "        odd.next = odd.next.next\n",
    "        even.next = even.next.next\n",
    "        odd = odd.next\n",
    "        even = even.next\n",
    "    \n",
    "    #take care of end bits\n",
    "    print('odd, even = {}, {}'.format(odd.val,even.val))\n",
    "    if odd.next.next:\n",
    "        odd.next = odd.next.next\n",
    "    else:\n",
    "        odd.next = None\n",
    "    even.next = None\n",
    "        \n",
    "    #attach even to end of odd\n",
    "    end = head_odd\n",
    "    while end.next:\n",
    "        end = end.next\n",
    "    end.next = head_even\n",
    "    \n",
    "    return head_odd, head_even\n",
    "\n",
    "L = linkedList()\n",
    "L.addNodesFromList([1,2,3,4,5,6,7])\n",
    "head = L.head\n",
    "odd, even = interweave(head)\n",
    "while odd:\n",
    "    print(odd.val)\n",
    "    odd = odd.next"
   ]
  },
  {
   "cell_type": "code",
   "execution_count": 66,
   "metadata": {},
   "outputs": [
    {
     "data": {
      "text/plain": [
       "True"
      ]
     },
     "execution_count": 66,
     "metadata": {},
     "output_type": "execute_result"
    }
   ],
   "source": [
    "class TreeNode(object):\n",
    "    def __init__(self, x):\n",
    "        self.val = x\n",
    "        self.left = None\n",
    "        self.right = None\n",
    "    \n",
    "    \n",
    "def isSame(s,t):\n",
    "\n",
    "    if s is None and t is None:\n",
    "        return True\n",
    "    elif s is not None and t is not None:\n",
    "        return s.val == t.val and isSame(s.left,t.left) and isSame(s.right,t.right)\n",
    "    else:\n",
    "        return False\n",
    "    \n",
    "    \n",
    "def f(s,t):\n",
    "    if s is None:\n",
    "        return False\n",
    "    else:\n",
    "        return isSame(s,t) or f(s.right,t) or f(s.left, t)\n",
    "\n",
    "\n",
    "s = TreeNode(3)\n",
    "s.left, s.right = TreeNode(4), TreeNode(5)\n",
    "s.left.left, s.left.right = TreeNode(1), TreeNode(2)\n",
    "\n",
    "t = TreeNode(4)\n",
    "t.left, t.right = TreeNode(1), TreeNode(2)\n",
    "\n",
    "f(s,t)"
   ]
  },
  {
   "cell_type": "code",
   "execution_count": 6,
   "metadata": {},
   "outputs": [
    {
     "name": "stdout",
     "output_type": "stream",
     "text": [
      "offset, val = 0, 1\n",
      "offset, val = 1, 2\n",
      "offset, val = 2, 3\n",
      "offset, val = 3, 4\n",
      "offset, val = 1, 5\n"
     ]
    },
    {
     "data": {
      "text/plain": [
       "False"
      ]
     },
     "execution_count": 6,
     "metadata": {},
     "output_type": "execute_result"
    }
   ],
   "source": [
    "def toeplit(arr):\n",
    "    \"\"\"\n",
    "    [0[1,2,3,4],\n",
    "   [5,1,9,3], -> 9 is bad\n",
    "[   [6,5,1,2]\n",
    "    \"\"\"\n",
    "    \n",
    "    #check the upper part of the \n",
    "    nrow, ncol = len(arr), len(arr[0])\n",
    "    for pivot in range(0,ncol):\n",
    "        #climb down\n",
    "        val = arr[0][pivot]\n",
    "        print('offset, val = {}, {}'.format(pivot,val))\n",
    "        i = 1\n",
    "        while i < nrow:\n",
    "            \n",
    "            if i >= nrow or pivot + i >= ncol:\n",
    "                break\n",
    "            \n",
    "            if arr[i][pivot+i] != val:\n",
    "                return False\n",
    "            i += 1\n",
    "            \n",
    "    #check lower diagonals\n",
    "    #here start on col zoer\n",
    "    for pivot in range(1,nrow):\n",
    "        val = arr[pivot][0]\n",
    "        print('offset, val = {}, {}'.format(pivot,val))\n",
    "        i = 1\n",
    "        while i < ncol:\n",
    "            if i + pivot >= nrow or i >= nrow:\n",
    "                break\n",
    "            if arr[pivot+i][i] != val:\n",
    "                return False\n",
    "            i += 1\n",
    "    \n",
    "    #check lower part\n",
    "    return True\n",
    "\n",
    "arr = [[1,2,3,4],[5,1,2,3],[6,7,1,2]]\n",
    "toeplit(arr)"
   ]
  },
  {
   "cell_type": "code",
   "execution_count": null,
   "metadata": {},
   "outputs": [],
   "source": [
    "def flatten_dictionary(dictionary):\n",
    "    flattened = dict()\n",
    "    util(dictionary, \"\", flattened)\n",
    "    return flattened\n",
    "\n",
    "\n",
    "def util(dic, path, flattened):\n",
    "    if type(dic) is not dict:\n",
    "        flattened[path] = dic\n",
    "    else:\n",
    "        for k in dic.keys():\n",
    "            if k is not \"\":\n",
    "              if path == \"\":\n",
    "                newpa = k\n",
    "              else:\n",
    "                newpa = \"{}.{}\".format(path,k)\n",
    "              util(dic[k],newpa , flattened)\n",
    "            else:\n",
    "              util(dic[k], path, flattened)"
   ]
  },
  {
   "cell_type": "code",
   "execution_count": null,
   "metadata": {},
   "outputs": [],
   "source": []
  },
  {
   "cell_type": "code",
   "execution_count": null,
   "metadata": {},
   "outputs": [],
   "source": []
  },
  {
   "cell_type": "code",
   "execution_count": null,
   "metadata": {},
   "outputs": [],
   "source": []
  },
  {
   "cell_type": "code",
   "execution_count": null,
   "metadata": {},
   "outputs": [],
   "source": []
  },
  {
   "cell_type": "code",
   "execution_count": null,
   "metadata": {},
   "outputs": [],
   "source": []
  },
  {
   "cell_type": "code",
   "execution_count": null,
   "metadata": {},
   "outputs": [],
   "source": []
  },
  {
   "cell_type": "code",
   "execution_count": null,
   "metadata": {},
   "outputs": [],
   "source": []
  },
  {
   "cell_type": "code",
   "execution_count": null,
   "metadata": {},
   "outputs": [],
   "source": []
  },
  {
   "cell_type": "code",
   "execution_count": null,
   "metadata": {},
   "outputs": [],
   "source": []
  },
  {
   "cell_type": "code",
   "execution_count": null,
   "metadata": {},
   "outputs": [],
   "source": []
  },
  {
   "cell_type": "code",
   "execution_count": null,
   "metadata": {},
   "outputs": [],
   "source": []
  },
  {
   "cell_type": "code",
   "execution_count": null,
   "metadata": {},
   "outputs": [],
   "source": []
  },
  {
   "cell_type": "code",
   "execution_count": 16,
   "metadata": {},
   "outputs": [
    {
     "data": {
      "text/plain": [
       "{'Key1': '1', 'Key2.a': '2', 'Key2.b': '3', 'Key2.c.d': '3', 'Key2.c.e': '1'}"
      ]
     },
     "execution_count": 16,
     "metadata": {},
     "output_type": "execute_result"
    }
   ],
   "source": [
    "def main(d):\n",
    "    new_dict = dict()\n",
    "    util(d,\"\",new_dict)\n",
    "    return new_dict\n",
    "    \n",
    "    \n",
    "def util(d,path,new_dict):\n",
    "    \"\"\"\n",
    "    d = dict, or just a value\n",
    "    path = recursive\n",
    "    \"\"\"\n",
    "    \n",
    "    #base case\n",
    "    if type(d) is not dict:\n",
    "        new_dict[path] = d\n",
    "    else:\n",
    "        for key in d.keys():\n",
    "            newPath = updatePath(key,path)\n",
    "            util(d[key],newPath,new_dict)\n",
    "\n",
    "def updatePath(key,path):\n",
    "    \"\"\"\n",
    "    if key = '', then skip\n",
    "    \n",
    "    path = 'Key1'\n",
    "    \n",
    "    \"\"\"\n",
    "    \n",
    "    if path == '':\n",
    "        return key\n",
    "    else:\n",
    "        if key == '':\n",
    "            return path\n",
    "        else:\n",
    "            return path + '.' + key\n",
    "    \n",
    "\n",
    "d = {\n",
    "            \"Key1\" : \"1\",\n",
    "            \"Key2\" : {\n",
    "                \"a\" : \"2\",\n",
    "                \"b\" : \"3\",\n",
    "                \"c\" : {\n",
    "                    \"d\" : \"3\",\n",
    "                    \"e\" : {\n",
    "                        \"\" : \"1\"\n",
    "                    }\n",
    "                }\n",
    "            }\n",
    "        }\n",
    "\n",
    "main(d)"
   ]
  }
 ],
 "metadata": {
  "kernelspec": {
   "display_name": "Python 3",
   "language": "python",
   "name": "python3"
  },
  "language_info": {
   "codemirror_mode": {
    "name": "ipython",
    "version": 3
   },
   "file_extension": ".py",
   "mimetype": "text/x-python",
   "name": "python",
   "nbconvert_exporter": "python",
   "pygments_lexer": "ipython3",
   "version": "3.7.1"
  }
 },
 "nbformat": 4,
 "nbformat_minor": 2
}
