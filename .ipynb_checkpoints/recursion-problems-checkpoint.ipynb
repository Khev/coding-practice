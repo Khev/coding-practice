{
 "cells": [
  {
   "cell_type": "markdown",
   "metadata": {},
   "source": [
    "# Sources\n",
    "\n",
    "https://www.techiedelight.com/recursion-practice-problems-with-solutions/\n",
    "\n",
    "\n",
    "### Tower of hanoi\n",
    "\n",
    "https://www.cs.cmu.edu/~cburch/survey/recurse/hanoiimpl.html"
   ]
  },
  {
   "cell_type": "code",
   "execution_count": 10,
   "metadata": {},
   "outputs": [
    {
     "name": "stdout",
     "output_type": "stream",
     "text": [
      "Move disk 1 from A to C\n",
      "Move disk 2 from A to B\n",
      "Move disk 1 from C to B\n",
      "Move disk 3 from A to C\n",
      "Move disk 1 from B to A\n",
      "Move disk 2 from B to C\n",
      "Move disk 1 from A to C\n"
     ]
    }
   ],
   "source": [
    "def solve(n,A,C,B):\n",
    "    \"\"\"\n",
    "    n = number of disks, 1 = smallest, 2 = next smallest, ...\n",
    "    a,b,c = rods\n",
    "    \"\"\"\n",
    "    \n",
    "    if n == 1:\n",
    "        print('Move disk {} from {} to {}'.format(n,A,C,B))\n",
    "    else:\n",
    "        solve(n-1,A,B,C)\n",
    "        print('Move disk {} from {} to {}'.format(n,A,C))\n",
    "        solve(n-1,B,C,A)\n",
    "\n",
    "solve(3,'A','C','B')"
   ]
  },
  {
   "cell_type": "markdown",
   "metadata": {},
   "source": [
    "### Reverse a string"
   ]
  },
  {
   "cell_type": "code",
   "execution_count": 9,
   "metadata": {},
   "outputs": [
    {
     "data": {
      "text/plain": [
       "'dcba'"
      ]
     },
     "execution_count": 9,
     "metadata": {},
     "output_type": "execute_result"
    }
   ],
   "source": [
    "def reverse(s):\n",
    "    \"\"\"\n",
    "    R(s_n) = s_n + R(s_{n-1})\n",
    "    \"\"\"\n",
    "    \n",
    "    if len(s) == 1:\n",
    "        return s\n",
    "    else:\n",
    "        return s[-1] + reverse(s[:-1])\n",
    "    \n",
    "s = 'abcd'\n",
    "reverse(s)"
   ]
  },
  {
   "cell_type": "markdown",
   "metadata": {},
   "source": [
    "### All combinations on keypad"
   ]
  },
  {
   "cell_type": "code",
   "execution_count": 76,
   "metadata": {},
   "outputs": [
    {
     "data": {
      "text/plain": [
       "['adg',\n",
       " 'bdg',\n",
       " 'cdg',\n",
       " 'aeg',\n",
       " 'beg',\n",
       " 'ceg',\n",
       " 'afg',\n",
       " 'bfg',\n",
       " 'cfg',\n",
       " 'adh',\n",
       " 'bdh',\n",
       " 'cdh',\n",
       " 'aeh',\n",
       " 'beh',\n",
       " 'ceh',\n",
       " 'afh',\n",
       " 'bfh',\n",
       " 'cfh',\n",
       " 'adi',\n",
       " 'bdi',\n",
       " 'cdi',\n",
       " 'aei',\n",
       " 'bei',\n",
       " 'cei',\n",
       " 'afi',\n",
       " 'bfi',\n",
       " 'cfi']"
      ]
     },
     "execution_count": 76,
     "metadata": {},
     "output_type": "execute_result"
    }
   ],
   "source": [
    "def combs(nums):\n",
    "    \"\"\"\n",
    "    \n",
    "    dict[num] = letters\n",
    "    \n",
    "    Base case:\n",
    "    \n",
    "    C_n = [letter(n), c] for c in C_{n-1} for letter in letterns(n)\n",
    "    \n",
    "    \"\"\"\n",
    "    \n",
    "    if len(nums) == 1:\n",
    "        letters = info[nums[0]]\n",
    "        for l in letters:\n",
    "            yield l\n",
    "    else:\n",
    "        first, rest = nums[0], nums[1:]\n",
    "        letters = info[nums[0]]\n",
    "        C_temp = combs(rest)\n",
    "        for word in C_temp:    # word = string, 'ab'\n",
    "            for letter in letters:\n",
    "                yield letter + word\n",
    "info = {1:['a','b','c'], 2:['d','e','f'], 3:['g','h','i']}\n",
    "\n",
    "nums = [1,2,3]\n",
    "list(combs(nums))"
   ]
  },
  {
   "cell_type": "markdown",
   "metadata": {},
   "source": [
    "### Permutations of a given string"
   ]
  },
  {
   "cell_type": "code",
   "execution_count": 7,
   "metadata": {},
   "outputs": [
    {
     "data": {
      "text/plain": [
       "['abc', 'bac', 'bca', 'acb', 'cab', 'cba']"
      ]
     },
     "execution_count": 7,
     "metadata": {},
     "output_type": "execute_result"
    }
   ],
   "source": [
    "def perm(s):\n",
    "    if len(s) == 1:\n",
    "        yield s\n",
    "    else:\n",
    "        letter, rest = s[0], s[1:]\n",
    "        for p in perm(rest):\n",
    "            for i in range(len(p)+1):\n",
    "                new_perm = p[:i] + letter + p[i:]\n",
    "                yield new_perm\n",
    "\n",
    "s = 'abc'\n",
    "list(perm(s))"
   ]
  },
  {
   "cell_type": "markdown",
   "metadata": {},
   "source": [
    "### Wildcard"
   ]
  },
  {
   "cell_type": "code",
   "execution_count": 68,
   "metadata": {},
   "outputs": [
    {
     "data": {
      "text/plain": [
       "['110010011', '110110011', '110010111', '110110111']"
      ]
     },
     "execution_count": 68,
     "metadata": {},
     "output_type": "execute_result"
    }
   ],
   "source": [
    "def perms(s):\n",
    "    if len(s) == 1:\n",
    "        if s == '?':\n",
    "            for i in ['0','1']:\n",
    "                yield i\n",
    "        else:\n",
    "            yield s\n",
    "    else:\n",
    "        letter,rest = s[0],s[1:]\n",
    "        for p in perms(rest):\n",
    "            if letter == '?':\n",
    "                for i in ['0','1']:\n",
    "                    yield i + p\n",
    "            else:\n",
    "                yield letter + p  \n",
    "    \n",
    "s = '110?10?11'\n",
    "#s = '?1?'\n",
    "list(perms(s))"
   ]
  },
  {
   "cell_type": "markdown",
   "metadata": {},
   "source": [
    "### Interleavings\n",
    "\n",
    "Input: str1 = \"AB\",  str2 = \"CD\"\n",
    "\n",
    "Output:\n",
    "    ABCD\n",
    "    ACBD\n",
    "    ACDB\n",
    "    CABD\n",
    "    CADB\n",
    "    CDAB\n",
    "\n",
    "Input: str1 = \"AB\",  str2 = \"C\"\n",
    "\n",
    "Output:\n",
    "    ABC\n",
    "    ACB\n",
    "    CAB"
   ]
  },
  {
   "cell_type": "code",
   "execution_count": null,
   "metadata": {},
   "outputs": [],
   "source": []
  },
  {
   "cell_type": "markdown",
   "metadata": {},
   "source": [
    "### Partitions of a string"
   ]
  },
  {
   "cell_type": "code",
   "execution_count": 134,
   "metadata": {},
   "outputs": [
    {
     "data": {
      "text/plain": [
       "[['a', 'b', 'c'], ['a', 'bc'], ['ab', 'c'], ['abc']]"
      ]
     },
     "execution_count": 134,
     "metadata": {},
     "output_type": "execute_result"
    }
   ],
   "source": [
    "def partitions(s):\n",
    "    if len(s) == 0:\n",
    "        yield 'x'\n",
    "    if len(s) == 1:\n",
    "        yield [s]\n",
    "    else:\n",
    "        for i in range(1,len(s)+1):\n",
    "            start, rest = s[:i], s[i:]\n",
    "            for p in partitions(rest):  #p = list, ['a','b']\n",
    "                if p != 'x':            #\n",
    "                    yield [start] + p\n",
    "                else:\n",
    "                    yield [start]\n",
    "        \n",
    "s = 'abc'\n",
    "list(partitions(s))"
   ]
  },
  {
   "cell_type": "markdown",
   "metadata": {},
   "source": [
    "### Palindromic partitions of a string"
   ]
  },
  {
   "cell_type": "code",
   "execution_count": 144,
   "metadata": {},
   "outputs": [
    {
     "data": {
      "text/plain": [
       "[['a', 'a', 'b'], ['aa', 'b']]"
      ]
     },
     "execution_count": 144,
     "metadata": {},
     "output_type": "execute_result"
    }
   ],
   "source": [
    "def isPalindrome(s):\n",
    "    return s == s[::-1]\n",
    "\n",
    "def partitions(s):\n",
    "    if len(s) == 0:\n",
    "        yield 'x'\n",
    "    if len(s) == 1:\n",
    "        yield [s]\n",
    "    else:\n",
    "        for i in range(1,len(s)+1):\n",
    "            start, rest = s[:i],s[i:]\n",
    "            if isPalindrome(start):\n",
    "                for p in partitions(rest):\n",
    "                    if p != 'x':\n",
    "                        yield [start] + p\n",
    "                    else:\n",
    "                        yield [start]\n",
    "        \n",
    "s = 'aab'\n",
    "list(partitions(s))"
   ]
  },
  {
   "cell_type": "markdown",
   "metadata": {},
   "source": [
    "### Palindromic partitions of a string count cuts\n"
   ]
  },
  {
   "cell_type": "code",
   "execution_count": null,
   "metadata": {},
   "outputs": [],
   "source": []
  },
  {
   "cell_type": "code",
   "execution_count": null,
   "metadata": {},
   "outputs": [],
   "source": []
  },
  {
   "cell_type": "code",
   "execution_count": null,
   "metadata": {},
   "outputs": [],
   "source": []
  },
  {
   "cell_type": "code",
   "execution_count": null,
   "metadata": {},
   "outputs": [],
   "source": []
  },
  {
   "cell_type": "code",
   "execution_count": null,
   "metadata": {},
   "outputs": [],
   "source": []
  },
  {
   "cell_type": "code",
   "execution_count": null,
   "metadata": {},
   "outputs": [],
   "source": []
  },
  {
   "cell_type": "code",
   "execution_count": null,
   "metadata": {},
   "outputs": [],
   "source": []
  },
  {
   "cell_type": "code",
   "execution_count": null,
   "metadata": {},
   "outputs": [],
   "source": []
  },
  {
   "cell_type": "code",
   "execution_count": null,
   "metadata": {},
   "outputs": [],
   "source": []
  },
  {
   "cell_type": "code",
   "execution_count": null,
   "metadata": {},
   "outputs": [],
   "source": []
  },
  {
   "cell_type": "code",
   "execution_count": null,
   "metadata": {},
   "outputs": [],
   "source": []
  },
  {
   "cell_type": "markdown",
   "metadata": {},
   "source": [
    "### Numbers which sum"
   ]
  },
  {
   "cell_type": "code",
   "execution_count": null,
   "metadata": {},
   "outputs": [],
   "source": []
  }
 ],
 "metadata": {
  "kernelspec": {
   "display_name": "Python 3",
   "language": "python",
   "name": "python3"
  },
  "language_info": {
   "codemirror_mode": {
    "name": "ipython",
    "version": 3
   },
   "file_extension": ".py",
   "mimetype": "text/x-python",
   "name": "python",
   "nbconvert_exporter": "python",
   "pygments_lexer": "ipython3",
   "version": "3.7.1"
  }
 },
 "nbformat": 4,
 "nbformat_minor": 2
}
