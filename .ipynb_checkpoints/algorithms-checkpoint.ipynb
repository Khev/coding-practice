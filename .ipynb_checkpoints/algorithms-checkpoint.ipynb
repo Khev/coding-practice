{
 "cells": [
  {
   "cell_type": "markdown",
   "metadata": {},
   "source": [
    "# Introduction\n",
    "\n",
    "Implemeting data structures from Skienna\n",
    "\n",
    "## Sorting\n",
    "\n",
    "\n",
    "#### Selection sort   $O(n^2)$"
   ]
  },
  {
   "cell_type": "code",
   "execution_count": 5,
   "metadata": {},
   "outputs": [],
   "source": [
    "def selectionSort(L):\n",
    "    \n",
    "    for i in range(len(L)):\n",
    "        \n",
    "        #Find index of minimum in unsorted array (0 onwards)\n",
    "        index_min = i\n",
    "        for j in range(i+1,len(L)):\n",
    "            if L[j] < L[index_min]:\n",
    "                index_min = j\n",
    "                \n",
    "        #Swap\n",
    "        L[i], L[index_min] = L[index_min], L[i]\n",
    "        \n",
    "L = [10,5,1,7,3,11]\n",
    "selectionSort(L)"
   ]
  },
  {
   "cell_type": "markdown",
   "metadata": {},
   "source": [
    "#### Insertion sort    $O(n^2)$"
   ]
  },
  {
   "cell_type": "code",
   "execution_count": 10,
   "metadata": {},
   "outputs": [
    {
     "data": {
      "text/plain": [
       "[1, 3, 5, 7, 10, 11]"
      ]
     },
     "execution_count": 10,
     "metadata": {},
     "output_type": "execute_result"
    }
   ],
   "source": [
    "def insertionSort(L):\n",
    "    \n",
    "    for i in range(1,len(L)):\n",
    "        \n",
    "        #Insert L[i] into array (0, ..., i-1)\n",
    "        key = L[i]\n",
    "        j = i-1\n",
    "        for j in range(i-1,-1,-1):\n",
    "            if L[j] > L[j+1]:\n",
    "                L[j], L[j+1] = L[j+1], L[j]\n",
    "            else:\n",
    "                break\n",
    "        \n",
    "L = [10,5,1,7,3,11]\n",
    "insertionSort(L)\n",
    "L"
   ]
  },
  {
   "cell_type": "markdown",
   "metadata": {},
   "source": [
    "#### Heapsort\n",
    "\n",
    "Like selection sort, but uses a heap --> find minimum in log(n) time\n",
    "\n",
    "See https://www.geeksforgeeks.org/heap-sort/\n",
    "\n",
    "Complexity: O(n log n)\n",
    "\n",
    "You can build your heap in O(n). Then you pop elements off, one at a time, each taking O(log n) time."
   ]
  },
  {
   "cell_type": "code",
   "execution_count": 15,
   "metadata": {},
   "outputs": [],
   "source": [
    "def heapify(L,n,i):\n",
    "    \"\"\"\n",
    "    Heapify a list L of length n with node at root i\n",
    "    \"\"\"\n",
    "  \n",
    "    #Find largest among root, left child and right child\n",
    "    largest = i\n",
    "    l = 2*i + 1\n",
    "    r = 2*i + 2\n",
    "    \n",
    "    #Check left and make sure it exists\n",
    "    if l < n and L[l] > L[largest]:\n",
    "        largest = l\n",
    "    \n",
    "    #Check right\n",
    "    if r < n and L[r] > L[largest]:\n",
    "        largest = r\n",
    "        \n",
    "    #Check if there's a swap needed \n",
    "    if largest != i:\n",
    "        L[largest], L[i] = L[i], L[largest]  #do the swap\n",
    "        heapify(L,n,largest)                 #recurse -- after swapping, you might have disturbed the tree\n",
    "        \n",
    "        \n",
    "def heapSort(L):\n",
    "    \n",
    "    #make a heap: start at bottom and heapify\n",
    "    n = len(L)\n",
    "    for i in range(n-1,-1,-1):\n",
    "        heapify(L,n,i)\n",
    "    \n",
    "    #do selection sort\n",
    "    for i in range(n-1,0,-1):\n",
    "        \n",
    "        #swap max and 'last' -- last being at index i\n",
    "        L[i], L[0] = L[0], L[i]\n",
    "        \n",
    "        #heapify everything on [0,i-1], which the swap made not a heap \n",
    "        heapify(L,i,0)\n",
    "        \n",
    "L = [5,3,8,1,2]\n",
    "heapSort(L)"
   ]
  },
  {
   "cell_type": "markdown",
   "metadata": {},
   "source": [
    "#### Merge sort\n",
    "\n",
    "Time: O(n log n)\n",
    "Space: O(N)\n",
    "\n",
    "Good for sorting linked lists"
   ]
  },
  {
   "cell_type": "code",
   "execution_count": 5,
   "metadata": {},
   "outputs": [
    {
     "data": {
      "text/plain": [
       "[1, 3, 5, 9, 11]"
      ]
     },
     "execution_count": 5,
     "metadata": {},
     "output_type": "execute_result"
    }
   ],
   "source": [
    "def merge(x1,x2):\n",
    "    \"\"\"\n",
    "    Problem with this method: python does things under the hood when I'm pop(0).\n",
    "    Also, the append has to free up space\n",
    "    \"\"\"\n",
    "    \n",
    "    out = []\n",
    "    \n",
    "    #Peel off until one is empty\n",
    "    while x1 and x2:\n",
    "        if x1[0] < x2[0]:\n",
    "            out.append(x1.pop(0))\n",
    "        else:\n",
    "            out.append(x2.pop(0))\n",
    "    \n",
    "    #Then attach the non-empty one\n",
    "    if x1:\n",
    "        out += x1\n",
    "    if x2:\n",
    "        out += x2\n",
    "        \n",
    "    return out\n",
    "\n",
    "\n",
    "\n",
    "def merge(x1,x2):\n",
    "    \"\"\"\n",
    "    This case is easy\n",
    "    \"\"\"\n",
    "    \n",
    "    merged = [0 for i in range(len(x1)+len(x2))]\n",
    "    \n",
    "    i = 0 #position in x1\n",
    "    j = 0 #position in x2\n",
    "    k = 0 #position in mergemd\n",
    "    \n",
    "    #Scan x1 and x2 until you get to end of one of them\n",
    "    while i < len(x1) and j < len(x2):\n",
    "        if x1[i] <= x2[j]:\n",
    "            merged[k] = x1[i]\n",
    "            i += 1\n",
    "            k += 1\n",
    "        else:\n",
    "            merged[k] = x2[j]\n",
    "            j += 1\n",
    "            k += 1\n",
    "            \n",
    "    print('i, j = {}, {}'.format(i,j))\n",
    "    \n",
    "    #Then scan non empty one\n",
    "    if i < len(x1):\n",
    "        merged[k] = x1[i]\n",
    "        i += 1\n",
    "        k += 1\n",
    "        \n",
    "    if j < len(x2):\n",
    "        merged[k] = x2[j]\n",
    "        j += 1\n",
    "        k += 1\n",
    "        \n",
    "    return merged\n",
    "\n",
    "\n",
    "def mergeSort(x):\n",
    "    if len(x) == 1:\n",
    "        return x\n",
    "    else:\n",
    "        mid = len(x) // 2\n",
    "        L, R = x[:mid], x[mid:]\n",
    "        return merge(mergeSort(L), mergeSort(R))\n",
    "\n",
    "x = [5,1,11,9,3]\n",
    "x = mergeSort(x)\n",
    "x"
   ]
  },
  {
   "cell_type": "markdown",
   "metadata": {},
   "source": [
    "For linked lists, (tested in the data-structures files)"
   ]
  },
  {
   "cell_type": "code",
   "execution_count": 64,
   "metadata": {},
   "outputs": [],
   "source": [
    "def mergeLists(l1,l2):\n",
    "    \n",
    "    #Edge cases\n",
    "    if not l1:\n",
    "        return l2\n",
    "    if not l2:\n",
    "        return l1\n",
    "    \n",
    "    #Get head of sorted list\n",
    "    if l1.val < l2.val:\n",
    "        head_sorted = l1\n",
    "        l1 = l1.next\n",
    "    else:\n",
    "        head_sorted = l2\n",
    "        l2 = l2.next\n",
    "        \n",
    "    #Main while loop\n",
    "    temp = head_sorted\n",
    "    while l1 and l2:\n",
    "        if l1.val < l2.val:\n",
    "            temp.next = l1\n",
    "            l1 = l1.next\n",
    "            temp = temp.next\n",
    "        else:\n",
    "            temp.next = l2\n",
    "            l2 = l2.next\n",
    "            temp = temp.next\n",
    "            \n",
    "    #Catch bits at end\n",
    "    temp.next = l1 or l2  #i.e attach the non empty one\n",
    "    \n",
    "    return head_sorted\n",
    "\n",
    "\n",
    "def mergeSort(head):\n",
    "    \n",
    "    #Edge case\n",
    "    if head is None or head.next is None:\n",
    "        return head\n",
    "    \n",
    "    #Find midpoint\n",
    "    slow,fast = head, head.next\n",
    "    while fast and fast.next:\n",
    "        slow = slow.next\n",
    "        fast = fast.next.next\n",
    "        \n",
    "    #Now split the second half\n",
    "    head2 = slow.next\n",
    "    slow.next = None\n",
    "    \n",
    "    #Now merge these two lists\n",
    "    sortedL = mergeSort(head)\n",
    "    sortedR = mergeSort(head2)\n",
    "    return mergeLists(sortedL, sortedR)"
   ]
  },
  {
   "cell_type": "markdown",
   "metadata": {},
   "source": [
    "#### Quicksort\n",
    "\n",
    "Complexity: O(n^2) worst case, but faster in practice --> O(n log n)"
   ]
  },
  {
   "cell_type": "code",
   "execution_count": 58,
   "metadata": {},
   "outputs": [
    {
     "data": {
      "text/plain": [
       "[1, 3, 6, 7, 9, 11]"
      ]
     },
     "execution_count": 58,
     "metadata": {},
     "output_type": "execute_result"
    }
   ],
   "source": [
    "def partition(x,l,h):\n",
    "    \"\"\"\n",
    "    Does two things:\n",
    "    \n",
    "    1. Finds the index of the pivot, p, in the SORTED array\n",
    "    2. Partitions x such that everything to left of p is smaller than p (but not necessarily sorted)\n",
    "       and everything to the right of p is larger than p. The benefit of this is that now you can \n",
    "       use divide and conquer.\n",
    "    \"\"\"\n",
    "    \n",
    "    index_pivot = h  #index of pivot\n",
    "    x_pivot = x[index_pivot]\n",
    "    \n",
    "    low = l-1  #index of last element in left partiton\n",
    "    for i in range(l,h):\n",
    "        if x[i] < x_pivot:\n",
    "            low += 1\n",
    "            x[i], x[low] = x[low], x[i]\n",
    "            \n",
    "    #swap pivot\n",
    "    x[index_pivot], x[low+1] = x[low+1], x[index_pivot]\n",
    "    return low + 1  #position of pivot\n",
    "\n",
    "\n",
    "def quickSort(x,l,h):\n",
    "    \n",
    "    if l <= h:\n",
    "        p = partition(x,l,h)\n",
    "        quickSort(x,l,p-1)\n",
    "        quickSort(x,p+1,h)\n",
    "    \n",
    "x = [7,9,1,11,3,6]\n",
    "l, h = 0, len(x)-1\n",
    "quickSort(x,0,h)\n",
    "x"
   ]
  },
  {
   "cell_type": "markdown",
   "metadata": {},
   "source": [
    "## Graphs\n",
    "\n",
    "#### BFS"
   ]
  },
  {
   "cell_type": "code",
   "execution_count": 36,
   "metadata": {},
   "outputs": [
    {
     "name": "stdout",
     "output_type": "stream",
     "text": [
      "[1]\n",
      "[2, 3, 6]\n",
      "[3, 6]\n",
      "[6, 4, 5, 6]\n",
      "[4, 5, 6]\n",
      "[5, 6]\n"
     ]
    },
    {
     "data": {
      "text/plain": [
       "True"
      ]
     },
     "execution_count": 36,
     "metadata": {},
     "output_type": "execute_result"
    },
    {
     "data": {
      "image/png": "[encoded data removed]",
      "text/plain": [
       "<Figure size 432x288 with 1 Axes>"
      ]
     },
     "metadata": {},
     "output_type": "display_data"
    }
   ],
   "source": [
    "import numpy as np\n",
    "import networkx as nx\n",
    "\n",
    "def BFS(G,start,end):\n",
    "    \n",
    "    queue = [start]\n",
    "    visited = set([])\n",
    "    while queue:\n",
    "        print(queue)\n",
    "        node = queue.pop(0)   #take from top\n",
    "        if node == end:\n",
    "            return True\n",
    "        if node not in visited: \n",
    "            visited.add(node)\n",
    "            new_neighbours = set(dict(G[node]).keys()) - visited\n",
    "            for n in new_neighbours:\n",
    "                queue.append(n)\n",
    "    return False\n",
    "\n",
    "G = nx.Graph()\n",
    "edges = [(1,2),(1,3),(3,4),(3,5),(3,6),(1,6)]\n",
    "G.add_edges_from(edges)\n",
    "nx.draw(G)\n",
    "\n",
    "BFS(G,1,5)"
   ]
  },
  {
   "cell_type": "code",
   "execution_count": 44,
   "metadata": {},
   "outputs": [
    {
     "data": {
      "text/plain": [
       "[1, 3, 5]"
      ]
     },
     "execution_count": 44,
     "metadata": {},
     "output_type": "execute_result"
    }
   ],
   "source": [
    "def shortestPathBFS(G,start,end):\n",
    "    \n",
    "    queue = [(start,[start])]  #[ (node,[node1,node2,...]) ]\n",
    "    visited = set([])\n",
    "    while queue:\n",
    "        (node,path) = queue.pop(0)   #take from top\n",
    "        if node == end:\n",
    "            return path\n",
    "        if node not in visited: \n",
    "            visited.add(node)\n",
    "            new_neighbours = set(dict(G[node]).keys()) - visited\n",
    "            for n in new_neighbours:\n",
    "                queue.append((n,path+[n]))\n",
    "    return False\n",
    "\n",
    "#Make graph\n",
    "G = nx.Graph()\n",
    "edges = [(1,2),(1,3),(3,4),(3,5),(3,6),(1,6)]\n",
    "G.add_edges_from(edges)\n",
    "\n",
    "path = shortestPathBFS(G,1,5)\n",
    "path"
   ]
  },
  {
   "cell_type": "markdown",
   "metadata": {},
   "source": [
    "#### Find all cc's"
   ]
  },
  {
   "cell_type": "code",
   "execution_count": 11,
   "metadata": {},
   "outputs": [
    {
     "data": {
      "text/plain": [
       "[[0, 1, 2, 3, 5, 7, 8, 9, 10, 11, 14, 15, 16, 18, 19], [4], [17, 13, 6], [12]]"
      ]
     },
     "execution_count": 11,
     "metadata": {},
     "output_type": "execute_result"
    }
   ],
   "source": [
    "import networkx as nx\n",
    "\n",
    "def find_cc(G,start):\n",
    "    queue = [start]\n",
    "    visited = set([])\n",
    "    while queue:\n",
    "        node = queue.pop(0)\n",
    "        if node not in visited:\n",
    "            visited.add(node)\n",
    "            neighbours = set(list(G[node].keys()))\n",
    "            new_neighbours = neighbours - visited\n",
    "            for n in new_neighbours:\n",
    "                queue.append(n)\n",
    "    return visited\n",
    "\n",
    "\n",
    "def find_all_ccs(G):\n",
    "    all_nodes = set(list(G.nodes()))\n",
    "    ccs = []\n",
    "    while all_nodes:\n",
    "        start = all_nodes.pop()\n",
    "        visited = find_cc(G,start)\n",
    "        ccs.append(list(visited))\n",
    "        all_nodes = all_nodes - visited\n",
    "    return ccs\n",
    "        \n",
    "\n",
    "N,p = 20, 0.1\n",
    "G = nx.erdos_renyi_graph(N,p)\n",
    "ccs = find_all_ccs(G)\n",
    "ccs"
   ]
  },
  {
   "cell_type": "markdown",
   "metadata": {},
   "source": [
    "#### DFS -- recursive"
   ]
  },
  {
   "cell_type": "code",
   "execution_count": 8,
   "metadata": {},
   "outputs": [
    {
     "data": {
      "text/plain": [
       "True"
      ]
     },
     "execution_count": 8,
     "metadata": {},
     "output_type": "execute_result"
    }
   ],
   "source": [
    "def dfs(G, start, goal, visited):\n",
    "    if start == goal:\n",
    "        return True\n",
    "    else:\n",
    "        new_visited = visited + [start]\n",
    "        neighbours = list(G[start])\n",
    "        for n in neighbours:\n",
    "            if n not in new_visited:\n",
    "                return dfs(G, n, goal, new_visited)\n",
    "    return False\n",
    "\n",
    "\n",
    "N,p = 20, 0.4\n",
    "G = nx.erdos_renyi_graph(N,p)\n",
    "dfs(G,5,10,[])"
   ]
  },
  {
   "cell_type": "code",
   "execution_count": null,
   "metadata": {},
   "outputs": [],
   "source": []
  },
  {
   "cell_type": "code",
   "execution_count": null,
   "metadata": {},
   "outputs": [],
   "source": []
  },
  {
   "cell_type": "code",
   "execution_count": null,
   "metadata": {},
   "outputs": [],
   "source": []
  },
  {
   "cell_type": "markdown",
   "metadata": {},
   "source": [
    "#### Topological sort\n",
    "\n",
    "\n",
    "In a directed acylic graph, every directed edge, (u,v), u comes before v in the ordering. This ordering is not unique. \n",
    "\n",
    "See https://stackoverflow.com/questions/47192626/deceptively-simple-implementation-of-topological-sorting-in-python"
   ]
  },
  {
   "cell_type": "code",
   "execution_count": 13,
   "metadata": {},
   "outputs": [
    {
     "data": {
      "image/png": "[encoded data removed]",
      "text/plain": [
       "<Figure size 432x288 with 1 Axes>"
      ]
     },
     "metadata": {},
     "output_type": "display_data"
    }
   ],
   "source": [
    "import networkx as nx\n",
    "%matplotlib inline\n",
    "\n",
    "g = nx.DiGraph() \n",
    "g.add_edge(5, 2); \n",
    "g.add_edge(5, 0); \n",
    "g.add_edge(4, 0); \n",
    "g.add_edge(4, 1); \n",
    "g.add_edge(2, 3); \n",
    "g.add_edge(3, 1); \n",
    "\n",
    "nx.draw(g)"
   ]
  },
  {
   "cell_type": "code",
   "execution_count": 19,
   "metadata": {},
   "outputs": [],
   "source": [
    "def recursive_dfs(graph, node):\n",
    "    result = []\n",
    "    seen = set()\n",
    "\n",
    "    def recursive_helper(node):\n",
    "        for neighbor in graph[node]:\n",
    "            if neighbor not in seen:\n",
    "                result.append(neighbor)     # this line will be replaced below\n",
    "                seen.add(neighbor)\n",
    "                recursive_helper(neighbor)\n",
    "\n",
    "    recursive_helper(node)\n",
    "    return result"
   ]
  },
  {
   "cell_type": "code",
   "execution_count": 22,
   "metadata": {},
   "outputs": [
    {
     "data": {
      "text/plain": [
       "[5, 0, 2, 3, 1]"
      ]
     },
     "execution_count": 22,
     "metadata": {},
     "output_type": "execute_result"
    }
   ],
   "source": [
    "def recursive_topological_sort(graph, node):\n",
    "    result = []\n",
    "    seen = set()\n",
    "\n",
    "    def recursive_helper(node):\n",
    "        for neighbor in graph[node]:\n",
    "            if neighbor not in seen:\n",
    "                seen.add(neighbor)\n",
    "                recursive_helper(neighbor)\n",
    "        result.insert(0, node)              # this line replaces the result.append line\n",
    "\n",
    "    recursive_helper(node)\n",
    "    return result\n",
    "\n",
    "result = recursive_topological_sort(g,5)\n",
    "result"
   ]
  },
  {
   "cell_type": "code",
   "execution_count": 45,
   "metadata": {},
   "outputs": [
    {
     "data": {
      "text/plain": [
       "[5, 0, 2, 3, 1]"
      ]
     },
     "execution_count": 45,
     "metadata": {},
     "output_type": "execute_result"
    }
   ],
   "source": [
    "def dfs(G,start):\n",
    "    \n",
    "    result = [start]\n",
    "    visited = set([])\n",
    "    \n",
    "    def helper(G,start):\n",
    "        for n in set(G[start]) - visited:\n",
    "            visited.add(n)\n",
    "            result.append(n)\n",
    "            helper(G,n)\n",
    "            \n",
    "    helper(G,5)\n",
    "    return result\n",
    "\n",
    "\n",
    "def topological_sort(G,start):\n",
    "    \n",
    "    result = []\n",
    "    visited = set([])\n",
    "    \n",
    "    def helper(G,start):\n",
    "        for n in set(G[start]) - visited:\n",
    "            visited.add(n)\n",
    "            helper(G,n)\n",
    "        result.insert(0,start)\n",
    "        \n",
    "    helper(G,5)\n",
    "    return result\n",
    "                            \n",
    "\n",
    "G = nx.DiGraph() \n",
    "G.add_edge(5, 2); \n",
    "G.add_edge(5, 0); \n",
    "G.add_edge(4, 0); \n",
    "G.add_edge(4, 1); \n",
    "G.add_edge(2, 3); \n",
    "G.add_edge(3, 1);\n",
    "\n",
    "dfs(G,5)"
   ]
  },
  {
   "cell_type": "code",
   "execution_count": 60,
   "metadata": {},
   "outputs": [
    {
     "data": {
      "text/plain": [
       "[4, 5, 2, 3, 1, 0]"
      ]
     },
     "execution_count": 60,
     "metadata": {},
     "output_type": "execute_result"
    }
   ],
   "source": [
    "def topological_sort(G):\n",
    "    \n",
    "    #visited list\n",
    "    visited = set()\n",
    "    stack = []\n",
    "    \n",
    "    def helper(G,node):\n",
    "        for n in set(G[node]) - visited:\n",
    "            visited.add(n)\n",
    "            helper(G,n)\n",
    "        stack.insert(0,node)\n",
    "        \n",
    "    for node in G.nodes():\n",
    "        if node not in visited:\n",
    "            helper(G,node)\n",
    "    \n",
    "    return stack\n",
    "\n",
    "G = nx.DiGraph() \n",
    "G.add_edge(5, 2); \n",
    "G.add_edge(5, 0); \n",
    "G.add_edge(4, 0); \n",
    "G.add_edge(4, 1); \n",
    "G.add_edge(2, 3); \n",
    "G.add_edge(3, 1);\n",
    "topological_sort(G)"
   ]
  },
  {
   "cell_type": "markdown",
   "metadata": {},
   "source": [
    "## Misc"
   ]
  },
  {
   "cell_type": "code",
   "execution_count": 1,
   "metadata": {},
   "outputs": [
    {
     "data": {
      "text/plain": [
       "[29]"
      ]
     },
     "execution_count": 1,
     "metadata": {},
     "output_type": "execute_result"
    }
   ],
   "source": [
    "def primeFactors(n):\n",
    "    \n",
    "    factors = []\n",
    "    \n",
    "    #divide by 2\n",
    "    while n % 2 == 0:\n",
    "        factors.append(2)\n",
    "        n /= 2\n",
    "    \n",
    "    #n is now odd. So find smallest odd\n",
    "    for i in range(3,int(n)+1,2):\n",
    "        \n",
    "        while n % i == 0:\n",
    "            factors.append(i)\n",
    "            n /= i\n",
    "            \n",
    "    return factors\n",
    "            \n",
    "factors = primeFactors(29)\n",
    "factors"
   ]
  },
  {
   "cell_type": "markdown",
   "metadata": {},
   "source": []
  }
 ],
 "metadata": {
  "kernelspec": {
   "display_name": "Python 3",
   "language": "python",
   "name": "python3"
  },
  "language_info": {
   "codemirror_mode": {
    "name": "ipython",
    "version": 3
   },
   "file_extension": ".py",
   "mimetype": "text/x-python",
   "name": "python",
   "nbconvert_exporter": "python",
   "pygments_lexer": "ipython3",
   "version": "3.7.3"
  }
 },
 "nbformat": 4,
 "nbformat_minor": 2
}
