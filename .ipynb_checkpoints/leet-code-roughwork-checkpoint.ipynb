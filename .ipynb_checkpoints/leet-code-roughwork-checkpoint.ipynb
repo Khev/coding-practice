{
 "cells": [
  {
   "cell_type": "markdown",
   "metadata": {},
   "source": [
    "# General"
   ]
  },
  {
   "cell_type": "code",
   "execution_count": 25,
   "metadata": {},
   "outputs": [
    {
     "name": "stdout",
     "output_type": "stream",
     "text": [
      "0 4 9\n",
      "0 4 8\n",
      "5 6 8\n",
      "7 7 8\n"
     ]
    },
    {
     "data": {
      "text/plain": [
       "1"
      ]
     },
     "execution_count": 25,
     "metadata": {},
     "output_type": "execute_result"
    }
   ],
   "source": [
    "def findPivot(L,low,high):    \n",
    "    \"\"\"Binary search to find min value\n",
    "    \n",
    "    1. Check if mid in min value: if l[mid-1] > l[mid], then yes\n",
    "    2. Check if mid+1 is min vaue:\n",
    "    3. Divide and conquer\n",
    "    \n",
    "    \n",
    "    EDGE CASES:\n",
    "    \n",
    "    \n",
    "    \"\"\"\n",
    "    \n",
    "    #Condition for pivot\n",
    "    if high < low:\n",
    "        return L[0]\n",
    "    \n",
    "    \n",
    "    #Edge case\n",
    "    if len(L) == 1:\n",
    "        return L[0]\n",
    "    \n",
    "    if len(L) == 2:\n",
    "        if L[0] < L[1]:\n",
    "            return L[0]\n",
    "        else:\n",
    "            return L[1]\n",
    "    \n",
    "    while low <= high:\n",
    "        mid = (high + low) // 2\n",
    "        print(low,mid,high)\n",
    "\n",
    "        #Check if mid is minimum\n",
    "        if L[mid-1] > L[mid]:\n",
    "            return L[mid]\n",
    "\n",
    "        #Check if mid+1 is minimum\n",
    "        if L[mid] > L[mid+1]:\n",
    "            return L[mid +1]\n",
    "\n",
    "        #Do binary search:\n",
    "        #Check if pivot in R := (mid,high):\n",
    "        if L[mid] > L[high]:\n",
    "            low = mid+1\n",
    "            \n",
    "        #Have to add in an edge case\n",
    "        #If there are duplicates, gets stuck here\n",
    "        elif L[mid] == L[high]:\n",
    "            high -= 1\n",
    "        else:\n",
    "            high = mid-1\n",
    "    return L[mid]\n",
    "    \n",
    "    \n",
    "\n",
    "def test():\n",
    "    l = [2,4,5,6,8,0,1]\n",
    "    low,high = 0,len(l)-1\n",
    "    if findPivot(l,low,high) == 0:\n",
    "        return 'Pass'\n",
    "    else:\n",
    "        return 'Fail'\n",
    "    \n",
    "    l = [1,1]\n",
    "    low,high = 0,len(l)-1\n",
    "    if findPivot(l,low,high) == 1:\n",
    "        return 'Pass'\n",
    "    else:\n",
    "        return 'Fail'\n",
    "\n",
    "    l = [1,3,5]\n",
    "    low,high = 0,len(l)-1\n",
    "    if findPivot(l,low,high) == 3:\n",
    "        return 'Pass'\n",
    "    else:\n",
    "        return 'Fail'\n",
    "    \n",
    "    \n",
    "l = [1,3,5]\n",
    "#l = [2,4,5,6,8,0,1]\n",
    "#l = [1,1]\n",
    "l = [1]\n",
    "l = [3,3,3,3,3,3,3,3,1,3]\n",
    "findPivot(l,0,len(l)-1)"
   ]
  },
  {
   "cell_type": "code",
   "execution_count": 68,
   "metadata": {},
   "outputs": [
    {
     "name": "stdout",
     "output_type": "stream",
     "text": [
      "False\n",
      "False\n"
     ]
    }
   ],
   "source": [
    "def binarySearch(L,x):\n",
    "        \n",
    "    #Edge cases\n",
    "    if len(L) == 0:\n",
    "        return -1\n",
    "    if len(L) == 1:\n",
    "        if L[0] == x:\n",
    "            return True\n",
    "        else:\n",
    "            return False\n",
    "        \n",
    "    #Main\n",
    "    low,high = 0, len(L)-1\n",
    "    while low < high - 1:\n",
    "        mid = (low + high) // 2\n",
    "        if L[mid] == x:\n",
    "            return True\n",
    "        else:\n",
    "            if L[mid] < x:\n",
    "                low = mid+1\n",
    "            else:\n",
    "                high = mid-1\n",
    "    return False\n",
    "\n",
    "def test(Ls):\n",
    "    x = 1\n",
    "    for L in Ls:\n",
    "        print(binarySearch(L,x))\n",
    "        \n",
    "Ls = [[1,1],[1,2,3]]\n",
    "test(Ls)"
   ]
  },
  {
   "cell_type": "markdown",
   "metadata": {},
   "source": [
    "# Binary search trees"
   ]
  },
  {
   "cell_type": "code",
   "execution_count": 233,
   "metadata": {},
   "outputs": [
    {
     "name": "stdout",
     "output_type": "stream",
     "text": [
      "\n",
      "          9\n",
      "\n",
      "                    5\n",
      "\n",
      "0\n",
      "\n",
      "          -3\n",
      "\n",
      "                    -10\n"
     ]
    }
   ],
   "source": [
    "COUNT = [10]  \n",
    "def print2DUtil(root, space) : \n",
    "  \n",
    "    # Base case  \n",
    "    if (root == None) : \n",
    "        return\n",
    "  \n",
    "    # Increase distance between levels  \n",
    "    space += COUNT[0] \n",
    "  \n",
    "    # Process right child first  \n",
    "    print2DUtil(root.right, space)  \n",
    "  \n",
    "    # Print current node after space  \n",
    "    # count  \n",
    "    print()  \n",
    "    for i in range(COUNT[0], space): \n",
    "        print(end = \" \")  \n",
    "    print(root.val)  \n",
    "  \n",
    "    # Process left child  \n",
    "    print2DUtil(root.left, space)  \n",
    "  \n",
    "# Wrapper over print2DUtil()  \n",
    "def print2D(root) : \n",
    "      \n",
    "    # space=[0] \n",
    "    # Pass initial space count as 0  \n",
    "    print2DUtil(root, 0)  \n",
    "\n",
    "\n",
    "class TreeNode:\n",
    "    def __init__(self, x=None):\n",
    "        self.val = x\n",
    "        self.left = None\n",
    "        self.right = None\n",
    "        \n",
    "    \n",
    "def insert(root,node):\n",
    "    if root is None:\n",
    "        root = node\n",
    "    else:\n",
    "        if node.val <= root.val:\n",
    "            if root.left is None:\n",
    "                root.left = node\n",
    "            else:\n",
    "                insert(root.left,node)\n",
    "        else:\n",
    "            if root.right is None:\n",
    "                root.right = node\n",
    "            else:\n",
    "                insert(root.right,node)\n",
    "                \n",
    "def makeBinaryTree(L):\n",
    "    root = TreeNode(L[0])\n",
    "    for val in L[1:]:\n",
    "        insert(root,TreeNode(val))\n",
    "    return root\n",
    "\n",
    "\n",
    "def insertLevelOrder(L):\n",
    "    \"\"\" Fill left to right \"\"\"\n",
    "    \n",
    "    root = TreeNode(L[0])\n",
    "    root = helper(L,0,root)\n",
    "    return root\n",
    "    \n",
    "def helper(L,i,root):\n",
    "    n = len(L)\n",
    "    if i < n:\n",
    "        if L[i] == None:\n",
    "            root = None\n",
    "        else:\n",
    "            root = TreeNode(L[i])\n",
    "            root.left = helper(L,2*i+1,root.left)\n",
    "            root.right = helper(L,2*i+2,root.right)\n",
    "    return root\n",
    "\n",
    "def printInOrder(root):\n",
    "    if root is None:\n",
    "        pass\n",
    "    else:\n",
    "        print(root.val)\n",
    "        printInOrder(root.left)\n",
    "        printInOrder(root.right)\n",
    "\n",
    "        \n",
    "def medians(L):\n",
    "    if len(L) > 1:\n",
    "        median_index = len(L) // 2\n",
    "        median = L[median_index]\n",
    "        print(median)\n",
    "        medians(L[:median_index])\n",
    "        medians(L[median_index+1:])\n",
    "    elif len(L) == 1:\n",
    "        print(L[0])\n",
    "    else:\n",
    "        return\n",
    "    \n",
    "    \n",
    "def insertList(root,L):\n",
    "    if len(L) > 1:\n",
    "        median_index = len(L) // 2\n",
    "        median = L[median_index]\n",
    "        node = TreeNode(median)\n",
    "        insert(root,node)\n",
    "        insertList(root, L[:median_index])\n",
    "        insertList(root, L[median_index+1:])\n",
    "    elif len(L) == 1:\n",
    "        node = TreeNode(L[0])\n",
    "        insert(root,node)\n",
    "    else:\n",
    "        return \n",
    "    \n",
    "    \n",
    "def sortedListToBST(L):\n",
    "    median_index = len(L) // 2\n",
    "    median = L[median_index]\n",
    "    root = TreeNode(median)\n",
    "    insertList(root,L[:median_index])\n",
    "    insertList(root,L[median_index+1:])\n",
    "    return root\n",
    "\n",
    "L = [-10,-3,0,5,9]\n",
    "root = sortedListToBST(L)\n",
    "print2D(root)"
   ]
  },
  {
   "cell_type": "markdown",
   "metadata": {},
   "source": [
    "#### Convert sorted array to binary search tree"
   ]
  },
  {
   "cell_type": "code",
   "execution_count": 141,
   "metadata": {},
   "outputs": [
    {
     "name": "stdout",
     "output_type": "stream",
     "text": [
      "\n",
      "          9\n",
      "\n",
      "                    5\n",
      "\n",
      "0\n",
      "\n",
      "          -3\n",
      "\n",
      "                    -10\n"
     ]
    }
   ],
   "source": [
    "def sortedArrayToBST(L):\n",
    "    \"\"\"\n",
    "    \n",
    "    PLAN:\n",
    "    1. Can do via recursion\n",
    "    2. First insert median, then recurse\n",
    "    \n",
    "    \"\"\"\n",
    "    \n",
    "    #Terminating conditions\n",
    "    if len(L) == 0:\n",
    "        return None\n",
    "    if len(L) == 1:\n",
    "        return TreeNode(L[0])\n",
    "    \n",
    "    #Insert\n",
    "    median_index = len(L) // 2\n",
    "    median = L[median_index]\n",
    "    root = TreeNode(median)\n",
    "    \n",
    "    #Recurse\n",
    "    root.right = sortedArrayToBST(L[median_index+1:])\n",
    "    root.left = sortedArrayToBST(L[:median_index])\n",
    "    \n",
    "    return root\n",
    "\n",
    "L = [-10,-3,0,5,9]\n",
    "root = sortedArrayToBST(L)\n",
    "print2D(root)"
   ]
  },
  {
   "cell_type": "markdown",
   "metadata": {},
   "source": [
    "#### Convert sorted linked list to binary search tree"
   ]
  },
  {
   "cell_type": "code",
   "execution_count": 137,
   "metadata": {},
   "outputs": [
    {
     "name": "stdout",
     "output_type": "stream",
     "text": [
      "-10\n",
      "-3\n",
      "0\n",
      "5\n",
      "9\n"
     ]
    },
    {
     "data": {
      "text/plain": [
       "0"
      ]
     },
     "execution_count": 137,
     "metadata": {},
     "output_type": "execute_result"
    }
   ],
   "source": [
    "class listNode:\n",
    "    def __init__(self,x):\n",
    "        self.val = x\n",
    "        self.next = None\n",
    "        \n",
    "def insertToList(root,x):\n",
    "    temp = root\n",
    "    while temp.next:\n",
    "        temp = temp.next\n",
    "    temp.next = listNode(x)\n",
    "    \n",
    "def printList(root):\n",
    "    temp = root\n",
    "    while temp:\n",
    "        print(temp.val)\n",
    "        temp = temp.next\n",
    "        \n",
    "def makeList(L):\n",
    "    rootList = listNode(L[0])\n",
    "    for x in L[1:]:\n",
    "        insertToList(rootList,x)\n",
    "    return rootList\n",
    "\n",
    "def lengthList(root):\n",
    "    temp = root\n",
    "    length = 0\n",
    "    while temp:\n",
    "        temp = temp.next\n",
    "        length += 1\n",
    "    return length\n",
    "\n",
    "def findMedianNode(head):\n",
    "    \"\"\" Use two pointers,\n",
    "        one moving slowly,\n",
    "        the other fast\n",
    "        \n",
    "    \"\"\"\n",
    "    \n",
    "    fast = head\n",
    "    \n",
    "    #Start slow to left of head\n",
    "    #That way get get the 'left' median convention\n",
    "    leftHead = listNode(0)\n",
    "    leftHead.next = head\n",
    "    slow = leftHead\n",
    "    \n",
    "    while fast and fast.next:\n",
    "        slow = slow.next\n",
    "        fast = fast.next.next\n",
    "    return slow.next  #slow.next is now median\n",
    "        \n",
    "#Prepare list\n",
    "L = [-10,-3,0,5,9]\n",
    "head = makeList(L)\n",
    "printList(head)\n",
    "findMedianNode(head).val"
   ]
  },
  {
   "cell_type": "code",
   "execution_count": 159,
   "metadata": {},
   "outputs": [
    {
     "name": "stdout",
     "output_type": "stream",
     "text": [
      "\n",
      "          9\n",
      "\n",
      "                    5\n",
      "\n",
      "0\n",
      "\n",
      "          -3\n",
      "\n",
      "                    -10\n"
     ]
    }
   ],
   "source": [
    "def insertList(head):\n",
    "    \n",
    "    if head is None:\n",
    "        return None\n",
    "    if head.next is None:\n",
    "        return TreeNode(head.val)\n",
    "    \n",
    "    #Find median node\n",
    "    fast = head\n",
    "    \n",
    "    #Start slow to left of head\n",
    "    #That way get get the 'left' median convention\n",
    "    leftHead = listNode(0)\n",
    "    leftHead.next = head\n",
    "    slow = leftHead\n",
    "    while fast and fast.next:\n",
    "        slow = slow.next\n",
    "        fast = fast.next.next\n",
    "        \n",
    "    #slow.next is now median\n",
    "    #insert\n",
    "    root = TreeNode(slow.next.val)\n",
    "\n",
    "    #Recurse\n",
    "    root.right = insertList(slow.next.next)\n",
    "    \n",
    "    #Need to terminate\n",
    "    slow.next = None\n",
    "    root.left = insertList(head)\n",
    "    \n",
    "    return root\n",
    "\n",
    "root = insertList(head)\n",
    "print2D(root)"
   ]
  },
  {
   "cell_type": "markdown",
   "metadata": {},
   "source": [
    "#### Find mode"
   ]
  },
  {
   "cell_type": "code",
   "execution_count": 3,
   "metadata": {},
   "outputs": [
    {
     "data": {
      "text/plain": [
       "9"
      ]
     },
     "execution_count": 3,
     "metadata": {},
     "output_type": "execute_result"
    }
   ],
   "source": [
    "from collections import defaultdict\n",
    "\n",
    "def fill(root,cache):\n",
    "    if root:\n",
    "        val = root.val\n",
    "        cache[val] += 1\n",
    "        fill(root.left,cache)\n",
    "        fill(root.right,cache)   \n",
    "        \n",
    "def findMode(root):\n",
    "    cache = defaultdict(int)\n",
    "    fill(root,cache)\n",
    "    return max(cache)\n",
    "\n",
    "findMode(root)"
   ]
  },
  {
   "cell_type": "markdown",
   "metadata": {},
   "source": [
    "#### Find width of binary tree"
   ]
  },
  {
   "cell_type": "code",
   "execution_count": 305,
   "metadata": {},
   "outputs": [
    {
     "name": "stdout",
     "output_type": "stream",
     "text": [
      "\n",
      "          -3\n",
      "\n",
      "                    9\n",
      "\n",
      "3\n",
      "\n",
      "                    5\n",
      "\n",
      "          -10\n",
      "\n",
      "                    2\n"
     ]
    },
    {
     "data": {
      "text/plain": [
       "3"
      ]
     },
     "execution_count": 305,
     "metadata": {},
     "output_type": "execute_result"
    }
   ],
   "source": [
    "def maxWidthBinaryTree(root):    \n",
    "    \n",
    "    \"\"\"\n",
    "    PLAN:\n",
    "    1. Find nodes at given level using BFS\n",
    "    2. Index nodes at given level: if node has index i, then node.left = 2*i, node.right = 2*i+1\n",
    "    3. Then at each level, width = max(index) - min(index) -- node min(index) not necessarily 0\n",
    "    4. Then keep track of max width seen as I strobe over levels\n",
    "    \"\"\"\n",
    "    \n",
    "    queue = [(root,0,0)]   #(node,depth,pos)\n",
    "    visited = set([])\n",
    "    maxWidth = currDepth = left = 0\n",
    "    while queue:\n",
    "        (node,depth,pos) = queue.pop(0)\n",
    "        if node:\n",
    "            queue.append((node.left, depth+1, pos*2))\n",
    "            queue.append((node.right, depth+1, pos*2+1))\n",
    "\n",
    "            #Once I'm finished with a given level\n",
    "            #I need to update\n",
    "            if currDepth != depth:\n",
    "                currDepth = depth\n",
    "                left = pos  #we will encoutner the leftmost node first\n",
    "            maxWidth = max(pos-left+1,maxWidth)\n",
    "    return maxWidth\n",
    "\n",
    "L = [3,-10,-3,2,5,9]\n",
    "root = levelOrder(L)\n",
    "print2D(root)\n",
    "maxWidthBinaryTree(root)"
   ]
  },
  {
   "cell_type": "markdown",
   "metadata": {},
   "source": [
    "#### Validate binary search tree"
   ]
  },
  {
   "cell_type": "code",
   "execution_count": 161,
   "metadata": {},
   "outputs": [
    {
     "name": "stdout",
     "output_type": "stream",
     "text": [
      "\n",
      "                    9\n",
      "\n",
      "          5\n",
      "\n",
      "3\n",
      "\n",
      "                              2\n",
      "\n",
      "                    -3\n",
      "\n",
      "          -10\n"
     ]
    },
    {
     "data": {
      "text/plain": [
       "True"
      ]
     },
     "execution_count": 161,
     "metadata": {},
     "output_type": "execute_result"
    }
   ],
   "source": [
    "def isValidBST(root):\n",
    "    \"\"\"\n",
    "    \n",
    "    IDEAS:\n",
    "    1. Brute force: check every\n",
    "    \n",
    "    2. Recursive?\n",
    "    \n",
    "    isValidBST(root) = isValidBST(root.left) and isValidBST(root.right) and currentLevelValid\n",
    "    \n",
    "    PLAN:\n",
    "    \n",
    "    \"\"\"\n",
    "    \n",
    "    if root is None:\n",
    "        return True\n",
    "    else:\n",
    "        if root.left is None and root.right is None:\n",
    "            return True\n",
    "        \n",
    "        #Root only has right leaf\n",
    "        elif root.left is None:\n",
    "            currentLevelValid = root.val <= root.right.val    \n",
    "            return isValidBST(root.right) and currentLevelValid\n",
    "        \n",
    "        #Root has only left leaf\n",
    "        elif root.right is None:\n",
    "            currentLevelValid = root.left.val <= root.val\n",
    "            return isValidBST(root.left) and currentLevelValid\n",
    "        \n",
    "        #Root has both leaves\n",
    "        else:\n",
    "            currentLevelValid = root.left.val <= root.val and root.val <= root.right.val\n",
    "            return isValidBST(root.left) and isValidBST(root.right) and currentLevelValid\n",
    "    \n",
    "root = Node(3)\n",
    "L = [3,-10,-3,2,5,9]\n",
    "root = makeTree(L)\n",
    "print2D(root)\n",
    "isValidBST(root)"
   ]
  },
  {
   "cell_type": "markdown",
   "metadata": {},
   "source": [
    "#### Minimum depth"
   ]
  },
  {
   "cell_type": "code",
   "execution_count": 237,
   "metadata": {},
   "outputs": [
    {
     "name": "stdout",
     "output_type": "stream",
     "text": [
      "\n",
      "                    5\n",
      "\n",
      "          3\n",
      "\n",
      "1\n",
      "\n",
      "          2\n",
      "\n",
      "                    4\n"
     ]
    },
    {
     "data": {
      "text/plain": [
       "3"
      ]
     },
     "execution_count": 237,
     "metadata": {},
     "output_type": "execute_result"
    }
   ],
   "source": [
    "def helper1(root):\n",
    "    if root is None:\n",
    "        return float('inf')\n",
    "    elif root.left is None and root.right is None:\n",
    "        return 1\n",
    "    return 1 + min(helper1(root.left), helper1(root.right))\n",
    "\n",
    "def minDepth(root):\n",
    "    \"\"\"\n",
    "    :type root: TreeNode\n",
    "    :rtype: int\n",
    "    \"\"\"\n",
    "    if root is None:\n",
    "        return 0\n",
    "    return helper1(root)  \n",
    "\n",
    "L = [3,9,20,None,None,15,17]\n",
    "#L = [1,2]\n",
    "L = [1,2,3,4,None,None,5]\n",
    "root = insertLevelOrder(L)\n",
    "print2D(root)\n",
    "minDepth(root)"
   ]
  },
  {
   "cell_type": "markdown",
   "metadata": {},
   "source": [
    "### Level order insertion"
   ]
  },
  {
   "cell_type": "code",
   "execution_count": 306,
   "metadata": {},
   "outputs": [
    {
     "name": "stdout",
     "output_type": "stream",
     "text": [
      "\n",
      "                    7\n",
      "\n",
      "          20\n",
      "\n",
      "                    15\n",
      "\n",
      "3\n",
      "\n",
      "                    None\n",
      "\n",
      "          9\n",
      "\n",
      "                    None\n"
     ]
    }
   ],
   "source": [
    "L = [3,9,20,None,None,15,7]\n",
    "root = insertLevelOrder(L)\n",
    "print2D(root)"
   ]
  },
  {
   "cell_type": "code",
   "execution_count": 307,
   "metadata": {},
   "outputs": [
    {
     "name": "stdout",
     "output_type": "stream",
     "text": [
      "\n",
      "                    7\n",
      "\n",
      "          20\n",
      "\n",
      "                    15\n",
      "\n",
      "3\n",
      "\n",
      "                    None\n",
      "\n",
      "          9\n",
      "\n",
      "                    None\n"
     ]
    },
    {
     "data": {
      "text/plain": [
       "[[3], [9, 20], [None, None, 15, 7]]"
      ]
     },
     "execution_count": 307,
     "metadata": {},
     "output_type": "execute_result"
    }
   ],
   "source": [
    "def levelOrder(root):\n",
    "    \"\"\" Can do this via BFS \"\"\"\n",
    "    \n",
    "    #Edge cases\n",
    "    if root is None:\n",
    "        return []\n",
    "    \n",
    "    #Normal case\n",
    "    queue = [(root,0)] #(node,level)\n",
    "    currentLevel = 0\n",
    "    results = []\n",
    "    valsAtThisLevel = []\n",
    "    while queue:\n",
    "        \n",
    "        #Add neighbours\n",
    "        #print([(x[0].val,x[1]) for x in queue])\n",
    "        node,level = queue.pop(0)\n",
    "        if node:\n",
    "            valsAtThisLevel.append(node.val)\n",
    "            if node.left:\n",
    "                queue.append((node.left,level+1))\n",
    "            if node.right:\n",
    "                queue.append((node.right,level+1))\n",
    "\n",
    "            #Update level\n",
    "            if currentLevel != level:\n",
    "                valsAtThisLevel = valsAtThisLevel[:-1]\n",
    "                currentLevel = level\n",
    "                results.append(valsAtThisLevel)\n",
    "                valsAtThisLevel = [node.val]\n",
    "    results.append(valsAtThisLevel)\n",
    "    return results\n",
    "    #return [x for x in reversed(results)]\n",
    "\n",
    "\n",
    "L = [3,9,20,None,None,15,7]\n",
    "#L = [1]\n",
    "root = insertLevelOrder(L)\n",
    "print2D(root)\n",
    "results = levelOrder(root)\n",
    "results"
   ]
  },
  {
   "cell_type": "code",
   "execution_count": 270,
   "metadata": {},
   "outputs": [],
   "source": [
    "def averageOfLevels(root):\n",
    "    \"\"\" Can do this via BFS \"\"\"\n",
    "    \n",
    "    #Edge cases\n",
    "    if root is None:\n",
    "        return []\n",
    "    \n",
    "    #Normal case\n",
    "    queue = [(root,0)] #(node,level)\n",
    "    currentLevel = 0\n",
    "    results = []\n",
    "    valsAtThisLevel = []\n",
    "    while queue:\n",
    "        \n",
    "        #Add neighbours\n",
    "        #print([(x[0].val,x[1]) for x in queue])\n",
    "        node,level = queue.pop(0)\n",
    "        if node:\n",
    "            valsAtThisLevel.append(node.val)\n",
    "            if node.left:\n",
    "                queue.append((node.left,level+1))\n",
    "            if node.right:\n",
    "                queue.append((node.right,level+1))\n",
    "\n",
    "            #Update level\n",
    "            if currentLevel != level:\n",
    "                valsAtThisLevel = valsAtThisLevel[:-1]\n",
    "                currentLevel = level\n",
    "                results.append(valsAtThisLevel)\n",
    "                valsAtThisLevel = [node.val]\n",
    "    results.append(valsAtThisLevel)\n",
    "    return [np.mean(x) for x in results]"
   ]
  },
  {
   "cell_type": "markdown",
   "metadata": {},
   "source": [
    "### Flatten binary tree to linked list"
   ]
  },
  {
   "cell_type": "code",
   "execution_count": 342,
   "metadata": {},
   "outputs": [
    {
     "name": "stdout",
     "output_type": "stream",
     "text": [
      "\n",
      "          5\n",
      "\n",
      "                    6\n",
      "\n",
      "1\n",
      "\n",
      "                    4\n",
      "\n",
      "          2\n",
      "\n",
      "                    3\n"
     ]
    }
   ],
   "source": [
    "L = [1,2,5,3,4,6]\n",
    "root = insertLevelOrder(L)\n",
    "print2D(root)"
   ]
  },
  {
   "cell_type": "code",
   "execution_count": 343,
   "metadata": {},
   "outputs": [
    {
     "name": "stdout",
     "output_type": "stream",
     "text": [
      "\n",
      "                                                  6\n",
      "\n",
      "                                        5\n",
      "\n",
      "                              4\n",
      "\n",
      "                    3\n",
      "\n",
      "          2\n",
      "\n",
      "1\n"
     ]
    }
   ],
   "source": [
    "def flatten(root):\n",
    "    \"\"\"\n",
    "    \n",
    "    PLAN:\n",
    "    1. Recursive approach. Flatten left tree, L, and right tree, R\n",
    "    2. Then root.right = L, with R stitched on at the end of L\n",
    "    \"\"\"\n",
    "    \n",
    "    \n",
    "    #Terminal\n",
    "    if root is None:\n",
    "        return\n",
    "    \n",
    "    #Nonterminal\n",
    "    if root:\n",
    "        flatten(root.left)\n",
    "        flatten(root.right)\n",
    "        \n",
    "        #If there is a left sub-tree\n",
    "        #Then attach the right sub-tree to it\n",
    "        #For that I need the tail\n",
    "        if root.left:\n",
    "            tailOfL = root.left\n",
    "            while tailOfL.right:\n",
    "                tailOfL = tailOfL.right\n",
    "        \n",
    "            #Then attach to right subtree\n",
    "            tailOfL.right = root.right\n",
    "\n",
    "            #Then reset the tree\n",
    "            root.right = root.left\n",
    "            root.left = None\n",
    "        \n",
    "    return root\n",
    "\n",
    "\n",
    "root = flatten(root)\n",
    "print2D(root)"
   ]
  },
  {
   "cell_type": "markdown",
   "metadata": {},
   "source": [
    "### Collect values\n",
    "\n",
    "Not sure how to do this one recursively..."
   ]
  },
  {
   "cell_type": "code",
   "execution_count": 349,
   "metadata": {},
   "outputs": [
    {
     "name": "stdout",
     "output_type": "stream",
     "text": [
      "\n",
      "          5\n",
      "\n",
      "                    6\n",
      "\n",
      "1\n",
      "\n",
      "                    4\n",
      "\n",
      "          2\n",
      "\n",
      "                    3\n"
     ]
    },
    {
     "data": {
      "text/plain": [
       "[1, 2, 3, 4, 5, 6]"
      ]
     },
     "execution_count": 349,
     "metadata": {},
     "output_type": "execute_result"
    }
   ],
   "source": [
    "L = [1,2,5,3,4,6]\n",
    "root = insertLevelOrder(L)\n",
    "print2D(root)\n",
    "\n",
    "def collectPreOrder(root):\n",
    "    \"\"\" DFS. Can control the order of reversal by adding \n",
    "        The left or right nodes first.\n",
    "    \"\"\"\n",
    "    \n",
    "    vals = []\n",
    "    queue = [root]\n",
    "    while queue:\n",
    "        node = queue.pop(-1)\n",
    "        vals.append(node.val)\n",
    "        if node:\n",
    "            if node.right:\n",
    "                queue.append(node.right)\n",
    "            if node.left:\n",
    "                queue.append(node.left)\n",
    "    return vals\n",
    "\n",
    "vals = collectPreOrder(root)\n",
    "vals"
   ]
  }
 ],
 "metadata": {
  "kernelspec": {
   "display_name": "Python 3",
   "language": "python",
   "name": "python3"
  },
  "language_info": {
   "codemirror_mode": {
    "name": "ipython",
    "version": 3
   },
   "file_extension": ".py",
   "mimetype": "text/x-python",
   "name": "python",
   "nbconvert_exporter": "python",
   "pygments_lexer": "ipython3",
   "version": "3.7.3"
  }
 },
 "nbformat": 4,
 "nbformat_minor": 2
}
