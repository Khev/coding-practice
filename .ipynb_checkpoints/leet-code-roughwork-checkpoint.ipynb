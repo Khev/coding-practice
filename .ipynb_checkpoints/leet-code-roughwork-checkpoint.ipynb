{
 "cells": [
  {
   "cell_type": "markdown",
   "metadata": {},
   "source": [
    "# General"
   ]
  },
  {
   "cell_type": "code",
   "execution_count": 25,
   "metadata": {},
   "outputs": [
    {
     "name": "stdout",
     "output_type": "stream",
     "text": [
      "0 4 9\n",
      "0 4 8\n",
      "5 6 8\n",
      "7 7 8\n"
     ]
    },
    {
     "data": {
      "text/plain": [
       "1"
      ]
     },
     "execution_count": 25,
     "metadata": {},
     "output_type": "execute_result"
    }
   ],
   "source": [
    "def findPivot(L,low,high):    \n",
    "    \"\"\"Binary search to find min value\n",
    "    \n",
    "    1. Check if mid in min value: if l[mid-1] > l[mid], then yes\n",
    "    2. Check if mid+1 is min vaue:\n",
    "    3. Divide and conquer\n",
    "    \n",
    "    \n",
    "    EDGE CASES:\n",
    "    \n",
    "    \n",
    "    \"\"\"\n",
    "    \n",
    "    #Condition for pivot\n",
    "    if high < low:\n",
    "        return L[0]\n",
    "    \n",
    "    \n",
    "    #Edge case\n",
    "    if len(L) == 1:\n",
    "        return L[0]\n",
    "    \n",
    "    if len(L) == 2:\n",
    "        if L[0] < L[1]:\n",
    "            return L[0]\n",
    "        else:\n",
    "            return L[1]\n",
    "    \n",
    "    while low <= high:\n",
    "        mid = (high + low) // 2\n",
    "        print(low,mid,high)\n",
    "\n",
    "        #Check if mid is minimum\n",
    "        if L[mid-1] > L[mid]:\n",
    "            return L[mid]\n",
    "\n",
    "        #Check if mid+1 is minimum\n",
    "        if L[mid] > L[mid+1]:\n",
    "            return L[mid +1]\n",
    "\n",
    "        #Do binary search:\n",
    "        #Check if pivot in R := (mid,high):\n",
    "        if L[mid] > L[high]:\n",
    "            low = mid+1\n",
    "            \n",
    "        #Have to add in an edge case\n",
    "        #If there are duplicates, gets stuck here\n",
    "        elif L[mid] == L[high]:\n",
    "            high -= 1\n",
    "        else:\n",
    "            high = mid-1\n",
    "    return L[mid]\n",
    "    \n",
    "    \n",
    "\n",
    "def test():\n",
    "    l = [2,4,5,6,8,0,1]\n",
    "    low,high = 0,len(l)-1\n",
    "    if findPivot(l,low,high) == 0:\n",
    "        return 'Pass'\n",
    "    else:\n",
    "        return 'Fail'\n",
    "    \n",
    "    l = [1,1]\n",
    "    low,high = 0,len(l)-1\n",
    "    if findPivot(l,low,high) == 1:\n",
    "        return 'Pass'\n",
    "    else:\n",
    "        return 'Fail'\n",
    "\n",
    "    l = [1,3,5]\n",
    "    low,high = 0,len(l)-1\n",
    "    if findPivot(l,low,high) == 3:\n",
    "        return 'Pass'\n",
    "    else:\n",
    "        return 'Fail'\n",
    "    \n",
    "    \n",
    "l = [1,3,5]\n",
    "#l = [2,4,5,6,8,0,1]\n",
    "#l = [1,1]\n",
    "l = [1]\n",
    "l = [3,3,3,3,3,3,3,3,1,3]\n",
    "findPivot(l,0,len(l)-1)"
   ]
  },
  {
   "cell_type": "code",
   "execution_count": 68,
   "metadata": {},
   "outputs": [
    {
     "name": "stdout",
     "output_type": "stream",
     "text": [
      "False\n",
      "False\n"
     ]
    }
   ],
   "source": [
    "def binarySearch(L,x):\n",
    "        \n",
    "    #Edge cases\n",
    "    if len(L) == 0:\n",
    "        return -1\n",
    "    if len(L) == 1:\n",
    "        if L[0] == x:\n",
    "            return True\n",
    "        else:\n",
    "            return False\n",
    "        \n",
    "    #Main\n",
    "    low,high = 0, len(L)-1\n",
    "    while low < high - 1:\n",
    "        mid = (low + high) // 2\n",
    "        if L[mid] == x:\n",
    "            return True\n",
    "        else:\n",
    "            if L[mid] < x:\n",
    "                low = mid+1\n",
    "            else:\n",
    "                high = mid-1\n",
    "    return False\n",
    "\n",
    "def test(Ls):\n",
    "    x = 1\n",
    "    for L in Ls:\n",
    "        print(binarySearch(L,x))\n",
    "        \n",
    "Ls = [[1,1],[1,2,3]]\n",
    "test(Ls)"
   ]
  },
  {
   "cell_type": "markdown",
   "metadata": {},
   "source": [
    "# Binary search trees"
   ]
  },
  {
   "cell_type": "code",
   "execution_count": 233,
   "metadata": {},
   "outputs": [
    {
     "name": "stdout",
     "output_type": "stream",
     "text": [
      "\n",
      "          9\n",
      "\n",
      "                    5\n",
      "\n",
      "0\n",
      "\n",
      "          -3\n",
      "\n",
      "                    -10\n"
     ]
    }
   ],
   "source": [
    "COUNT = [10]  \n",
    "def print2DUtil(root, space) : \n",
    "  \n",
    "    # Base case  \n",
    "    if (root == None) : \n",
    "        return\n",
    "  \n",
    "    # Increase distance between levels  \n",
    "    space += COUNT[0] \n",
    "  \n",
    "    # Process right child first  \n",
    "    print2DUtil(root.right, space)  \n",
    "  \n",
    "    # Print current node after space  \n",
    "    # count  \n",
    "    print()  \n",
    "    for i in range(COUNT[0], space): \n",
    "        print(end = \" \")  \n",
    "    print(root.val)  \n",
    "  \n",
    "    # Process left child  \n",
    "    print2DUtil(root.left, space)  \n",
    "  \n",
    "# Wrapper over print2DUtil()  \n",
    "def print2D(root) : \n",
    "      \n",
    "    # space=[0] \n",
    "    # Pass initial space count as 0  \n",
    "    print2DUtil(root, 0)  \n",
    "\n",
    "\n",
    "class TreeNode:\n",
    "    def __init__(self, x=None):\n",
    "        self.val = x\n",
    "        self.left = None\n",
    "        self.right = None\n",
    "        \n",
    "    \n",
    "def insert(root,node):\n",
    "    if root is None:\n",
    "        root = node\n",
    "    else:\n",
    "        if node.val <= root.val:\n",
    "            if root.left is None:\n",
    "                root.left = node\n",
    "            else:\n",
    "                insert(root.left,node)\n",
    "        else:\n",
    "            if root.right is None:\n",
    "                root.right = node\n",
    "            else:\n",
    "                insert(root.right,node)\n",
    "                \n",
    "def makeBinaryTree(L):\n",
    "    root = TreeNode(L[0])\n",
    "    for val in L[1:]:\n",
    "        insert(root,TreeNode(val))\n",
    "    return root\n",
    "\n",
    "\n",
    "def insertLevelOrder(L):\n",
    "    \"\"\" Fill left to right \"\"\"\n",
    "    \n",
    "    root = TreeNode(L[0])\n",
    "    root = helper(L,0,root)\n",
    "    return root\n",
    "    \n",
    "def helper(L,i,root):\n",
    "    n = len(L)\n",
    "    if i < n:\n",
    "        if L[i] == None:\n",
    "            root = None\n",
    "        else:\n",
    "            root = TreeNode(L[i])\n",
    "            root.left = helper(L,2*i+1,root.left)\n",
    "            root.right = helper(L,2*i+2,root.right)\n",
    "    return root\n",
    "\n",
    "def printInOrder(root):\n",
    "    if root is None:\n",
    "        pass\n",
    "    else:\n",
    "        print(root.val)\n",
    "        printInOrder(root.left)\n",
    "        printInOrder(root.right)\n",
    "\n",
    "        \n",
    "def medians(L):\n",
    "    if len(L) > 1:\n",
    "        median_index = len(L) // 2\n",
    "        median = L[median_index]\n",
    "        print(median)\n",
    "        medians(L[:median_index])\n",
    "        medians(L[median_index+1:])\n",
    "    elif len(L) == 1:\n",
    "        print(L[0])\n",
    "    else:\n",
    "        return\n",
    "    \n",
    "    \n",
    "def insertList(root,L):\n",
    "    if len(L) > 1:\n",
    "        median_index = len(L) // 2\n",
    "        median = L[median_index]\n",
    "        node = TreeNode(median)\n",
    "        insert(root,node)\n",
    "        insertList(root, L[:median_index])\n",
    "        insertList(root, L[median_index+1:])\n",
    "    elif len(L) == 1:\n",
    "        node = TreeNode(L[0])\n",
    "        insert(root,node)\n",
    "    else:\n",
    "        return \n",
    "    \n",
    "    \n",
    "def sortedListToBST(L):\n",
    "    median_index = len(L) // 2\n",
    "    median = L[median_index]\n",
    "    root = TreeNode(median)\n",
    "    insertList(root,L[:median_index])\n",
    "    insertList(root,L[median_index+1:])\n",
    "    return root\n",
    "\n",
    "L = [-10,-3,0,5,9]\n",
    "root = sortedListToBST(L)\n",
    "print2D(root)"
   ]
  },
  {
   "cell_type": "markdown",
   "metadata": {},
   "source": [
    "#### Convert sorted array to binary search tree"
   ]
  },
  {
   "cell_type": "code",
   "execution_count": 141,
   "metadata": {},
   "outputs": [
    {
     "name": "stdout",
     "output_type": "stream",
     "text": [
      "\n",
      "          9\n",
      "\n",
      "                    5\n",
      "\n",
      "0\n",
      "\n",
      "          -3\n",
      "\n",
      "                    -10\n"
     ]
    }
   ],
   "source": [
    "def sortedArrayToBST(L):\n",
    "    \"\"\"\n",
    "    \n",
    "    PLAN:\n",
    "    1. Can do via recursion\n",
    "    2. First insert median, then recurse\n",
    "    \n",
    "    \"\"\"\n",
    "    \n",
    "    #Terminating conditions\n",
    "    if len(L) == 0:\n",
    "        return None\n",
    "    if len(L) == 1:\n",
    "        return TreeNode(L[0])\n",
    "    \n",
    "    #Insert\n",
    "    median_index = len(L) // 2\n",
    "    median = L[median_index]\n",
    "    root = TreeNode(median)\n",
    "    \n",
    "    #Recurse\n",
    "    root.right = sortedArrayToBST(L[median_index+1:])\n",
    "    root.left = sortedArrayToBST(L[:median_index])\n",
    "    \n",
    "    return root\n",
    "\n",
    "L = [-10,-3,0,5,9]\n",
    "root = sortedArrayToBST(L)\n",
    "print2D(root)"
   ]
  },
  {
   "cell_type": "markdown",
   "metadata": {},
   "source": [
    "#### Convert sorted linked list to binary search tree"
   ]
  },
  {
   "cell_type": "code",
   "execution_count": 137,
   "metadata": {},
   "outputs": [
    {
     "name": "stdout",
     "output_type": "stream",
     "text": [
      "-10\n",
      "-3\n",
      "0\n",
      "5\n",
      "9\n"
     ]
    },
    {
     "data": {
      "text/plain": [
       "0"
      ]
     },
     "execution_count": 137,
     "metadata": {},
     "output_type": "execute_result"
    }
   ],
   "source": [
    "class listNode:\n",
    "    def __init__(self,x):\n",
    "        self.val = x\n",
    "        self.next = None\n",
    "        \n",
    "def insertToList(root,x):\n",
    "    temp = root\n",
    "    while temp.next:\n",
    "        temp = temp.next\n",
    "    temp.next = listNode(x)\n",
    "    \n",
    "def printList(root):\n",
    "    temp = root\n",
    "    while temp:\n",
    "        print(temp.val)\n",
    "        temp = temp.next\n",
    "        \n",
    "def makeList(L):\n",
    "    rootList = listNode(L[0])\n",
    "    for x in L[1:]:\n",
    "        insertToList(rootList,x)\n",
    "    return rootList\n",
    "\n",
    "def lengthList(root):\n",
    "    temp = root\n",
    "    length = 0\n",
    "    while temp:\n",
    "        temp = temp.next\n",
    "        length += 1\n",
    "    return length\n",
    "\n",
    "def findMedianNode(head):\n",
    "    \"\"\" Use two pointers,\n",
    "        one moving slowly,\n",
    "        the other fast\n",
    "        \n",
    "    \"\"\"\n",
    "    \n",
    "    fast = head\n",
    "    \n",
    "    #Start slow to left of head\n",
    "    #That way get get the 'left' median convention\n",
    "    leftHead = listNode(0)\n",
    "    leftHead.next = head\n",
    "    slow = leftHead\n",
    "    \n",
    "    while fast and fast.next:\n",
    "        slow = slow.next\n",
    "        fast = fast.next.next\n",
    "    return slow.next  #slow.next is now median\n",
    "        \n",
    "#Prepare list\n",
    "L = [-10,-3,0,5,9]\n",
    "head = makeList(L)\n",
    "printList(head)\n",
    "findMedianNode(head).val"
   ]
  },
  {
   "cell_type": "code",
   "execution_count": 159,
   "metadata": {},
   "outputs": [
    {
     "name": "stdout",
     "output_type": "stream",
     "text": [
      "\n",
      "          9\n",
      "\n",
      "                    5\n",
      "\n",
      "0\n",
      "\n",
      "          -3\n",
      "\n",
      "                    -10\n"
     ]
    }
   ],
   "source": [
    "def insertList(head):\n",
    "    \n",
    "    if head is None:\n",
    "        return None\n",
    "    if head.next is None:\n",
    "        return TreeNode(head.val)\n",
    "    \n",
    "    #Find median node\n",
    "    fast = head\n",
    "    \n",
    "    #Start slow to left of head\n",
    "    #That way get get the 'left' median convention\n",
    "    leftHead = listNode(0)\n",
    "    leftHead.next = head\n",
    "    slow = leftHead\n",
    "    while fast and fast.next:\n",
    "        slow = slow.next\n",
    "        fast = fast.next.next\n",
    "        \n",
    "    #slow.next is now median\n",
    "    #insert\n",
    "    root = TreeNode(slow.next.val)\n",
    "\n",
    "    #Recurse\n",
    "    root.right = insertList(slow.next.next)\n",
    "    \n",
    "    #Need to terminate\n",
    "    slow.next = None\n",
    "    root.left = insertList(head)\n",
    "    \n",
    "    return root\n",
    "\n",
    "root = insertList(head)\n",
    "print2D(root)"
   ]
  },
  {
   "cell_type": "markdown",
   "metadata": {},
   "source": [
    "#### Find mode"
   ]
  },
  {
   "cell_type": "code",
   "execution_count": 3,
   "metadata": {},
   "outputs": [
    {
     "data": {
      "text/plain": [
       "9"
      ]
     },
     "execution_count": 3,
     "metadata": {},
     "output_type": "execute_result"
    }
   ],
   "source": [
    "from collections import defaultdict\n",
    "\n",
    "def fill(root,cache):\n",
    "    if root:\n",
    "        val = root.val\n",
    "        cache[val] += 1\n",
    "        fill(root.left,cache)\n",
    "        fill(root.right,cache)   \n",
    "        \n",
    "def findMode(root):\n",
    "    cache = defaultdict(int)\n",
    "    fill(root,cache)\n",
    "    return max(cache)\n",
    "\n",
    "findMode(root)"
   ]
  },
  {
   "cell_type": "markdown",
   "metadata": {},
   "source": [
    "#### Find width of binary tree"
   ]
  },
  {
   "cell_type": "code",
   "execution_count": 305,
   "metadata": {},
   "outputs": [
    {
     "name": "stdout",
     "output_type": "stream",
     "text": [
      "\n",
      "          -3\n",
      "\n",
      "                    9\n",
      "\n",
      "3\n",
      "\n",
      "                    5\n",
      "\n",
      "          -10\n",
      "\n",
      "                    2\n"
     ]
    },
    {
     "data": {
      "text/plain": [
       "3"
      ]
     },
     "execution_count": 305,
     "metadata": {},
     "output_type": "execute_result"
    }
   ],
   "source": [
    "def maxWidthBinaryTree(root):    \n",
    "    \n",
    "    \"\"\"\n",
    "    PLAN:\n",
    "    1. Find nodes at given level using BFS\n",
    "    2. Index nodes at given level: if node has index i, then node.left = 2*i, node.right = 2*i+1\n",
    "    3. Then at each level, width = max(index) - min(index) -- node min(index) not necessarily 0\n",
    "    4. Then keep track of max width seen as I strobe over levels\n",
    "    \"\"\"\n",
    "    \n",
    "    queue = [(root,0,0)]   #(node,depth,pos)\n",
    "    visited = set([])\n",
    "    maxWidth = currDepth = left = 0\n",
    "    while queue:\n",
    "        (node,depth,pos) = queue.pop(0)\n",
    "        if node:\n",
    "            queue.append((node.left, depth+1, pos*2))\n",
    "            queue.append((node.right, depth+1, pos*2+1))\n",
    "\n",
    "            #Once I'm finished with a given level\n",
    "            #I need to update\n",
    "            if currDepth != depth:\n",
    "                currDepth = depth\n",
    "                left = pos  #we will encoutner the leftmost node first\n",
    "            maxWidth = max(pos-left+1,maxWidth)\n",
    "    return maxWidth\n",
    "\n",
    "L = [3,-10,-3,2,5,9]\n",
    "root = levelOrder(L)\n",
    "print2D(root)\n",
    "maxWidthBinaryTree(root)"
   ]
  },
  {
   "cell_type": "markdown",
   "metadata": {},
   "source": [
    "#### Validate binary search tree"
   ]
  },
  {
   "cell_type": "code",
   "execution_count": 161,
   "metadata": {},
   "outputs": [
    {
     "name": "stdout",
     "output_type": "stream",
     "text": [
      "\n",
      "                    9\n",
      "\n",
      "          5\n",
      "\n",
      "3\n",
      "\n",
      "                              2\n",
      "\n",
      "                    -3\n",
      "\n",
      "          -10\n"
     ]
    },
    {
     "data": {
      "text/plain": [
       "True"
      ]
     },
     "execution_count": 161,
     "metadata": {},
     "output_type": "execute_result"
    }
   ],
   "source": [
    "def isValidBST(root):\n",
    "    \"\"\"\n",
    "    \n",
    "    IDEAS:\n",
    "    1. Brute force: check every\n",
    "    \n",
    "    2. Recursive?\n",
    "    \n",
    "    isValidBST(root) = isValidBST(root.left) and isValidBST(root.right) and currentLevelValid\n",
    "    \n",
    "    PLAN:\n",
    "    \n",
    "    \"\"\"\n",
    "    \n",
    "    if root is None:\n",
    "        return True\n",
    "    else:\n",
    "        if root.left is None and root.right is None:\n",
    "            return True\n",
    "        \n",
    "        #Root only has right leaf\n",
    "        elif root.left is None:\n",
    "            currentLevelValid = root.val <= root.right.val    \n",
    "            return isValidBST(root.right) and currentLevelValid\n",
    "        \n",
    "        #Root has only left leaf\n",
    "        elif root.right is None:\n",
    "            currentLevelValid = root.left.val <= root.val\n",
    "            return isValidBST(root.left) and currentLevelValid\n",
    "        \n",
    "        #Root has both leaves\n",
    "        else:\n",
    "            currentLevelValid = root.left.val <= root.val and root.val <= root.right.val\n",
    "            return isValidBST(root.left) and isValidBST(root.right) and currentLevelValid\n",
    "    \n",
    "root = Node(3)\n",
    "L = [3,-10,-3,2,5,9]\n",
    "root = makeTree(L)\n",
    "print2D(root)\n",
    "isValidBST(root)"
   ]
  },
  {
   "cell_type": "markdown",
   "metadata": {},
   "source": [
    "#### Minimum depth"
   ]
  },
  {
   "cell_type": "code",
   "execution_count": 237,
   "metadata": {},
   "outputs": [
    {
     "name": "stdout",
     "output_type": "stream",
     "text": [
      "\n",
      "                    5\n",
      "\n",
      "          3\n",
      "\n",
      "1\n",
      "\n",
      "          2\n",
      "\n",
      "                    4\n"
     ]
    },
    {
     "data": {
      "text/plain": [
       "3"
      ]
     },
     "execution_count": 237,
     "metadata": {},
     "output_type": "execute_result"
    }
   ],
   "source": [
    "def helper1(root):\n",
    "    if root is None:\n",
    "        return float('inf')\n",
    "    elif root.left is None and root.right is None:\n",
    "        return 1\n",
    "    return 1 + min(helper1(root.left), helper1(root.right))\n",
    "\n",
    "def minDepth(root):\n",
    "    \"\"\"\n",
    "    :type root: TreeNode\n",
    "    :rtype: int\n",
    "    \"\"\"\n",
    "    if root is None:\n",
    "        return 0\n",
    "    return helper1(root)  \n",
    "\n",
    "L = [3,9,20,None,None,15,17]\n",
    "#L = [1,2]\n",
    "L = [1,2,3,4,None,None,5]\n",
    "root = insertLevelOrder(L)\n",
    "print2D(root)\n",
    "minDepth(root)"
   ]
  },
  {
   "cell_type": "markdown",
   "metadata": {},
   "source": [
    "### Level order insertion"
   ]
  },
  {
   "cell_type": "code",
   "execution_count": 306,
   "metadata": {},
   "outputs": [
    {
     "name": "stdout",
     "output_type": "stream",
     "text": [
      "\n",
      "                    7\n",
      "\n",
      "          20\n",
      "\n",
      "                    15\n",
      "\n",
      "3\n",
      "\n",
      "                    None\n",
      "\n",
      "          9\n",
      "\n",
      "                    None\n"
     ]
    }
   ],
   "source": [
    "L = [3,9,20,None,None,15,7]\n",
    "root = insertLevelOrder(L)\n",
    "print2D(root)"
   ]
  },
  {
   "cell_type": "code",
   "execution_count": 307,
   "metadata": {},
   "outputs": [
    {
     "name": "stdout",
     "output_type": "stream",
     "text": [
      "\n",
      "                    7\n",
      "\n",
      "          20\n",
      "\n",
      "                    15\n",
      "\n",
      "3\n",
      "\n",
      "                    None\n",
      "\n",
      "          9\n",
      "\n",
      "                    None\n"
     ]
    },
    {
     "data": {
      "text/plain": [
       "[[3], [9, 20], [None, None, 15, 7]]"
      ]
     },
     "execution_count": 307,
     "metadata": {},
     "output_type": "execute_result"
    }
   ],
   "source": [
    "def levelOrder(root):\n",
    "    \"\"\" Can do this via BFS \"\"\"\n",
    "    \n",
    "    #Edge cases\n",
    "    if root is None:\n",
    "        return []\n",
    "    \n",
    "    #Normal case\n",
    "    queue = [(root,0)] #(node,level)\n",
    "    currentLevel = 0\n",
    "    results = []\n",
    "    valsAtThisLevel = []\n",
    "    while queue:\n",
    "        \n",
    "        #Add neighbours\n",
    "        #print([(x[0].val,x[1]) for x in queue])\n",
    "        node,level = queue.pop(0)\n",
    "        if node:\n",
    "            valsAtThisLevel.append(node.val)\n",
    "            if node.left:\n",
    "                queue.append((node.left,level+1))\n",
    "            if node.right:\n",
    "                queue.append((node.right,level+1))\n",
    "\n",
    "            #Update level\n",
    "            if currentLevel != level:\n",
    "                valsAtThisLevel = valsAtThisLevel[:-1]\n",
    "                currentLevel = level\n",
    "                results.append(valsAtThisLevel)\n",
    "                valsAtThisLevel = [node.val]\n",
    "    results.append(valsAtThisLevel)\n",
    "    return results\n",
    "    #return [x for x in reversed(results)]\n",
    "\n",
    "\n",
    "L = [3,9,20,None,None,15,7]\n",
    "#L = [1]\n",
    "root = insertLevelOrder(L)\n",
    "print2D(root)\n",
    "results = levelOrder(root)\n",
    "results"
   ]
  },
  {
   "cell_type": "code",
   "execution_count": 270,
   "metadata": {},
   "outputs": [],
   "source": [
    "def averageOfLevels(root):\n",
    "    \"\"\" Can do this via BFS \"\"\"\n",
    "    \n",
    "    #Edge cases\n",
    "    if root is None:\n",
    "        return []\n",
    "    \n",
    "    #Normal case\n",
    "    queue = [(root,0)] #(node,level)\n",
    "    currentLevel = 0\n",
    "    results = []\n",
    "    valsAtThisLevel = []\n",
    "    while queue:\n",
    "        \n",
    "        #Add neighbours\n",
    "        #print([(x[0].val,x[1]) for x in queue])\n",
    "        node,level = queue.pop(0)\n",
    "        if node:\n",
    "            valsAtThisLevel.append(node.val)\n",
    "            if node.left:\n",
    "                queue.append((node.left,level+1))\n",
    "            if node.right:\n",
    "                queue.append((node.right,level+1))\n",
    "\n",
    "            #Update level\n",
    "            if currentLevel != level:\n",
    "                valsAtThisLevel = valsAtThisLevel[:-1]\n",
    "                currentLevel = level\n",
    "                results.append(valsAtThisLevel)\n",
    "                valsAtThisLevel = [node.val]\n",
    "    results.append(valsAtThisLevel)\n",
    "    return [np.mean(x) for x in results]"
   ]
  },
  {
   "cell_type": "markdown",
   "metadata": {},
   "source": [
    "### Flatten binary tree to linked list"
   ]
  },
  {
   "cell_type": "code",
   "execution_count": 342,
   "metadata": {},
   "outputs": [
    {
     "name": "stdout",
     "output_type": "stream",
     "text": [
      "\n",
      "          5\n",
      "\n",
      "                    6\n",
      "\n",
      "1\n",
      "\n",
      "                    4\n",
      "\n",
      "          2\n",
      "\n",
      "                    3\n"
     ]
    }
   ],
   "source": [
    "L = [1,2,5,3,4,6]\n",
    "root = insertLevelOrder(L)\n",
    "print2D(root)"
   ]
  },
  {
   "cell_type": "code",
   "execution_count": 343,
   "metadata": {},
   "outputs": [
    {
     "name": "stdout",
     "output_type": "stream",
     "text": [
      "\n",
      "                                                  6\n",
      "\n",
      "                                        5\n",
      "\n",
      "                              4\n",
      "\n",
      "                    3\n",
      "\n",
      "          2\n",
      "\n",
      "1\n"
     ]
    }
   ],
   "source": [
    "def flatten(root):\n",
    "    \"\"\"\n",
    "    \n",
    "    PLAN:\n",
    "    1. Recursive approach. Flatten left tree, L, and right tree, R\n",
    "    2. Then root.right = L, with R stitched on at the end of L\n",
    "    \"\"\"\n",
    "    \n",
    "    \n",
    "    #Terminal\n",
    "    if root is None:\n",
    "        return\n",
    "    \n",
    "    #Nonterminal\n",
    "    if root:\n",
    "        flatten(root.left)\n",
    "        flatten(root.right)\n",
    "        \n",
    "        #If there is a left sub-tree\n",
    "        #Then attach the right sub-tree to it\n",
    "        #For that I need the tail\n",
    "        if root.left:\n",
    "            tailOfL = root.left\n",
    "            while tailOfL.right:\n",
    "                tailOfL = tailOfL.right\n",
    "        \n",
    "            #Then attach to right subtree\n",
    "            tailOfL.right = root.right\n",
    "\n",
    "            #Then reset the tree\n",
    "            root.right = root.left\n",
    "            root.left = None\n",
    "        \n",
    "    return root\n",
    "\n",
    "\n",
    "root = flatten(root)\n",
    "print2D(root)"
   ]
  },
  {
   "cell_type": "markdown",
   "metadata": {},
   "source": [
    "### Collect values\n",
    "\n",
    "Not sure how to do this one recursively..."
   ]
  },
  {
   "cell_type": "code",
   "execution_count": 349,
   "metadata": {},
   "outputs": [
    {
     "name": "stdout",
     "output_type": "stream",
     "text": [
      "\n",
      "          5\n",
      "\n",
      "                    6\n",
      "\n",
      "1\n",
      "\n",
      "                    4\n",
      "\n",
      "          2\n",
      "\n",
      "                    3\n"
     ]
    },
    {
     "data": {
      "text/plain": [
       "[1, 2, 3, 4, 5, 6]"
      ]
     },
     "execution_count": 349,
     "metadata": {},
     "output_type": "execute_result"
    }
   ],
   "source": [
    "L = [1,2,5,3,4,6]\n",
    "root = insertLevelOrder(L)\n",
    "print2D(root)\n",
    "\n",
    "def collectPreOrder(root):\n",
    "    \"\"\" DFS. Can control the order of reversal by adding \n",
    "        The left or right nodes first.\n",
    "    \"\"\"\n",
    "    \n",
    "    vals = []\n",
    "    queue = [root]\n",
    "    while queue:\n",
    "        node = queue.pop(-1)\n",
    "        vals.append(node.val)\n",
    "        if node:\n",
    "            if node.right:\n",
    "                queue.append(node.right)\n",
    "            if node.left:\n",
    "                queue.append(node.left)\n",
    "    return vals\n",
    "\n",
    "vals = collectPreOrder(root)\n",
    "vals"
   ]
  },
  {
   "cell_type": "markdown",
   "metadata": {},
   "source": [
    "### Reverse linked list"
   ]
  },
  {
   "cell_type": "code",
   "execution_count": 68,
   "metadata": {},
   "outputs": [
    {
     "name": "stdout",
     "output_type": "stream",
     "text": [
      "1\n",
      "2\n",
      "3\n",
      "4\n",
      "5\n",
      "6\n",
      "7\n",
      "8\n",
      "9\n"
     ]
    }
   ],
   "source": [
    "class Node:\n",
    "    def __init__(self,val=None):\n",
    "        self.val = val\n",
    "        self.next = None\n",
    "        \n",
    "def printLL(head):\n",
    "    dummy = head\n",
    "    while dummy:\n",
    "        print(dummy.val)\n",
    "        dummy = dummy.next\n",
    "        \n",
    "\n",
    "def reverse(head):\n",
    "    \"\"\" \n",
    "    PLAN:\n",
    "    1. Define current and next\n",
    "    2. Set next.next = curr\n",
    "    3. Iterate over one place\n",
    "    \"\"\"\n",
    "    \n",
    "    dummy = head\n",
    "    \n",
    "    prev, curr, nxt = dummy, dummy.next, dummy.next.next\n",
    "    #print('prev,curr,next = {},{},{}'.format(prev.val,curr.val,nxt.val))\n",
    "    prev.next = None\n",
    "    while nxt:\n",
    "        curr.next = prev #reverse link\n",
    "        prev = curr\n",
    "        curr = nxt\n",
    "        nxt = nxt.next\n",
    "        try:\n",
    "            pass\n",
    "            #print('prev,curr,next = {},{},{}'.format(prev.val,curr.val,nxt.val))\n",
    "        except: ValueError\n",
    "    curr.next = prev\n",
    "    return curr\n",
    "\n",
    "#Fill up\n",
    "head = Node(9)\n",
    "vals = [1,2,3,4,5,6,7,8][::-1]\n",
    "dummy = head\n",
    "for val in vals:\n",
    "    dummy.next = Node(val)\n",
    "    dummy = dummy.next\n",
    "\n",
    "#reverse\n",
    "head = reverse(head)\n",
    "\n",
    "#print\n",
    "printLL(head)"
   ]
  },
  {
   "cell_type": "markdown",
   "metadata": {},
   "source": [
    "### Remove n'th node from end of linked list"
   ]
  },
  {
   "cell_type": "code",
   "execution_count": 85,
   "metadata": {},
   "outputs": [
    {
     "ename": "AttributeError",
     "evalue": "'NoneType' object has no attribute 'val'",
     "output_type": "error",
     "traceback": [
      "\u001b[0;31m---------------------------------------------------------------------------\u001b[0m",
      "\u001b[0;31mAttributeError\u001b[0m                            Traceback (most recent call last)",
      "\u001b[0;32m<ipython-input-85-3cd6a10fe9c7>\u001b[0m in \u001b[0;36m<module>\u001b[0;34m\u001b[0m\n\u001b[1;32m     27\u001b[0m     \u001b[0mfast\u001b[0m \u001b[0;34m=\u001b[0m \u001b[0mfast\u001b[0m\u001b[0;34m.\u001b[0m\u001b[0mnext\u001b[0m\u001b[0;34m\u001b[0m\u001b[0;34m\u001b[0m\u001b[0m\n\u001b[1;32m     28\u001b[0m     \u001b[0mslow\u001b[0m \u001b[0;34m=\u001b[0m \u001b[0mslow\u001b[0m\u001b[0;34m.\u001b[0m\u001b[0mnext\u001b[0m\u001b[0;34m\u001b[0m\u001b[0;34m\u001b[0m\u001b[0m\n\u001b[0;32m---> 29\u001b[0;31m \u001b[0mprint\u001b[0m\u001b[0;34m(\u001b[0m\u001b[0;34m'slow,fast = {}'\u001b[0m\u001b[0;34m.\u001b[0m\u001b[0mformat\u001b[0m\u001b[0;34m(\u001b[0m\u001b[0mslow\u001b[0m\u001b[0;34m.\u001b[0m\u001b[0mval\u001b[0m\u001b[0;34m,\u001b[0m\u001b[0mfast\u001b[0m\u001b[0;34m.\u001b[0m\u001b[0mval\u001b[0m\u001b[0;34m)\u001b[0m\u001b[0;34m)\u001b[0m\u001b[0;34m\u001b[0m\u001b[0;34m\u001b[0m\u001b[0m\n\u001b[0m\u001b[1;32m     30\u001b[0m \u001b[0;34m\u001b[0m\u001b[0m\n\u001b[1;32m     31\u001b[0m \u001b[0;31m#edge case: slow = prev\u001b[0m\u001b[0;34m\u001b[0m\u001b[0;34m\u001b[0m\u001b[0;34m\u001b[0m\u001b[0m\n",
      "\u001b[0;31mAttributeError\u001b[0m: 'NoneType' object has no attribute 'val'"
     ]
    }
   ],
   "source": [
    "import numpy as np\n",
    "head = Node(1)\n",
    "vals = [2]\n",
    "dummy = head\n",
    "for val in vals:\n",
    "    dummy.next = Node(val)\n",
    "    dummy = dummy.next\n",
    "head\n",
    "\n",
    "n = 2\n",
    "slow, fast = head, head\n",
    "\n",
    "prev = Node(0)\n",
    "prev.next = head\n",
    "slow,fast = prev,prev\n",
    "\n",
    "#move fast to position n\n",
    "ctr = 0\n",
    "while ctr <= n:\n",
    "    fast = fast.next\n",
    "    ctr += 1\n",
    "    \n",
    "#move fast and slow until fast gets to end\n",
    "#then slow is at L - n - 1 -- before val\n",
    "#we want to delete\n",
    "while fast:\n",
    "    fast = fast.next\n",
    "    slow = slow.next\n",
    "print('slow,fast = {}'.format(slow.val,fast.val))\n",
    "\n",
    "#edge case: slow = prev\n",
    "if slow == prev:\n",
    "    \n",
    "\n",
    "#then delta\n",
    "if slow.next.next:\n",
    "    slow.next = slow.next.next\n",
    "else:\n",
    "    slow.next = None"
   ]
  },
  {
   "cell_type": "markdown",
   "metadata": {},
   "source": [
    "### Delete duplicats from sorted linked list"
   ]
  },
  {
   "cell_type": "code",
   "execution_count": 117,
   "metadata": {},
   "outputs": [
    {
     "name": "stdout",
     "output_type": "stream",
     "text": [
      "True\n",
      "True\n",
      "True\n",
      "True\n",
      "True\n"
     ]
    }
   ],
   "source": [
    "import numpy as np\n",
    "\n",
    "def printLL(head):\n",
    "    dummy = head\n",
    "    while dummy:\n",
    "        print(dummy.val)\n",
    "        dummy = dummy.next\n",
    "\n",
    "\n",
    "def makeLL(vals):\n",
    "    \n",
    "    #edge case\n",
    "    if not vals:\n",
    "        return Node(None)\n",
    "        \n",
    "    head = Node(vals[0])\n",
    "    dummy = head\n",
    "    for val in vals[1:]:\n",
    "        dummy.next = Node(val)\n",
    "        dummy = dummy.next\n",
    "    return head\n",
    "\n",
    "def identical(head1,head2):\n",
    "    while head1:\n",
    "        if head1.val != head2.val:\n",
    "            return False\n",
    "        head1 = head1.next\n",
    "        head2 = head2.next\n",
    "    if head2 is not None:\n",
    "        return False\n",
    "    return True\n",
    "\n",
    "\n",
    "def deleteDuplicates(head):\n",
    "    \n",
    "    \"\"\"\n",
    "    PLAN:\n",
    "    1. Keep two pointers, p1 goes through the list\n",
    "    2. Then other, p2, starts from p1 and moves until no more duplicates\n",
    "    3. Then p1.next = p2\n",
    "    \"\"\"\n",
    "    \n",
    "    p1,p2 = head,head\n",
    "    while p1 and p1.next:\n",
    "        p2 = p1\n",
    "        while p2 and p2.val == p1.val:\n",
    "            p2 = p2.next\n",
    "        p1.next = p2\n",
    "        p1 = p1.next\n",
    "    return head\n",
    "\n",
    "\n",
    "\n",
    "def test():\n",
    "    l1 = makeLL([1,2,2,3,3,4,5])\n",
    "    ans1 = makeLL([1,2,3,4,5])\n",
    "    out = deleteDuplicates(l1)\n",
    "    print(identical(l1,out))\n",
    "    \n",
    "    l1 = makeLL([1,2])\n",
    "    ans1 = makeLL([1,2])\n",
    "    out = deleteDuplicates(l1)\n",
    "    print(identical(l1,out))\n",
    "    \n",
    "    \n",
    "    l1 = makeLL([1])\n",
    "    ans1 = makeLL([1])\n",
    "    out = deleteDuplicates(l1)\n",
    "    print(identical(l1,out))\n",
    "    \n",
    "    l1 = makeLL([])\n",
    "    ans1 = makeLL([])\n",
    "    out = deleteDuplicates(l1)\n",
    "    print(identical(l1,out))\n",
    "    \n",
    "    l1 = makeLL([1,1,1,1,1,1])\n",
    "    ans1 = makeLL([1])\n",
    "    out = deleteDuplicates(l1)\n",
    "    print(identical(l1,out))\n",
    "    \n",
    "test()"
   ]
  },
  {
   "cell_type": "code",
   "execution_count": 296,
   "metadata": {},
   "outputs": [
    {
     "name": "stdout",
     "output_type": "stream",
     "text": [
      "True\n",
      "True\n",
      "True\n",
      "True\n",
      "True\n",
      "True\n"
     ]
    }
   ],
   "source": [
    "def find_start(ptr):\n",
    "    \"\"\" assumes ptr is BEFORE\n",
    "        part of the duplicate block\n",
    "    \"\"\"\n",
    "    \n",
    "    curr, nxt = ptr, ptr.next\n",
    "    while nxt:\n",
    "        \n",
    "        #edge case [curr,nxt]\n",
    "        if nxt.next is None:\n",
    "            return None\n",
    "        \n",
    "        #non edge case [curr,nxt,x1,x2,..]\n",
    "        if nxt.val == nxt.next.val:\n",
    "            return curr\n",
    "        curr = nxt\n",
    "        nxt = nxt.next\n",
    "    return None\n",
    "\n",
    "\n",
    "def find_end(start_of_block):\n",
    "    \"\"\" \n",
    "    There are two cases:\n",
    "    \n",
    "    (i) [2,2,2,3,4,5]\n",
    "    (ii) [2,2,2,3,3,4,5]\n",
    "    \n",
    "    The first is handled by dummy.val == dummy.next.val   (end = 3)\n",
    "    The second is by dummy.next.val == dummy.next.next.val (end = 4)\n",
    "    \n",
    "    Edge cases?\n",
    "    \n",
    "    [2,2,3]\n",
    "    \n",
    "    \n",
    "    \"\"\"\n",
    "    \n",
    "    dummy = start_of_block\n",
    "    while dummy.val == dummy.next.val or dummy.next.val == dummy.next.next.val:\n",
    "        \n",
    "        #edde cases, say [2,3] or [2,2]\n",
    "        if dummy.next.next is None:\n",
    "            if dummy.val == dummy.next.val:\n",
    "                return None\n",
    "            else:\n",
    "                return dummy.next\n",
    "            \n",
    "        dummy = dummy.next\n",
    "        \n",
    "    #dummy is now on the last legal element\n",
    "    #which is the last duplicate\n",
    "    #so return the one after that\n",
    "    return dummy.next\n",
    "\n",
    "\n",
    "def deleteDuplicates1(head):\n",
    "    \n",
    "    \"\"\"\n",
    "    \n",
    "    Same as above, except we want to remove\n",
    "    ALL of the elements which have duplicates\n",
    "    (along with the duplicates themselves)\n",
    "    \n",
    "    PLAN:\n",
    "    1. Need to find start and end of duplicate block\n",
    "    2. Where by start I mean node BEFORE block, and end I mean the one AFTER\n",
    "    \n",
    "    \"\"\"\n",
    "    \n",
    "    prev = Node(0)\n",
    "    prev.next = head\n",
    "    ptr = prev\n",
    "    \n",
    "    #edge case: [] [1]\n",
    "    if head is None or head.next is None:\n",
    "        return head\n",
    "    \n",
    "\n",
    "    #edge case when start with block: [2,2,3,4,5]\n",
    "    if head.val == head.next.val:\n",
    "        start = prev\n",
    "        end = find_end(start.next)\n",
    "        head = end\n",
    "        ptr = start\n",
    "        \n",
    "        if end is None:  #covers [1,1]\n",
    "            return Node(None)\n",
    "    \n",
    "    while ptr:\n",
    "\n",
    "        start = find_start(ptr)\n",
    "        if start == None:\n",
    "            break\n",
    "            \n",
    "        end = find_end(start.next)\n",
    "        start.next = end\n",
    "        ptr = start\n",
    "    return head\n",
    "\n",
    "        \n",
    "\n",
    "def test():\n",
    "    \n",
    "    x = makeLL([1,2,2,3,3,4,5])\n",
    "    ans = makeLL([1,4,5])\n",
    "    out = deleteDuplicates1(x)\n",
    "    print(identical(ans,out))\n",
    "    \n",
    "    x = makeLL([2,2,3,3,4,5])\n",
    "    ans = makeLL([4,5])\n",
    "    out = deleteDuplicates1(x)\n",
    "    print(identical(ans,out))\n",
    "    \n",
    "    x = makeLL([1,2])\n",
    "    ans = makeLL([1,2])\n",
    "    out = deleteDuplicates1(x)\n",
    "    print(identical(ans,out))\n",
    "    \n",
    "    \n",
    "    x = makeLL([1])\n",
    "    ans = makeLL([1])\n",
    "    out = deleteDuplicates1(x)\n",
    "    print(identical(ans,out))\n",
    "    \n",
    "    x = makeLL([])\n",
    "    ans = makeLL([])\n",
    "    out = deleteDuplicates1(x)\n",
    "    print(identical(ans,out))\n",
    "    \n",
    "    x = makeLL([1,1,1,1])\n",
    "    ans = makeLL([])\n",
    "    out = deleteDuplicates1(x)\n",
    "    print(identical(ans,out))\n",
    "    \n",
    "    \n",
    "test()"
   ]
  },
  {
   "cell_type": "markdown",
   "metadata": {},
   "source": [
    "### Palindromic string partitionings\n",
    "\n",
    "Am I really sure how the yield works?"
   ]
  },
  {
   "cell_type": "code",
   "execution_count": 8,
   "metadata": {},
   "outputs": [
    {
     "data": {
      "text/plain": [
       "[['a', 'a', 'b'], ['aa', 'b']]"
      ]
     },
     "execution_count": 8,
     "metadata": {},
     "output_type": "execute_result"
    }
   ],
   "source": [
    "def partitions(s):\n",
    "    if len(s) == 0:\n",
    "        yield []\n",
    "    else:\n",
    "        for i in range(1,len(s)+1):\n",
    "            start,end = s[:i], s[i:]\n",
    "            for p in partitions(end):\n",
    "                if isPalindrome(start):\n",
    "                    yield [start] + p\n",
    "                \n",
    "\n",
    "def isPalindrome(s):\n",
    "    return s == s[::-1]\n",
    "\n",
    "s = 'aab'\n",
    "list(partitions(s))"
   ]
  },
  {
   "cell_type": "code",
   "execution_count": 19,
   "metadata": {},
   "outputs": [],
   "source": [
    "def partitions(s,path):\n",
    "    if len(s) == 0:\n",
    "        return []\n",
    "    else:\n",
    "        for i in range(1,len(s)+1):\n",
    "            start,end = s[:i], s[i:]\n",
    "            for p in partitions(end, [start] + p):\n",
    "                return"
   ]
  },
  {
   "cell_type": "code",
   "execution_count": 11,
   "metadata": {},
   "outputs": [
    {
     "data": {
      "text/plain": [
       "[1, 2, 3, 4, 5]"
      ]
     },
     "execution_count": 11,
     "metadata": {},
     "output_type": "execute_result"
    }
   ],
   "source": [
    "l = [1,2,3]\n",
    "l.extend([4,5])\n",
    "l"
   ]
  },
  {
   "cell_type": "code",
   "execution_count": 17,
   "metadata": {},
   "outputs": [
    {
     "name": "stdout",
     "output_type": "stream",
     "text": [
      "[]\n",
      "[3]\n",
      "[2, 3]\n"
     ]
    },
    {
     "data": {
      "text/plain": [
       "6"
      ]
     },
     "execution_count": 17,
     "metadata": {},
     "output_type": "execute_result"
    }
   ],
   "source": [
    "def f(n,path):\n",
    "    if n == 0:\n",
    "        return 1\n",
    "    else:\n",
    "        return n*f(n-1,[n] + path)\n",
    "    \n",
    "f(3,[])"
   ]
  },
  {
   "cell_type": "markdown",
   "metadata": {},
   "source": [
    "### DFS"
   ]
  },
  {
   "cell_type": "code",
   "execution_count": 88,
   "metadata": {},
   "outputs": [
    {
     "name": "stdout",
     "output_type": "stream",
     "text": [
      "Start = A\n",
      "Start = B\n",
      "Start = C\n",
      "Start = D\n",
      "Start = E\n"
     ]
    },
    {
     "data": {
      "text/plain": [
       "''"
      ]
     },
     "execution_count": 88,
     "metadata": {},
     "output_type": "execute_result"
    }
   ],
   "source": [
    "def DFS(g, start, goal, explored, path):\n",
    "    \n",
    "    \"\"\" Returns path from v to goal in g as a string (Hack) \"\"\"\n",
    "    \n",
    "    explored.add(start)\n",
    "    print('Start = {}'.format(start))\n",
    "    if start == goal:\n",
    "        return path + [start]\n",
    "    else:\n",
    "        neighbours = set(g[start]) - explored\n",
    "        for n in neighbours:\n",
    "            new_start, new_path = n, path + [n]\n",
    "            #print('node, goal, path = {}, {}, {}'.format(n,goal,path))\n",
    "            p = DFS(g,new_start,goal,explored,path + [start])\n",
    "            #print('node, goal, path = {}, {}, {}'.format(n,goal,path))\n",
    "            #if p:\n",
    "            #    return p\n",
    "        return ''\n",
    "            \n",
    "\n",
    "\n",
    "g = {'A': ['B', 'C'],\n",
    "    'B': ['H'],\n",
    "    'C': ['D'],\n",
    "    'D': ['E'],\n",
    "    'E': []}\n",
    "\n",
    "\n",
    "p = DFS(g,'A','B',set([]),[])\n",
    "p"
   ]
  },
  {
   "cell_type": "code",
   "execution_count": 94,
   "metadata": {},
   "outputs": [
    {
     "data": {
      "text/plain": [
       "['A', 'B', 'H']"
      ]
     },
     "execution_count": 94,
     "metadata": {},
     "output_type": "execute_result"
    }
   ],
   "source": [
    "def DFS(g, start, goal, explored, path):\n",
    "    \n",
    "    \"\"\" Returns path from v to goal in g as a string (Hack) \"\"\"\n",
    "    \n",
    "    explored.add(start)\n",
    "    neighbours = set(g[start]) - explored\n",
    "    \n",
    "    if start == goal:\n",
    "        return path + [start]\n",
    "    \n",
    "    elif len(neighbours) == 0:\n",
    "        return ''\n",
    "    \n",
    "    else:\n",
    "        for n in neighbours:\n",
    "            new_start, new_path = n, path + [n]\n",
    "            p = DFS(g,new_start,goal,explored,path + [start])\n",
    "            \n",
    "            #Everything after here is at bottom of recursion tree\n",
    "            #So p will either be \"\" or a non-empty list\n",
    "            if p != '':  # '' means dead end\n",
    "                return p\n",
    "\n",
    "\n",
    "g = {'A': ['B', 'C'],\n",
    "    'B': ['H'],\n",
    "    'C': ['D'],\n",
    "    'D': ['E'],\n",
    "    'E': [],\n",
    "    'H': []}\n",
    "\n",
    "\n",
    "p = DFS(g,'A','H',set([]),[])\n",
    "p"
   ]
  },
  {
   "cell_type": "markdown",
   "metadata": {},
   "source": [
    "### Binary search"
   ]
  },
  {
   "cell_type": "code",
   "execution_count": 8,
   "metadata": {},
   "outputs": [
    {
     "data": {
      "text/plain": [
       "1"
      ]
     },
     "execution_count": 8,
     "metadata": {},
     "output_type": "execute_result"
    }
   ],
   "source": [
    "def binary_search(L,target):\n",
    "    left, right = 0, len(L)-1\n",
    "    while left <= right:\n",
    "        mid = (right + left) // 2 \n",
    "        if L[mid] == target:\n",
    "            return mid\n",
    "        elif L[mid] < target:\n",
    "            left = mid + 1\n",
    "        else:\n",
    "            right = mid - 1\n",
    "        #print('L,R = {},{}'.format(left,right))\n",
    "    return -1\n",
    "\n",
    "L = [1,2,3,4,9,20]\n",
    "target = 2\n",
    "binary_search(L,target)"
   ]
  },
  {
   "cell_type": "code",
   "execution_count": 38,
   "metadata": {},
   "outputs": [
    {
     "name": "stdout",
     "output_type": "stream",
     "text": [
      "left, right, mid = 0, 2, 1\n",
      "left, right, mid = 2, 2, 1\n"
     ]
    },
    {
     "data": {
      "text/plain": [
       "(2, 3)"
      ]
     },
     "execution_count": 38,
     "metadata": {},
     "output_type": "execute_result"
    }
   ],
   "source": [
    "def find_peak(L):\n",
    "    left, right = 0, len(L) - 1\n",
    "\n",
    "    while left < right:\n",
    "        mid = (right + left) // 2\n",
    "        print('left, right, mid = {}, {}, {}'.format(left,right,mid))\n",
    "        \n",
    "        #Seach right interval if L[mid+1] > L\n",
    "        if L[mid] > L[mid+1]: right = mid   #not mid - 1, because it is th epeak\n",
    "        else: left = mid + 1\n",
    "            \n",
    "    print('left, right, mid = {}, {}, {}'.format(left,right,mid))            \n",
    "    return left, L[left]\n",
    "\n",
    "L = [1,2,1,3,5,6,4]\n",
    "L = [1]\n",
    "L = []\n",
    "L = [1,2,3]\n",
    "find_peak(L)"
   ]
  },
  {
   "cell_type": "code",
   "execution_count": 72,
   "metadata": {},
   "outputs": [
    {
     "name": "stdout",
     "output_type": "stream",
     "text": [
      "start,rest,test1 = a,cat,True\n",
      "start,rest,test1 = c,at,False\n",
      "start,rest,test1 = a,t,True\n"
     ]
    },
    {
     "data": {
      "text/plain": [
       "False"
      ]
     },
     "execution_count": 72,
     "metadata": {},
     "output_type": "execute_result"
    }
   ],
   "source": [
    "def solve(s,wordDict):      \n",
    "    if len(s) == 1:\n",
    "        if s in wordDict:\n",
    "            return True\n",
    "        else:\n",
    "            return False\n",
    "    else:\n",
    "        for i in range(1,len(s)):\n",
    "            start, rest = s[:i], s[i:]  # s[0], s[1:end] and s[:end] and s[end:]\n",
    "            test1 = start in wordDict\n",
    "            test2 = solve(rest,wordDict)\n",
    "            return test1 and test2\n",
    "        \n",
    "s = 'acat'\n",
    "wordDict = ['a','cat']\n",
    "solve(s,wordDict)"
   ]
  },
  {
   "cell_type": "code",
   "execution_count": 68,
   "metadata": {},
   "outputs": [
    {
     "name": "stdout",
     "output_type": "stream",
     "text": [
      "start,rest = a,cat\n",
      "start,rest = ac,at\n",
      "start,rest = aca,t\n"
     ]
    }
   ],
   "source": [
    "s = 'acat'\n",
    "for i in range(1,len(s)):\n",
    "    print('start,rest = {},{}'.format(s[:i],s[i:]))"
   ]
  },
  {
   "cell_type": "code",
   "execution_count": 5,
   "metadata": {},
   "outputs": [
    {
     "data": {
      "text/plain": [
       "'nivek'"
      ]
     },
     "execution_count": 5,
     "metadata": {},
     "output_type": "execute_result"
    }
   ],
   "source": [
    "def reverse(s):\n",
    "    \"\"\"\n",
    "    \"\"\"\n",
    "    if len(s) == 1:\n",
    "        return s[0]\n",
    "    else:\n",
    "        last, rest = s[-1], s[:-1]\n",
    "        return last + reverse(rest)\n",
    "    \n",
    "s = 'kevin'\n",
    "reverse(s)"
   ]
  },
  {
   "cell_type": "code",
   "execution_count": 11,
   "metadata": {},
   "outputs": [
    {
     "data": {
      "text/plain": [
       "['abc', 'bac', 'bca', 'acb', 'cab', 'cba']"
      ]
     },
     "execution_count": 11,
     "metadata": {},
     "output_type": "execute_result"
    }
   ],
   "source": [
    "def perms(s):\n",
    "    \"\"\"\n",
    "    IDEAS:\n",
    "    \n",
    "    1. s = 'abc', perms = ['abc','acb','bac','cab','bca','cba']\n",
    "       which is a at every index in perm(bc)\n",
    "    \n",
    "    \"\"\"\n",
    "    \n",
    "    if len(s) == 1:\n",
    "        yield s\n",
    "    else:\n",
    "        first, rest = s[0], s[1:]\n",
    "        for perm in perms(rest):\n",
    "            for i in range(len(perm)+1):\n",
    "                new_perm = perm[:i] + first + perm[i:]\n",
    "                yield new_perm\n",
    "                \n",
    "s = 'abc'\n",
    "list(perms(s))"
   ]
  },
  {
   "cell_type": "code",
   "execution_count": 14,
   "metadata": {},
   "outputs": [
    {
     "data": {
      "text/plain": [
       "['100110', '101110', '100111', '101111']"
      ]
     },
     "execution_count": 14,
     "metadata": {},
     "output_type": "execute_result"
    }
   ],
   "source": [
    "def perms(s):\n",
    "    if len(s) == 1:\n",
    "        if s[0] == '?':\n",
    "            for num in ['0','1']:\n",
    "                yield num\n",
    "        else:\n",
    "            yield s[0]\n",
    "    else:\n",
    "        first, rest = s[0], s[1:]\n",
    "        for perm in perms(rest):\n",
    "            if first == '?':\n",
    "                for num in ['0','1']:\n",
    "                    yield num + perm\n",
    "            else:\n",
    "                yield first + perm\n",
    "\n",
    "\n",
    "s = '10?11?'\n",
    "#s = '?1?'\n",
    "list(perms(s))"
   ]
  },
  {
   "cell_type": "code",
   "execution_count": 21,
   "metadata": {},
   "outputs": [
    {
     "data": {
      "text/plain": [
       "[['a', 'b', 'b'], ['a', 'bb']]"
      ]
     },
     "execution_count": 21,
     "metadata": {},
     "output_type": "execute_result"
    }
   ],
   "source": [
    "def isPalindrome(s):\n",
    "    return s == s[::-1]\n",
    "\n",
    "def partitions(s):\n",
    "    \"\"\"\n",
    "    'ab'\n",
    "    \"\"\"\n",
    "    if len(s) == 0:\n",
    "        yield 1\n",
    "    if len(s) == 1:\n",
    "        yield [s]\n",
    "    else:\n",
    "        for i in range(1,len(s)+1):\n",
    "            start, rest = s[:i], s[i:]\n",
    "            if isPalindrome(start):\n",
    "                for part in partitions(rest):\n",
    "                    if part == 1:\n",
    "                        yield [start]\n",
    "                    else:\n",
    "                        yield [start] + part\n",
    "                \n",
    "s = 'abb'\n",
    "list(partitions(s))"
   ]
  },
  {
   "cell_type": "code",
   "execution_count": 26,
   "metadata": {},
   "outputs": [
    {
     "data": {
      "text/plain": [
       "True"
      ]
     },
     "execution_count": 26,
     "metadata": {},
     "output_type": "execute_result"
    }
   ],
   "source": [
    "def isPalindrome(s):\n",
    "    if len(s) == 1:\n",
    "        return True\n",
    "    else:\n",
    "        first, middle, last = s[0], s[1:-1], s[-1]\n",
    "        return first == last and isPalindrome(middle)\n",
    "\n",
    "s = 'cabac'\n",
    "isPalindrome(s)"
   ]
  },
  {
   "cell_type": "code",
   "execution_count": 27,
   "metadata": {},
   "outputs": [
    {
     "ename": "IndexError",
     "evalue": "string index out of range",
     "output_type": "error",
     "traceback": [
      "\u001b[0;31m---------------------------------------------------------------------------\u001b[0m",
      "\u001b[0;31mIndexError\u001b[0m                                Traceback (most recent call last)",
      "\u001b[0;32m<ipython-input-27-002e597b0e5e>\u001b[0m in \u001b[0;36m<module>\u001b[0;34m\u001b[0m\n\u001b[1;32m      9\u001b[0m \u001b[0ms\u001b[0m \u001b[0;34m=\u001b[0m \u001b[0;34m'this is a test'\u001b[0m\u001b[0;34m\u001b[0m\u001b[0;34m\u001b[0m\u001b[0m\n\u001b[1;32m     10\u001b[0m \u001b[0mp\u001b[0m \u001b[0;34m=\u001b[0m \u001b[0;34m'is'\u001b[0m\u001b[0;34m\u001b[0m\u001b[0;34m\u001b[0m\u001b[0m\n\u001b[0;32m---> 11\u001b[0;31m \u001b[0msub\u001b[0m\u001b[0;34m(\u001b[0m\u001b[0ms\u001b[0m\u001b[0;34m,\u001b[0m\u001b[0mp\u001b[0m\u001b[0;34m)\u001b[0m\u001b[0;34m\u001b[0m\u001b[0;34m\u001b[0m\u001b[0m\n\u001b[0m",
      "\u001b[0;32m<ipython-input-27-002e597b0e5e>\u001b[0m in \u001b[0;36msub\u001b[0;34m(s, p)\u001b[0m\n\u001b[1;32m      4\u001b[0m     \u001b[0;32mfor\u001b[0m \u001b[0mi\u001b[0m \u001b[0;32min\u001b[0m \u001b[0mrange\u001b[0m\u001b[0;34m(\u001b[0m\u001b[0mlen\u001b[0m\u001b[0;34m(\u001b[0m\u001b[0ms\u001b[0m\u001b[0;34m)\u001b[0m\u001b[0;34m)\u001b[0m\u001b[0;34m:\u001b[0m\u001b[0;34m\u001b[0m\u001b[0;34m\u001b[0m\u001b[0m\n\u001b[1;32m      5\u001b[0m         \u001b[0;32mif\u001b[0m \u001b[0ms\u001b[0m\u001b[0;34m[\u001b[0m\u001b[0mi\u001b[0m\u001b[0;34m]\u001b[0m \u001b[0;34m==\u001b[0m \u001b[0mp\u001b[0m\u001b[0;34m[\u001b[0m\u001b[0;36m0\u001b[0m\u001b[0;34m]\u001b[0m\u001b[0;34m:\u001b[0m\u001b[0;34m\u001b[0m\u001b[0;34m\u001b[0m\u001b[0m\n\u001b[0;32m----> 6\u001b[0;31m             \u001b[0;32mreturn\u001b[0m \u001b[0msub\u001b[0m\u001b[0;34m(\u001b[0m\u001b[0ms\u001b[0m\u001b[0;34m[\u001b[0m\u001b[0mi\u001b[0m\u001b[0;34m+\u001b[0m\u001b[0;36m1\u001b[0m\u001b[0;34m]\u001b[0m\u001b[0;34m,\u001b[0m\u001b[0mp\u001b[0m\u001b[0;34m[\u001b[0m\u001b[0;36m1\u001b[0m\u001b[0;34m:\u001b[0m\u001b[0;34m]\u001b[0m\u001b[0;34m)\u001b[0m\u001b[0;34m\u001b[0m\u001b[0;34m\u001b[0m\u001b[0m\n\u001b[0m\u001b[1;32m      7\u001b[0m     \u001b[0;32mreturn\u001b[0m \u001b[0;32mFalse\u001b[0m\u001b[0;34m\u001b[0m\u001b[0;34m\u001b[0m\u001b[0m\n\u001b[1;32m      8\u001b[0m \u001b[0;34m\u001b[0m\u001b[0m\n",
      "\u001b[0;32m<ipython-input-27-002e597b0e5e>\u001b[0m in \u001b[0;36msub\u001b[0;34m(s, p)\u001b[0m\n\u001b[1;32m      4\u001b[0m     \u001b[0;32mfor\u001b[0m \u001b[0mi\u001b[0m \u001b[0;32min\u001b[0m \u001b[0mrange\u001b[0m\u001b[0;34m(\u001b[0m\u001b[0mlen\u001b[0m\u001b[0;34m(\u001b[0m\u001b[0ms\u001b[0m\u001b[0;34m)\u001b[0m\u001b[0;34m)\u001b[0m\u001b[0;34m:\u001b[0m\u001b[0;34m\u001b[0m\u001b[0;34m\u001b[0m\u001b[0m\n\u001b[1;32m      5\u001b[0m         \u001b[0;32mif\u001b[0m \u001b[0ms\u001b[0m\u001b[0;34m[\u001b[0m\u001b[0mi\u001b[0m\u001b[0;34m]\u001b[0m \u001b[0;34m==\u001b[0m \u001b[0mp\u001b[0m\u001b[0;34m[\u001b[0m\u001b[0;36m0\u001b[0m\u001b[0;34m]\u001b[0m\u001b[0;34m:\u001b[0m\u001b[0;34m\u001b[0m\u001b[0;34m\u001b[0m\u001b[0m\n\u001b[0;32m----> 6\u001b[0;31m             \u001b[0;32mreturn\u001b[0m \u001b[0msub\u001b[0m\u001b[0;34m(\u001b[0m\u001b[0ms\u001b[0m\u001b[0;34m[\u001b[0m\u001b[0mi\u001b[0m\u001b[0;34m+\u001b[0m\u001b[0;36m1\u001b[0m\u001b[0;34m]\u001b[0m\u001b[0;34m,\u001b[0m\u001b[0mp\u001b[0m\u001b[0;34m[\u001b[0m\u001b[0;36m1\u001b[0m\u001b[0;34m:\u001b[0m\u001b[0;34m]\u001b[0m\u001b[0;34m)\u001b[0m\u001b[0;34m\u001b[0m\u001b[0;34m\u001b[0m\u001b[0m\n\u001b[0m\u001b[1;32m      7\u001b[0m     \u001b[0;32mreturn\u001b[0m \u001b[0;32mFalse\u001b[0m\u001b[0;34m\u001b[0m\u001b[0;34m\u001b[0m\u001b[0m\n\u001b[1;32m      8\u001b[0m \u001b[0;34m\u001b[0m\u001b[0m\n",
      "\u001b[0;31mIndexError\u001b[0m: string index out of range"
     ]
    }
   ],
   "source": [
    "def sub(s,p):\n",
    "    if len(p) == 0:\n",
    "        return True\n",
    "    else:\n",
    "    for i in range(len(s)):\n",
    "        if s[i] == p[0]:\n",
    "            return sub(s[i+1],p[1:])\n",
    "    return False\n",
    "\n",
    "s = 'this is a test'\n",
    "p = 'is'\n",
    "sub(s,p)"
   ]
  },
  {
   "cell_type": "markdown",
   "metadata": {},
   "source": [
    "### Number of islands"
   ]
  },
  {
   "cell_type": "code",
   "execution_count": 97,
   "metadata": {},
   "outputs": [
    {
     "data": {
      "text/plain": [
       "1"
      ]
     },
     "execution_count": 97,
     "metadata": {},
     "output_type": "execute_result"
    }
   ],
   "source": [
    "def numIslands(grid):\n",
    "    \"\"\"\n",
    "    \n",
    "    PLAN:    \n",
    "    1. Find all CC's? (only counting 1's?)\n",
    "    2. Do via BFS: Time = O(V + E) ? -- depends on how you implement the graph structure\n",
    "       \n",
    "    ALGORITHM:\n",
    "    1. Search every element and check if neighbours are all 0's --> Time: O(N^2)\n",
    "    \n",
    "    Time: ()\n",
    "    \n",
    "    \"\"\"\n",
    "    \n",
    "    if grid == []:\n",
    "        return 0\n",
    "    \n",
    "    m,n = len(grid), len(grid[0])\n",
    "    num_ccs = 0\n",
    "    for i in range(m):\n",
    "        for j in range(n):\n",
    "            if grid[i][j] == 1:\n",
    "                start = (i,j)\n",
    "                visited, grid = find_cc(grid,start)\n",
    "                num_ccs += 1\n",
    "    return num_ccs\n",
    "        \n",
    "            \n",
    "def find_cc(G,start):\n",
    "    queue = [start]\n",
    "    visited = set([])\n",
    "    while queue:\n",
    "        node = queue.pop(0)\n",
    "        (i,j) = node\n",
    "        G[i][j] = 0\n",
    "        if node not in visited:\n",
    "            visited.add(node)\n",
    "            neighbours = get_neighbours(G,node)\n",
    "            new_neighbours = neighbours - visited\n",
    "            for n in new_neighbours:\n",
    "                (i,j) = n\n",
    "                queue.append(n)\n",
    "                G[i][j] = 0\n",
    "    return visited, G\n",
    "    \n",
    "    \n",
    "def get_neighbours(G,node):\n",
    "    \"\"\" Only return neighbours that are 1 \"\"\"\n",
    "    \n",
    "    x,y = node\n",
    "    m,n = len(G), len(G[0])\n",
    "    neighbours = [(x-1,y),(x+1,y),(x,y-1),(x,y+1)]\n",
    "    \n",
    "    #now check is position is valid and there is a one there\n",
    "    neighbours = [ (x,y) for (x,y) in neighbours if 0 <= x < m and 0 <= y < n]\n",
    "    neighbours = [ (x,y) for (x,y) in neighbours if grid[x][y] == 1]\n",
    "    \n",
    "    return set(neighbours)\n",
    "\n",
    "\n",
    "grid = [[1,1,1,1,0],[1,1,0,1,0],[1,1,0,0,0],[0,0,0,0,0]]\n",
    "#grid = [[1,1,0,0,0],[1,1,0,0,0],[0,0,1,0,0],[0,0,0,1,1]]\n",
    "numIslands(grid)"
   ]
  },
  {
   "cell_type": "code",
   "execution_count": 82,
   "metadata": {},
   "outputs": [
    {
     "data": {
      "text/plain": [
       "[<matplotlib.lines.Line2D at 0x7f56b94898d0>]"
      ]
     },
     "execution_count": 82,
     "metadata": {},
     "output_type": "execute_result"
    },
    {
     "data": {
      "image/png": "[encoded data removed]",
      "text/plain": [
       "<Figure size 432x288 with 1 Axes>"
      ]
     },
     "metadata": {
      "needs_background": "light"
     },
     "output_type": "display_data"
    }
   ],
   "source": [
    "import time\n",
    "import numpy as np\n",
    "import matplotlib.pyplot as plt\n",
    "\n",
    "ns = [10,50,100,200]\n",
    "ts = []\n",
    "\n",
    "for n in ns:\n",
    "    t1 = time.time()\n",
    "    grid = [[np.random.choice([0,1]) for i in range(n)] for j in range(n)]\n",
    "    numIslands(grid)\n",
    "    t2 = time.time()\n",
    "    t = (t2-t1)/60.0\n",
    "    ts.append(t)\n",
    "plt.plot(ns,ts)"
   ]
  },
  {
   "cell_type": "markdown",
   "metadata": {},
   "source": [
    "### Compare versions"
   ]
  },
  {
   "cell_type": "code",
   "execution_count": 67,
   "metadata": {},
   "outputs": [
    {
     "data": {
      "text/plain": [
       "0"
      ]
     },
     "execution_count": 67,
     "metadata": {},
     "output_type": "execute_result"
    }
   ],
   "source": [
    "import numpy as np\n",
    "\n",
    "def compare(v1,v2):\n",
    "\n",
    "    #First convert to tuples\n",
    "    v1 = tuple([int(i) for i in v1.split('.')])\n",
    "    v2 = tuple([int(i) for i in v2.split('.')])\n",
    "\n",
    "    #Then pad\n",
    "    diff = len(v1) - len(v2)\n",
    "    if diff > 0:\n",
    "        v2 += tuple((0 for i in range(diff)))\n",
    "    elif diff < 0:\n",
    "        diff = -diff\n",
    "        v1 += tuple((0 for i in range(diff)))\n",
    "    else:\n",
    "        pass\n",
    "\n",
    "    #Then compare\n",
    "    if v1 > v2:\n",
    "        return 1\n",
    "    elif v1 < v2:\n",
    "        return -1\n",
    "    else:\n",
    "        return 0\n",
    "\n",
    "v1, v2 = '1.1.0', '2.1'\n",
    "v1, v2 = '1', '1.0.0'\n",
    "compare(v1,v2)"
   ]
  },
  {
   "cell_type": "markdown",
   "metadata": {},
   "source": [
    "### Fraction to recurring decimal"
   ]
  },
  {
   "cell_type": "code",
   "execution_count": 78,
   "metadata": {},
   "outputs": [
    {
     "data": {
      "text/plain": [
       "'0.3333333333333333'"
      ]
     },
     "execution_count": 78,
     "metadata": {},
     "output_type": "execute_result"
    }
   ],
   "source": [
    "num, denom = 1, 3\n",
    "\n",
    "str(num / denom)"
   ]
  },
  {
   "cell_type": "code",
   "execution_count": 153,
   "metadata": {},
   "outputs": [
    {
     "name": "stdout",
     "output_type": "stream",
     "text": [
      "defaultdict(<class 'int'>, {2: 1})\n"
     ]
    },
    {
     "ename": "UnboundLocalError",
     "evalue": "local variable 'recurring_bit' referenced before assignment",
     "output_type": "error",
     "traceback": [
      "\u001b[0;31m---------------------------------------------------------------------------\u001b[0m",
      "\u001b[0;31mUnboundLocalError\u001b[0m                         Traceback (most recent call last)",
      "\u001b[0;32m<ipython-input-153-1c395c6e2a68>\u001b[0m in \u001b[0;36m<module>\u001b[0;34m\u001b[0m\n\u001b[1;32m     79\u001b[0m \u001b[0;34m\u001b[0m\u001b[0m\n\u001b[1;32m     80\u001b[0m \u001b[0mn\u001b[0m\u001b[0;34m,\u001b[0m \u001b[0md\u001b[0m \u001b[0;34m=\u001b[0m \u001b[0;36m2\u001b[0m\u001b[0;34m,\u001b[0m \u001b[0;36m3\u001b[0m\u001b[0;34m\u001b[0m\u001b[0;34m\u001b[0m\u001b[0m\n\u001b[0;32m---> 81\u001b[0;31m \u001b[0mdiv\u001b[0m\u001b[0;34m(\u001b[0m\u001b[0mn\u001b[0m\u001b[0;34m,\u001b[0m\u001b[0md\u001b[0m\u001b[0;34m)\u001b[0m\u001b[0;34m\u001b[0m\u001b[0;34m\u001b[0m\u001b[0m\n\u001b[0m",
      "\u001b[0;32m<ipython-input-153-1c395c6e2a68>\u001b[0m in \u001b[0;36mdiv\u001b[0;34m(num, denom)\u001b[0m\n\u001b[1;32m     71\u001b[0m                 \u001b[0;32mbreak\u001b[0m\u001b[0;34m\u001b[0m\u001b[0;34m\u001b[0m\u001b[0m\n\u001b[1;32m     72\u001b[0m \u001b[0;34m\u001b[0m\u001b[0m\n\u001b[0;32m---> 73\u001b[0;31m         \u001b[0mans\u001b[0m \u001b[0;34m+=\u001b[0m \u001b[0;34m'('\u001b[0m \u001b[0;34m+\u001b[0m \u001b[0mrecurring_bit\u001b[0m \u001b[0;34m+\u001b[0m \u001b[0;34m')'\u001b[0m\u001b[0;34m\u001b[0m\u001b[0;34m\u001b[0m\u001b[0m\n\u001b[0m\u001b[1;32m     74\u001b[0m \u001b[0;34m\u001b[0m\u001b[0m\n\u001b[1;32m     75\u001b[0m     \u001b[0;32mif\u001b[0m \u001b[0mis_neg\u001b[0m\u001b[0;34m:\u001b[0m\u001b[0;34m\u001b[0m\u001b[0;34m\u001b[0m\u001b[0m\n",
      "\u001b[0;31mUnboundLocalError\u001b[0m: local variable 'recurring_bit' referenced before assignment"
     ]
    }
   ],
   "source": [
    "from collections import defaultdict\n",
    "\n",
    "\n",
    "def div(num,denom):\n",
    "\n",
    "    \"\"\"\n",
    "    \n",
    "    PLAN:\n",
    "    1. Repeatedly divide: divide, multiply remainder by 10, repeat\n",
    "    2. Stop when remainder is zero.\n",
    "    \n",
    "    EX:\n",
    "    n,d = 1, 5\n",
    "    \n",
    "    1. div, remainder = divmod(1,5)   # div = 0, remainder = 1, ans = '0'\n",
    "    2. remainder *= 10,  remainder = 10\n",
    "    3. div, remainder = divmod(10,5)   # div = 2, remainder = 0, ans = '0.5'\n",
    "    \n",
    "    Q: how to add the '.'? Oh, if div = 0, then add '0.' to ans?\n",
    "    Q: how to deal with infinite recurrence? Keep cache of seen remainders? But only add to them\n",
    "       if I'm past the decimal point?\n",
    "       \n",
    "       divmod(21,5)  --> div, rem = 4,1, --> ans = '4'\n",
    "       divmod(10,5) --> div, rem = 2,0  --> ans = '42'\n",
    "       \n",
    "       do I always add decimal place just once? Yes, after first, if n > d, otherwise, straightaway.\n",
    "\n",
    "    \"\"\"\n",
    "    \n",
    "    #edge cases\n",
    "    n,d = num, denom\n",
    "\n",
    "    if n%d == 0:\n",
    "        return str(int(n/d))\n",
    "    \n",
    "    #negative case\n",
    "    is_neg = ''\n",
    "    if n*d < 0:\n",
    "        is_neg = '-'\n",
    "        n = np.abs(n)\n",
    "        d = np.abs(d)\n",
    "        \n",
    "    #Case when n > d:\n",
    "    if n > d:\n",
    "        div, rem = divmod(n,d)\n",
    "        ans = str(int(div)) + '.'\n",
    "    else:\n",
    "        ans = '0.'\n",
    "        div,rem = divmod(n,d)\n",
    "        \n",
    "    cache = defaultdict(int)  #infintie series bit\n",
    "    while rem != 0 and rem not in cache:\n",
    "        \n",
    "        cache[rem] = 1\n",
    "        temp = rem*10         #move the decimal\n",
    "        div, rem = divmod(temp,d)\n",
    "        ans += str(int(div))\n",
    "        \n",
    "        print(cache)\n",
    "        \n",
    "    #Put in parenthesis\n",
    "    # TO DO\n",
    "    if rem != 0:\n",
    "        \n",
    "        #Find recurring bit\n",
    "        index_decimal = ans.index('.')\n",
    "        for i in range(len(ans[index_decimal+1:])-1):\n",
    "            curr, nxt = ans[index_decimal+1+i], ans[index_decimal+1+i+1]\n",
    "            if curr == nxt:\n",
    "                recurring_bit = ans[index_decimal+1:]\n",
    "                break\n",
    "        \n",
    "        ans += '(' + recurring_bit + ')'\n",
    "        \n",
    "    if is_neg:\n",
    "        ans = is_neg + ans\n",
    "    return ans\n",
    "    \n",
    "    \n",
    "n, d = 2, 3\n",
    "div(n,d)"
   ]
  },
  {
   "cell_type": "markdown",
   "metadata": {},
   "source": [
    "### Perfect squares"
   ]
  },
  {
   "cell_type": "code",
   "execution_count": 222,
   "metadata": {},
   "outputs": [
    {
     "name": "stdout",
     "output_type": "stream",
     "text": [
      "S = [1, 4, 9]\n",
      "Q = [[1, 8, 2, [1, 1]], [4, 5, 2, [1, 1]], [9, 0, 2, [1, 1]]]\n",
      "Q = [[4, 5, 2, [1, 1]], [9, 0, 2, [1, 1]], [1, 7, 3, [1, 1, 1]], [4, 4, 3, [1, 1, 1]], [9, -1, 3, [1, 1, 1]]]\n",
      "Q = [[9, 0, 2, [1, 1]], [1, 7, 3, [1, 1, 1]], [4, 4, 3, [1, 1, 1]], [9, -1, 3, [1, 1, 1]], [1, 4, 3, [1, 1, 4]], [4, 1, 3, [1, 1, 4]], [9, -4, 3, [1, 1, 4]]]\n"
     ]
    },
    {
     "data": {
      "text/plain": [
       "3"
      ]
     },
     "execution_count": 222,
     "metadata": {},
     "output_type": "execute_result"
    }
   ],
   "source": [
    "def find_squares(n):\n",
    "    S = []\n",
    "    for i in range(1,n+1):\n",
    "        temp = i**2\n",
    "        if temp <= n:\n",
    "            S.append(temp)\n",
    "    return S\n",
    "        \n",
    "\n",
    "def numSquares(n):\n",
    "    \"\"\"\n",
    "    \n",
    "    IDEAS:\n",
    "    1. Enumerate all perfect squares less than n. Call S(N).\n",
    "    2. Then do BFS? -- like that step counting way\n",
    "    3. Then do BFS on the full graph, keep track of count and path length. Earliest solution I come across\n",
    "       is the answer\n",
    "    \n",
    "    \"\"\"\n",
    "    \n",
    "    \n",
    "    #Find S: set of perfect squares\n",
    "    S = find_squares(n)\n",
    "    print('S = {}'.format(S))\n",
    "    \n",
    "    #Do DBS\n",
    "    for start in S:\n",
    "        path_length = 1\n",
    "        count = n - start\n",
    "        queue = [(start,count,path_length, [start])]\n",
    "        while queue:\n",
    "            node, count, path_length, path = queue.pop(0)\n",
    "            #print('node, count, path = {},{},{}'.format(node,count,path))\n",
    "            for neighbour in S:\n",
    "                count_temp = count - neighbour\n",
    "                path_length_temp = path_length + 1\n",
    "                path_temp = path + [node]\n",
    "                if count > 0:\n",
    "                    queue.append([neighbour,count_temp,path_length_temp, path_temp])\n",
    "                elif count == 0:\n",
    "                    return path_length_temp\n",
    "                else:\n",
    "                    pass\n",
    "            print('Q = {}'.format(queue))\n",
    "    return min_path_length\n",
    "\n",
    "n = 10\n",
    "numSquares(n)"
   ]
  },
  {
   "cell_type": "markdown",
   "metadata": {},
   "source": [
    "### Ugly number"
   ]
  },
  {
   "cell_type": "code",
   "execution_count": 302,
   "metadata": {},
   "outputs": [
    {
     "name": "stdout",
     "output_type": "stream",
     "text": [
      "num, level = 2, 1\n",
      "num, level = 3, 1\n",
      "num, level = 5, 1\n",
      "num, level = 4, 2\n",
      "num, level = 6, 2\n",
      "num, level = 10, 2\n",
      "num, level = 6, 2\n",
      "num, level = 9, 2\n",
      "num, level = 15, 2\n",
      "num, level = 10, 2\n",
      "num, level = 15, 2\n",
      "num, level = 25, 2\n",
      "num, level = 8, 3\n",
      "num, level = 12, 3\n",
      "num, level = 20, 3\n",
      "num, level = 12, 3\n",
      "num, level = 18, 3\n",
      "num, level = 30, 3\n"
     ]
    },
    {
     "data": {
      "text/plain": [
       "[1, 2, 3, 4, 5, 6, 8, 9, 10, 12, 15, 18, 20, 25, 30]"
      ]
     },
     "execution_count": 302,
     "metadata": {},
     "output_type": "execute_result"
    }
   ],
   "source": [
    "def nthUglyNumber(n):\n",
    "    \"\"\"\n",
    "    :type n: int\n",
    "    :rtype: int\n",
    "    \n",
    "    \n",
    "    BRUTE FORCE\n",
    "    1. Scan over 1,...,n, compute the prime factors, if they're in 2,3,5, add\n",
    "    \n",
    "\n",
    "    BETTER:\n",
    "    1. Given U(n), do I know anything about U(n+1)?\n",
    "    2. Oh, I can do BFS, where nodes in each layer are 2,3,5\n",
    "    3. What about the ordering? And duplcicates?\n",
    "    \n",
    "    L1: [2,3,5]\n",
    "    L2: [2*(2,3,5), 3*(2,3,5), 5*(2,3,5)] = [4,6,10,6,9,15,10,15,25]\n",
    "    \n",
    "    So I need to delete duplicates, but I also need a bound. Otherwise, which layer will I stop at?\n",
    "    \n",
    "    min(L_n) = 2*n\n",
    "    max(L_n) = 5*n\n",
    "    \n",
    "    so if min(L_{n+1}) > max(L_{n}) I stop\n",
    "    \n",
    "    PLAN:\n",
    "    1. Do BFS\n",
    "    2. Keep prioirty queue --> delete duplicates, and keep ordered\n",
    "    3. Once you have exceeded n numbers, keep going until finished layer\n",
    "    \n",
    "    \n",
    "    But the ordering is tricky here, so I'd want to use dynamical programming.\n",
    "    \n",
    "    \"\"\"\n",
    "    \n",
    "    nums = [2,3,5]\n",
    "    output = [1]\n",
    "    queue = []\n",
    "    \n",
    "    for start in nums:\n",
    "        level = 1\n",
    "        path = [start]\n",
    "        queue.append((start,level,path))\n",
    "    \n",
    "    full_cond = 1\n",
    "    while queue:\n",
    "        node, level, path = queue.pop(0)\n",
    "        num = np.prod(path)\n",
    "        print('num, level = {}, {}'.format(num,level))\n",
    "        \n",
    "        if num not in output:\n",
    "            if len(output) < n:\n",
    "                output.append(num)\n",
    "                output.sort()\n",
    "            else:\n",
    "                if num < output[-1]:\n",
    "                    output[-1] = num\n",
    "                    \n",
    "        if len(output) >= n:\n",
    "            break\n",
    "\n",
    "        for neighbour in nums:\n",
    "            new_level = level + 1\n",
    "            new_path = path + [neighbour]\n",
    "            queue.append((neighbour, new_level, new_path))\n",
    "\n",
    "    return output\n",
    "\n",
    "n = 15\n",
    "out = nthUglyNumber(n)\n",
    "out"
   ]
  },
  {
   "cell_type": "code",
   "execution_count": 312,
   "metadata": {},
   "outputs": [
    {
     "data": {
      "text/plain": [
       "[1, 2, 3, 4, 5, 6, 8, 9, 10, 12]"
      ]
     },
     "execution_count": 312,
     "metadata": {},
     "output_type": "execute_result"
    }
   ],
   "source": [
    "def nthUglyNumber(n):\n",
    "    \"\"\"\n",
    "    \n",
    "    Do DP:\n",
    "    \n",
    "    U(n) = min(U1, U2, U3)\n",
    "    \n",
    "    where U2 = 2 * previous i1, \n",
    "          U3 = 3 * previous i2\n",
    "          U5 = 5 * previous i3 \n",
    "    \n",
    "    \"\"\"\n",
    "    \n",
    "    U = [0]*n\n",
    "    U[0] = 1\n",
    "    i2 = i3 = i5 = 0\n",
    "    U2, U3, U5 = U[i2]*2, U[i3]*3, U[i5]*5\n",
    "    for i in range(1,n):\n",
    "        \n",
    "        #Find min and set\n",
    "        nxt = min(U2,U3,U5)\n",
    "        U[i] = nxt\n",
    "        \n",
    "        #Iterate pointers\n",
    "        if nxt == U2:\n",
    "            i2 += 1\n",
    "            U2 = U[i2]*2\n",
    "        if nxt == U3:\n",
    "            i3 += 1\n",
    "            U3 = U[i3]*3\n",
    "        if nxt == U5:\n",
    "            i5 += 1\n",
    "            U5 = U[i5]*5\n",
    "    \n",
    "    return U\n",
    "\n",
    "\n",
    "n = 10\n",
    "nthUglyNumber(n)"
   ]
  },
  {
   "cell_type": "markdown",
   "metadata": {},
   "source": [
    "### k-th largest element"
   ]
  },
  {
   "cell_type": "code",
   "execution_count": 350,
   "metadata": {},
   "outputs": [
    {
     "data": {
      "text/plain": [
       "5"
      ]
     },
     "execution_count": 350,
     "metadata": {},
     "output_type": "execute_result"
    }
   ],
   "source": [
    "def findKthLargest(nums,k):\n",
    "    \"\"\"\n",
    "    \n",
    "    IDEAS:\n",
    "    1. Sort, peel off top k: O(n log n)\n",
    "    2. Can I do better? Linear scan, and keep track of k largest I've seen,\n",
    "    \n",
    "    Scan: O(N)\n",
    "    Priority Q: O(k log k)  --> is there a data structure to make this faster?\n",
    "    \n",
    "    --> O(N*k log(k))\n",
    "        \n",
    "    \"\"\"\n",
    "    \n",
    "    queue = nums[:k]\n",
    "    queue.sort()\n",
    "    for n in nums[k:]:\n",
    "        if n > queue[0]:\n",
    "            queue[0] = n\n",
    "            queue.sort()\n",
    "    return queue[0]\n",
    "\n",
    "nums = [3,2,1,5,6,4]\n",
    "k = 2\n",
    "findKthLargest(nums,k)"
   ]
  },
  {
   "cell_type": "code",
   "execution_count": 351,
   "metadata": {},
   "outputs": [
    {
     "data": {
      "text/plain": [
       "5"
      ]
     },
     "execution_count": 351,
     "metadata": {},
     "output_type": "execute_result"
    }
   ],
   "source": [
    "import random\n",
    "\n",
    "\n",
    "def quickSelect(nums,k):\n",
    "    index = np.random.choice(range(len(nums)))\n",
    "    pivot = nums[index]\n",
    "    \n",
    "    #Partition\n",
    "    left, mid, right = [], [], []\n",
    "    for n in nums:\n",
    "        if n > pivot:\n",
    "            left.append(n)\n",
    "        elif n < pivot:\n",
    "            right.append(n)\n",
    "        else:\n",
    "            mid.append(n)\n",
    "            \n",
    "    #Recurse\n",
    "    if k <= len(left):\n",
    "        return quickSelect(left,k)\n",
    "    elif k == len(left) + len(mid):\n",
    "        return pivot\n",
    "    else:\n",
    "        return quickSelect(right,k - len(left) - len(mid))\n",
    "\n",
    "nums, k = [3,2,1,5,6,4], 2\n",
    "quickSelect(nums,k)"
   ]
  },
  {
   "cell_type": "markdown",
   "metadata": {},
   "source": [
    "### Product of array except self"
   ]
  },
  {
   "cell_type": "code",
   "execution_count": 367,
   "metadata": {},
   "outputs": [
    {
     "data": {
      "text/plain": [
       "[24, 12, 8, 6]"
      ]
     },
     "execution_count": 367,
     "metadata": {},
     "output_type": "execute_result"
    }
   ],
   "source": [
    "def productExceptSelf(nums):\n",
    "    \n",
    "    \"\"\"\n",
    "    \n",
    "    BRUTE FORCE: O(N^2)\n",
    "    \n",
    "    BETTER:\n",
    "    1. Give O[i], what do I know about O[i+1]?\n",
    "    2. O[i+1] = O[i] * ( nums[i] / nums(i+1) )\n",
    "    \n",
    "    But not allowed division?\n",
    "    \n",
    "    W/O division:\n",
    "    1. L[i] = product of element to left of index i\n",
    "    2. R[i] = product of element to right of index i\n",
    "    \n",
    "    Could collapse the inner two for loops\n",
    "    \n",
    "    \"\"\"\n",
    "    \n",
    "    n = len(nums)\n",
    "    L = [0]*len(nums)  \n",
    "    R = [0]*len(nums)\n",
    "    out = [0]*len(nums)\n",
    "    \n",
    "    L[0] = R[n-1] = 1\n",
    "    \n",
    "    #Fill up l\n",
    "    for i in range(1,n):\n",
    "        L[i] = L[i-1]*nums[i-1]\n",
    "        \n",
    "    #Fill up R\n",
    "    for i in range(n-2,-1,-1):\n",
    "        R[i] = R[i+1]*nums[i+1]\n",
    "        \n",
    "    #Fill up 0\n",
    "    for i in range(n):\n",
    "        out[i] = L[i]*R[i]\n",
    "        \n",
    "    return out\n",
    "    \n",
    "nums = [1,2,3,4]\n",
    "productExceptSelf(nums)"
   ]
  },
  {
   "cell_type": "markdown",
   "metadata": {},
   "source": [
    "### Trapping rainwater"
   ]
  },
  {
   "cell_type": "code",
   "execution_count": 421,
   "metadata": {},
   "outputs": [
    {
     "data": {
      "text/plain": [
       "6"
      ]
     },
     "execution_count": 421,
     "metadata": {},
     "output_type": "execute_result"
    }
   ],
   "source": [
    "def trap(height):\n",
    "    \"\"\"\n",
    "    \n",
    "    IDEAS:\n",
    "    \n",
    "    1. What is the water trapped at node i? w_i\n",
    "    \n",
    "    Let L_i = max height on [0,i-1]\n",
    "        R_i = max height on [i+1, n-1]\n",
    "        \n",
    "    Then \n",
    "    \n",
    "    w_i = 0  if hi <= Li or hi <= Ri\n",
    "    w_i = min(L_i, R_i) - hi   otherwise\n",
    "    \n",
    "    \n",
    "    PLAN\n",
    "    1. Sweep once to compute Li and Ri  O(N)\n",
    "    2. Sweep again to computer wi, and keep running total O(N)\n",
    "    \n",
    "    Time: O(N)\n",
    "    Space: O(N)\n",
    "    \n",
    "    \n",
    "    IMPROVEMENTS:\n",
    "    1. Compute L and w at same time\n",
    "    \n",
    "    \"\"\"\n",
    "    \n",
    "    n = len(height)\n",
    "    L = [0]*n\n",
    "    R = [0]*n\n",
    "    \n",
    "    #Compute R\n",
    "    maxR = 0\n",
    "    for i in range(n-2,-1,-1):\n",
    "        maxR = max(height[i+1], maxR)\n",
    "        R[i] = maxR\n",
    "        \n",
    "    #Compute L and w at same time\n",
    "    maxL = 0\n",
    "    total = 0  #total rainwater\n",
    "    for i in range(1,n):  #w_0 = 0 always?\n",
    "        \n",
    "        #Find Li\n",
    "        maxL = max( height[i-1], maxL)\n",
    "        L[i] = maxL\n",
    "        \n",
    "        #Find wi\n",
    "        if L[i] > height[i] and R[i] > height[i]:\n",
    "            wi = min(L[i],R[i]) - height[i]\n",
    "            total += wi\n",
    "\n",
    "    return total\n",
    "\n",
    "height = [0,1,0,2,1,0,1,3,2,1,2,1]\n",
    "trap(height)"
   ]
  },
  {
   "cell_type": "markdown",
   "metadata": {},
   "source": [
    "### Palindromes"
   ]
  },
  {
   "cell_type": "code",
   "execution_count": 428,
   "metadata": {},
   "outputs": [
    {
     "data": {
      "text/plain": [
       "9"
      ]
     },
     "execution_count": 428,
     "metadata": {},
     "output_type": "execute_result"
    }
   ],
   "source": [
    "def longestPalindrome(s):\n",
    "    \"\"\"\n",
    "    \n",
    "    IDEAS:\n",
    "    1. Except for middle letter, have to pair up adjacent letters\n",
    "    2. So add 2 for every pair encountered, and 1 otherwise\n",
    "    \n",
    "    \n",
    "    PLAN:\n",
    "    1. Scan string, if letter not in stack, add it. Else, delete parnter and add 2\n",
    "    2. At end, add 1 if len(stack) > 0\n",
    "    \n",
    "    \"\"\"\n",
    "    \n",
    "    L = 0\n",
    "    table = {}\n",
    "    \n",
    "    for char in s:\n",
    "        if char not in table:\n",
    "            table[char] = 1\n",
    "        else:\n",
    "            del table[char]\n",
    "            L += 2\n",
    "    L += min(1, len(table))\n",
    "    return L\n",
    "\n",
    "s = \"abccccdd\"\n",
    "longestPalindrome(s)"
   ]
  },
  {
   "cell_type": "code",
   "execution_count": 438,
   "metadata": {},
   "outputs": [
    {
     "data": {
      "text/plain": [
       "[[True, False, True], [False, True, False], [False, False, True]]"
      ]
     },
     "execution_count": 438,
     "metadata": {},
     "output_type": "execute_result"
    }
   ],
   "source": [
    "def countSubstrings(s):\n",
    "    \"\"\"\n",
    "    \n",
    "    BRUTE FORCE:\n",
    "    1. Enuemrate all substrings -- O(N^2)\n",
    "    2. Check if palindrome -- O(N)\n",
    "    3. So O(N^3)\n",
    "    \n",
    "    Dyn Programming:\n",
    "    1. Keep table M[i,j]  -- O(N^2)\n",
    "    \n",
    "    M[i,j] = 1  if substring s[i,..j] is palindrome\n",
    "    M[i,j] = M[i+1,j-1] and s[i] == s[j]\n",
    "    \n",
    "    Ex:   s[i,j] = 'abba'   ('abba' is palindrome if 'bb' is and 'a' = 'a')\n",
    "        \n",
    "    Boundary Conditions:\n",
    "    1. M[i,i] = 1  'single letters'\n",
    "    2. M[i,i+1] =  bool s[i] == s[j]   'aa' or 'ba'\n",
    "    \n",
    "    General?\n",
    "    M[i,j] = M[i+1, j-1] -- but how to iterate?\n",
    "    \n",
    "    So I have to iterate over the diagonals. \n",
    "    \n",
    "    \"\"\"\n",
    "    \n",
    "    n = len(s)\n",
    "    M = [[False for i in range(n)] for i in range(n)]\n",
    "    \n",
    "    #Palindromes length 1\n",
    "    for i in range(n):\n",
    "        M[i][i] = True\n",
    "        \n",
    "    #Palindromes length 2\n",
    "    for i in range(n-1):\n",
    "        M[i][i+1] = s[i] == s[i+1]\n",
    "        \n",
    "    #General: iterate along the diagonals, starting at the third\n",
    "    i, j = 0, 2\n",
    "    while i < n - 2 and j < n:\n",
    "        \n",
    "        M[i][j] = M[i+1][j-1] and s[i] == s[j]\n",
    "    \n",
    "        i += 1\n",
    "        j += 1\n",
    "    \n",
    "    return M\n",
    "\n",
    "s = 'aba'\n",
    "countSubstrings(s)"
   ]
  },
  {
   "cell_type": "markdown",
   "metadata": {},
   "source": [
    "### Zig-zag order traversal"
   ]
  },
  {
   "cell_type": "code",
   "execution_count": 121,
   "metadata": {},
   "outputs": [
    {
     "name": "stdout",
     "output_type": "stream",
     "text": [
      "5\n",
      "4\n",
      "5\n",
      "6\n",
      "7\n",
      "8\n",
      "9\n",
      "10\n"
     ]
    }
   ],
   "source": [
    "class Node:\n",
    "    def __init__(self,val=None):\n",
    "        self.val = val\n",
    "        self.left = None\n",
    "        self.right = None\n",
    "\n",
    "\n",
    "def search(root,val):\n",
    "    \"\"\" Binary search \"\"\"\n",
    "\n",
    "    #Terminal condition\n",
    "    if root is None:\n",
    "        return False\n",
    "\n",
    "    #Recurse\n",
    "    if root.val == val:\n",
    "        return True\n",
    "    elif val < root.val:\n",
    "        return search(root.left,val)\n",
    "    else:\n",
    "        return search(root.right,val)\n",
    "    \n",
    "    \n",
    "def insert(root,val):\n",
    "    \n",
    "    if root is None:\n",
    "        root = Node(val)\n",
    "    else:\n",
    "        if val <= root.val:\n",
    "            if root.left is None:\n",
    "                root.left = Node(val)\n",
    "            else:\n",
    "                insert(root.left,val)\n",
    "        else:\n",
    "            if root.right is None:\n",
    "                root.right = Node(val)\n",
    "            else:\n",
    "                insert(root.right, val)\n",
    "                \n",
    "def find_min(root):\n",
    "    if root.left is None:\n",
    "        return root.val\n",
    "    else:\n",
    "        return find_min(root.left)\n",
    "    \n",
    "def printInOrder(root):\n",
    "    if not root:\n",
    "        pass\n",
    "    else:\n",
    "        print(root.val)\n",
    "        printInOrder(root.left)\n",
    "        printInOrder(root.right)\n",
    "                    \n",
    "root = Node(5)\n",
    "vals = range(4,11,1)\n",
    "for val in vals:\n",
    "    insert(root,val)\n",
    "printInOrder(root)"
   ]
  },
  {
   "cell_type": "code",
   "execution_count": 122,
   "metadata": {},
   "outputs": [
    {
     "name": "stdout",
     "output_type": "stream",
     "text": [
      "10\n",
      "5\n",
      "3\n",
      "7\n",
      "15\n",
      "12\n",
      "17\n"
     ]
    }
   ],
   "source": [
    "root = Node(10)\n",
    "vals = [5,15,3,7,12,17]\n",
    "for val in vals:\n",
    "    insert(root,val)\n",
    "printInOrder(root)"
   ]
  },
  {
   "cell_type": "code",
   "execution_count": 123,
   "metadata": {},
   "outputs": [
    {
     "data": {
      "text/plain": [
       "[[10], [15, 5], [3, 7, 12, 17]]"
      ]
     },
     "execution_count": 123,
     "metadata": {},
     "output_type": "execute_result"
    }
   ],
   "source": [
    "def get_neighbours(root):\n",
    "    temp = []\n",
    "    if root.left: temp.append(root.left)\n",
    "    if root.right: temp.append(root.right)\n",
    "    return temp\n",
    "\n",
    "\n",
    "def level_order(root):\n",
    "    \"\"\" Do BFS \"\"\"\n",
    "    \n",
    "    sol = []\n",
    "    queue = [(root,0)]  #(root,level)\n",
    "    curr_level = 0\n",
    "    temp_sol = []  #collect nodes at same level\n",
    "    while queue:\n",
    "        \n",
    "        node, level = queue.pop(0)\n",
    "        \n",
    "        #add neighbours\n",
    "        for neighbour in get_neighbours(node):\n",
    "            queue.append([neighbour,level+1])\n",
    "        \n",
    "        #If same level append\n",
    "        if level == curr_level:\n",
    "            temp_sol.append(node.val)\n",
    "        \n",
    "        #If not, do reset\n",
    "        else:\n",
    "            curr_level = level\n",
    "            sol.append(temp_sol)\n",
    "            temp_sol = [node.val]\n",
    "            \n",
    "    sol.append(temp_sol)\n",
    "    return sol\n",
    "\n",
    "\n",
    "def zig_zag(root):\n",
    "    \n",
    "    sol = []\n",
    "    queue = [(root,0)]  #(root,level)\n",
    "    curr_level = 0\n",
    "    temp_sol = []  #collect nodes at same level\n",
    "    while queue:\n",
    "        \n",
    "        node, level = queue.pop(0)\n",
    "        \n",
    "        #add neighbours\n",
    "        for neighbour in get_neighbours(node):\n",
    "            queue.append([neighbour,level+1])\n",
    "        \n",
    "        #If same level append\n",
    "        if level == curr_level:\n",
    "            if level % 2 == 0:\n",
    "                temp_sol.append(node.val)\n",
    "            else:\n",
    "                temp_sol = [node.val] + temp_sol\n",
    "        \n",
    "        #If not, do reset\n",
    "        else:\n",
    "            curr_level = level\n",
    "            sol.append(temp_sol)\n",
    "            temp_sol = [node.val]\n",
    "            \n",
    "    sol.append(temp_sol)\n",
    "    return sol    \n",
    "\n",
    "zig_zag(root)"
   ]
  },
  {
   "cell_type": "markdown",
   "metadata": {},
   "source": [
    "### Add 2 numbers in linked list"
   ]
  },
  {
   "cell_type": "code",
   "execution_count": 164,
   "metadata": {},
   "outputs": [
    {
     "name": "stdout",
     "output_type": "stream",
     "text": [
      "4\n",
      "2\n",
      "1\n"
     ]
    }
   ],
   "source": [
    "class Node:\n",
    "    def __init__(self, val = None):\n",
    "        self.val = val\n",
    "        self.next = None\n",
    "        \n",
    "class linkedList:\n",
    "    def __init__(self):\n",
    "        self.head = None\n",
    "        \n",
    "    def insertAtEnd(self,node):\n",
    "        \"\"\"\n",
    "        This is O(N)\n",
    "        \"\"\"\n",
    "        \n",
    "        #edge cases\n",
    "        if not self.head:\n",
    "            self.head = node\n",
    "        elif self.head.next is None:\n",
    "            self.head.next = node\n",
    "\n",
    "        #regular case\n",
    "        else:\n",
    "            temp = self.head\n",
    "            while temp.next:\n",
    "                temp = temp.next\n",
    "            temp.next = node\n",
    "            \n",
    "            \n",
    "    def insertNode(self,node):\n",
    "        \"\"\" Insert node at start: O(1) \"\"\"\n",
    "        \n",
    "        temp = self.head\n",
    "        self.head = node\n",
    "        self.head.next = temp\n",
    "\n",
    "        \n",
    "    def printNodes(self):\n",
    "        temp = self.head\n",
    "        while temp:\n",
    "            print(temp.val)\n",
    "            temp = temp.next\n",
    "            \n",
    "    def insertVals(self,vals):\n",
    "        for val in vals:\n",
    "            self.insertNode(Node(val))\n",
    "            \n",
    "    def search(self,val):\n",
    "        temp = self.head\n",
    "        if temp.val == val:\n",
    "            return True\n",
    "        while temp:\n",
    "            if temp.val == val:\n",
    "                return True\n",
    "            temp = temp.next\n",
    "        return False\n",
    "    \n",
    "    def delete(self,val):\n",
    "        \n",
    "        #First find successor\n",
    "        temp = self.head\n",
    "        if temp.val == val:\n",
    "            self.head = temp.next\n",
    "            return \n",
    "            \n",
    "        while temp:\n",
    "            if temp.next.val == val:\n",
    "                break\n",
    "            temp = temp.next\n",
    "        \n",
    "        #Now temp is successor\n",
    "        restOfList = temp.next.next\n",
    "        temp.next = restOfList\n",
    "        \n",
    "            \n",
    "l = linkedList()\n",
    "l.insertVals([1,2,3,4])\n",
    "l.search(3)\n",
    "l.delete(3)\n",
    "l.printNodes()"
   ]
  },
  {
   "cell_type": "code",
   "execution_count": 175,
   "metadata": {},
   "outputs": [
    {
     "name": "stdout",
     "output_type": "stream",
     "text": [
      "val = 1\n",
      "val = 0\n"
     ]
    }
   ],
   "source": [
    "class ListNode:\n",
    "    def __init__(self, val = None):\n",
    "        self.val = val\n",
    "        self.next = None\n",
    "\n",
    "def add2List(root1,root2):\n",
    "    \"\"\"\n",
    "    \n",
    "    BRUTE FORCE:\n",
    "    1. Make new list\n",
    "    2. Go to end of both lists, add vals, find remainder + X, put X at end of new list\n",
    "    3. Repeat, adding in remainder\n",
    "    \n",
    "    Time: O(N^2 + M^2) --> have to go to end of list every time?\n",
    "    Space: O(N), where N > M\n",
    "    \n",
    "    Improve: dont need new list, copy into longer of two lists. O(N) to find out each\n",
    "             Space --> O(1)\n",
    "            \n",
    "    BETTER: beat O(N^2)\n",
    "    1. Merge two lists? O(N log N)?\n",
    "    \n",
    "    2. Multiple linear scans?\n",
    "       a. Create two stacks of values in l1 and l2\n",
    "       b. Pop from end of both, add, keep track of remainder\n",
    "       c. Insert into new l3  (insert at head) --> O(1)\n",
    "       d. Repeat\n",
    "    \n",
    "    Time: O(N + M)\n",
    "    Space: O(N + M)\n",
    "    \n",
    "    \"\"\"\n",
    "    \n",
    "    #Make stacks\n",
    "    stack1, stack2 = [], []\n",
    "    temp1, temp2 = root1, root2\n",
    "    \n",
    "    #edge cases\n",
    "    if not root1: return root2\n",
    "    if not root2: return root1\n",
    "    \n",
    "    #Fill up\n",
    "    while temp1:\n",
    "        stack1.append(temp1.val)\n",
    "        temp1 = temp1.next\n",
    "    while temp2:\n",
    "        stack2.append(temp2.val)\n",
    "        temp2 = temp2.next\n",
    "        \n",
    "    \n",
    "    #Fill into new list\n",
    "    root3 = ListNode(-1)\n",
    "    temp = root3\n",
    "    carry = 0\n",
    "    while stack1 or stack2:\n",
    "        x = stack1.pop(-1) if stack1 else 0\n",
    "        y = stack2.pop(-1) if stack2 else 0\n",
    "        z, carry = (x+y+carry) % 10, (x+y+carry) // 10\n",
    "        new_node = ListNode(z)\n",
    "        new_node.next = root3.next\n",
    "        root3.next = new_node\n",
    "    if carry != 0:\n",
    "        new_node = ListNode(carry)\n",
    "        new_node.next = root3.next\n",
    "        root3.next = new_node\n",
    "    return root3.next\n",
    "\n",
    "l1, l2 = linkedList(), linkedList()\n",
    "l1.insertVals([5])\n",
    "l2.insertVals([5])\n",
    "r1, r2 = l1.head, l2.head \n",
    "r3 = add2List(r1,r2)\n",
    "\n",
    "temp = r3\n",
    "while temp:\n",
    "    print('val = {}'.format(temp.val))\n",
    "    temp = temp.next"
   ]
  },
  {
   "cell_type": "markdown",
   "metadata": {},
   "source": [
    "### Merge two soreted arrays"
   ]
  },
  {
   "cell_type": "code",
   "execution_count": 185,
   "metadata": {},
   "outputs": [
    {
     "data": {
      "text/plain": [
       "[1, 2, 2, 3, 5, 6]"
      ]
     },
     "execution_count": 185,
     "metadata": {},
     "output_type": "execute_result"
    }
   ],
   "source": [
    "nums1 = [1,2,3]\n",
    "nums2 = [2,5,6]\n",
    "\n",
    "n, m = len(nums1), len(nums2)\n",
    "nums = [0]*(n+m)\n",
    "\n",
    "i,j,k = 0,0,0\n",
    "while i < n and j < m:\n",
    "    if nums1[i] <= nums2[j]:\n",
    "        nums[k] = nums1[i]\n",
    "        i += 1\n",
    "        k += 1\n",
    "    else:\n",
    "        nums[k] = nums2[j]\n",
    "        j += 1\n",
    "        k += 1\n",
    "\n",
    "#fill up non empty bits\n",
    "while i < n:\n",
    "    nums[k] = nums1[i]\n",
    "    i += 1\n",
    "    k += 1\n",
    "\n",
    "while j < m:\n",
    "    nums[k] = nums2[j]\n",
    "    j += 1\n",
    "    k += 1\n",
    "\n",
    "nums"
   ]
  },
  {
   "cell_type": "markdown",
   "metadata": {},
   "source": [
    "### Roughwork\n",
    "\n",
    "Time: O(n log n)\n",
    "Space: O(n)\n",
    "\n",
    "Good for linked lists"
   ]
  },
  {
   "cell_type": "code",
   "execution_count": 407,
   "metadata": {},
   "outputs": [
    {
     "data": {
      "text/plain": [
       "[0, 0, 1, 1, 2, 2, 2, 2, 3, 3, 3, 0]"
      ]
     },
     "execution_count": 407,
     "metadata": {},
     "output_type": "execute_result"
    }
   ],
   "source": [
    "#Compute L\n",
    "n = len(height)\n",
    "height = [0,1,0,2,1,0,1,3,2,1,2,1]\n",
    "L = [0]*n\n",
    "maxL = 0\n",
    "for i in range(1,n-1):\n",
    "    if height[i-1] > maxL:\n",
    "        maxL = height[i-1]\n",
    "    L[i] = maxL\n",
    "L"
   ]
  },
  {
   "cell_type": "code",
   "execution_count": null,
   "metadata": {},
   "outputs": [],
   "source": []
  },
  {
   "cell_type": "code",
   "execution_count": null,
   "metadata": {},
   "outputs": [],
   "source": []
  },
  {
   "cell_type": "code",
   "execution_count": 410,
   "metadata": {},
   "outputs": [
    {
     "data": {
      "text/plain": [
       "[3, 3, 3, 3, 3, 3, 3, 2, 2, 2, 1, 0]"
      ]
     },
     "execution_count": 410,
     "metadata": {},
     "output_type": "execute_result"
    }
   ],
   "source": [
    "#Compute R\n",
    "height = [0,1,0,2,1,0,1,3,2,1,2,1]\n",
    "R = [0]*n\n",
    "maxR = 0\n",
    "for i in range(n-2,-1,-1):\n",
    "    if height[i+1] > maxR:\n",
    "        maxR = height[i+1]\n",
    "    R[i] = maxR\n",
    "R"
   ]
  },
  {
   "cell_type": "markdown",
   "metadata": {},
   "source": [
    "### Smallest substring matching given arr"
   ]
  },
  {
   "cell_type": "code",
   "execution_count": 43,
   "metadata": {},
   "outputs": [
    {
     "data": {
      "text/plain": [
       "'zyx'"
      ]
     },
     "execution_count": 43,
     "metadata": {},
     "output_type": "execute_result"
    }
   ],
   "source": [
    "def func(arr,sub):\n",
    "    \"\"\"\n",
    "    Ex: \n",
    "    \n",
    "    Given: arr = ['x','y','z'], sub = 'xyyzyyzyx'\n",
    "    Ans: 'zyx'\n",
    "    \n",
    "    SOLN:\n",
    "    1. Enumerate all substrings with sliding window --> O(N), N = len(sub)\n",
    "    2. Check if current substring is valid. Keep hash?\n",
    "    \n",
    "    freq[x] = counts of c\n",
    "    \n",
    "    During iteration, add to freq. Then check if coun\n",
    "    \n",
    "    \n",
    "    CHECK:\n",
    "    \n",
    "    sub = 'x y y z y y z y x'\n",
    "             l\n",
    "                           r \n",
    "    \n",
    "    freq = {'x':1, 'y':4, 'z':2 }\n",
    "    solution = 'zyx' < 'zyyx'\n",
    "    \n",
    "    Time: O(N + M), M = initialize the hash\n",
    "    \n",
    "    \n",
    "    \"\"\"\n",
    "    \n",
    "    #edge case\n",
    "    if len(arr) == 0 or len(sub) == 0:\n",
    "        return ''\n",
    "    \n",
    "    #make hash\n",
    "    freq = {i:0 for i in arr}\n",
    "    \n",
    "    #main\n",
    "    right, n, sol = 0, len(sub), ''\n",
    "    for left in range(len(sub)):\n",
    "        \n",
    "        #subtract left from hash after first step\n",
    "        if left != 0:\n",
    "            char = sub[left-1]  #substract previous letter\n",
    "            if char in freq: freq[char] -= 1\n",
    "        \n",
    "        #move right until found valid solution\n",
    "        while not isValid(freq) and right < n:\n",
    "            \n",
    "            #add to hash\n",
    "            char = sub[right]\n",
    "            if char in freq: freq[char] += 1  #only add letters I care about\n",
    "                \n",
    "            #iterate\n",
    "            right += 1\n",
    "            \n",
    "        #now potentially have solution (potential because I might not have moved right)\n",
    "        curr = sub[left:right]\n",
    "        if isValid(freq):\n",
    "            \n",
    "            #first soln sound\n",
    "            if sol == '':\n",
    "                sol = curr\n",
    "            else:\n",
    "                sol = min(sol, curr, key = len)\n",
    "                \n",
    "    return sol\n",
    "\n",
    "\n",
    "def isValid(freq):\n",
    "    \"\"\"\n",
    "    if freq = {x:>1, y>:1, z>=1}\n",
    "    \"\"\"\n",
    "    \n",
    "    return np.prod([ val>=1 for val in freq.values()])\n",
    "\n",
    "\n",
    "sub, arr = 'xyyzyyzyx', ['x','y','z']\n",
    "func(arr,sub)"
   ]
  },
  {
   "cell_type": "markdown",
   "metadata": {},
   "source": [
    "### Word break"
   ]
  },
  {
   "cell_type": "code",
   "execution_count": 39,
   "metadata": {},
   "outputs": [
    {
     "data": {
      "text/plain": [
       "True"
      ]
     },
     "execution_count": 39,
     "metadata": {},
     "output_type": "execute_result"
    }
   ],
   "source": [
    "def func(s,wordDict):\n",
    "    \"\"\"\n",
    "    \n",
    "    D[i] = 1 if s[:i+1] is solvable\n",
    "    D[i+j] = D[i] and s[i:j] in wordDict\n",
    "    \n",
    "    So do for loop over i and j\n",
    "    \n",
    "    IMPROVEMENT:\n",
    "    1. Terminate j loop early if D[i] is False\n",
    "    \n",
    "    \"\"\"\n",
    "    \n",
    "    #Set up\n",
    "    n = len(s)\n",
    "    D = [False]*(n+1)  #make len n+1, to start off base vase\n",
    "    D[0] = True \n",
    "    \n",
    "    #Main\n",
    "    for i in range(n):     #dont have to consider last element, j-loop will catch that\n",
    "        if D[i] == True:\n",
    "            for j in range(i,n):\n",
    "                word = s[i:j+1]   #first, s[0:1] = s[0], last = s[0:n+1] = all of s\n",
    "                if word in wordDict:\n",
    "                    D[j+1] = True        \n",
    "    return D[-1]\n",
    "    \n",
    "s = 'leetcode'\n",
    "wordDict = ['leet','code']\n",
    "func(s,wordDict)"
   ]
  },
  {
   "cell_type": "markdown",
   "metadata": {},
   "source": [
    "### Duplicate elements"
   ]
  },
  {
   "cell_type": "code",
   "execution_count": 139,
   "metadata": {},
   "outputs": [
    {
     "name": "stdout",
     "output_type": "stream",
     "text": [
      "right, left = 1, 4\n",
      "right, left = 1, 2\n"
     ]
    },
    {
     "data": {
      "text/plain": [
       "2"
      ]
     },
     "execution_count": 139,
     "metadata": {},
     "output_type": "execute_result"
    }
   ],
   "source": [
    "def binarySearch(nums):\n",
    "    \"\"\"\n",
    "    \n",
    "    PLAN: Binary search\n",
    "    \n",
    "    1. Let C(n/2) be number of element <= n/2 \n",
    "    2. If C(n/2) > n/2, then duplicate in [1,n/2]  <--> [left, mid]\n",
    "       Else, duplicate in [1 + n/2, n]             <--> [mid+1, right]\n",
    "       \n",
    "    3. Terminate when left == right, so while left < right\n",
    "    \n",
    "    \n",
    "    Ex:\n",
    "    nums = [4,2,1,2,3,5]  (use this to find C)\n",
    "    \n",
    "    range = [1,2,3,4,5]  (do binary search over this)\n",
    "             l       \n",
    "               r\n",
    "             m\n",
    "               \n",
    "    1. mid = n / 2 = 2\n",
    "    2. C(n/2 = 2) = 3\n",
    "    3. C(n/2) > n/2, so duplicate in [1,2] --> correct --> right = n/2\n",
    "    \n",
    "    4. mid = 1\n",
    "    5. C(n/2 = 1) = 1\n",
    "    6. (n/2) <= n/2, so duplicate in [mid+1,right] = [2,2]\n",
    "    7. Then terminate on [2,2]\n",
    "    \n",
    "    Looks good!\n",
    "    \n",
    "    \"\"\"\n",
    "    \n",
    "    left, right = 1, len(nums)-1 \n",
    "    while left < right:\n",
    "        \n",
    "        print('right, left = {}, {}'.format(left,right))\n",
    "        mid = (right+left) // 2\n",
    "        \n",
    "        #Find count\n",
    "        count = 0\n",
    "        for k in nums: \n",
    "            if k <= mid: count += 1\n",
    "        \n",
    "        #Do binary search\n",
    "        if count > mid: right = mid\n",
    "        else: left = mid + 1\n",
    "            \n",
    "    #right and left same here, so return either\n",
    "    return right  \n",
    "    \n",
    "nums = [4,2,1,2,5]\n",
    "f(nums)"
   ]
  },
  {
   "cell_type": "markdown",
   "metadata": {},
   "source": [
    "### Largest rectangle in histogram"
   ]
  },
  {
   "cell_type": "code",
   "execution_count": 198,
   "metadata": {},
   "outputs": [
    {
     "name": "stdout",
     "output_type": "stream",
     "text": [
      "1: left, right, i_min, A = 0, 2, 0, 3\n",
      "2: left, right, i_min, A = 1, 2, 0, 3\n",
      "3: left, right, i_min, A = 1, 2, 1, 3\n",
      "4: left, right, i_min, A = 1, 2, 1, 4\n"
     ]
    },
    {
     "data": {
      "text/plain": [
       "4"
      ]
     },
     "execution_count": 198,
     "metadata": {},
     "output_type": "execute_result"
    }
   ],
   "source": [
    "import numpy as np\n",
    "\n",
    "def largestRectangleArea(heights):\n",
    "    \"\"\"\n",
    "\n",
    "\n",
    "    BRUTE FORCE:\n",
    "    1. Enumerate all rectangles, find area, keep track of max area\n",
    "\n",
    "    max_area = 0\n",
    "    for i in range(n):\n",
    "        for j in range(i,n):\n",
    "            base = (j - i + 1)        \n",
    "            min_height = min(heights[i:j+1])\n",
    "            area = base*height\n",
    "            max_area = max(area,max_area)\n",
    "\n",
    "    Ex: [2,1,5,6,2,3]\n",
    "         l         r    \n",
    "           m         \n",
    "\n",
    "    1. base = 1\n",
    "    2. heights = [0:1] = 2  --> min = 2\n",
    "    3. area = 2\n",
    "\n",
    "    4. base = 1-0+1 = 2\n",
    "    5. heights = [0:2] = [2,1] --> min = 1\n",
    "    6. area = 2\n",
    "\n",
    "    Enumerate = O(N^2)\n",
    "    Min height = O(N)\n",
    "\n",
    "    TIME: O(N^3), SPACE: O(1)\n",
    "\n",
    "\n",
    "    IDEAS FOR BETTER:\n",
    "\n",
    "    Enumeration --> sliding window?\n",
    "    1. When to move left? To min height seen so far?\n",
    "    2. area([3,2,1,5,4])  = min + len\n",
    "\n",
    "    Two things happen\n",
    "    (i) you dont find another min --> area increases\n",
    "    (ii) you do find another min  --> area decreases\n",
    "\n",
    "    We want max... so stop after (ii)?\n",
    "\n",
    "    Ex: [2,1,5,6,2,3]\n",
    "             l      \n",
    "               r\n",
    "              m\n",
    "\n",
    "       A = (r - l + 1)*1 = (5-0+1) = 6\n",
    "       A (5-2)*(3)\n",
    "\n",
    "    1. Start l = 0, r = n-1\n",
    "    2. Sweep one, find min\n",
    "    3. Move left until hit min,  (dA < 0 for sure) l\n",
    "    4. Find min on [l,r], record A\n",
    "    5. Move r until hit in min\n",
    "    6. Repeat\n",
    "\n",
    "    Improve:\n",
    "    Can I calculate min_seen on the fly?\n",
    "\n",
    "    TIME: O(N)  SPACE: O(1)\n",
    "\n",
    "\n",
    "    \"\"\"\n",
    "\n",
    "    #edge cases, nums = 0 or nums = 1? (CHECK THIS)\n",
    "    if not heights:\n",
    "        return 0\n",
    "    \n",
    "    if len(heights) == 1:\n",
    "        return heights[0]\n",
    "\n",
    "    #Find global minh\n",
    "    i_min = np.argmin(heights)\n",
    "    h_min = heights[i_min]\n",
    "            \n",
    "    #non-edge\n",
    "    n = len(heights)\n",
    "    left, right, maxA = 0, n - 1, h_min*n\n",
    "    while left <= right:   #when right = left we count single columns\n",
    "\n",
    "        print('1: left, right, i_min, A = {}, {}, {}, {}'.format(left,right,i_min,maxA))\n",
    "        #Move left until hit 'new' min, now left if one step ahead of i_min\n",
    "        while left <= i_min and left < n:\n",
    "            left += 1\n",
    "            \n",
    "        print('2: left, right, i_min, A = {}, {}, {}, {}'.format(left,right,i_min,maxA))\n",
    "        \n",
    "        if left >= n:\n",
    "            break\n",
    "\n",
    "        #Find new min on [l,r] 1\n",
    "        i_min = left\n",
    "        h_min = heights[left]\n",
    "        for i in range(left,right+1):\n",
    "            if heights[i] < h_min:\n",
    "                i_min, h_min = i, heights[i]\n",
    "\n",
    "        print('3: left, right, i_min, A = {}, {}, {}, {}'.format(left,right,i_min,maxA))\n",
    "\n",
    "                \n",
    "        #Calculate area * record max\n",
    "        base = right - left + 1\n",
    "        h_min = heights[i_min]\n",
    "        area = base*h_min\n",
    "        maxA = max(area, maxA)\n",
    "        \n",
    "        print('4: left, right, i_min, A = {}, {}, {}, {}'.format(left,right,i_min,maxA))\n",
    "\n",
    "        \n",
    "        #Break condition\n",
    "        if left > right: break\n",
    "        \n",
    "        \n",
    "        #Move right until one behind i_min\n",
    "        while right >= i_min and right >= 0:\n",
    "            right -= 1\n",
    "            \n",
    "        #Find new min on [l,r] 2\n",
    "        i_min = left\n",
    "        h_min = heights[left]\n",
    "        for i in range(left,right+1):\n",
    "            if heights[i] < h_min:\n",
    "                i_min, h_min = i, heights[i]\n",
    "\n",
    "        #Calculate area * record max\n",
    "        base = right - left + 1\n",
    "        h_min = heights[i_min]\n",
    "        area = base*h_min\n",
    "        maxA = max(area, maxA)\n",
    "        \n",
    "        #Break condition\n",
    "        if right < left: break\n",
    "\n",
    "    return maxA\n",
    "\n",
    "#heights = [2,1,5,6,2,3]\n",
    "heights = [1,2,3]\n",
    "largestRectangleArea(heights)"
   ]
  },
  {
   "cell_type": "markdown",
   "metadata": {},
   "source": [
    "### Longest palindromic substring\n",
    "\n",
    "To be fixed!"
   ]
  },
  {
   "cell_type": "code",
   "execution_count": 85,
   "metadata": {},
   "outputs": [
    {
     "data": {
      "text/plain": [
       "'tattarrattat'"
      ]
     },
     "execution_count": 85,
     "metadata": {},
     "output_type": "execute_result"
    }
   ],
   "source": [
    "def func(s):\n",
    "    \"\"\"\n",
    "    \n",
    "    Ex:\n",
    "    s = 'babad\n",
    "    \n",
    "    valid sols = single letters, 'aba', 'bab', 'baba'\n",
    "    sol = 'aba'\n",
    "    \n",
    "    BRUTE FORCE:\n",
    "    1. Enumerate all substrings --> O(N^2)\n",
    "    2. Check palindrome --> O(N)\n",
    "    3. Time: O(N^3), Space: O(1)\n",
    "    \n",
    "    BETTER: DP\n",
    "    1. Idea: 'dabad' is a palidrome if 'aba' is, and first letter = last letter\n",
    "              what about 'abb', 'abba'?\n",
    "    \n",
    "    2. Let P(i,j) = 1 if string s_i, ..., s_j is palindrome\n",
    "       Then P(i,j) = P(i+1,j-1) and s[i] == s[j]\n",
    "       \n",
    "    3. Tricky part: the iteration is over the diagonal? s_ij determined by elements to lower-left\n",
    "    \n",
    "    4. Boundary conditions?\n",
    "       \n",
    "       P(i,0) = s_i, 0 = Ill-defined. So I stay in upper right hand quadrant\n",
    "       P(0,j) = P(1,j-1) -- general case\n",
    "       P(i,i) = s_i = True\n",
    "       \n",
    "    \n",
    "    Ex: s = 'aba'\n",
    "    \n",
    "    P = 1, 0, 1\n",
    "        0, 1, 0\n",
    "        0, 0, 1\n",
    "        \n",
    "    1. Fill in diagonals\n",
    "    2. Move along first diagonal:\n",
    "    \n",
    "      (i) P(0,1) = P(1,0) and s[0] == s[1]\n",
    "              =  0 and 'a' == 'b'\n",
    "              = 0 \n",
    "              \n",
    "      (ii) P(1,2) = P(2,1) and s[1] == s[2]\n",
    "                  = 0 and 'b' == 'a'\n",
    "                  = 0\n",
    "                  \n",
    "    3. Second diagonal:\n",
    "    \n",
    "        (i) P(0,2) = P(1,1) and s[0] == s[2]\n",
    "                   = 1 and 'a' == 'a'\n",
    "                   = 1\n",
    "\n",
    "      And we want P[0,2] = True\n",
    "      \n",
    "      \n",
    "    4. No! We want the (k,l), P(k,l) = 1 and (l-k+1) = smallest\n",
    "    \n",
    "    5. Time = O(N^2), Space = O(N^2) \n",
    "    \n",
    "    \"\"\"\n",
    "    \n",
    "    #Set up\n",
    "    n = len(s)\n",
    "    P = [[False for i in range(n)] for j in range(n)]\n",
    "    \n",
    "    \n",
    "    #Boundary conditions: substrings len 1\n",
    "    maxL, sol = 1, s[0]\n",
    "    for i in range(n):\n",
    "        P[i][i] = True\n",
    "        \n",
    "    #Boundary conditions: substrings len 2\n",
    "    for i in range(n-1):\n",
    "        P[i][i+1] = s[i] == s[i+1]\n",
    "        if P[i][i+1]:\n",
    "            maxL = 2\n",
    "            sol = s[i:i+2]\n",
    "                        \n",
    "    #Main -- iterate over 3rd diagonl,\n",
    "    for pivot in range(2,n):\n",
    "        i, j = 0, pivot\n",
    "                \n",
    "        #walk along the diagonal\n",
    "        while i + 1  < n and j < n:\n",
    "            \n",
    "            #Main rule\n",
    "            P[i][j] = P[i+1][j-1] and s[i] == s[j] \n",
    "            \n",
    "            #Check if longest palindrome\n",
    "            if P[i][j] == True and (j-i+1) > maxL:\n",
    "                sol = s[i:j+1]\n",
    "                maxL = (j-1+1)\n",
    "                \n",
    "            #Iterate\n",
    "            i += 1\n",
    "            j += 1\n",
    "            \n",
    "            \n",
    "    return sol, P\n",
    "\n",
    "s = \"babaddtattarrattatddetartrateedredividerb\"\n",
    "sol,P = func(s)\n",
    "sol"
   ]
  },
  {
   "cell_type": "markdown",
   "metadata": {},
   "source": [
    "### If possible to jump"
   ]
  },
  {
   "cell_type": "code",
   "execution_count": 39,
   "metadata": {},
   "outputs": [
    {
     "data": {
      "text/plain": [
       "False"
      ]
     },
     "execution_count": 39,
     "metadata": {},
     "output_type": "execute_result"
    }
   ],
   "source": [
    "def func(nums):\n",
    "    \"\"\"\n",
    "    Ex = [3,2,1,0,3,2,1,4]\n",
    "                  i \n",
    "                        j\n",
    "                      \n",
    "    Let j = right_most\n",
    "    If you can at least jump to the rightmost, then you're safe\n",
    "    \n",
    "    Ex: this is a contraction of the dynamic programming case,\n",
    "        which is O(N^2).\n",
    "    \n",
    "    \"\"\"\n",
    "\n",
    "    n = len(nums)\n",
    "    right_most = n-1  #index of right-most 'safe' position\n",
    "    for i in range(n-2,-1,-1):\n",
    "        \n",
    "        #if you're -- index i -- maximum jump exceeds right_most\n",
    "        #then i is the new right_most\n",
    "        max_jump = i + nums[i]\n",
    "        if right_most <= max_jump:\n",
    "            right_most = i\n",
    "    return right_most == 0    #need the last element to be safe\n",
    "\n",
    "nums = [3,2,1,0,4]\n",
    "func(nums)"
   ]
  },
  {
   "cell_type": "markdown",
   "metadata": {},
   "source": [
    "### Four sum"
   ]
  },
  {
   "cell_type": "code",
   "execution_count": 6,
   "metadata": {},
   "outputs": [
    {
     "data": {
      "text/plain": [
       "[[-2, -1, 1, 2], [-2, 0, 0, 2], [-1, 0, 0, 1]]"
      ]
     },
     "execution_count": 6,
     "metadata": {},
     "output_type": "execute_result"
    }
   ],
   "source": [
    "def f(nums, target):\n",
    "    \n",
    "    nums.sort()\n",
    "\n",
    "    n = len(nums)\n",
    "    sols = []\n",
    "    for i in range(n-3):        \n",
    "        for j in range(i+1,n-2):\n",
    "            conjugate_sum = target - nums[i] - nums[j]\n",
    "\n",
    "            #Now do list sort\n",
    "            low, high = j+1, n-1\n",
    "            while low < high:\n",
    "                temp_sum = nums[low] + nums[high]\n",
    "                if temp_sum > conjugate_sum:\n",
    "                    high -= 1\n",
    "                elif temp_sum < conjugate_sum:\n",
    "                    low += 1\n",
    "                else: #solution!\n",
    "                    sols.append([nums[i], nums[j], nums[low], nums[high]])\n",
    "                    low += 1\n",
    "                    while low < high and nums[low] == nums[low-1]:\n",
    "                        low += 1\n",
    "    return sols\n",
    "\n",
    "nums, target = [1, 0, -1, 0, -2, 2], 0\n",
    "f(nums,target)"
   ]
  },
  {
   "cell_type": "markdown",
   "metadata": {},
   "source": [
    "### Roughwork"
   ]
  },
  {
   "cell_type": "code",
   "execution_count": 60,
   "metadata": {},
   "outputs": [],
   "source": [
    "import pandas as pd\n",
    "\n",
    "fname = '/home/khev/research/OpenNMT-py/data/gigaword/train/train.title.txt'\n",
    "with open(fname,'rb') as f:\n",
    "    titles = f.readlines()\n",
    "    \n",
    "fname = '/home/khev/research/OpenNMT-py/data/gigaword/train/train.article.txt'\n",
    "with open(fname,'rb') as f:\n",
    "    abstract = f.readlines()"
   ]
  },
  {
   "cell_type": "code",
   "execution_count": 61,
   "metadata": {},
   "outputs": [
    {
     "data": {
      "text/plain": [
       "[b'australian current account deficit narrows sharply\\n',\n",
       " b'at least two dead in southern philippines blast\\n',\n",
       " b'australian stocks close down #.# percent\\n',\n",
       " b'envoy urges north korea to restart nuclear disablement\\n',\n",
       " b'skorea announces tax cuts to stimulate economy\\n']"
      ]
     },
     "execution_count": 61,
     "metadata": {},
     "output_type": "execute_result"
    }
   ],
   "source": [
    "titles[:5]"
   ]
  },
  {
   "cell_type": "code",
   "execution_count": 64,
   "metadata": {},
   "outputs": [
    {
     "data": {
      "text/plain": [
       "b'at least two people were killed in a suspected bomb attack on a passenger bus in the strife-torn southern philippines on monday , the military said .\\n'"
      ]
     },
     "execution_count": 64,
     "metadata": {},
     "output_type": "execute_result"
    }
   ],
   "source": [
    "abstract[1]"
   ]
  },
  {
   "cell_type": "code",
   "execution_count": 5,
   "metadata": {},
   "outputs": [
    {
     "name": "stdout",
     "output_type": "stream",
     "text": [
      "w1, w2 = g, oalspecial\n",
      "w1, w2 = go, alspecial\n",
      "w1, w2 = a, lspecial\n",
      "w1, w2 = al, special\n",
      "w1, w2 = als, pecial\n",
      "w1, w2 = alsp, ecial\n",
      "w1, w2 = alspe, cial\n",
      "w1, w2 = alspec, ial\n",
      "w1, w2 = alspeci, al\n"
     ]
    },
    {
     "data": {
      "text/plain": [
       "False"
      ]
     },
     "execution_count": 5,
     "metadata": {},
     "output_type": "execute_result"
    }
   ],
   "source": [
    "def f(s,wordDict):\n",
    "\n",
    "    #Terminal means one char\n",
    "    if len(s) == 1:\n",
    "        return s in wordDict\n",
    "\n",
    "    else:\n",
    "        #First check whole word\n",
    "        if s in wordDict:\n",
    "            return True\n",
    "\n",
    "        #Then do split and recurse\n",
    "        for i in range(1,len(s)-1):\n",
    "            word1, word2 = s[:i], s[i:]  #First = 'm', 'acat', Last = 'maca', 't'\n",
    "            print('w1, w2 = {}, {}'.format(word1,word2))\n",
    "            if word1 in wordDict:\n",
    "                return f(word2,wordDict)\n",
    "        return False\n",
    "        \n",
    "        \n",
    "s = 'goalspecial'\n",
    "wordDict = [\"go\",\"goal\",\"goals\",\"special\"]\n",
    "f(s,wordDict)"
   ]
  },
  {
   "cell_type": "markdown",
   "metadata": {},
   "source": [
    "### Heaps"
   ]
  },
  {
   "cell_type": "code",
   "execution_count": 43,
   "metadata": {},
   "outputs": [
    {
     "name": "stdout",
     "output_type": "stream",
     "text": [
      "Filling up heap\n",
      "heap = [10]\n",
      "heap = [6, 10]\n",
      "heap = [4, 10, 6]\n",
      "heap = [3, 4, 6, 10]\n",
      "heap = [3, 4, 6, 10, 14]\n",
      "heap = [2, 4, 3, 10, 14, 6]\n",
      "\n",
      "Emptying heap\n",
      "val = 2\n",
      "heap = [3, 4, 6, 10, 14]\n",
      "val = 3\n",
      "heap = [4, 10, 6, 14]\n",
      "val = 4\n",
      "heap = [6, 10, 14]\n",
      "val = 6\n",
      "heap = [10, 14]\n",
      "val = 10\n",
      "heap = [14]\n",
      "val = 14\n",
      "heap = []\n"
     ]
    }
   ],
   "source": [
    "from heapq import heappush, heappop\n",
    "\n",
    "nums = [10,6,4,3,14,2]\n",
    "heap = []\n",
    "print('Filling up heap')\n",
    "for n in nums:\n",
    "    heappush(heap,n)\n",
    "    print('heap = {}'.format(heap))\n",
    "    \n",
    "#Popping heap\n",
    "print('\\nEmptying heap')\n",
    "while heap:\n",
    "    print('val = {}'.format(heappop(heap)))\n",
    "    print('heap = {}'.format(heap))"
   ]
  },
  {
   "cell_type": "markdown",
   "metadata": {},
   "source": [
    "### Spiral matrix"
   ]
  },
  {
   "cell_type": "code",
   "execution_count": 1,
   "metadata": {},
   "outputs": [
    {
     "data": {
      "text/plain": [
       "[1, 2, 3, 6, 9, 8, 7, 4, 5]"
      ]
     },
     "execution_count": 1,
     "metadata": {},
     "output_type": "execute_result"
    }
   ],
   "source": [
    "def spiralMatrix(matrix):\n",
    "    \"\"\"\n",
    "    \n",
    "    IDEAS:\n",
    "    1. Peel off\n",
    "    \"\"\"\n",
    "    \n",
    "    \n",
    "    results = []\n",
    "    while matrix and matrix[0]:\n",
    "        \n",
    "        #Go right\n",
    "        if matrix[0]:\n",
    "            for i in matrix.pop(0):\n",
    "                results.append(i)\n",
    "            \n",
    "        #Go down\n",
    "        if matrix and matrix[0]:\n",
    "            for row in matrix:\n",
    "                results.append(row.pop(-1))\n",
    "        \n",
    "        #Go left\n",
    "        if matrix and matrix[0]:\n",
    "            for i in reversed(matrix.pop(-1)):\n",
    "                results.append(i)\n",
    "        \n",
    "        #Go up\n",
    "        if matrix and matrix[0]:\n",
    "            for row in reversed(matrix):\n",
    "                results.append(row.pop(0))\n",
    "                \n",
    "    return results\n",
    "\n",
    "\n",
    "M = [\n",
    " [ 1, 2, 3 ],\n",
    " [ 4, 5, 6 ],\n",
    " [ 7, 8, 9 ]\n",
    "]\n",
    "\n",
    "spiralMatrix(M)"
   ]
  },
  {
   "cell_type": "code",
   "execution_count": 8,
   "metadata": {},
   "outputs": [
    {
     "data": {
      "text/plain": [
       "[[1, 2, 3], [8, 9, 4], [7, 6, 5]]"
      ]
     },
     "execution_count": 8,
     "metadata": {},
     "output_type": "execute_result"
    }
   ],
   "source": [
    "def generateMatrix(n):\n",
    "    \"\"\"\n",
    "    Fill in \n",
    "    \"\"\"\n",
    "    \n",
    "    res = [[0 for i in range(n)] for i in range(n)]\n",
    "    left, right, top, bottom, num = 0, n-1, 0, n-1, 1\n",
    "    while left <= right and top <= bottom:\n",
    "        \n",
    "        #go right\n",
    "        for i in range(left, right+1):\n",
    "            res[top][i] = num\n",
    "            num += 1\n",
    "        top += 1\n",
    "        \n",
    "        #go down\n",
    "        for i in range(top, bottom + 1):\n",
    "            res[i][right] = num\n",
    "            num += 1\n",
    "        right -= 1\n",
    "        \n",
    "        #go left\n",
    "        for i in range(right,left-1,-1):\n",
    "            res[bottom][i] = num\n",
    "            num += 1\n",
    "        bottom -= 1\n",
    "        \n",
    "        #go up\n",
    "        for i in range(bottom,top-1,-1):\n",
    "            res[i][left]=  num\n",
    "            num += 1\n",
    "        left += 1\n",
    "        \n",
    "    return res\n",
    "\n",
    "\n",
    "n = 3\n",
    "res = generateMatrix(n)\n",
    "res"
   ]
  },
  {
   "cell_type": "markdown",
   "metadata": {},
   "source": [
    "### LRU cache"
   ]
  },
  {
   "cell_type": "code",
   "execution_count": 24,
   "metadata": {},
   "outputs": [
    {
     "data": {
      "text/plain": [
       "OrderedDict([(2, 2), (1, 1)])"
      ]
     },
     "execution_count": 24,
     "metadata": {},
     "output_type": "execute_result"
    }
   ],
   "source": [
    "class LRUcache:\n",
    "    \"\"\"\n",
    "    \n",
    "    IDEAS:\n",
    "    - Like a dictionary. Recall if implemented as a hash, then insert = search = O(1)\n",
    "    - But have to keep a marker at each value\n",
    "    - When reach capacity, find element with lowest marker, and replace\n",
    "    \n",
    "    Search = O(1)\n",
    "    Insert = Find minimium --> O(k)  \n",
    "    \n",
    "    So how do I speed up the find minimum? Priority queue? Heap?\n",
    "    \n",
    "    \"\"\"\n",
    "    \n",
    "    def __init__(self, capacity):\n",
    "        self.capacity = capacity\n",
    "        self.array = OrderedDict()\n",
    "        \n",
    "    def get(self,key):\n",
    "        \"\"\" O(1) \"\"\"\n",
    "        \n",
    "        if key in self.array:\n",
    "            val = self.array[key]\n",
    "            del self.array[key]\n",
    "            self.array[key] = val\n",
    "            return val\n",
    "        else:\n",
    "            return -1\n",
    "        \n",
    "    def put(self,key,val):\n",
    "        \"\"\" O(1) \"\"\"\n",
    "        \n",
    "        if len(self.array) < self.capacity:\n",
    "            if key in self.array:\n",
    "                del self.array[key]  #delete key before refreshing it\n",
    "            self.array[key] = val\n",
    "        else:\n",
    "            key_min, val_min = self.array.popitem(last=False)\n",
    "            self.array[key] = val\n",
    "            \n",
    "            \n",
    "l = LRUcache(2)\n",
    "l.put(1,1)\n",
    "l.put(2,2)\n",
    "l.get(1)\n",
    "l.array"
   ]
  }
 ],
 "metadata": {
  "kernelspec": {
   "display_name": "Python 3",
   "language": "python",
   "name": "python3"
  },
  "language_info": {
   "codemirror_mode": {
    "name": "ipython",
    "version": 3
   },
   "file_extension": ".py",
   "mimetype": "text/x-python",
   "name": "python",
   "nbconvert_exporter": "python",
   "pygments_lexer": "ipython3",
   "version": "3.7.3"
  }
 },
 "nbformat": 4,
 "nbformat_minor": 2
}
