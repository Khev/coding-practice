{
 "cells": [
  {
   "cell_type": "code",
   "execution_count": null,
   "metadata": {},
   "outputs": [],
   "source": [
    "def search(l,x):\n",
    "    \"\"\" \n",
    "    \n",
    "    PLAN:\n",
    "    1. Find pivot, p --> ???\n",
    "    2. Check if x in L := (0,p) or R := (p+1,n)\n",
    "    3. Do binary search on either L or R  --> O(logN)\n",
    "    \n",
    "    Speed-up: check for x when finding pivot\n",
    "    \n",
    "    EXAMPLE:\n",
    "    l = [4,5,6,7,0,1,2]\n",
    "    x = 6\n",
    "    \n",
    "    1.\n",
    "    \n",
    "    \"\"\""
   ]
  },
  {
   "cell_type": "code",
   "execution_count": 25,
   "metadata": {},
   "outputs": [
    {
     "name": "stdout",
     "output_type": "stream",
     "text": [
      "0 4 9\n",
      "0 4 8\n",
      "5 6 8\n",
      "7 7 8\n"
     ]
    },
    {
     "data": {
      "text/plain": [
       "1"
      ]
     },
     "execution_count": 25,
     "metadata": {},
     "output_type": "execute_result"
    }
   ],
   "source": [
    "def findPivot(L,low,high):    \n",
    "    \"\"\"Binary search to find min value\n",
    "    \n",
    "    1. Check if mid in min value: if l[mid-1] > l[mid], then yes\n",
    "    2. Check if mid+1 is min vaue:\n",
    "    3. Divide and conquer\n",
    "    \n",
    "    \n",
    "    EDGE CASES:\n",
    "    \n",
    "    \n",
    "    \"\"\"\n",
    "    \n",
    "    #Condition for pivot\n",
    "    if high < low:\n",
    "        return L[0]\n",
    "    \n",
    "    \n",
    "    #Edge case\n",
    "    if len(L) == 1:\n",
    "        return L[0]\n",
    "    \n",
    "    if len(L) == 2:\n",
    "        if L[0] < L[1]:\n",
    "            return L[0]\n",
    "        else:\n",
    "            return L[1]\n",
    "    \n",
    "    while low <= high:\n",
    "        mid = (high + low) // 2\n",
    "        print(low,mid,high)\n",
    "\n",
    "        #Check if mid is minimum\n",
    "        if L[mid-1] > L[mid]:\n",
    "            return L[mid]\n",
    "\n",
    "        #Check if mid+1 is minimum\n",
    "        if L[mid] > L[mid+1]:\n",
    "            return L[mid +1]\n",
    "\n",
    "        #Do binary search:\n",
    "        #Check if pivot in R := (mid,high):\n",
    "        if L[mid] > L[high]:\n",
    "            low = mid+1\n",
    "            \n",
    "        #Have to add in an edge case\n",
    "        #If there are duplicates, gets stuck here\n",
    "        elif L[mid] == L[high]:\n",
    "            high -= 1\n",
    "        else:\n",
    "            high = mid-1\n",
    "    return L[mid]\n",
    "    \n",
    "    \n",
    "\n",
    "def test():\n",
    "    l = [2,4,5,6,8,0,1]\n",
    "    low,high = 0,len(l)-1\n",
    "    if findPivot(l,low,high) == 0:\n",
    "        return 'Pass'\n",
    "    else:\n",
    "        return 'Fail'\n",
    "    \n",
    "    l = [1,1]\n",
    "    low,high = 0,len(l)-1\n",
    "    if findPivot(l,low,high) == 1:\n",
    "        return 'Pass'\n",
    "    else:\n",
    "        return 'Fail'\n",
    "\n",
    "    l = [1,3,5]\n",
    "    low,high = 0,len(l)-1\n",
    "    if findPivot(l,low,high) == 3:\n",
    "        return 'Pass'\n",
    "    else:\n",
    "        return 'Fail'\n",
    "    \n",
    "    \n",
    "l = [1,3,5]\n",
    "#l = [2,4,5,6,8,0,1]\n",
    "#l = [1,1]\n",
    "l = [1]\n",
    "l = [3,3,3,3,3,3,3,3,1,3]\n",
    "findPivot(l,0,len(l)-1)"
   ]
  },
  {
   "cell_type": "code",
   "execution_count": 68,
   "metadata": {},
   "outputs": [
    {
     "name": "stdout",
     "output_type": "stream",
     "text": [
      "False\n",
      "False\n"
     ]
    }
   ],
   "source": [
    "def binarySearch(L,x):\n",
    "        \n",
    "    #Edge cases\n",
    "    if len(L) == 0:\n",
    "        return -1\n",
    "    if len(L) == 1:\n",
    "        if L[0] == x:\n",
    "            return True\n",
    "        else:\n",
    "            return False\n",
    "        \n",
    "    #Main\n",
    "    low,high = 0, len(L)-1\n",
    "    while low < high - 1:\n",
    "        mid = (low + high) // 2\n",
    "        if L[mid] == x:\n",
    "            return True\n",
    "        else:\n",
    "            if L[mid] < x:\n",
    "                low = mid+1\n",
    "            else:\n",
    "                high = mid-1\n",
    "    return False\n",
    "\n",
    "def test(Ls):\n",
    "    x = 1\n",
    "    for L in Ls:\n",
    "        print(binarySearch(L,x))\n",
    "        \n",
    "Ls = [[1,1],[1,2,3]]\n",
    "test(Ls)"
   ]
  },
  {
   "cell_type": "code",
   "execution_count": null,
   "metadata": {},
   "outputs": [],
   "source": []
  }
 ],
 "metadata": {
  "kernelspec": {
   "display_name": "Python 3",
   "language": "python",
   "name": "python3"
  },
  "language_info": {
   "codemirror_mode": {
    "name": "ipython",
    "version": 3
   },
   "file_extension": ".py",
   "mimetype": "text/x-python",
   "name": "python",
   "nbconvert_exporter": "python",
   "pygments_lexer": "ipython3",
   "version": "3.7.3"
  }
 },
 "nbformat": 4,
 "nbformat_minor": 2
}
