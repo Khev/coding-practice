{
 "cells": [
  {
   "cell_type": "markdown",
   "metadata": {},
   "source": [
    "# Sources\n",
    "\n",
    "1. Skienna\n",
    "\n",
    "2. https://www.geeksforgeeks.org/longest-common-subsequence-dp-4/\n",
    "\n",
    "### Fibonacci"
   ]
  },
  {
   "cell_type": "code",
   "execution_count": 21,
   "metadata": {},
   "outputs": [
    {
     "name": "stdout",
     "output_type": "stream",
     "text": [
      "n = 38 took 0.18 mins\n"
     ]
    }
   ],
   "source": [
    "import numpy as np\n",
    "import time \n",
    "\n",
    "def fibb_recurse(n):\n",
    "    \"\"\"\n",
    "    \n",
    "    Time = O(C^N) -- exponential!\n",
    "    \n",
    "    \"\"\"\n",
    "    \n",
    "    if n == 0:\n",
    "        return 0\n",
    "    if n == 1:\n",
    "        return 1\n",
    "    #print(n) \n",
    "    return fibb_recurse(n-1) + fibb_recurse(n-2)\n",
    "\n",
    "n = 38\n",
    "t1 = time.time()\n",
    "fibb_recurse(n)\n",
    "t = (time.time() - t1) / 60.0\n",
    "print('n = {} took {:.2f} mins'.format(n,t))"
   ]
  },
  {
   "cell_type": "code",
   "execution_count": 22,
   "metadata": {},
   "outputs": [
    {
     "name": "stdout",
     "output_type": "stream",
     "text": [
      "n = 38 took 0.00 mins\n"
     ]
    }
   ],
   "source": [
    "def fibb_dp(n):\n",
    "    \"\"\"\n",
    "    1. Time = Space = O(N)\n",
    "    2. In fact, can reduce the space, since we only need previous two values\n",
    "    \"\"\"\n",
    "    F = np.zeros(n+1)\n",
    "    F[0], F[1] = 0,1\n",
    "    for i in range(2,n+1):\n",
    "        F[i] = int(F[i-1] + F[i-2])\n",
    "    return int(F[-1])\n",
    "\n",
    "n = 38\n",
    "t1 = time.time()\n",
    "fibb_dp(n)\n",
    "t = (time.time() - t1) / 60.0\n",
    "print('n = {} took {:.2f} mins'.format(n,t))"
   ]
  },
  {
   "cell_type": "markdown",
   "metadata": {},
   "source": [
    "### Binomial coefficients"
   ]
  },
  {
   "cell_type": "code",
   "execution_count": 45,
   "metadata": {},
   "outputs": [
    {
     "name": "stdout",
     "output_type": "stream",
     "text": [
      "n = 1.8991659143539684e+20 took 0.00 mins\n"
     ]
    }
   ],
   "source": [
    "from math import factorial\n",
    "\n",
    "def bin_long(n,k):\n",
    "    num = factorial(n)\n",
    "    denom = factorial(k)*factorial(n-k)\n",
    "    return num / denom\n",
    "\n",
    "\n",
    "n,k = 120,17\n",
    "t1 = time.time()\n",
    "x = bin_long(n,k)\n",
    "t = (time.time() - t1) / 60.0\n",
    "print('n = {} took {:.2f} mins'.format(x,t))"
   ]
  },
  {
   "cell_type": "code",
   "execution_count": 46,
   "metadata": {},
   "outputs": [
    {
     "name": "stdout",
     "output_type": "stream",
     "text": [
      "n = 1.899165914353968e+20 took 0.00 mins\n"
     ]
    }
   ],
   "source": [
    "def bin_dp(n,k):\n",
    "    \n",
    "    #Instantiate\n",
    "    B = np.zeros((n+1,n+1))\n",
    "    B[0][0] = 1\n",
    "    \n",
    "    #Do DP\n",
    "    for n1 in range(1,n+1):\n",
    "        for k1 in range(n1+1):\n",
    "            B[n1][k1] = B[n1-1][k1-1] + B[n1-1][k1]   #from pascals triangle\n",
    "    \n",
    "    return B[n][k]\n",
    "\n",
    "\n",
    "n,k = 120,17\n",
    "t1 = time.time()\n",
    "x = bin_dp(n,k)\n",
    "t = (time.time() - t1) / 60.0\n",
    "print('n = {} took {:.2f} mins'.format(x,t))"
   ]
  },
  {
   "cell_type": "markdown",
   "metadata": {},
   "source": [
    "### Approximate string matching"
   ]
  },
  {
   "cell_type": "code",
   "execution_count": 4,
   "metadata": {},
   "outputs": [
    {
     "data": {
      "text/plain": [
       "True"
      ]
     },
     "execution_count": 4,
     "metadata": {},
     "output_type": "execute_result"
    }
   ],
   "source": [
    "### First do substring matching -- this is a reminder\n",
    "def match(s,p):\n",
    "    if len(p) == 0:\n",
    "        return True\n",
    "    else:\n",
    "        for i in range(len(s)):\n",
    "            if s[i] == p[0]:\n",
    "                return match(s[i+1:],p[1:])\n",
    "        return False\n",
    "    \n",
    "s = 'this is a test'\n",
    "p = 'is'\n",
    "match(s,p)"
   ]
  },
  {
   "cell_type": "code",
   "execution_count": 169,
   "metadata": {},
   "outputs": [
    {
     "data": {
      "text/plain": [
       "16"
      ]
     },
     "execution_count": 169,
     "metadata": {},
     "output_type": "execute_result"
    }
   ],
   "source": [
    "#Recursion\n",
    "def minDistance(s,p):\n",
    "    \"\"\"\n",
    "    This one is only locally optimal\n",
    "    \"\"\"\n",
    "    \n",
    "    if len(p) == 0:\n",
    "        return len(s)\n",
    "    if len(s) == 0:\n",
    "        return len(p)\n",
    "    else:\n",
    "        if s[-1] == p[-1]:\n",
    "            return minDistance(s[:-1],p[:-1])\n",
    "        \n",
    "        #Need to delete\n",
    "        if len(s) > len(p):\n",
    "            return 1 + minDistance(s[:-1],p)\n",
    "        \n",
    "        #Need to insert\n",
    "        if len(s) < len(p):\n",
    "            return 1 + minDistance(s,p[:-1])\n",
    "        \n",
    "        #To to replace\n",
    "        if len(s) == len(p):\n",
    "            return 1 + minDistance(s[:-1], p[:-1])\n",
    "        \n",
    "        \n",
    "def minDistance1(s,p):\n",
    "    \"\"\"\n",
    "    This is fully optimal\n",
    "    \"\"\"\n",
    "    if len(p) == 0:\n",
    "        return len(s)\n",
    "    if len(s) == 0:\n",
    "        return len(p)\n",
    "    else:\n",
    "        if s[-1] == p[-1]:\n",
    "            return minDistance(s[:-1],p[:-1])\n",
    "        else:  # delete, insert, replace\n",
    "            return 1 + min( minDistance(s[:-1],p), minDistance(s,p[:-1]), minDistance(s[:-1],p[:-1]) )\n",
    "        \n",
    "s = 'this is a bad day'\n",
    "p = 'peck like two birds'\n",
    "minDistance1(s,p)"
   ]
  },
  {
   "cell_type": "markdown",
   "metadata": {},
   "source": [
    "Above has exponential complexity. Problem is ripe for dynamic programming"
   ]
  },
  {
   "cell_type": "code",
   "execution_count": 194,
   "metadata": {},
   "outputs": [
    {
     "data": {
      "text/plain": [
       "2.0"
      ]
     },
     "execution_count": 194,
     "metadata": {},
     "output_type": "execute_result"
    }
   ],
   "source": [
    "#Dynamic programming\n",
    "def minDistanceDP(s,p):\n",
    "    \"\"\" D(0,0) means both strings are empty\n",
    "        I assume the \n",
    "    \"\"\"\n",
    "    \n",
    "    m,n = len(s), len(p)\n",
    "    D = np.zeros((m+1,n+1))\n",
    "    \n",
    "    #Rest\n",
    "    for i in range(m+1):\n",
    "        for j in range(n+1):\n",
    "            \n",
    "            #If s is empty, then length of p is answer\n",
    "            if i == 0:\n",
    "                D[i][j] = j\n",
    "\n",
    "            #If p is empty, then length of s is answer\n",
    "            elif j == 0:\n",
    "                D[i][j] = i\n",
    "                \n",
    "            elif s[i-1] == p[j-1]:\n",
    "                D[i,j] = D[i-1,j-1]\n",
    "            \n",
    "            else:\n",
    "                delete =  D[i-1,j]\n",
    "                insert = D[i,j-1]\n",
    "                sub = D[i-1,j-1]\n",
    "                D[i,j] =  1 + min(delete,insert,sub)\n",
    "    return D[m,n]\n",
    "\n",
    "s = 'is'\n",
    "p = 'this'\n",
    "n,m = len(s), len(p)\n",
    "minDistanceDP(s,p)"
   ]
  },
  {
   "cell_type": "markdown",
   "metadata": {},
   "source": [
    "Sweet. Idea: think of the state space / recursive tree"
   ]
  },
  {
   "cell_type": "code",
   "execution_count": 216,
   "metadata": {},
   "outputs": [
    {
     "data": {
      "text/plain": [
       "(12.0,\n",
       " ' deletion deletion deletion deletion deletion deletion deletion deletion deletion deletion substitution substitution deletion deletion')"
      ]
     },
     "execution_count": 216,
     "metadata": {},
     "output_type": "execute_result"
    }
   ],
   "source": [
    "def minDistanceDPwithPath(s,p):\n",
    "    \"\"\" D(0,0) means both strings are empty\n",
    "        I assume the \n",
    "        \n",
    "        The idea here is that once I have the \n",
    "        cost matrix, I can start at the bottom \n",
    "        right hand corner and then greedily\n",
    "        move to the top left\n",
    "    \"\"\"\n",
    "    \n",
    "    m,n = len(s), len(p)\n",
    "    D = np.zeros((m+1,n+1))\n",
    "    \n",
    "    #Rest\n",
    "    for i in range(m+1):\n",
    "        for j in range(n+1):\n",
    "            \n",
    "            #If s is empty, then length of p is answer\n",
    "            if i == 0:\n",
    "                D[i][j] = j\n",
    "\n",
    "            #If p is empty, then length of s is answer\n",
    "            elif j == 0:\n",
    "                D[i][j] = i\n",
    "                \n",
    "            elif s[i-1] == p[j-1]:\n",
    "                D[i,j] = D[i-1,j-1]\n",
    "            \n",
    "            else:\n",
    "                delete =  D[i-1,j]\n",
    "                insert = D[i,j-1]\n",
    "                sub = D[i-1,j-1]\n",
    "                D[i,j] =  1 + min(delete,insert,sub)\n",
    "    \n",
    "    minCost = D[m,n]\n",
    "    \n",
    "    #Now find path, greedy from end of path\n",
    "    position = (m,n)\n",
    "    path = ''\n",
    "    names = ['substitution','insertion','deletion']\n",
    "    while position != (0,0):\n",
    "        (i,j) = position\n",
    "        currCost = D[m,n]\n",
    "        if m == 0:\n",
    "            neighbours = [(i,j-1)]\n",
    "        elif n == 0:\n",
    "            neighbours = [(i-1,j)]\n",
    "        else:\n",
    "            neighbours = [(i-1,j-1),(i,j-1),(i-1,j)]\n",
    "        costs = [D[x] for x in neighbours]\n",
    "        minCostindex = int(np.argmin(costs))  #non-unique\n",
    "        position = neighbours[minCostindex]\n",
    "        if currCost != costs[minCostindex]:\n",
    "            path += ' ' + names[minCostindex]\n",
    "        #print(position,neighbours)\n",
    "    return minCost,path\n",
    "\n",
    "s = 'this is a test'\n",
    "p = 'is'\n",
    "n,m = len(s), len(p)\n",
    "minCost, path = minDistanceDPwithPath(s,p)\n",
    "minCost, path"
   ]
  },
  {
   "cell_type": "markdown",
   "metadata": {},
   "source": [
    "### Longest increasing sequence"
   ]
  },
  {
   "cell_type": "code",
   "execution_count": 19,
   "metadata": {},
   "outputs": [
    {
     "data": {
      "text/plain": [
       "5"
      ]
     },
     "execution_count": 19,
     "metadata": {},
     "output_type": "execute_result"
    }
   ],
   "source": [
    "def longest(s):\n",
    "    if len(s) == 1:\n",
    "        return 1\n",
    "    else:\n",
    "        x,rest = s[-1],s[:-1]\n",
    "        if x > max(rest):\n",
    "            return 1 + longest(rest)\n",
    "        else:\n",
    "            return longest(rest)\n",
    "        \n",
    "s = [2,4,3,5,1,7,6,9,8]\n",
    "longest(s)"
   ]
  },
  {
   "cell_type": "code",
   "execution_count": 281,
   "metadata": {},
   "outputs": [
    {
     "data": {
      "text/plain": [
       "5"
      ]
     },
     "execution_count": 281,
     "metadata": {},
     "output_type": "execute_result"
    }
   ],
   "source": [
    "def longestDP(s):\n",
    "    \"\"\"\n",
    "    \n",
    "    Let l_i = longest sequence in s_0, s_1, ... s_i\n",
    "    \n",
    "    Then l_i = 1 + max_{j < i} l_j,  and s_j < s_i\n",
    "    \n",
    "    \"\"\"\n",
    "    \n",
    "    l = [0]*(len(s)+1)\n",
    "    \n",
    "    for i in range(1,len(s)+1):\n",
    "        maxl = 0\n",
    "        for j in range(i):\n",
    "            if s[j-1] < s[i-1] and l[j] > maxl:   #string has 1 indexing\n",
    "                maxl = l[j]\n",
    "        l[i] = 1 + maxl\n",
    "    return l[-1]\n",
    "\n",
    "s = [2,4,3,5,1,7,6,9,8]\n",
    "longestDP(s)"
   ]
  },
  {
   "cell_type": "markdown",
   "metadata": {},
   "source": [
    "### Linear partition (skinenna p295)"
   ]
  },
  {
   "cell_type": "code",
   "execution_count": null,
   "metadata": {},
   "outputs": [],
   "source": []
  },
  {
   "cell_type": "markdown",
   "metadata": {},
   "source": [
    "### Longest common substring\n",
    "\n",
    "Problems from https://www.geeksforgeeks.org/top-20-dynamic-programming-interview-questions/ start here"
   ]
  },
  {
   "cell_type": "code",
   "execution_count": 51,
   "metadata": {},
   "outputs": [
    {
     "data": {
      "text/plain": [
       "3"
      ]
     },
     "execution_count": 51,
     "metadata": {},
     "output_type": "execute_result"
    }
   ],
   "source": [
    "def lcs(x,y):\n",
    "    \n",
    "    #Boundary conditions\n",
    "    if len(x) == 0:\n",
    "        return 0\n",
    "    elif len(y) == 0:\n",
    "        return 0\n",
    "    \n",
    "    #Main\n",
    "    else:\n",
    "        if x[-1] == y[-1]:\n",
    "            return 1 + lcs(x[:-1],y[:-1])\n",
    "        else:\n",
    "            return max(lcs(x[:-1],y), lcs(x,y[:-1]))\n",
    "        \n",
    "    \n",
    "x, y = 'age', 'agde'\n",
    "lcs(x,y)"
   ]
  },
  {
   "cell_type": "code",
   "execution_count": 52,
   "metadata": {},
   "outputs": [
    {
     "data": {
      "text/plain": [
       "3"
      ]
     },
     "execution_count": 52,
     "metadata": {},
     "output_type": "execute_result"
    }
   ],
   "source": [
    "def lcsDP(x,y):\n",
    "    m,n = len(x), len(y)\n",
    "    D = np.zeros((m+1,n+1))\n",
    "    for i in range(m+1):\n",
    "        for j in range(n+1):\n",
    "            if i == 0 or j == 0:\n",
    "                D[i,j] = 0\n",
    "            elif x[i-1] == y[j-1]:\n",
    "                D[i,j] = 1 + D[i-1,j-1]\n",
    "            else:\n",
    "                D[i,j] = max(D[i-1,j],D[i,j-1])\n",
    "    return int(D[m][n])\n",
    "                    \n",
    "x, y = 'age', 'agde'\n",
    "lcsDP(x,y)"
   ]
  },
  {
   "cell_type": "markdown",
   "metadata": {},
   "source": [
    "### Form subsets -- not finished"
   ]
  },
  {
   "cell_type": "code",
   "execution_count": 304,
   "metadata": {},
   "outputs": [
    {
     "name": "stdout",
     "output_type": "stream",
     "text": [
      "first,rest = a,bc\n",
      "first,rest = b,c\n",
      "first,rest = c,b\n",
      "first,rest = b,ac\n",
      "first,rest = a,c\n",
      "first,rest = c,a\n",
      "first,rest = c,ab\n",
      "first,rest = a,b\n",
      "first,rest = b,a\n"
     ]
    },
    {
     "data": {
      "text/plain": [
       "[['a', 'b', 'c'],\n",
       " ['a', 'c', 'b'],\n",
       " ['b', 'a', 'c'],\n",
       " ['b', 'c', 'a'],\n",
       " ['c', 'a', 'b'],\n",
       " ['c', 'b', 'a']]"
      ]
     },
     "execution_count": 304,
     "metadata": {},
     "output_type": "execute_result"
    }
   ],
   "source": [
    "def subset(x):\n",
    "    if len(x) == 1:\n",
    "        yield [x]\n",
    "    else:\n",
    "        for i in range(len(x)):\n",
    "            first, rest = x[i], x[:i] + x[i+1:]\n",
    "            print('first,rest = {},{}'.format(first,rest))\n",
    "            for s in subset(rest):\n",
    "                yield [first] + s\n",
    "                \n",
    "x = 'abc'\n",
    "list(subset(x))"
   ]
  },
  {
   "cell_type": "markdown",
   "metadata": {},
   "source": [
    "### Count number of ways to cover distance\n",
    "\n",
    "Have to travel $n$, can jump 1,2,3 steps"
   ]
  },
  {
   "cell_type": "code",
   "execution_count": 309,
   "metadata": {},
   "outputs": [
    {
     "data": {
      "text/plain": [
       "13"
      ]
     },
     "execution_count": 309,
     "metadata": {},
     "output_type": "execute_result"
    }
   ],
   "source": [
    "def steps(n):\n",
    "    \"\"\"\n",
    "    M(n) = M(n-1) + M(n-2) + M(n-3)\n",
    "    \"\"\"\n",
    "    \n",
    "    M = [0]*(n+1)\n",
    "    M[1] = 1\n",
    "    M[2] = M[1] + 1\n",
    "    M[3] = M[1] + M[2] + 1 \n",
    "    for i in range(4,n+1):\n",
    "        M[i] = M[i-3] + M[i-2] + M[i-1]\n",
    "    return M[-1]\n",
    "\n",
    "n = 5\n",
    "steps(n)"
   ]
  },
  {
   "cell_type": "markdown",
   "metadata": {},
   "source": [
    "### Longest path in a matrix"
   ]
  },
  {
   "cell_type": "code",
   "execution_count": 311,
   "metadata": {},
   "outputs": [
    {
     "data": {
      "text/plain": [
       "[[0, 0, 0], [0, 0, 0], [0, 0, 0]]"
      ]
     },
     "execution_count": 311,
     "metadata": {},
     "output_type": "execute_result"
    }
   ],
   "source": [
    "def path(M):\n",
    "    \"\"\"\n",
    "    M(n) = M(n-1) + M(n-2) + M(n-3)\n",
    "    \"\"\"\n",
    "    \n",
    "    m,n = len(M), len(M[0])\n",
    "    D = [[0]*n]*m\n",
    "    \n",
    "    #Dynamic programming\n",
    "    for i in range(m):\n",
    "        for j in range(n):\n",
    "\n",
    "    return D\n",
    "\n",
    "\n",
    "def neighbours(i,j):\n",
    "    neighbours = [(i+1,j),(i-1,j),(i,j+1),(i,j-1)]\n",
    "    for n in neighbours:\n",
    "        if n[0] \n",
    "\n",
    "M = [[1,2,9],[5,3,8],[4,6,7]]\n",
    "path(M)"
   ]
  },
  {
   "cell_type": "markdown",
   "metadata": {},
   "source": [
    "### Cost of path"
   ]
  },
  {
   "cell_type": "code",
   "execution_count": 73,
   "metadata": {},
   "outputs": [
    {
     "data": {
      "text/plain": [
       "19"
      ]
     },
     "execution_count": 73,
     "metadata": {},
     "output_type": "execute_result"
    }
   ],
   "source": [
    "#Longest path in matrix\n",
    "\n",
    "def path(M):\n",
    "    \"\"\"\n",
    "    D(i,j) cost to get to end if started on (i,j)\n",
    "    \"\"\"\n",
    "    \n",
    "    m,n = len(M), len(M[0])\n",
    "    D = [[0]*m]*n\n",
    "    \n",
    "    D[m-1][n-1] = M[m-1][n-1]\n",
    "    for i in range(m-1,-1,-1):\n",
    "        for j in range(n-1,-1,-1):\n",
    "            if i == m-1 and j == n-1:\n",
    "                pass\n",
    "            elif i == m-1:\n",
    "                D[i][j] = M[i][j] + D[i][j+1]   #right only\n",
    "            elif j == n-1:\n",
    "                D[i][j] = M[i][j] + D[i+1][j]  #below only\n",
    "            else:\n",
    "                D[i][j] = M[i][j] + min(D[i][j+1],D[i+1][j])  #min(left,above)\n",
    "    \n",
    "    return D[0][0]\n",
    "\n",
    "M = [[1,2,9],[5,3,8],[4,6,7]]\n",
    "path(M)"
   ]
  },
  {
   "cell_type": "markdown",
   "metadata": {},
   "source": [
    "### "
   ]
  }
 ],
 "metadata": {
  "kernelspec": {
   "display_name": "Python 3",
   "language": "python",
   "name": "python3"
  },
  "language_info": {
   "codemirror_mode": {
    "name": "ipython",
    "version": 3
   },
   "file_extension": ".py",
   "mimetype": "text/x-python",
   "name": "python",
   "nbconvert_exporter": "python",
   "pygments_lexer": "ipython3",
   "version": "3.7.1"
  }
 },
 "nbformat": 4,
 "nbformat_minor": 2
}
