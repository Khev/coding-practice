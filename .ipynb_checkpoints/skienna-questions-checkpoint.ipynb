{
 "cells": [
  {
   "cell_type": "markdown",
   "metadata": {},
   "source": [
    "# Introduction\n",
    "\n",
    "Solutions here:\n",
    "\n",
    "http://blog.panictank.net/category/algorithmndesignmanualsolutions/page/2/\n",
    "\n",
    "### Chapter 3"
   ]
  },
  {
   "cell_type": "code",
   "execution_count": 1,
   "metadata": {},
   "outputs": [],
   "source": [
    "import numpy as np\n",
    "import matplotlib.pyplot as plt\n",
    "%matplotlib inline"
   ]
  },
  {
   "cell_type": "markdown",
   "metadata": {},
   "source": [
    "#### 3.1\n",
    "A common problem for compilers and text editors is determining whether the\n",
    "parentheses in a string are balanced and properly nested. For example, the string\n",
    "((())())() contains properly nested pairs of parentheses, which the strings )()( and\n",
    "()) do not. Give an algorithm that returns true if a string contains properly nested\n",
    "and balanced parentheses, and false if otherwise. For full credit, identify the position\n",
    "of the first offending parenthesis if the string is not properly nested and balanced."
   ]
  },
  {
   "cell_type": "code",
   "execution_count": 2,
   "metadata": {},
   "outputs": [
    {
     "data": {
      "text/plain": [
       "True"
      ]
     },
     "execution_count": 2,
     "metadata": {},
     "output_type": "execute_result"
    }
   ],
   "source": [
    "def solve(string):\n",
    "    \"\"\"\n",
    "        IDEAS:\n",
    "        1. Run through string, add what you see to stack\n",
    "        2. If string_i = R and string_{i-1} is L, delete from stack\n",
    "        3. At end, stack should be empty...?\n",
    "        \n",
    "        Ex1: s = '(())'\n",
    "        stack = [(]\n",
    "        stack = []\n",
    "        stack = [()]\n",
    "        \n",
    "        Ex2: s = ')(( ) ) ('\n",
    "        stack = [),()]\n",
    "    \"\"\"\n",
    "    \n",
    "    stack = []\n",
    "    for char in string:\n",
    "        if stack and stack[-1] == '(' and char == ')':\n",
    "            stack.pop(-1)\n",
    "        else:\n",
    "            stack.append(char)\n",
    "    if len(stack) == 0:\n",
    "        return True\n",
    "    else:\n",
    "        return False\n",
    "    \n",
    "\n",
    "string = '((())())()'\n",
    "solve(string)"
   ]
  },
  {
   "cell_type": "markdown",
   "metadata": {},
   "source": [
    "#### 3.2 \n",
    "\n",
    "Write a program to reverse the direction of a given singly-linked list. In other\n",
    "words, after the reversal all pointers should now point backwards. Your algorithm\n",
    "should take linear time."
   ]
  },
  {
   "cell_type": "code",
   "execution_count": 13,
   "metadata": {},
   "outputs": [
    {
     "name": "stdout",
     "output_type": "stream",
     "text": [
      "prev,curr,next = 0,1,2\n",
      "prev,curr,next = 1,2,3\n",
      "prev,curr,next = 2,3,4\n",
      "prev,curr,next = 3,4,5\n",
      "5\n",
      "4\n",
      "3\n",
      "2\n",
      "1\n",
      "0\n"
     ]
    }
   ],
   "source": [
    "class Node:\n",
    "    def __init__(self,val=None):\n",
    "        self.val = val\n",
    "        self.next = None\n",
    "        \n",
    "def printLL(head):\n",
    "    dummy = head\n",
    "    while dummy:\n",
    "        print(dummy.val)\n",
    "        dummy = dummy.next\n",
    "        \n",
    "\n",
    "def reverse(head):\n",
    "    \"\"\" \n",
    "    PLAN:\n",
    "    1. Define current and next\n",
    "    2. Set next.next = curr\n",
    "    3. Iterate over one place\n",
    "    \"\"\"\n",
    "    \n",
    "    dummy = head\n",
    "    \n",
    "    prev, curr, nxt = dummy, dummy.next, dummy.next.next\n",
    "    print('prev,curr,next = {},{},{}'.format(prev.val,curr.val,nxt.val))\n",
    "    prev.next = None\n",
    "    while nxt:\n",
    "        curr.next = prev #reverse link\n",
    "        prev = curr\n",
    "        curr = nxt\n",
    "        nxt = nxt.next\n",
    "        try:\n",
    "            print('prev,curr,next = {},{},{}'.format(prev.val,curr.val,nxt.val))\n",
    "        except: ValueError\n",
    "    curr.next = prev\n",
    "    return curr\n",
    "\n",
    "#Fill up\n",
    "head = Node(0)\n",
    "vals = [1,2,3,4,5]\n",
    "dummy = head\n",
    "for val in vals:\n",
    "    dummy.next = Node(val)\n",
    "    dummy = dummy.next\n",
    "\n",
    "#reverse\n",
    "head_rev = reverse(head)\n",
    "\n",
    "#print\n",
    "printLL(head_rev)"
   ]
  },
  {
   "cell_type": "markdown",
   "metadata": {},
   "source": [
    "#### 3.4 \n",
    "\n",
    "Design a dictionary data structure in which search, insertion, and deletion can\n",
    "all be processed in O(1) time in the worst case. You may assume the set elements\n",
    "are integers drawn from a finite set 1, 2, .., n, and initialization can take O(n) time.\n",
    "\n",
    "Ans: I would use an array of size n. It's a set, so no duplicates, so don't need to change size. Delete is still O(1), implemented by setting A[v] = NULL\n",
    "\n",
    "\n",
    "#### 3.6\n",
    "\n",
    "Describe how to modify any balanced tree data structure such that search,\n",
    "insert, delete, minimum, and maximum still take O(log n) time each, but successor\n",
    "and predecessor n\n",
    "\n",
    "Answer:\n",
    "\n",
    "Accompany tree with a doubly linked list, where\n",
    "\n",
    "each node has new field: node.ll = ptr to node in linked list\n",
    "\n",
    "then search and delete stay same, O(log n)\n",
    "but insert in harder. insertion into tree is still O(log n). and into list: say we are inserting 3. Then find parents of 3 = 2, and we know successor of 2 = 4 -- in O(1) time -- and so we just need to insert 3 between \n",
    "node 2 and 4 in linked list == O(1) time.\n",
    "\n",
    "So insert operation has to change\n",
    "\n",
    "\n",
    "#### 3.8\n",
    "\n",
    "Design a data structure to support the following operations:\n",
    "• insert(x,T) – Insert item x into the set T .\n",
    "• delete(k,T) – Delete the kth smallest element from T .\n",
    "• member(x,T) – Return true iff x ∈ T .\n",
    "All operations must take O(log n) time on an n-element.\n",
    "\n",
    "Answer:\n",
    "\n",
    "The first and second operations are achived by a regular binary tree. The second one is harder. What makes it hard is that at a given parent node, we don't know whether to go right on left to find the k-th smallest node. So, we add a (num left child nodes, num right child nodes) to each node. Then if k > l, search r otherwise search l\n",
    "\n",
    "\n",
    "#### 3.9\n",
    "\n",
    "A concatenate operation takes two sets S1 and S2 , where every key in S1\n",
    "is smaller than any key in S2 , and merges them together. Give an algorithm to\n",
    "concatenate two binary search trees into one binary search tree. The worst-case\n",
    "running time should be O(h), where h is the maximal height of the two tree\n",
    "\n",
    "\n",
    "#### 3.20"
   ]
  },
  {
   "cell_type": "code",
   "execution_count": 11,
   "metadata": {},
   "outputs": [
    {
     "data": {
      "text/plain": [
       "3"
      ]
     },
     "execution_count": 11,
     "metadata": {},
     "output_type": "execute_result"
    }
   ],
   "source": [
    "class Node:\n",
    "    def __init__(self,val=None):\n",
    "        self.val = val\n",
    "        self.next= None\n",
    "        \n",
    "        \n",
    "def fillList(vals):\n",
    "    root = Node(vals[0])\n",
    "    dummy = root\n",
    "    for val in vals[1:]:\n",
    "        dummy.next = Node(val=val) \n",
    "        dummy = dummy.next\n",
    "    return root\n",
    "\n",
    "def midPoint(root):\n",
    "    slow,fast = root,root\n",
    "    while fast.next and fast.next.next:\n",
    "        slow = slow.next\n",
    "        fast = fast.next.next\n",
    "    return slow\n",
    "\n",
    "root = fillList([1,2,3,4,5])\n",
    "mid = midPoint(root)"
   ]
  },
  {
   "cell_type": "markdown",
   "metadata": {},
   "source": [
    "#### 3.23"
   ]
  },
  {
   "cell_type": "code",
   "execution_count": 34,
   "metadata": {},
   "outputs": [
    {
     "name": "stdout",
     "output_type": "stream",
     "text": [
      "1\n",
      "5\n",
      "7\n",
      "9\n",
      "10\n",
      "10\n",
      "5\n",
      "1\n",
      "7\n",
      "9\n"
     ]
    }
   ],
   "source": [
    "class TreeNode:\n",
    "    def __init__(self,left=None,right=None,val=None):\n",
    "        self.val = val\n",
    "        self.left = left\n",
    "        self.right = right\n",
    "        \n",
    "        \n",
    "class ListNode:\n",
    "    def __init__(self,val=None):\n",
    "        self.val = val\n",
    "        self.next = None\n",
    "        \n",
    "\n",
    "def insert(root,val):\n",
    "    \n",
    "    if val <= root.val:\n",
    "        if root.left:\n",
    "            insert(root.left,val)\n",
    "        else:\n",
    "            root.left = TreeNode(val=val)\n",
    "    else:\n",
    "        if root.right:\n",
    "            insert(root.right,val)\n",
    "        else:\n",
    "            root.right = TreeNode(val=val)\n",
    "            \n",
    "            \n",
    "def fillTree(vals):\n",
    "    root = TreeNode(val=vals[0])\n",
    "    for val in vals[1:]:\n",
    "        insert(root,val)\n",
    "    return root\n",
    "            \n",
    "    \n",
    "def printTreeInOrder(root):\n",
    "    if root:\n",
    "        printTree(root.left)\n",
    "        print(root.val)\n",
    "        printTree(root.right)\n",
    "            \n",
    "            \n",
    "def flattenToLinkedList(root):\n",
    "    \"\"\"\n",
    "    IDEAS:\n",
    "    Do recursively,\n",
    "    \n",
    "    1. Flatten left tree, and right tree\n",
    "    2. Then root.right = L, and root.right = R\n",
    "    \n",
    "    \"\"\"\n",
    "\n",
    "    if root:\n",
    "        flattenToLinkedList(root.left)\n",
    "        flattenToLinkedList(root.right)\n",
    "        \n",
    "        #if there is a left tree, attacj right\n",
    "        if root.left:\n",
    "            \n",
    "            #find tail of left tree (which has form,)\n",
    "            tailOfL = root.left\n",
    "            while tailOfL.right:\n",
    "                tailOfL = tailOfL.right\n",
    "            \n",
    "            tailOfL.right = root.right\n",
    "            \n",
    "            #then reset tree\n",
    "            root.right = root.left\n",
    "            root.left = None\n",
    "            \n",
    "    return root\n",
    "        \n",
    "    \n",
    "        \n",
    "        \n",
    "            \n",
    "vals = [10,5,1,7,9]\n",
    "root = fillTree(vals)\n",
    "printTreeInOrder(root)\n",
    "\n",
    "root = flattenToLinkedList(root)\n",
    "printTreeInOrder(root)"
   ]
  },
  {
   "cell_type": "code",
   "execution_count": null,
   "metadata": {},
   "outputs": [],
   "source": []
  }
 ],
 "metadata": {
  "kernelspec": {
   "display_name": "Python 3",
   "language": "python",
   "name": "python3"
  },
  "language_info": {
   "codemirror_mode": {
    "name": "ipython",
    "version": 3
   },
   "file_extension": ".py",
   "mimetype": "text/x-python",
   "name": "python",
   "nbconvert_exporter": "python",
   "pygments_lexer": "ipython3",
   "version": "3.7.3"
  }
 },
 "nbformat": 4,
 "nbformat_minor": 2
}
