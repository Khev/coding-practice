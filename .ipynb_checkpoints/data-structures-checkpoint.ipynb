{
 "cells": [
  {
   "cell_type": "markdown",
   "metadata": {},
   "source": [
    "# Introduction\n",
    "\n",
    "Implemeting data structures from Skienna\n",
    "\n",
    "\n",
    "## Linked lists"
   ]
  },
  {
   "cell_type": "code",
   "execution_count": 29,
   "metadata": {},
   "outputs": [
    {
     "name": "stdout",
     "output_type": "stream",
     "text": [
      "val = 0\n",
      "val = 1\n",
      "val = 2\n",
      "val = 3\n",
      "val = 4\n",
      "val = 5\n",
      "val = 6\n"
     ]
    }
   ],
   "source": [
    "class Node:\n",
    "    def __init__(self, val=None):\n",
    "        self.val = val\n",
    "        self.next = None\n",
    "        \n",
    "        \n",
    "class linkedList:\n",
    "    def __init__(self):\n",
    "        self.head = None\n",
    "        \n",
    "        \n",
    "    def insertAtEnd(self,node):\n",
    "        \"\"\" O(N) \"\"\"\n",
    "        \n",
    "        #Grab last node\n",
    "        temp = self.head\n",
    "        while temp.next is not None:\n",
    "            temp = temp.next\n",
    "            \n",
    "        #Attach\n",
    "        temp.next = node\n",
    "        \n",
    "    def insertAtStart(self,node):\n",
    "        temp = self.head\n",
    "        node.next = temp\n",
    "        self.head = node\n",
    "        \n",
    "        \n",
    "    def search(self,val):\n",
    "        temp = self.head\n",
    "        if temp.val == val:\n",
    "            return True\n",
    "        while temp is not None:\n",
    "            temp = temp.next\n",
    "            if temp.val == val:\n",
    "                return True\n",
    "        return False\n",
    "    \n",
    "    \n",
    "    def searchRecursive(self,val):        \n",
    "        temp = self.head\n",
    "        if temp is None:\n",
    "            return False\n",
    "        elif temp.val == val:\n",
    "            return True\n",
    "        else:\n",
    "            return self.searchRecursive(self,val)\n",
    "        \n",
    "        \n",
    "    def printNodes(self):\n",
    "        temp = self.head\n",
    "        while temp:\n",
    "            print('val = {}'.format(temp.val))\n",
    "            temp = temp.next\n",
    "            \n",
    "            \n",
    "    def addListOfVals(self,vals):\n",
    "        if self.head == None:\n",
    "            self.head =  Node(val = vals[0])\n",
    "            vals = vals[1:]\n",
    "        temp = self.head\n",
    "        for val in vals:\n",
    "            newNode = Node(val=val)\n",
    "            temp.next = newNode\n",
    "            temp = temp.next\n",
    "            \n",
    "            \n",
    "    def delete(self,val):\n",
    "        \n",
    "        #First find successor\n",
    "        temp = self.head\n",
    "        if temp.val == val:\n",
    "            self.head = temp.next\n",
    "            return \n",
    "            \n",
    "        while temp:\n",
    "            if temp.next.val == val:\n",
    "                break\n",
    "            temp = temp.next\n",
    "        \n",
    "        #Now temp is successor\n",
    "        restOfList = temp.next.next\n",
    "        temp.next = restOfList\n",
    "        \n",
    "        \n",
    "            \n",
    "vals = [i for i in range(1,6)]\n",
    "L = linkedList()\n",
    "L.addListOfVals(vals)\n",
    "L.insertAtEnd(Node(6))\n",
    "L.insertAtStart(Node(0))\n",
    "L.printNodes()"
   ]
  },
  {
   "cell_type": "code",
   "execution_count": 38,
   "metadata": {},
   "outputs": [
    {
     "data": {
      "text/plain": [
       "3"
      ]
     },
     "execution_count": 38,
     "metadata": {},
     "output_type": "execute_result"
    }
   ],
   "source": [
    "#Stand alone function        \n",
    "def searchListRecursive(l,x):\n",
    "    if l is None:\n",
    "        return 'Not in list'\n",
    "    elif l.val == x:\n",
    "        return  l.val\n",
    "    else:\n",
    "        return searchListRecursive(l.next,x)    \n",
    "    \n",
    "searchListRecursive(L.head,3)"
   ]
  },
  {
   "cell_type": "markdown",
   "metadata": {},
   "source": [
    "### Containers"
   ]
  },
  {
   "cell_type": "code",
   "execution_count": null,
   "metadata": {},
   "outputs": [],
   "source": [
    "class Stack:\n",
    "    \"\"\" \n",
    "    Only one pointer to top. LIFO\n",
    "    \"\"\"\n",
    "    \n",
    "    def __init__(self):\n",
    "        self.vals = []\n",
    "    \n",
    "    def pop(self,x):\n",
    "        self.vals.append(x)\n",
    "        \n",
    "    def push(self):\n",
    "        val = self.vals[-1]\n",
    "        self.vals = self.vals[:-1]\n",
    "        return val\n",
    "    \n",
    "    \n",
    "class Queue:\n",
    "    \"\"\"\n",
    "    Two pointers; one at top, one at end. FIFO.\n",
    "    \"\"\"\n",
    "    def __init__(self):\n",
    "        self.vals = []\n",
    "        \n",
    "    def enque(self,x):\n",
    "        self.vals.prepend(x)\n",
    "        \n",
    "    def deque(self):\n",
    "        return self.vals.pop(0)"
   ]
  },
  {
   "cell_type": "markdown",
   "metadata": {},
   "source": [
    "### Dictionaries"
   ]
  },
  {
   "cell_type": "code",
   "execution_count": 19,
   "metadata": {},
   "outputs": [
    {
     "data": {
      "text/plain": [
       "'30'"
      ]
     },
     "execution_count": 19,
     "metadata": {},
     "output_type": "execute_result"
    }
   ],
   "source": [
    "class DictArray:\n",
    "    \"\"\" \n",
    "    Implement a dictionary with an unsorted array    \n",
    "    \"\"\"\n",
    "    \n",
    "    def __init__(self):\n",
    "        self.keys = []\n",
    "        self.vals = []\n",
    "        \n",
    "    def search(self,key):\n",
    "        \"\"\" O(N) \"\"\"\n",
    "        \n",
    "        index = self.keys.index(key)\n",
    "        return self.vals[index]    \n",
    "        \n",
    "    def insert(self,key,val):\n",
    "        \"\"\" O(1)\"\"\"\n",
    "        \n",
    "        self.keys.append(key)\n",
    "        self.vals.append(val)\n",
    "    \n",
    "    def delete(self,key):\n",
    "        \"\"\" O(1) \"\"\"\n",
    "        \n",
    "        #Find index of element to be deleted\n",
    "        index = self.keys.index(key)\n",
    "        self.keys.pop(index)\n",
    "        self.vals.pop(index)\n",
    "        \n",
    "    def max1(self):\n",
    "        \"\"\" O(N) \"\"\"\n",
    "        return max(self.keys)\n",
    "    \n",
    "    def min1(self):\n",
    "        \"\"\" O(N)  \"\"\"\n",
    "        return min(self.keys)\n",
    "    \n",
    "    \n",
    "d = DictList()\n",
    "d.insert('kevin','29')\n",
    "d.insert('tim','30')\n",
    "d.search('tim')"
   ]
  },
  {
   "cell_type": "code",
   "execution_count": null,
   "metadata": {},
   "outputs": [],
   "source": [
    "class sortedArray:\n",
    "    def __init__(self):\n",
    "        self.vals = []\n",
    "        \n",
    "    def add(self,x):\n",
    "        \n",
    "        #Find insertion point\n",
    "        ptr = 0\n",
    "        while self.vals[ptr] <= x:\n",
    "            ptr += 1\n",
    "            \n",
    "        #Now insert element\n",
    "        curr_val = x\n",
    "        while ptr <= len(self.vals) - 1:\n",
    "            next_val = self.vals[ptr]\n",
    "            self.vals[ptr] = curr_val\n",
    "            curr_val = next_val\n",
    "            ptr += 1\n",
    "            \n",
    "        #Terminating condition\n",
    "        self.vals"
   ]
  },
  {
   "cell_type": "markdown",
   "metadata": {},
   "source": [
    "## Binary search tree"
   ]
  },
  {
   "cell_type": "code",
   "execution_count": 45,
   "metadata": {},
   "outputs": [
    {
     "name": "stdout",
     "output_type": "stream",
     "text": [
      "Not here\n"
     ]
    }
   ],
   "source": [
    "class Node:\n",
    "    def __init__(self,val=None):\n",
    "        self.val = val\n",
    "        self.left = None\n",
    "        self.right = None\n",
    "        \n",
    "\n",
    "def search(root,key):\n",
    "    \n",
    "    #Edge case\n",
    "    if root is None:\n",
    "        print('Not here')\n",
    "        return \n",
    "    \n",
    "    if root.val == key:\n",
    "        return root\n",
    "\n",
    "    #Binary search \n",
    "    if key < root.val:\n",
    "        search(root.left, key)\n",
    "    else:\n",
    "        search(root.right, key)\n",
    "        \n",
    "        \n",
    "def insert(root,node):\n",
    "    if root is None:\n",
    "        root = node\n",
    "    else:\n",
    "        if node.val <= root.val:\n",
    "            if root.left is None:\n",
    "                root.left = node\n",
    "            else:\n",
    "                insert(root.left,node)\n",
    "        else:\n",
    "            if root.right is None:\n",
    "                root.right = node\n",
    "            else:\n",
    "                insert(root.right,node)\n",
    "                \n",
    "                \n",
    "def minimum(root):\n",
    "    while root.left is not None:\n",
    "        root = root.left\n",
    "    return root.val\n",
    "\n",
    "def maximum(root):\n",
    "    while root.right is not None:\n",
    "        root = root.right\n",
    "    return root.val\n",
    "                \n",
    "                \n",
    "def printInOrder(root):\n",
    "    if root is None:\n",
    "        pass\n",
    "    else:\n",
    "        print(root.val)\n",
    "        printInOrder(root.left)\n",
    "        printInOrder(root.right)\n",
    "                \n",
    "#Test\n",
    "root = Node(10)\n",
    "vals = [2,3,20]\n",
    "for val in vals:\n",
    "    insert(root,Node(val))\n",
    "#minimum(root), maximum(root)\n",
    "search(root,13)"
   ]
  },
  {
   "cell_type": "code",
   "execution_count": null,
   "metadata": {},
   "outputs": [],
   "source": []
  }
 ],
 "metadata": {
  "kernelspec": {
   "display_name": "Python 3",
   "language": "python",
   "name": "python3"
  },
  "language_info": {
   "codemirror_mode": {
    "name": "ipython",
    "version": 3
   },
   "file_extension": ".py",
   "mimetype": "text/x-python",
   "name": "python",
   "nbconvert_exporter": "python",
   "pygments_lexer": "ipython3",
   "version": "3.7.3"
  }
 },
 "nbformat": 4,
 "nbformat_minor": 2
}
