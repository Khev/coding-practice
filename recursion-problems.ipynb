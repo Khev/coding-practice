{
 "cells": [
  {
   "cell_type": "markdown",
   "metadata": {},
   "source": [
    "# Sources\n",
    "\n",
    "https://www.techiedelight.com/recursion-practice-problems-with-solutions/\n",
    "\n",
    "\n",
    "### Tower of hanoi\n",
    "\n",
    "https://www.cs.cmu.edu/~cburch/survey/recurse/hanoiimpl.html"
   ]
  },
  {
   "cell_type": "code",
   "execution_count": 1,
   "metadata": {},
   "outputs": [
    {
     "name": "stdout",
     "output_type": "stream",
     "text": [
      "Move disk 1 from A to C\n",
      "Move disk 2 from A to B\n",
      "Move disk 1 from C to B\n",
      "Move disk 3 from A to C\n",
      "Move disk 1 from B to A\n",
      "Move disk 2 from B to C\n",
      "Move disk 1 from A to C\n"
     ]
    }
   ],
   "source": [
    "def solve(n,A,C,B):\n",
    "    \"\"\"\n",
    "    n = number of disks, 1 = smallest, 2 = next smallest, ...\n",
    "    a,b,c = rods\n",
    "    \"\"\"\n",
    "    \n",
    "    if n == 1:\n",
    "        print('Move disk {} from {} to {}'.format(n,A,C,B))\n",
    "    else:\n",
    "        solve(n-1,A,B,C)\n",
    "        print('Move disk {} from {} to {}'.format(n,A,C))\n",
    "        solve(n-1,B,C,A)\n",
    "\n",
    "solve(3,'A','C','B')"
   ]
  },
  {
   "cell_type": "markdown",
   "metadata": {},
   "source": [
    "### Reverse a string"
   ]
  },
  {
   "cell_type": "code",
   "execution_count": 9,
   "metadata": {},
   "outputs": [
    {
     "data": {
      "text/plain": [
       "'dcba'"
      ]
     },
     "execution_count": 9,
     "metadata": {},
     "output_type": "execute_result"
    }
   ],
   "source": [
    "def reverse(s):\n",
    "    \"\"\"\n",
    "    R(s_n) = s_n + R(s_{n-1})\n",
    "    \"\"\"\n",
    "    \n",
    "    if len(s) == 1:\n",
    "        return s\n",
    "    else:\n",
    "        return s[-1] + reverse(s[:-1])\n",
    "    \n",
    "s = 'abcd'\n",
    "reverse(s)"
   ]
  },
  {
   "cell_type": "markdown",
   "metadata": {},
   "source": [
    "### All combinations on keypad"
   ]
  },
  {
   "cell_type": "code",
   "execution_count": 76,
   "metadata": {},
   "outputs": [
    {
     "data": {
      "text/plain": [
       "['adg',\n",
       " 'bdg',\n",
       " 'cdg',\n",
       " 'aeg',\n",
       " 'beg',\n",
       " 'ceg',\n",
       " 'afg',\n",
       " 'bfg',\n",
       " 'cfg',\n",
       " 'adh',\n",
       " 'bdh',\n",
       " 'cdh',\n",
       " 'aeh',\n",
       " 'beh',\n",
       " 'ceh',\n",
       " 'afh',\n",
       " 'bfh',\n",
       " 'cfh',\n",
       " 'adi',\n",
       " 'bdi',\n",
       " 'cdi',\n",
       " 'aei',\n",
       " 'bei',\n",
       " 'cei',\n",
       " 'afi',\n",
       " 'bfi',\n",
       " 'cfi']"
      ]
     },
     "execution_count": 76,
     "metadata": {},
     "output_type": "execute_result"
    }
   ],
   "source": [
    "def combs(nums):\n",
    "    \"\"\"\n",
    "    \n",
    "    dict[num] = letters\n",
    "    \n",
    "    Base case:\n",
    "    \n",
    "    C_n = [letter(n), c] for c in C_{n-1} for letter in letterns(n)\n",
    "    \n",
    "    \"\"\"\n",
    "    \n",
    "    if len(nums) == 1:\n",
    "        letters = info[nums[0]]\n",
    "        for l in letters:\n",
    "            yield l\n",
    "    else:\n",
    "        first, rest = nums[0], nums[1:]\n",
    "        letters = info[nums[0]]\n",
    "        C_temp = combs(rest)\n",
    "        for word in C_temp:    # word = string, 'ab'\n",
    "            for letter in letters:\n",
    "                yield letter + word\n",
    "info = {1:['a','b','c'], 2:['d','e','f'], 3:['g','h','i']}\n",
    "\n",
    "nums = [1,2,3]\n",
    "list(combs(nums))"
   ]
  },
  {
   "cell_type": "markdown",
   "metadata": {},
   "source": [
    "### Permutations of a given string"
   ]
  },
  {
   "cell_type": "code",
   "execution_count": 7,
   "metadata": {},
   "outputs": [
    {
     "data": {
      "text/plain": [
       "['abc', 'bac', 'bca', 'acb', 'cab', 'cba']"
      ]
     },
     "execution_count": 7,
     "metadata": {},
     "output_type": "execute_result"
    }
   ],
   "source": [
    "def perm(s):\n",
    "    if len(s) == 1:\n",
    "        yield s\n",
    "    else:\n",
    "        letter, rest = s[0], s[1:]\n",
    "        for p in perm(rest):\n",
    "            for i in range(len(p)+1):\n",
    "                new_perm = p[:i] + letter + p[i:]\n",
    "                yield new_perm\n",
    "\n",
    "s = 'abc'\n",
    "list(perm(s))"
   ]
  },
  {
   "cell_type": "markdown",
   "metadata": {},
   "source": [
    "### Wildcard"
   ]
  },
  {
   "cell_type": "code",
   "execution_count": 68,
   "metadata": {},
   "outputs": [
    {
     "data": {
      "text/plain": [
       "['110010011', '110110011', '110010111', '110110111']"
      ]
     },
     "execution_count": 68,
     "metadata": {},
     "output_type": "execute_result"
    }
   ],
   "source": [
    "def perms(s):\n",
    "    if len(s) == 1:\n",
    "        if s == '?':\n",
    "            for i in ['0','1']:\n",
    "                yield i\n",
    "        else:\n",
    "            yield s\n",
    "    else:\n",
    "        letter,rest = s[0],s[1:]\n",
    "        for p in perms(rest):\n",
    "            if letter == '?':\n",
    "                for i in ['0','1']:\n",
    "                    yield i + p\n",
    "            else:\n",
    "                yield letter + p  \n",
    "    \n",
    "s = '110?10?11'\n",
    "#s = '?1?'\n",
    "list(perms(s))"
   ]
  },
  {
   "cell_type": "markdown",
   "metadata": {},
   "source": [
    "### Interleavings\n",
    "\n",
    "Input: str1 = \"AB\",  str2 = \"CD\"\n",
    "\n",
    "Output:\n",
    "    ABCD\n",
    "    ACBD\n",
    "    ACDB\n",
    "    CABD\n",
    "    CADB\n",
    "    CDAB\n",
    "\n",
    "Input: str1 = \"AB\",  str2 = \"C\"\n",
    "\n",
    "Output:\n",
    "    ABC\n",
    "    ACB\n",
    "    CAB"
   ]
  },
  {
   "cell_type": "code",
   "execution_count": null,
   "metadata": {},
   "outputs": [],
   "source": []
  },
  {
   "cell_type": "markdown",
   "metadata": {},
   "source": [
    "### Partitions of a string"
   ]
  },
  {
   "cell_type": "code",
   "execution_count": 134,
   "metadata": {},
   "outputs": [
    {
     "data": {
      "text/plain": [
       "[['a', 'b', 'c'], ['a', 'bc'], ['ab', 'c'], ['abc']]"
      ]
     },
     "execution_count": 134,
     "metadata": {},
     "output_type": "execute_result"
    }
   ],
   "source": [
    "def partitions(s):\n",
    "    if len(s) == 0:\n",
    "        yield 'x'\n",
    "    if len(s) == 1:\n",
    "        yield [s]\n",
    "    else:\n",
    "        for i in range(1,len(s)+1):\n",
    "            start, rest = s[:i], s[i:]\n",
    "            for p in partitions(rest):  #p = list, ['a','b']\n",
    "                if p != 'x':            #\n",
    "                    yield [start] + p\n",
    "                else:\n",
    "                    yield [start]\n",
    "        \n",
    "s = 'abc'\n",
    "list(partitions(s))"
   ]
  },
  {
   "cell_type": "markdown",
   "metadata": {},
   "source": [
    "### Palindromic partitions of a string"
   ]
  },
  {
   "cell_type": "code",
   "execution_count": 144,
   "metadata": {},
   "outputs": [
    {
     "data": {
      "text/plain": [
       "[['a', 'a', 'b'], ['aa', 'b']]"
      ]
     },
     "execution_count": 144,
     "metadata": {},
     "output_type": "execute_result"
    }
   ],
   "source": [
    "def isPalindrome(s):\n",
    "    return s == s[::-1]\n",
    "\n",
    "def partitions(s):\n",
    "    if len(s) == 0:\n",
    "        yield 'x'\n",
    "    if len(s) == 1:\n",
    "        yield [s]\n",
    "    else:\n",
    "        for i in range(1,len(s)+1):\n",
    "            start, rest = s[:i],s[i:]\n",
    "            if isPalindrome(start):\n",
    "                for p in partitions(rest):\n",
    "                    if p != 'x':\n",
    "                        yield [start] + p\n",
    "                    else:\n",
    "                        yield [start]\n",
    "        \n",
    "s = 'aab'\n",
    "list(partitions(s))"
   ]
  },
  {
   "cell_type": "markdown",
   "metadata": {},
   "source": [
    "### Palindromic partitions of a string count cuts\n"
   ]
  },
  {
   "cell_type": "code",
   "execution_count": null,
   "metadata": {},
   "outputs": [],
   "source": []
  },
  {
   "cell_type": "markdown",
   "metadata": {},
   "source": [
    "### Fast palindrome"
   ]
  },
  {
   "cell_type": "code",
   "execution_count": 7,
   "metadata": {},
   "outputs": [
    {
     "data": {
      "text/plain": [
       "True"
      ]
     },
     "execution_count": 7,
     "metadata": {},
     "output_type": "execute_result"
    }
   ],
   "source": [
    "def isPalindrome(s):\n",
    "    \"\"\"\n",
    "    This is order N, and changes in place\n",
    "    \"\"\"\n",
    "    return s == s[::-1]\n",
    "\n",
    "s = 'aba'\n",
    "isPalindrome(s)"
   ]
  },
  {
   "cell_type": "code",
   "execution_count": 12,
   "metadata": {},
   "outputs": [
    {
     "data": {
      "text/plain": [
       "1"
      ]
     },
     "execution_count": 12,
     "metadata": {},
     "output_type": "execute_result"
    }
   ],
   "source": [
    "def isPalindromeFast(s):\n",
    "    \"\"\"\n",
    "    This is at most N/2, and terminates earlier\n",
    "    \"\"\"\n",
    "    \n",
    "    if len(s) == 1:\n",
    "        return True\n",
    "    else:\n",
    "        first, middle, last = s[0],s[1:-1],s[-1]\n",
    "        test = first == last\n",
    "        return isPalindromeFast(middle)*test\n",
    "    \n",
    "s = 'aba'\n",
    "isPalindromeFast(s)"
   ]
  },
  {
   "cell_type": "markdown",
   "metadata": {},
   "source": [
    "### Check substring"
   ]
  },
  {
   "cell_type": "code",
   "execution_count": 14,
   "metadata": {},
   "outputs": [
    {
     "data": {
      "text/plain": [
       "False"
      ]
     },
     "execution_count": 14,
     "metadata": {},
     "output_type": "execute_result"
    }
   ],
   "source": [
    "def sub(s,p):\n",
    "    \"\"\"\n",
    "    PLAN:\n",
    "    1. Do recursively. Keep deleting characters from s and p \n",
    "    2. If the current character belongs to both\n",
    "    \n",
    "    Then terminating condition is if len(p) == 0\n",
    "    \n",
    "    \"\"\"\n",
    "    \n",
    "    if len(p) == 0:\n",
    "        return True\n",
    "    else:\n",
    "        for i in range(len(s)):\n",
    "            if s[i] == p[0]:\n",
    "                return sub(s[i+1:],p[1:])\n",
    "        return False\n",
    "\n",
    "s = 'this is a test'\n",
    "p = 'gis'\n",
    "sub(s,p)"
   ]
  },
  {
   "cell_type": "markdown",
   "metadata": {},
   "source": [
    "### Remove adjacent duplicate letters"
   ]
  },
  {
   "cell_type": "code",
   "execution_count": 21,
   "metadata": {},
   "outputs": [
    {
     "data": {
      "text/plain": [
       "'abc'"
      ]
     },
     "execution_count": 21,
     "metadata": {},
     "output_type": "execute_result"
    }
   ],
   "source": [
    "def clean(s):\n",
    "    \"\"\"\n",
    "    PLAN:\n",
    "    1. Do recursively: \n",
    "    \n",
    "    C('aabc') = 'x' + C('abc')\n",
    "    \n",
    "    where 'x' = '' if s(0) == s(1)\n",
    "              = 's(0)' if s(0) != s(1)\n",
    "    \n",
    "    \"\"\"\n",
    "    \n",
    "    if len(s) == 1:\n",
    "        return s\n",
    "    else:\n",
    "        for i in range(len(s)-1):\n",
    "            curr, nxt, rest = s[i],s[i+1],s[i+1:]\n",
    "            if curr == nxt:\n",
    "                return clean(rest)\n",
    "            else:\n",
    "                return curr + clean(rest)\n",
    "                \n",
    "s = 'aabbcccc'\n",
    "clean(s)"
   ]
  },
  {
   "cell_type": "markdown",
   "metadata": {},
   "source": [
    "### Lexicographic permutations\n",
    "\n",
    "1. Do via DFS with a stack first\n",
    "2. Then do it recursively"
   ]
  },
  {
   "cell_type": "code",
   "execution_count": 40,
   "metadata": {},
   "outputs": [
    {
     "data": {
      "text/plain": [
       "[['c', 'c', 'c'],\n",
       " ['c', 'c', 'b'],\n",
       " ['c', 'c', 'a'],\n",
       " ['c', 'b', 'c'],\n",
       " ['c', 'b', 'b'],\n",
       " ['c', 'b', 'a'],\n",
       " ['c', 'a', 'c'],\n",
       " ['c', 'a', 'b'],\n",
       " ['c', 'a', 'a'],\n",
       " ['b', 'c', 'c'],\n",
       " ['b', 'c', 'b'],\n",
       " ['b', 'c', 'a'],\n",
       " ['b', 'b', 'c'],\n",
       " ['b', 'b', 'b'],\n",
       " ['b', 'b', 'a'],\n",
       " ['b', 'a', 'c'],\n",
       " ['b', 'a', 'b'],\n",
       " ['b', 'a', 'a'],\n",
       " ['a', 'c', 'c'],\n",
       " ['a', 'c', 'b'],\n",
       " ['a', 'c', 'a'],\n",
       " ['a', 'b', 'c'],\n",
       " ['a', 'b', 'b'],\n",
       " ['a', 'b', 'a'],\n",
       " ['a', 'a', 'c'],\n",
       " ['a', 'a', 'b'],\n",
       " ['a', 'a', 'a']]"
      ]
     },
     "execution_count": 40,
     "metadata": {},
     "output_type": "execute_result"
    }
   ],
   "source": [
    "def dfs(s):\n",
    "    letters = [s[i] for i in range(len(s))]\n",
    "    N = len(s)\n",
    "    paths = []\n",
    "    start = letters[0]\n",
    "    stack = [(start,[start],0) for start in letters]  #node, path, level\n",
    "    while stack:\n",
    "        node, path, level = stack.pop(-1)\n",
    "        #print('node,path,level = {},{},{}'.format(node,path,level))\n",
    "        if level == N-1:\n",
    "            paths.append(path)\n",
    "        else:\n",
    "            for neighbour in letters:\n",
    "                new_path = path + [neighbour]\n",
    "                new_level = level + 1\n",
    "                stack.append((neighbour,new_path,new_level))\n",
    "    return paths\n",
    "\n",
    "\n",
    "s = 'abc'\n",
    "dfs(s)"
   ]
  },
  {
   "cell_type": "code",
   "execution_count": 2,
   "metadata": {},
   "outputs": [
    {
     "data": {
      "text/plain": [
       "4"
      ]
     },
     "execution_count": 2,
     "metadata": {},
     "output_type": "execute_result"
    }
   ],
   "source": [
    "2+2"
   ]
  },
  {
   "cell_type": "markdown",
   "metadata": {},
   "source": [
    "### DFS graph"
   ]
  },
  {
   "cell_type": "code",
   "execution_count": 74,
   "metadata": {},
   "outputs": [
    {
     "data": {
      "text/plain": [
       "['A', 'B']"
      ]
     },
     "execution_count": 74,
     "metadata": {},
     "output_type": "execute_result"
    }
   ],
   "source": [
    "def dfs(g,start,goal,explored,path):\n",
    "    \n",
    "    #Start\n",
    "    explored.add(start)\n",
    "    neighbours = set(g[start]) - explored\n",
    "    \n",
    "    #If found the goal\n",
    "    if start == goal:\n",
    "        new_path = path\n",
    "        return new_path\n",
    "    \n",
    "    #If end of line\n",
    "    if len(neighbours) == 0:\n",
    "        return []\n",
    "    \n",
    "    #Recurse\n",
    "    else:        \n",
    "        for n in neighbours:\n",
    "            new_path = path + [n]\n",
    "            #print(new_path)\n",
    "            p = dfs(g,n,goal,explored,new_path)\n",
    "            if p:\n",
    "                return p\n",
    "        \n",
    "g = {'A': ['B','D'],\n",
    "    'B': ['C'],\n",
    "     'C': [],\n",
    "    'D': ['E'],\n",
    "     'E': ['F'],\n",
    "    'F': []}\n",
    "\n",
    "dfs(g,'A','B',set([]),['A'])"
   ]
  },
  {
   "cell_type": "markdown",
   "metadata": {},
   "source": [
    "### K-palindrome"
   ]
  },
  {
   "cell_type": "code",
   "execution_count": 7,
   "metadata": {},
   "outputs": [
    {
     "data": {
      "text/plain": [
       "True"
      ]
     },
     "execution_count": 7,
     "metadata": {},
     "output_type": "execute_result"
    }
   ],
   "source": [
    "def kPalindrome(s):\n",
    "    if len(s) == 1:\n",
    "        return True\n",
    "    else:\n",
    "        first, middle, last = s[0], s[1:-1], s[-1]\n",
    "        if first == last and kPalindrome(middle):\n",
    "            return True\n",
    "        else:\n",
    "            return False\n",
    "        \n",
    "s = 'ABCBA'\n",
    "kPalindrome(s)"
   ]
  },
  {
   "cell_type": "markdown",
   "metadata": {},
   "source": [
    "### Edit distance\n",
    "\n",
    "Turn s1 into s2:"
   ]
  },
  {
   "cell_type": "code",
   "execution_count": 27,
   "metadata": {},
   "outputs": [
    {
     "data": {
      "text/plain": [
       "3"
      ]
     },
     "execution_count": 27,
     "metadata": {},
     "output_type": "execute_result"
    }
   ],
   "source": [
    "def minDistance(s1,s2):\n",
    "    numOp = 0\n",
    "    while s1 and s2:        \n",
    "        if s1[0] == s2[0]:\n",
    "            s1 = s1[1:]\n",
    "            s2 = s2[1:]\n",
    "        else:\n",
    "            #Check if letter later\n",
    "            letter1 = s1[0]\n",
    "            ctr = 0\n",
    "            cond = False\n",
    "            for i,letter2 in enumerate(s2):\n",
    "                if letter2 == letter1:\n",
    "                    s2 = s2[i:]\n",
    "                    cond = True\n",
    "                    break\n",
    "\n",
    "            if cond == True:\n",
    "                numOp += i\n",
    "            else:   \n",
    "                #If there are no useful letter later, then do a delete\n",
    "                s1 = s1[1:]\n",
    "                s2 = s2[1:]\n",
    "                numOp += 1\n",
    "                \n",
    "    #At end might have\n",
    "    numOp += max(len(s1),len(s2))    \n",
    "    return numOp\n",
    "\n",
    "\n",
    "s1 = 'sunday'\n",
    "s2 = 'saturday'\n",
    "\n",
    "#now either s1 is non-zero or s2 non-zero\n",
    "minDistance(s1,s2)"
   ]
  },
  {
   "cell_type": "code",
   "execution_count": null,
   "metadata": {},
   "outputs": [],
   "source": []
  }
 ],
 "metadata": {
  "kernelspec": {
   "display_name": "Python 3",
   "language": "python",
   "name": "python3"
  },
  "language_info": {
   "codemirror_mode": {
    "name": "ipython",
    "version": 3
   },
   "file_extension": ".py",
   "mimetype": "text/x-python",
   "name": "python",
   "nbconvert_exporter": "python",
   "pygments_lexer": "ipython3",
   "version": "3.7.1"
  }
 },
 "nbformat": 4,
 "nbformat_minor": 2
}
